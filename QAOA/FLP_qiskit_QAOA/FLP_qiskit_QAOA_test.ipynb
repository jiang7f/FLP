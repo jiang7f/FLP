{
 "cells": [
  {
   "cell_type": "code",
   "execution_count": 504,
   "metadata": {},
   "outputs": [],
   "source": [
    "import networkx as nx\n",
    "import matplotlib.pyplot as plt\n",
    "\n",
    "from qiskit import QuantumCircuit, ClassicalRegister, QuantumRegister\n",
    "from qiskit import Aer\n",
    "from qiskit.circuit import Parameter\n",
    "from qiskit.visualization import plot_histogram\n",
    "\n",
    "import numpy as np\n",
    "from scipy.optimize import minimize"
   ]
  },
  {
   "cell_type": "code",
   "execution_count": 505,
   "metadata": {},
   "outputs": [],
   "source": [
    "# dij需求i到设施j的成本\n",
    "d = [[1, 2], [1, 2]]\n",
    "n = 2   # 两个设施点\n",
    "m = 2   # 两个需求点\n",
    "# d = [[1, 2], [3, 4], [5, 6]]\n",
    "# n = 2   # 两个设施点\n",
    "# m = 3   # 三个需求点\n",
    "num_qubits = n * m + n\n",
    "\n",
    "# gi设施i的建设成本\n",
    "g = [1, 2]\n"
   ]
  },
  {
   "cell_type": "code",
   "execution_count": 506,
   "metadata": {},
   "outputs": [],
   "source": [
    "penalty = 10\n",
    "depth = 10\n",
    "params = np.random.rand(depth * 2 + 1)"
   ]
  },
  {
   "cell_type": "code",
   "execution_count": 507,
   "metadata": {},
   "outputs": [],
   "source": [
    "# dtype=np.complex128\n",
    "def add_in_target(num_qubits, target_qubit, gate=np.array([[1, 0],[0, -1]])):\n",
    "    H = np.eye(2 ** (target_qubit))\n",
    "    H = np.kron(H, gate)\n",
    "    H = np.kron(H, np.eye(2 ** (num_qubits - 1 - target_qubit)))\n",
    "    return H\n",
    "\n",
    "\n",
    "def generate_Hp(n, m, d, g):\n",
    "    # 初始化 Hp 矩阵为零矩阵\n",
    "    # print(num_qubits)\n",
    "    Hp = np.zeros((2**num_qubits, 2**num_qubits))\n",
    "    # for i in range(1, m + 1):\n",
    "    #     for j in range(1, n + 1):\n",
    "    #         # print(d[i - 1][j - 1])\n",
    "    #         Hp += d[i - 1][j - 1] * (add_in_target(num_qubits, n * (i - 1) + j - 1) - np.eye(2**num_qubits)) / 2\n",
    "    \n",
    "    # for j in range(1, n + 1):\n",
    "    #     Hp +=  g[j - 1] * (add_in_target(num_qubits, m * n + j - 1)- np.eye(2**num_qubits)) / 2\n",
    "\n",
    "    for i in range(1, m + 1):\n",
    "        Ht = np.zeros((2**num_qubits, 2**num_qubits))\n",
    "        for j in range(1, n + 1):\n",
    "            Ht += (np.eye(2**num_qubits) - add_in_target(num_qubits, n * (i - 1) + j - 1)) / 2\n",
    "        Ht -= np.eye(2**num_qubits)\n",
    "        Hp += -penalty * Ht @ Ht\n",
    "    \n",
    "    # for i in range(1, m + 1):\n",
    "    #     for j in range(1, n + 1):\n",
    "    #         Ht = (np.eye(2**num_qubits) - add_in_target(num_qubits, n * (i - 1) + j - 1)) / 2 + (np.eye(2**num_qubits) - add_in_target(num_qubits, n * (m + i) + j - 1)) / 2 + (np.eye(2**num_qubits) - add_in_target(num_qubits, m * n + j - 1)) / 2\n",
    "    #         Hp += -penalty * Ht @ Ht\n",
    "\n",
    "    return Hp"
   ]
  },
  {
   "cell_type": "code",
   "execution_count": 508,
   "metadata": {},
   "outputs": [],
   "source": [
    "from scipy.linalg import expm\n",
    "def build_circ(n, m, d, g, params):\n",
    "  qc = QuantumCircuit(num_qubits)\n",
    "  beta = params[:depth + 1]\n",
    "  gamma = params[depth + 1:]\n",
    "  for i in range(num_qubits):\n",
    "    qc.h(i)\n",
    "  for dp in range(depth):\n",
    "    qc.unitary(expm(-1j * gamma[dp] * generate_Hp(n, m, d, g)), range(num_qubits))\n",
    "    for i in range(num_qubits):\n",
    "      qc.rx(beta[dp], i)\n",
    "  qc.measure_all()\n",
    "  return qc"
   ]
  },
  {
   "cell_type": "code",
   "execution_count": 509,
   "metadata": {},
   "outputs": [],
   "source": [
    "def cost_function(x):\n",
    "  num = [int(char) for char in x]\n",
    "  C = 0\n",
    "  # for i in range(1, m + 1):\n",
    "  #   for j in range(1, n + 1):\n",
    "  #     C += d[i - 1][j - 1] * num[n * (i - 1) + j - 1]\n",
    "  # for j in range(1, 1 + n):\n",
    "  #   C += g[j - 1] * num[m * n + j - 1]\n",
    "\n",
    "  for i in range(1, m + 1):\n",
    "    t = 0\n",
    "    for j in range(1, n + 1):\n",
    "      t += num[n * (i - 1) + j -1]\n",
    "    C += penalty * (t - 1)**2\n",
    "\n",
    "  # for i in range(1, m + 1):\n",
    "  #   for j in range(1, n + 1):\n",
    "  #     C += penalty * (num[n * (i - 1) + j - 1] + num[n * (m + i) + j - 1] - num[m * n + j - 1]) ** 2\n",
    "  return C\n",
    "\n",
    "def compute_expectation(counts):\n",
    "  EV = 0\n",
    "  total_count = 0\n",
    "  for x, count in counts.items():\n",
    "    C = cost_function(x)\n",
    "    EV += C*count\n",
    "    total_count += count\n",
    "\n",
    "  return EV/total_count\n",
    "\n",
    "\n",
    "def expectation_from_sample(shots = 2000):\n",
    "  backend = Aer.get_backend('qasm_simulator')\n",
    "  backend.shots = shots\n",
    "\n",
    "  def execute_circ(theta):\n",
    "    qc = build_circ(n, m, d, g, theta)\n",
    "    counts = backend.run(qc, seed_simulator=10, shots=shots).result().get_counts()\n",
    "    return compute_expectation(counts)\n",
    "  \n",
    "  return execute_circ"
   ]
  },
  {
   "cell_type": "code",
   "execution_count": 510,
   "metadata": {},
   "outputs": [
    {
     "name": "stdout",
     "output_type": "stream",
     "text": [
      "Iteration 10, Result: 16.91\n",
      "Iteration 20, Result: 13.295\n",
      "Iteration 30, Result: 9.155\n",
      "Iteration 40, Result: 17.31\n",
      "Iteration 50, Result: 1.815\n",
      "Iteration 60, Result: 0.265\n",
      "Iteration 70, Result: 2.815\n",
      "Iteration 80, Result: 0.06\n",
      "Iteration 90, Result: 0.02\n",
      "Iteration 100, Result: 0.15\n",
      "Iteration 110, Result: 0.005\n",
      "Iteration 120, Result: 0.005\n",
      "Iteration 130, Result: 0.005\n",
      "Iteration 140, Result: 0.005\n",
      "Iteration 150, Result: 0.0\n",
      "Iteration 160, Result: 0.0\n",
      "Iteration 170, Result: 0.0\n",
      "Iteration 180, Result: 0.0\n",
      "Final Result:  message: Optimization terminated successfully.\n",
      " success: True\n",
      "  status: 1\n",
      "     fun: 0.0\n",
      "       x: [ 1.436e+00  6.312e-01 ...  9.553e-01  1.025e+00]\n",
      "    nfev: 182\n",
      "   maxcv: 0.0\n"
     ]
    }
   ],
   "source": [
    "from scipy.optimize import minimize\n",
    "import numpy as np\n",
    "\n",
    "expectation = expectation_from_sample()\n",
    "\n",
    "def callback(x):\n",
    "    global iteration_count\n",
    "    iteration_count += 1\n",
    "    if iteration_count % 10 == 0:\n",
    "        print(f\"Iteration {iteration_count}, Result: {expectation(x)}\")\n",
    "\n",
    "# 设定最大迭代次数\n",
    "max_iterations = 1000\n",
    "\n",
    "# 初始化迭代计数器\n",
    "iteration_count = 0\n",
    "\n",
    "# 使用 COBYLA 方法进行最小化，并设置 callback 函数\n",
    "res = minimize(expectation, params, method='COBYLA', options={'maxiter': max_iterations}, callback=callback)\n",
    "\n",
    "# 输出最终结果\n",
    "print(\"Final Result:\", res)"
   ]
  },
  {
   "cell_type": "code",
   "execution_count": 511,
   "metadata": {},
   "outputs": [
    {
     "data": {
      "image/png": "[encoded data removed]",
      "text/plain": [
       "<Figure size 700x500 with 1 Axes>"
      ]
     },
     "execution_count": 511,
     "metadata": {},
     "output_type": "execute_result"
    }
   ],
   "source": [
    "from numpy.lib.utils import source\n",
    "backend = Aer.get_backend('aer_simulator')\n",
    "backend.shots = 100000\n",
    "\n",
    "shots=100000\n",
    "qc_res = build_circ(n, m, d, g, params=res.x)\n",
    "\n",
    "counts = backend.run(qc_res, seed_simulator=10, shots = shots).result().get_counts()\n",
    "plot_histogram(counts)"
   ]
  },
  {
   "cell_type": "code",
   "execution_count": 512,
   "metadata": {},
   "outputs": [
    {
     "name": "stdout",
     "output_type": "stream",
     "text": [
      "010100 0.064 0\n",
      "011000 0.064 0\n",
      "101011 0.063 0\n",
      "011001 0.063 0\n",
      "100100 0.063 0\n",
      "010111 0.063 0\n",
      "100110 0.063 0\n",
      "100111 0.062 0\n",
      "011011 0.062 0\n",
      "101001 0.062 0\n",
      "101000 0.062 0\n",
      "010110 0.062 0\n",
      "100101 0.062 0\n",
      "101010 0.062 0\n",
      "011010 0.062 0\n",
      "010101 0.061 0\n",
      "111010 0.000 10\n",
      "100000 0.000 10\n",
      "001000 0.000 10\n",
      "000110 0.000 10\n"
     ]
    }
   ],
   "source": [
    "sorted_counts = sorted(counts, key=counts.get, reverse=True)\n",
    "for x in sorted_counts[:20]:\n",
    "  print(x, \"{:.3f}\".format(counts[x] / shots), cost_function(x))"
   ]
  }
 ],
 "metadata": {
  "kernelspec": {
   "display_name": "quantum",
   "language": "python",
   "name": "python3"
  },
  "language_info": {
   "codemirror_mode": {
    "name": "ipython",
    "version": 3
   },
   "file_extension": ".py",
   "mimetype": "text/x-python",
   "name": "python",
   "nbconvert_exporter": "python",
   "pygments_lexer": "ipython3",
   "version": "3.8.0"
  }
 },
 "nbformat": 4,
 "nbformat_minor": 2
}
