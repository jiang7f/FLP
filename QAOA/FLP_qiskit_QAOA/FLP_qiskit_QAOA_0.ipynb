{
 "cells": [
  {
   "cell_type": "code",
   "execution_count": 19,
   "metadata": {},
   "outputs": [],
   "source": [
    "import networkx as nx\n",
    "import matplotlib.pyplot as plt\n",
    "\n",
    "from qiskit import QuantumCircuit, ClassicalRegister, QuantumRegister\n",
    "from qiskit import Aer\n",
    "from qiskit.circuit import Parameter\n",
    "from qiskit.visualization import plot_histogram\n",
    "\n",
    "import numpy as np\n",
    "from scipy.optimize import minimize"
   ]
  },
  {
   "cell_type": "code",
   "execution_count": 20,
   "metadata": {},
   "outputs": [],
   "source": [
    "# dij需求i到设施j的成本\n",
    "d = [[1, 2], [1, 2]]\n",
    "n = 2   # 两个设施点\n",
    "m = 2   # 两个需求点\n",
    "# d = [[1, 2], [3, 4], [5, 6]]\n",
    "# n = 2   # 两个设施点\n",
    "# m = 3   # 三个需求点\n",
    "num_qubits = n + 2 * n * m\n",
    "\n",
    "# gi设施i的建设成本\n",
    "g = [2, 1]\n"
   ]
  },
  {
   "cell_type": "code",
   "execution_count": 21,
   "metadata": {},
   "outputs": [],
   "source": [
    "penalty = 25\n",
    "depth = 6\n",
    "params = np.ones(depth * 2)"
   ]
  },
  {
   "cell_type": "code",
   "execution_count": 22,
   "metadata": {},
   "outputs": [],
   "source": [
    "# dtype=np.complex128\n",
    "def add_in_target(num_qubits, target_qubit, gate=np.array([[1, 0],[0, -1]])):\n",
    "    H = np.eye(2 ** (target_qubit))\n",
    "    H = np.kron(H, gate)\n",
    "    H = np.kron(H, np.eye(2 ** (num_qubits - 1 - target_qubit)))\n",
    "    return H\n",
    "\n",
    "\n",
    "def generate_Hp(n, m, d, g):\n",
    "    # 初始化 Hp 矩阵为零矩阵\n",
    "    # print(num_qubits)\n",
    "    Hp = np.zeros((2**num_qubits, 2**num_qubits))\n",
    "    for i in range(m):\n",
    "        for j in range(n):\n",
    "            Hp += d[i][j] * (add_in_target(num_qubits, n * (1 + i) + j) - np.eye(2**num_qubits)) / 2\n",
    "    \n",
    "    for j in range(n):\n",
    "        Hp +=  g[j - 1] * (add_in_target(num_qubits, j)- np.eye(2**num_qubits)) / 2\n",
    "\n",
    "    for i in range(m):\n",
    "        Ht = np.zeros((2**num_qubits, 2**num_qubits))\n",
    "        for j in range(n):\n",
    "            Ht += (np.eye(2**num_qubits) - add_in_target(num_qubits, n * (1 + i) + j)) / 2\n",
    "        Ht -= np.eye(2**num_qubits)\n",
    "        Hp += -penalty * Ht @ Ht\n",
    "    \n",
    "    for i in range(m):\n",
    "        for j in range(n):\n",
    "            Ht = (np.eye(2**num_qubits) - add_in_target(num_qubits, n * (1 + i) + j)) / 2 + (np.eye(2**num_qubits) - add_in_target(num_qubits, n * (1 + m + i) + j)) / 2 + (np.eye(2**num_qubits) - add_in_target(num_qubits, j)) / 2\n",
    "            Hp += -penalty * Ht @ Ht\n",
    "\n",
    "    return Hp"
   ]
  },
  {
   "cell_type": "code",
   "execution_count": 23,
   "metadata": {},
   "outputs": [],
   "source": [
    "from scipy.linalg import expm\n",
    "def build_circ(n, m, d, g, params):\n",
    "  qc = QuantumCircuit(num_qubits)\n",
    "  beta = params[:depth + 1]\n",
    "  gamma = params[depth:]\n",
    "  for i in range(num_qubits):\n",
    "    qc.h(i)\n",
    "  for dp in range(depth):\n",
    "    qc.unitary(expm(-1j * gamma[dp] * generate_Hp(n, m, d, g)), range(num_qubits))\n",
    "    for i in range(num_qubits):\n",
    "      qc.rx(beta[dp], i)\n",
    "  qc.measure_all()\n",
    "  return qc"
   ]
  },
  {
   "cell_type": "code",
   "execution_count": 24,
   "metadata": {},
   "outputs": [],
   "source": [
    "def cost_function(x):\n",
    "  num = [int(char) for char in x]\n",
    "  num = num[::-1]\n",
    "  C = 0\n",
    "  for i in range(m):\n",
    "    for j in range(n):\n",
    "      C += d[i][j] * num[n * (1 + i) + j]\n",
    "      \n",
    "  for j in range(n):\n",
    "    C += g[j] * num[j]\n",
    "\n",
    "  for i in range(m):\n",
    "    t = 0\n",
    "    for j in range(n):\n",
    "      t += num[n * (1 + i) + j]\n",
    "    C += penalty * (t - 1)**2\n",
    "\n",
    "  for i in range(m):\n",
    "    for j in range(n):\n",
    "      C += penalty * (num[n * (1 + i) + j] + num[n * (1 + m + i) + j] - num[j]) ** 2\n",
    "  return C\n",
    "\n",
    "def compute_expectation(counts):\n",
    "  EV = 0\n",
    "  total_count = 0\n",
    "  for x, count in counts.items():\n",
    "    C = cost_function(x)\n",
    "    EV += C*count\n",
    "    total_count += count\n",
    "\n",
    "  return EV/total_count\n",
    "\n",
    "\n",
    "def expectation_from_sample(shots = 2000):\n",
    "  backend = Aer.get_backend('qasm_simulator')\n",
    "  backend.shots = shots\n",
    "\n",
    "  def execute_circ(theta):\n",
    "    qc = build_circ(n, m, d, g, theta)\n",
    "    counts = backend.run(qc, seed_simulator=10, shots=shots).result().get_counts()\n",
    "    return compute_expectation(counts)\n",
    "  \n",
    "  return execute_circ"
   ]
  },
  {
   "cell_type": "code",
   "execution_count": 25,
   "metadata": {},
   "outputs": [
    {
     "name": "stdout",
     "output_type": "stream",
     "text": [
      "Iteration 10, Result: 51.2275\n",
      "Iteration 20, Result: 51.2275\n",
      "Iteration 30, Result: 51.2275\n",
      "Iteration 40, Result: 51.2275\n",
      "Iteration 50, Result: 51.2275\n",
      "Iteration 60, Result: 51.2275\n",
      "Iteration 70, Result: 51.2275\n",
      "Final Result:  message: Optimization terminated successfully.\n",
      " success: True\n",
      "  status: 1\n",
      "     fun: 51.2275\n",
      "       x: [ 1.000e+00  1.000e+00  1.000e+00  1.000e+00  1.000e+00\n",
      "            1.000e+00  1.000e+00  1.000e+00  1.000e+00  1.000e+00\n",
      "            1.000e+00  1.000e+00]\n",
      "    nfev: 73\n",
      "   maxcv: 0.0\n"
     ]
    }
   ],
   "source": [
    "from scipy.optimize import minimize\n",
    "import numpy as np\n",
    "\n",
    "expectation = expectation_from_sample()\n",
    "\n",
    "def callback(x):\n",
    "    global iteration_count\n",
    "    iteration_count += 1\n",
    "    if iteration_count % 10 == 0:\n",
    "        print(f\"Iteration {iteration_count}, Result: {expectation(x)}\")\n",
    "\n",
    "# 设定最大迭代次数\n",
    "max_iterations = 1000\n",
    "\n",
    "# 初始化迭代计数器\n",
    "iteration_count = 0\n",
    "\n",
    "# 使用 COBYLA 方法进行最小化，并设置 callback 函数\n",
    "res = minimize(expectation, params, method='COBYLA', options={'maxiter': max_iterations}, callback=callback)\n",
    "\n",
    "# 输出最终结果\n",
    "print(\"Final Result:\", res)"
   ]
  },
  {
   "cell_type": "code",
   "execution_count": 26,
   "metadata": {},
   "outputs": [
    {
     "data": {
      "image/png": "[encoded data removed]",
      "text/plain": [
       "<Figure size 700x500 with 1 Axes>"
      ]
     },
     "execution_count": 26,
     "metadata": {},
     "output_type": "execute_result"
    }
   ],
   "source": [
    "from numpy.lib.utils import source\n",
    "backend = Aer.get_backend('aer_simulator')\n",
    "backend.shots = 100000\n",
    "\n",
    "shots=100000\n",
    "qc_res = build_circ(n, m, d, g, params=res.x)\n",
    "\n",
    "counts = backend.run(qc_res, seed_simulator=10, shots = shots).result().get_counts()\n",
    "plot_histogram(counts)"
   ]
  },
  {
   "cell_type": "code",
   "execution_count": 27,
   "metadata": {},
   "outputs": [
    {
     "name": "stdout",
     "output_type": "stream",
     "text": [
      "\n",
      "----------------- Full result ---------------------\n",
      "selection\t\tprobability\tvalue\n",
      "---------------------------------------------------\n",
      "0000010000 12.7% 51\n",
      "0000000001 12.7% 102\n",
      "0000010100 12.6% 52\n",
      "0000010001 12.5% 53\n",
      "0000010101 12.5% 4\n",
      "0000000101 12.4% 53\n",
      "0000000100 12.4% 51\n",
      "0000000000 12.3% 50\n"
     ]
    }
   ],
   "source": [
    "sorted_counts = sorted(counts, key=counts.get, reverse=True)\n",
    "print(\"\\n----------------- Full result ---------------------\")\n",
    "print(\"selection\\t\\tprobability\\tvalue\")\n",
    "print(\"---------------------------------------------------\")\n",
    "for x in sorted_counts[:20]:\n",
    "  print(x, \"{:.1f}%\".format(counts[x] / shots * 100), cost_function(x))"
   ]
  }
 ],
 "metadata": {
  "kernelspec": {
   "display_name": "quantum",
   "language": "python",
   "name": "python3"
  },
  "language_info": {
   "codemirror_mode": {
    "name": "ipython",
    "version": 3
   },
   "file_extension": ".py",
   "mimetype": "text/x-python",
   "name": "python",
   "nbconvert_exporter": "python",
   "pygments_lexer": "ipython3",
   "version": "3.9.18"
  }
 },
 "nbformat": 4,
 "nbformat_minor": 2
}
