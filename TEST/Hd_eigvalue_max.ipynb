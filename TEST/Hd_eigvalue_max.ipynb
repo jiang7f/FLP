{
 "cells": [
  {
   "cell_type": "code",
   "execution_count": 11,
   "metadata": {},
   "outputs": [],
   "source": [
    "import networkx as nx\n",
    "import matplotlib.pyplot as plt\n",
    "\n",
    "from qiskit import QuantumCircuit, ClassicalRegister, QuantumRegister\n",
    "from qiskit import Aer\n",
    "from qiskit.circuit import Parameter\n",
    "from qiskit.visualization import plot_histogram\n",
    "\n",
    "import numpy as np\n",
    "from scipy.optimize import minimize"
   ]
  },
  {
   "cell_type": "code",
   "execution_count": 12,
   "metadata": {},
   "outputs": [],
   "source": [
    "GateX = np.array([[0, 1],[1, 0]])\n",
    "GateY = np.array([[0, -1j],[1j, 0]])\n",
    "GateZ = np.array([[1, 0],[0, -1]])"
   ]
  },
  {
   "cell_type": "code",
   "execution_count": 13,
   "metadata": {},
   "outputs": [],
   "source": [
    "# dtype=np.complex128\n",
    "def add_in_target(num_qubits, target_qubit, gate=np.array([[1, 0],[0, -1]])):\n",
    "    H = np.eye(2 ** (target_qubit))\n",
    "    H = np.kron(H, gate)\n",
    "    H = np.kron(H, np.eye(2 ** (num_qubits - 1 - target_qubit)))\n",
    "    return H\n",
    "    \n",
    "def gnrt_Hd():\n",
    "  Hd = np.zeros((2**3, 2**3)).astype(np.complex128)\n",
    "  Hd += (add_in_target(3, 0, GateX) @ add_in_target(3, 1, GateX) + add_in_target(3, 0, GateY) @ add_in_target(3, 1, GateY))\n",
    "  Hd += (add_in_target(3, 1, GateX) @ add_in_target(3, 2, GateX) - add_in_target(3, 1, GateY) @ add_in_target(3, 2, GateY))\n",
    "  Hd += (add_in_target(3, 2, GateX) @ add_in_target(3, 0, GateX) - add_in_target(3, 2, GateY) @ add_in_target(3, 0, GateY))\n",
    "  # Hd += add_in_target(1, 0, GateX)\n",
    "  # Hd += add_in_target(3, 1, GateX)\n",
    "  # Hd += add_in_target(3, 2, GateX)\n",
    "  return Hd"
   ]
  },
  {
   "cell_type": "code",
   "execution_count": 14,
   "metadata": {},
   "outputs": [
    {
     "data": {
      "text/plain": [
       "array([1., 0., 0., 0.])"
      ]
     },
     "execution_count": 14,
     "metadata": {},
     "output_type": "execute_result"
    }
   ],
   "source": [
    "B = np.zeros(2**2)\n",
    "B[0] = 1\n",
    "B"
   ]
  },
  {
   "cell_type": "code",
   "execution_count": 15,
   "metadata": {},
   "outputs": [
    {
     "data": {
      "text/plain": [
       "array([[0.+0.j, 1.+0.j, 0.+0.j, 0.+0.j],\n",
       "       [1.+0.j, 0.+0.j, 0.+0.j, 0.+0.j],\n",
       "       [0.+0.j, 0.+0.j, 0.+0.j, 1.+0.j],\n",
       "       [0.+0.j, 0.+0.j, 1.+0.j, 0.+0.j]])"
      ]
     },
     "execution_count": 15,
     "metadata": {},
     "output_type": "execute_result"
    }
   ],
   "source": [
    "Hd = np.zeros((2**2, 2**2)).astype(np.complex128)\n",
    "Hd + add_in_target(2, 1, GateX)"
   ]
  },
  {
   "cell_type": "code",
   "execution_count": 16,
   "metadata": {},
   "outputs": [
    {
     "data": {
      "text/plain": [
       "array([[0., 0., 1., 0.],\n",
       "       [0., 0., 0., 1.],\n",
       "       [1., 0., 0., 0.],\n",
       "       [0., 1., 0., 0.]])"
      ]
     },
     "execution_count": 16,
     "metadata": {},
     "output_type": "execute_result"
    }
   ],
   "source": [
    "add_in_target(2, 0, GateX)\n"
   ]
  },
  {
   "cell_type": "code",
   "execution_count": 17,
   "metadata": {},
   "outputs": [
    {
     "name": "stdout",
     "output_type": "stream",
     "text": [
      "[[0.+0.j 0.+0.j 0.+0.j 2.+0.j 0.+0.j 2.+0.j 0.+0.j 0.+0.j]\n",
      " [0.+0.j 0.+0.j 0.+0.j 0.+0.j 0.+0.j 0.+0.j 0.+0.j 0.+0.j]\n",
      " [0.+0.j 0.+0.j 0.+0.j 0.+0.j 2.+0.j 0.+0.j 0.+0.j 2.+0.j]\n",
      " [2.+0.j 0.+0.j 0.+0.j 0.+0.j 0.+0.j 2.+0.j 0.+0.j 0.+0.j]\n",
      " [0.+0.j 0.+0.j 2.+0.j 0.+0.j 0.+0.j 0.+0.j 0.+0.j 2.+0.j]\n",
      " [2.+0.j 0.+0.j 0.+0.j 2.+0.j 0.+0.j 0.+0.j 0.+0.j 0.+0.j]\n",
      " [0.+0.j 0.+0.j 0.+0.j 0.+0.j 0.+0.j 0.+0.j 0.+0.j 0.+0.j]\n",
      " [0.+0.j 0.+0.j 2.+0.j 0.+0.j 2.+0.j 0.+0.j 0.+0.j 0.+0.j]]\n",
      "Eigenvalues:\n",
      "[-2.+0.j  4.+0.j -2.+0.j  4.+0.j -2.+0.j -2.+0.j  0.+0.j  0.+0.j]\n",
      "\n",
      "Eigenvectors:\n",
      "[[ 0.81649658+0.j  0.57735027+0.j  0.42493167-0.j  0.21551589-0.j\n",
      "   0.26657948+0.j -0.1587708 +0.j  0.        +0.j  0.        +0.j]\n",
      " [-0.        -0.j -0.        -0.j -0.        -0.j -0.        -0.j\n",
      "   0.        +0.j  0.        +0.j  1.        +0.j  0.        +0.j]\n",
      " [-0.        -0.j -0.        -0.j -0.34860427-0.j  0.53561762+0.j\n",
      "   0.76513302+0.j -0.10618901+0.j  0.        +0.j  0.        +0.j]\n",
      " [-0.40824829-0.j  0.57735027-0.j -0.21246583-0.j  0.21551589-0.j\n",
      "  -0.20129235+0.j -0.53240936+0.j  0.        +0.j  0.        +0.j]\n",
      " [-0.        -0.j -0.        -0.j -0.34860427-0.j  0.53561762-0.j\n",
      "  -0.32774155+0.j  0.36669292+0.j  0.        +0.j  0.        +0.j]\n",
      " [-0.40824829-0.j  0.57735027-0.j -0.21246583-0.j  0.21551589-0.j\n",
      "  -0.06528713+0.j  0.69118016+0.j  0.        +0.j  0.        +0.j]\n",
      " [-0.        -0.j -0.        -0.j -0.        -0.j -0.        -0.j\n",
      "   0.        +0.j  0.        +0.j  0.        +0.j  1.        +0.j]\n",
      " [-0.        -0.j -0.        -0.j  0.69720854+0.j  0.53561762-0.j\n",
      "  -0.43739147+0.j -0.2605039 +0.j  0.        +0.j  0.        +0.j]]\n"
     ]
    }
   ],
   "source": [
    "A = gnrt_Hd()\n",
    "print(A)\n",
    "eigenvalues, eigenvectors = np.linalg.eig(A)\n",
    "print(\"Eigenvalues:\")\n",
    "print(eigenvalues)\n",
    "print(\"\\nEigenvectors:\")\n",
    "print(eigenvectors)"
   ]
  },
  {
   "cell_type": "code",
   "execution_count": 18,
   "metadata": {},
   "outputs": [
    {
     "name": "stdout",
     "output_type": "stream",
     "text": [
      "Eigenvalues:\n",
      "[-2.+0.j  4.+0.j -2.+0.j  4.+0.j -2.+0.j -2.+0.j  0.+0.j  0.+0.j]\n",
      "\n",
      "Eigenvectors:\n",
      "[ 0.57735027+0.j -0.        -0.j -0.        -0.j  0.57735027-0.j\n",
      " -0.        -0.j  0.57735027-0.j -0.        -0.j -0.        -0.j]\n"
     ]
    }
   ],
   "source": [
    "A = gnrt_Hd()\n",
    "\n",
    "# 求解本征值和本征态\n",
    "eigenvalues, eigenvectors = np.linalg.eig(A)\n",
    "\n",
    "# 输出结果\n",
    "print(\"Eigenvalues:\")\n",
    "print(eigenvalues)\n",
    "print(\"\\nEigenvectors:\")\n",
    "print(eigenvectors[:, 1])"
   ]
  },
  {
   "cell_type": "code",
   "execution_count": 19,
   "metadata": {},
   "outputs": [
    {
     "name": "stdout",
     "output_type": "stream",
     "text": [
      "     ┌──────────────────────────────┐\n",
      "q_0: ┤ Initialize(0.70711,0.70711j) ├\n",
      "     └──────────────────────────────┘\n",
      "q_1: ────────────────────────────────\n",
      "                                     \n"
     ]
    }
   ],
   "source": [
    "from qiskit import QuantumCircuit\n",
    "import numpy as np\n",
    "\n",
    "# 创建一个2量子比特的电路\n",
    "qc = QuantumCircuit(2)\n",
    "\n",
    "# 定义一个初始量子态\n",
    "initial_state = np.array([1/np.sqrt(2), 1j/np.sqrt(2)])\n",
    "\n",
    "# 使用initialize()方法将电路初始化为给定的量子态\n",
    "qc.initialize(initial_state, [0])\n",
    "\n",
    "# 绘制量子电路\n",
    "print(qc.draw())\n"
   ]
  },
  {
   "cell_type": "code",
   "execution_count": 20,
   "metadata": {},
   "outputs": [
    {
     "name": "stdout",
     "output_type": "stream",
     "text": [
      "特征值: -0.34803434698855407\n",
      "对应的特征向量: [-0.90971228  0.41523917]\n",
      "特征值: 1.1523409592484297\n",
      "对应的特征向量: [-0.66327987 -0.74837144]\n"
     ]
    }
   ],
   "source": [
    "import numpy as np\n",
    "\n",
    "# 定义一个矩阵\n",
    "matrix  = np.random.rand(2, 2)\n",
    "\n",
    "# 计算特征值和特征向量\n",
    "eigenvalues, eigenvectors = np.linalg.eig(matrix)\n",
    "\n",
    "# 将特征值和特征向量按照特征值的大小进行排序\n",
    "sorted_indices = np.argsort(eigenvalues)\n",
    "sorted_eigenvalues = eigenvalues[sorted_indices]\n",
    "sorted_eigenvectors = eigenvectors[:, sorted_indices]\n",
    "\n",
    "# 输出特征值和对应的特征向量\n",
    "for i in range(len(sorted_eigenvalues)):\n",
    "    print(\"特征值:\", sorted_eigenvalues[i])\n",
    "    print(\"对应的特征向量:\", sorted_eigenvectors[:, i])\n"
   ]
  }
 ],
 "metadata": {
  "kernelspec": {
   "display_name": "FLP_1",
   "language": "python",
   "name": "python3"
  },
  "language_info": {
   "codemirror_mode": {
    "name": "ipython",
    "version": 3
   },
   "file_extension": ".py",
   "mimetype": "text/x-python",
   "name": "python",
   "nbconvert_exporter": "python",
   "pygments_lexer": "ipython3",
   "version": "3.8.18"
  }
 },
 "nbformat": 4,
 "nbformat_minor": 2
}
