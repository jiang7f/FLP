{
 "cells": [
  {
   "cell_type": "code",
   "execution_count": 11,
   "metadata": {},
   "outputs": [
    {
     "name": "stdout",
     "output_type": "stream",
     "text": [
      "[[1. 0. 1. 0. 0. 0. 0. 0. 0. 0.]\n",
      " [0. 1. 0. 1. 0. 0. 0. 0. 0. 0.]\n",
      " [0. 0. 0. 0. 1. 0. 0. 0. 0. 0.]\n",
      " [0. 0. 0. 0. 0. 1. 0. 0. 0. 0.]\n",
      " [1. 0. 0. 0. 0. 0. 1. 0. 0. 0.]\n",
      " [0. 1. 0. 0. 0. 0. 0. 1. 0. 0.]\n",
      " [0. 0. 0. 0. 0. 0. 0. 0. 1. 0.]\n",
      " [0. 0. 0. 0. 0. 0. 0. 0. 0. 1.]]\n"
     ]
    }
   ],
   "source": [
    "import sys\n",
    "import numpy as np\n",
    "sys.path.append('../')\n",
    "import zlibrary.linear_system as ls\n",
    "Cons = np.array([[0, 0, 0, 0, 0, 0, 0, 0, 0, 0],\n",
    "                 [-1, 0, 1, 0, 0, 0, 1, 0, 0, 0],\n",
    "                #  [-1, 0, 0, 0, 1, 0, 0, 0, 1, 0],\n",
    "                 [0, -1, 0, 1, 0, 0, 0, 1, 0, 0],\n",
    "                #  [0, -1, 0, 0, 0, 1, 0, 0, 0, 1],\n",
    "                 [0, 0, 0, 0, 0, 0, 0, 0, 0, 0],\n",
    "                 [0, 0, 0, 0, 0, 0, 0, 0, 0, 0],\n",
    "                #  [0, 0, 1, 1, 0, 0, 0, 0, 0, 0],\n",
    "                #  [0, 0, 0, 0, 1, 1, 0, 0, 0, 0],\n",
    "                 [0, 0, 0, 0, 0, 0, 0, 0, 0, 0]])\n",
    "u = ls.find_basic_solution(Cons)\n",
    "v = np.where(u == 1, 1, 0)\n",
    "w = np.where(u == -1, 1, 0)\n",
    "print(u)"
   ]
  }
 ],
 "metadata": {
  "kernelspec": {
   "display_name": "quantum",
   "language": "python",
   "name": "python3"
  },
  "language_info": {
   "codemirror_mode": {
    "name": "ipython",
    "version": 3
   },
   "file_extension": ".py",
   "mimetype": "text/x-python",
   "name": "python",
   "nbconvert_exporter": "python",
   "pygments_lexer": "ipython3",
   "version": "3.8.19"
  }
 },
 "nbformat": 4,
 "nbformat_minor": 2
}
