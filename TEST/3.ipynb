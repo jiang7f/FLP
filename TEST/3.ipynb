{
 "cells": [
  {
   "cell_type": "code",
   "execution_count": 1,
   "metadata": {},
   "outputs": [
    {
     "name": "stdout",
     "output_type": "stream",
     "text": [
      "Basis solution vectors:\n",
      "[1, 1, -1]\n",
      "[1, 1, 1]\n",
      "[1, 1, -1]\n",
      "[1, 1, 1]\n",
      "[1, 1, -1]\n",
      "[1, 1, 1]\n"
     ]
    }
   ],
   "source": [
    "def find_cycles(graph):\n",
    "    cycles = []\n",
    "\n",
    "    def dfs(node, visited, current_path):\n",
    "        visited[node] = True\n",
    "        current_path.append(node)\n",
    "\n",
    "        for neighbor in graph[node]:\n",
    "            if neighbor not in visited:\n",
    "                dfs(neighbor, visited.copy(), current_path.copy())\n",
    "            elif neighbor in current_path:\n",
    "                cycle_start = current_path.index(neighbor)\n",
    "                cycles.append(current_path[cycle_start:] + [neighbor])\n",
    "\n",
    "        current_path.pop()\n",
    "\n",
    "    for vertex in graph:\n",
    "        dfs(vertex, {}, [])\n",
    "\n",
    "    return cycles\n",
    "\n",
    "def construct_basis_vectors(cycles, num_vertices):\n",
    "    basis_vectors = []\n",
    "\n",
    "    for cycle in cycles:\n",
    "        x = [0] * num_vertices\n",
    "        for vertex in cycle:\n",
    "            x[vertex] = 1\n",
    "        for vertex in range(num_vertices):\n",
    "            if vertex not in cycle:\n",
    "                x[vertex] = -1 if any(vertex in c for c in cycles) else 0\n",
    "        basis_vectors.append(x)\n",
    "\n",
    "    return basis_vectors\n",
    "\n",
    "# Construct the graph G from matrix A\n",
    "A = [[0, 1, 0], [1, 0, -1], [-1, 0, 0]]\n",
    "graph = {i: [j for j, val in enumerate(row) if val != 0] for i, row in enumerate(A)}\n",
    "\n",
    "# Find all cycles in G\n",
    "cycles = find_cycles(graph)\n",
    "\n",
    "# Construct basis solution vectors from cycles\n",
    "num_vertices = len(A)\n",
    "basis_vectors = construct_basis_vectors(cycles, num_vertices)\n",
    "\n",
    "# Basis solution vectors form a basis for the null space of A\n",
    "print(\"Basis solution vectors:\")\n",
    "for vector in basis_vectors:\n",
    "    print(vector)\n"
   ]
  }
 ],
 "metadata": {
  "kernelspec": {
   "display_name": "quantum",
   "language": "python",
   "name": "python3"
  },
  "language_info": {
   "codemirror_mode": {
    "name": "ipython",
    "version": 3
   },
   "file_extension": ".py",
   "mimetype": "text/x-python",
   "name": "python",
   "nbconvert_exporter": "python",
   "pygments_lexer": "ipython3",
   "version": "3.11.5"
  }
 },
 "nbformat": 4,
 "nbformat_minor": 2
}
