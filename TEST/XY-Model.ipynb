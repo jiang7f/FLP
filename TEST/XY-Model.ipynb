{
 "cells": [
  {
   "cell_type": "code",
   "execution_count": 1,
   "metadata": {},
   "outputs": [],
   "source": [
    "import networkx as nx\n",
    "import matplotlib.pyplot as plt\n",
    "\n",
    "from qiskit import QuantumCircuit, ClassicalRegister, QuantumRegister\n",
    "from qiskit import Aer\n",
    "from qiskit.circuit import Parameter\n",
    "from qiskit.visualization import plot_histogram\n",
    "\n",
    "import numpy as np\n",
    "from scipy.optimize import minimize"
   ]
  },
  {
   "cell_type": "code",
   "execution_count": 2,
   "metadata": {},
   "outputs": [],
   "source": [
    "GateX = np.array([[0, 1],[1, 0]])\n",
    "GateY = np.array([[0, -1j],[1j, 0]])\n",
    "GateZ = np.array([[1, 0],[0, -1]])\n",
    "\n",
    "def add_in_target(num_qubits, target_qubit, gate=np.array([[1, 0],[0, -1]])):\n",
    "    H = np.eye(2 ** (target_qubit))\n",
    "    H = np.kron(H, gate)\n",
    "    H = np.kron(H, np.eye(2 ** (num_qubits - 1 - target_qubit)))\n",
    "    return H\n",
    "def gnrt_Hd():\n",
    "  qnum = 2\n",
    "  Hd = np.zeros((2**qnum, 2**qnum)).astype(np.complex128)\n",
    "  Hd += add_in_target(2, 0, GateX)@add_in_target(2, 1, GateX) + add_in_target(2, 0, GateY)@add_in_target(2, 1, GateY)\n",
    "  Hd += add_in_target(2, 1, GateX)@add_in_target(2, 0, GateX) + add_in_target(2, 1, GateY)@add_in_target(2, 0, GateY)\n",
    "  return Hd"
   ]
  },
  {
   "cell_type": "code",
   "execution_count": 3,
   "metadata": {},
   "outputs": [
    {
     "name": "stdout",
     "output_type": "stream",
     "text": [
      "[1. 0. 0. 0.]\n",
      "[2.+0.j 0.+0.j 0.+0.j 0.+0.j]\n",
      "====\n",
      "[0. 1. 0. 0.]\n",
      "[0.+0.j 0.+0.j 2.+0.j 0.+0.j]\n",
      "====\n",
      "[0. 0. 1. 0.]\n",
      "[0.+0.j 2.+0.j 0.+0.j 0.+0.j]\n",
      "====\n",
      "[0. 0. 0. 1.]\n",
      "[0.+0.j 0.+0.j 0.+0.j 2.+0.j]\n",
      "====\n"
     ]
    }
   ],
   "source": [
    "for i in range(4):\n",
    "  B = np.zeros(4)\n",
    "  B[i] = 1\n",
    "  C = np.eye(2**2) + add_in_target(2, 0, GateX)@add_in_target(2, 1, GateX) + add_in_target(2, 0, GateY)@add_in_target(2, 1, GateY) + add_in_target(2, 0, GateZ)@add_in_target(2, 1, GateZ)\n",
    "  print(B)\n",
    "  print(C.dot(B))\n",
    "  print(\"====\")"
   ]
  },
  {
   "cell_type": "code",
   "execution_count": 4,
   "metadata": {},
   "outputs": [
    {
     "data": {
      "text/plain": [
       "array([[0.+0.j, 0.+0.j, 0.+0.j, 0.+0.j],\n",
       "       [0.+0.j, 0.+0.j, 4.+0.j, 0.+0.j],\n",
       "       [0.+0.j, 4.+0.j, 0.+0.j, 0.+0.j],\n",
       "       [0.+0.j, 0.+0.j, 0.+0.j, 0.+0.j]])"
      ]
     },
     "execution_count": 4,
     "metadata": {},
     "output_type": "execute_result"
    }
   ],
   "source": [
    "gnrt_Hd()"
   ]
  },
  {
   "cell_type": "code",
   "execution_count": 5,
   "metadata": {},
   "outputs": [],
   "source": [
    "B = np.array([0, 0, 0, 1])"
   ]
  },
  {
   "cell_type": "code",
   "execution_count": 6,
   "metadata": {},
   "outputs": [
    {
     "data": {
      "text/plain": [
       "array([0.+0.j, 0.+0.j, 0.+0.j, 0.+0.j])"
      ]
     },
     "execution_count": 6,
     "metadata": {},
     "output_type": "execute_result"
    }
   ],
   "source": [
    "gnrt_Hd().dot(B)"
   ]
  },
  {
   "cell_type": "code",
   "execution_count": 7,
   "metadata": {},
   "outputs": [
    {
     "data": {
      "text/plain": [
       "array([[0, 0, 0, 1],\n",
       "       [0, 0, 1, 0],\n",
       "       [0, 1, 0, 0],\n",
       "       [1, 0, 0, 0]])"
      ]
     },
     "execution_count": 7,
     "metadata": {},
     "output_type": "execute_result"
    }
   ],
   "source": [
    "np.kron(GateX, GateX)"
   ]
  },
  {
   "cell_type": "code",
   "execution_count": 8,
   "metadata": {},
   "outputs": [
    {
     "name": "stdout",
     "output_type": "stream",
     "text": [
      "[1 0 0 0 0 0 0 0 0 0 0 0 0 0 0 0]\n",
      "[0 0 0 0 0 0 0 0 0 0 0 0 0 0 0 0]\n",
      "====\n",
      "[0 1 0 0 0 0 0 0 0 0 0 0 0 0 0 0]\n",
      "[0 0 0 0 0 0 0 0 0 0 0 0 0 0 0 0]\n",
      "====\n",
      "[0 0 1 0 0 0 0 0 0 0 0 0 0 0 0 0]\n",
      "[0 0 0 0 0 0 0 0 0 0 0 0 0 0 0 0]\n",
      "====\n",
      "[0 0 0 1 0 0 0 0 0 0 0 0 0 0 0 0]\n",
      "[0 0 0 0 0 0 0 0 0 0 0 0 0 0 0 0]\n",
      "====\n",
      "[0 0 0 0 1 0 0 0 0 0 0 0 0 0 0 0]\n",
      "[0 0 0 0 0 0 0 0 0 0 0 0 0 0 0 0]\n",
      "====\n",
      "[0 0 0 0 0 1 0 0 0 0 0 0 0 0 0 0]\n",
      "[0 0 0 0 0 0 0 0 0 0 0 0 0 0 0 0]\n",
      "====\n",
      "[0 0 0 0 0 0 1 0 0 0 0 0 0 0 0 0]\n",
      "[0 0 0 0 0 0 0 0 0 8 0 0 0 0 0 0]\n",
      "====\n",
      "[0 0 0 0 0 0 0 1 0 0 0 0 0 0 0 0]\n",
      "[0 0 0 0 0 0 0 0 0 0 0 0 0 0 0 0]\n",
      "====\n",
      "[0 0 0 0 0 0 0 0 1 0 0 0 0 0 0 0]\n",
      "[0 0 0 0 0 0 0 0 0 0 0 0 0 0 0 0]\n",
      "====\n",
      "[0 0 0 0 0 0 0 0 0 1 0 0 0 0 0 0]\n",
      "[0 0 0 0 0 0 8 0 0 0 0 0 0 0 0 0]\n",
      "====\n",
      "[0 0 0 0 0 0 0 0 0 0 1 0 0 0 0 0]\n",
      "[0 0 0 0 0 0 0 0 0 0 0 0 0 0 0 0]\n",
      "====\n",
      "[0 0 0 0 0 0 0 0 0 0 0 1 0 0 0 0]\n",
      "[0 0 0 0 0 0 0 0 0 0 0 0 0 0 0 0]\n",
      "====\n",
      "[0 0 0 0 0 0 0 0 0 0 0 0 1 0 0 0]\n",
      "[0 0 0 0 0 0 0 0 0 0 0 0 0 0 0 0]\n",
      "====\n",
      "[0 0 0 0 0 0 0 0 0 0 0 0 0 1 0 0]\n",
      "[0 0 0 0 0 0 0 0 0 0 0 0 0 0 0 0]\n",
      "====\n",
      "[0 0 0 0 0 0 0 0 0 0 0 0 0 0 1 0]\n",
      "[0 0 0 0 0 0 0 0 0 0 0 0 0 0 0 0]\n",
      "====\n",
      "[0 0 0 0 0 0 0 0 0 0 0 0 0 0 0 1]\n",
      "[0 0 0 0 0 0 0 0 0 0 0 0 0 0 0 0]\n",
      "====\n"
     ]
    },
    {
     "name": "stderr",
     "output_type": "stream",
     "text": [
      "/tmp/ipykernel_56495/832025225.py:23: ComplexWarning: Casting complex values to real discards the imaginary part\n",
      "  print(Z.dot(B).astype(int).real)\n"
     ]
    }
   ],
   "source": [
    "import numpy as np\n",
    "\n",
    "GateX = np.array([[0, 1],[1, 0]])\n",
    "GateY = np.array([[0, -1j],[1j, 0]])\n",
    "GateZ = np.array([[1, 0],[0, -1]])\n",
    "\n",
    "def add_in_target(num_qubits, target_qubit, gate=np.array([[1, 0],[0, -1]])):\n",
    "    H = np.eye(2 ** (target_qubit))\n",
    "    H = np.kron(H, gate)\n",
    "    H = np.kron(H, np.eye(2 ** (num_qubits - 1 - target_qubit)))\n",
    "    return H\n",
    "\n",
    "for i in range(16):\n",
    "  B = np.zeros(16)\n",
    "  B[i] = 1\n",
    "  Z = np.zeros((2 ** 4, 2 ** 4)).astype(np.complex128)\n",
    "  a = add_in_target(4, 0, GateX)@add_in_target(4, 1, GateX)@add_in_target(4, 2, GateX)@add_in_target(4, 3, GateX) + add_in_target(4, 0, GateY)@add_in_target(4, 1, GateY)@add_in_target(4, 2, GateY)@add_in_target(4, 3, GateY)\n",
    "  b = add_in_target(4, 0, GateX)@add_in_target(4, 1, GateY)@add_in_target(4, 2, GateY)@add_in_target(4, 3, GateX) + add_in_target(4, 0, GateY)@add_in_target(4, 1, GateX)@add_in_target(4, 2, GateX)@add_in_target(4, 3, GateY)\n",
    "  c = add_in_target(4, 0, GateX)@add_in_target(4, 1, GateY)@add_in_target(4, 2, GateX)@add_in_target(4, 3, GateY) + add_in_target(4, 0, GateY)@add_in_target(4, 1, GateX)@add_in_target(4, 2, GateY)@add_in_target(4, 3, GateX)\n",
    "  d = add_in_target(4, 0, GateX)@add_in_target(4, 1, GateX)@add_in_target(4, 2, GateY)@add_in_target(4, 3, GateY) + add_in_target(4, 0, GateY)@add_in_target(4, 1, GateY)@add_in_target(4, 2, GateX)@add_in_target(4, 3, GateX)\n",
    "  Z = a - b + c + d\n",
    "  print(B.astype(int))\n",
    "  print(Z.dot(B).astype(int).real)\n",
    "  print(\"====\")"
   ]
  }
 ],
 "metadata": {
  "kernelspec": {
   "display_name": "FLP_1",
   "language": "python",
   "name": "python3"
  },
  "language_info": {
   "codemirror_mode": {
    "name": "ipython",
    "version": 3
   },
   "file_extension": ".py",
   "mimetype": "text/x-python",
   "name": "python",
   "nbconvert_exporter": "python",
   "pygments_lexer": "ipython3",
   "version": "3.8.18"
  }
 },
 "nbformat": 4,
 "nbformat_minor": 2
}
