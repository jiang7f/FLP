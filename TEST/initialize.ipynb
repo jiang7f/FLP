{
 "cells": [
  {
   "cell_type": "code",
   "execution_count": 77,
   "metadata": {},
   "outputs": [],
   "source": [
    "import networkx as nx\n",
    "import matplotlib.pyplot as plt\n",
    "\n",
    "from qiskit import QuantumCircuit, ClassicalRegister, QuantumRegister\n",
    "from qiskit import Aer\n",
    "from qiskit.circuit import Parameter\n",
    "from qiskit.visualization import plot_histogram\n",
    "from functools import reduce\n",
    "\n",
    "import numpy as np\n",
    "from scipy.optimize import minimize"
   ]
  },
  {
   "cell_type": "code",
   "execution_count": 78,
   "metadata": {},
   "outputs": [],
   "source": [
    "cst = [-100, -1, -20]"
   ]
  },
  {
   "cell_type": "code",
   "execution_count": 79,
   "metadata": {},
   "outputs": [],
   "source": [
    "depth = 5\n",
    "params = np.ones(depth * 2)"
   ]
  },
  {
   "cell_type": "code",
   "execution_count": 80,
   "metadata": {},
   "outputs": [],
   "source": [
    "GateX = np.array([[0, 1],[1, 0]])\n",
    "GateY = np.array([[0, -1j],[1j, 0]])\n",
    "GateZ = np.array([[1, 0],[0, -1]])\n",
    "\n",
    "# 定义σ+和σ-矩阵\n",
    "sigma_plus = np.array([[0, 1], [0, 0]])\n",
    "sigma_minus = np.array([[0, 0], [1, 0]])\n",
    "\n",
    "def add_in_target(num_qubits, target_qubit, gate=np.array([[1, 0],[0, -1]])):\n",
    "    H = np.eye(2 ** (target_qubit))\n",
    "    H = np.kron(H, gate)\n",
    "    H = np.kron(H, np.eye(2 ** (num_qubits - 1 - target_qubit)))\n",
    "    return H\n",
    "\n",
    "def calculate_hamiltonian(v, w):\n",
    "    n = len(v[0])\n",
    "    m = len(v)\n",
    "    hamiltonian = np.zeros((2**n, 2**n))\n",
    "\n",
    "    for i in range(m):\n",
    "        term1 = reduce(np.kron, [(sigma_plus**v[i][j] if v[i][j] == 1 else np.eye(2)) for j in range(n)])\n",
    "        term2 = reduce(np.kron, [(sigma_minus**w[i][j] if w[i][j] == 1 else np.eye(2)) for j in range(n)])\n",
    "        term3 = reduce(np.kron, [(sigma_plus**w[i][j] if w[i][j] == 1 else np.eye(2)) for j in range(n)])\n",
    "        term4 = reduce(np.kron, [(sigma_minus**v[i][j] if v[i][j] == 1 else np.eye(2)) for j in range(n)])\n",
    "\n",
    "        hamiltonian += term1 @ term2 + term3 @ term4\n",
    "\n",
    "    return hamiltonian\n",
    "\n",
    "def first_nonzero_index(arr, total_bits=3):\n",
    "    for i, num in enumerate(arr):\n",
    "        if num != 0:\n",
    "            binary_repr = format(i, '0' + str(total_bits) + 'b')\n",
    "            return binary_repr\n",
    "        \n",
    "def gnrt_Hd():\n",
    "  Hd = np.zeros((2**3, 2**3)).astype(np.complex128)\n",
    "  Hd += add_in_target(3, 0, GateZ)\n",
    "  Hd += add_in_target(3, 1, GateZ)\n",
    "  Hd += add_in_target(3, 2, GateZ)\n",
    "  return Hd"
   ]
  },
  {
   "cell_type": "code",
   "execution_count": 81,
   "metadata": {},
   "outputs": [],
   "source": [
    "# dtype=np.complex128\n",
    "def add_in_target(num_qubits, target_qubit, gate=np.array([[1, 0],[0, -1]])):\n",
    "    H = np.eye(2 ** (target_qubit))\n",
    "    H = np.kron(H, gate)\n",
    "    H = np.kron(H, np.eye(2 ** (num_qubits - 1 - target_qubit)))\n",
    "    return H\n",
    "\n",
    "\n",
    "def generate_Hp():\n",
    "    Hp = np.zeros((2**3, 2**3))\n",
    "    for i in range(3):\n",
    "        Hp +=  cst[i] * (add_in_target(3, i) - np.eye(2**3)) / 2\n",
    "    return Hp\n",
    "Hp = generate_Hp()"
   ]
  },
  {
   "cell_type": "code",
   "execution_count": 82,
   "metadata": {},
   "outputs": [],
   "source": [
    "def gnrt_Hd():\n",
    "  Hd = np.zeros((2**3, 2**3)).astype(np.complex128)\n",
    "  Hd += (add_in_target(3, 0, GateX) @ add_in_target(3, 1, GateX) + add_in_target(3, 0, GateY) @ add_in_target(3, 1, GateY))\n",
    "  Hd += (add_in_target(3, 1, GateX) @ add_in_target(3, 2, GateX) - add_in_target(3, 1, GateY) @ add_in_target(3, 2, GateY))\n",
    "  Hd += (add_in_target(3, 2, GateX) @ add_in_target(3, 0, GateX) - add_in_target(3, 2, GateY) @ add_in_target(3, 0, GateY))\n",
    "  # Hd += add_in_target(1, 0, GateX)\n",
    "  # Hd += add_in_target(3, 1, GateX)\n",
    "  # Hd += add_in_target(3, 2, GateX)\n",
    "  return Hd"
   ]
  },
  {
   "cell_type": "code",
   "execution_count": 83,
   "metadata": {},
   "outputs": [],
   "source": [
    "v = np.array([[1, 0, 0],\n",
    "              [0, 1, 0],\n",
    "              [0, 0, 1]])\n",
    "w = np.array([[0, 1, 0], \n",
    "              [0, 0, 1],\n",
    "              [1, 0, 0]])\n",
    "# Hd = gnrt_Hd()\n",
    "Hd = calculate_hamiltonian(v, w)"
   ]
  },
  {
   "cell_type": "code",
   "execution_count": 84,
   "metadata": {},
   "outputs": [
    {
     "name": "stdout",
     "output_type": "stream",
     "text": [
      "[-1.  2. -1.  2. -1. -1.  0.  0.]\n",
      "\n",
      "Eigenvalues:\n",
      "-1.0000\n",
      "Eigenvectors:\n",
      "['0.0000', '0.0000', '0.0000', '0.4082', '0.0000', '0.4082', '-0.8165', '0.0000']\n",
      "\n",
      "Eigenvalues:\n",
      "2.0000\n",
      "Eigenvectors:\n",
      "['0.0000', '-0.0000', '0.0000', '0.5774', '0.0000', '0.5774', '0.5774', '0.0000']\n",
      "\n",
      "Eigenvalues:\n",
      "-1.0000\n",
      "Eigenvectors:\n",
      "['0.0000', '0.7682', '-0.3841', '-0.1384', '-0.3841', '-0.1384', '0.2768', '0.0000']\n",
      "\n",
      "Eigenvalues:\n",
      "2.0000\n",
      "Eigenvectors:\n",
      "['0.0000', '-0.5485', '-0.5485', '-0.1803', '-0.5485', '-0.1803', '-0.1803', '0.0000']\n",
      "\n",
      "Eigenvalues:\n",
      "-1.0000\n",
      "Eigenvectors:\n",
      "['0.0000', '0.4153', '0.3649', '-0.1835', '-0.7802', '-0.0410', '0.2244', '0.0000']\n",
      "\n",
      "Eigenvalues:\n",
      "-1.0000\n",
      "Eigenvectors:\n",
      "['0.0000', '-0.2422', '0.0380', '-0.6350', '0.2042', '0.7005', '-0.0654', '0.0000']\n",
      "\n",
      "Eigenvalues:\n",
      "0.0000\n",
      "Eigenvectors:\n",
      "['1.0000', '0.0000', '0.0000', '0.0000', '0.0000', '0.0000', '0.0000', '0.0000']\n",
      "\n",
      "Eigenvalues:\n",
      "0.0000\n",
      "Eigenvectors:\n",
      "['0.0000', '0.0000', '0.0000', '0.0000', '0.0000', '0.0000', '0.0000', '1.0000']\n"
     ]
    }
   ],
   "source": [
    "# 求解本征值和本征态\n",
    "eigenvalues, eigenvectors = np.linalg.eig(Hd)\n",
    "print(eigenvalues)\n",
    "# 输出结果\n",
    "for i in range(len(eigenvalues)):\n",
    "  print(\"\\nEigenvalues:\")\n",
    "  print(f'{eigenvalues[i].real:.4f}')\n",
    "  print(\"Eigenvectors:\")\n",
    "  print([f'{num:.4f}' for num in eigenvectors[:, i].real])"
   ]
  },
  {
   "cell_type": "code",
   "execution_count": 85,
   "metadata": {},
   "outputs": [],
   "source": [
    "from scipy.linalg import expm\n",
    "def build_circ(params):\n",
    "  qc = QuantumCircuit(3)\n",
    "  beta = params[:depth]\n",
    "  gamma = params[depth:]\n",
    "  qc.initialize(eigenvectors[:, 1].real, range(3))\n",
    "  # qc.x(0)\n",
    "  # qc.x(2)\n",
    "  for dp in range(depth):\n",
    "    qc.unitary(expm(-1j * gamma[dp] * Hp), range(3)) # transpile\n",
    "    qc.unitary(expm(-1j * beta[dp] * Hd), range(3))\n",
    "  qc.measure_all()\n",
    "  return qc"
   ]
  },
  {
   "cell_type": "code",
   "execution_count": 86,
   "metadata": {},
   "outputs": [
    {
     "name": "stdout",
     "output_type": "stream",
     "text": [
      "        ┌──────────┐┌──────────┐┌──────────┐┌──────────┐┌──────────┐»\n",
      "   q_0: ┤0         ├┤0         ├┤0         ├┤0         ├┤0         ├»\n",
      "        │          ││          ││          ││          ││          │»\n",
      "   q_1: ┤1 Unitary ├┤1 Unitary ├┤1 Unitary ├┤1 Unitary ├┤1 Unitary ├»\n",
      "        │          ││          ││          ││          ││          │»\n",
      "   q_2: ┤2         ├┤2         ├┤2         ├┤2         ├┤2         ├»\n",
      "        └──────────┘└──────────┘└──────────┘└──────────┘└──────────┘»\n",
      "meas: 3/════════════════════════════════════════════════════════════»\n",
      "                                                                    »\n",
      "«        ┌──────────┐┌──────────┐┌──────────┐┌──────────┐┌──────────┐ ░ ┌─┐   »\n",
      "«   q_0: ┤0         ├┤0         ├┤0         ├┤0         ├┤0         ├─░─┤M├───»\n",
      "«        │          ││          ││          ││          ││          │ ░ └╥┘┌─┐»\n",
      "«   q_1: ┤1 Unitary ├┤1 Unitary ├┤1 Unitary ├┤1 Unitary ├┤1 Unitary ├─░──╫─┤M├»\n",
      "«        │          ││          ││          ││          ││          │ ░  ║ └╥┘»\n",
      "«   q_2: ┤2         ├┤2         ├┤2         ├┤2         ├┤2         ├─░──╫──╫─»\n",
      "«        └──────────┘└──────────┘└──────────┘└──────────┘└──────────┘ ░  ║  ║ »\n",
      "«meas: 3/════════════════════════════════════════════════════════════════╩══╩═»\n",
      "«                                                                        0  1 »\n",
      "«           \n",
      "«   q_0: ───\n",
      "«           \n",
      "«   q_1: ───\n",
      "«        ┌─┐\n",
      "«   q_2: ┤M├\n",
      "«        └╥┘\n",
      "«meas: 3/═╩═\n",
      "«         2 \n"
     ]
    }
   ],
   "source": [
    "print(build_circ(params))"
   ]
  },
  {
   "cell_type": "code",
   "execution_count": 87,
   "metadata": {},
   "outputs": [],
   "source": [
    "def cost_function(x):\n",
    "  num = [int(char) for char in x]\n",
    "  C = 0\n",
    "  for i in range(3):\n",
    "    C += cst[i] * num[i]\n",
    "  return C\n",
    "\n",
    "def compute_expectation(counts):\n",
    "  EV = 0\n",
    "  total_count = 0\n",
    "  for x, count in counts.items():\n",
    "    C = cost_function(x)\n",
    "    EV += C*count\n",
    "    total_count += count\n",
    "\n",
    "  return EV/total_count\n",
    "\n",
    "\n",
    "def expectation_from_sample(shots = 2000):\n",
    "  backend = Aer.get_backend('qasm_simulator')\n",
    "  backend.shots = shots\n",
    "\n",
    "  def execute_circ(theta):\n",
    "    qc = build_circ(theta)\n",
    "    counts = backend.run(qc, seed_simulator=10, shots=shots).result().get_counts()\n",
    "    return compute_expectation(counts)\n",
    "  \n",
    "  return execute_circ"
   ]
  },
  {
   "cell_type": "code",
   "execution_count": 88,
   "metadata": {},
   "outputs": [],
   "source": [
    "from numpy.lib.utils import source\n",
    "from scipy.optimize import minimize\n",
    "import numpy as np\n",
    "# 初始化迭代计数器\n",
    "iteration_count = 0\n",
    "def test(pen, dep, par):\n",
    "  global penalty, depth, params, iteration_count\n",
    "  iteration_count = 0\n",
    "  penalty = pen\n",
    "  depth = dep\n",
    "  params = par\n",
    "  expectation = expectation_from_sample()\n",
    "  def callback(x):\n",
    "      global iteration_count\n",
    "      iteration_count += 1\n",
    "      if iteration_count % 10 == 0:\n",
    "          print(f\"Iteration {iteration_count}, Result: {expectation(x)}\")\n",
    "  # 设定最大迭代次数\n",
    "  max_iterations = 1000\n",
    "\n",
    "  # 使用 COBYLA 方法进行最小化，并设置 callback 函数\n",
    "  res = minimize(expectation, params, method='COBYLA', options={'maxiter': max_iterations}, callback=callback)\n",
    "  # 输出最终结果\n",
    "  print(\"Final Result:\", res)\n",
    "  backend = Aer.get_backend('aer_simulator')\n",
    "  backend.shots = 100000\n",
    "\n",
    "  shots=100000\n",
    "  qc_res = build_circ(params=res.x)\n",
    "\n",
    "  counts = backend.run(qc_res, seed_simulator=10, shots = shots).result().get_counts()\n",
    "  # plot_histogram(counts)\n",
    "  sorted_counts = sorted(counts, key=counts.get, reverse=True)\n",
    "  print(\"\\n----------------- Full result ---------------------\")\n",
    "  print(\"selection\\t\\tprobability\\tvalue\")\n",
    "  print(\"---------------------------------------------------\")\n",
    "  for x in sorted_counts[:20]:\n",
    "    print(x, \"{:.1f}%\".format(counts[x] / shots * 100), cost_function(x))"
   ]
  },
  {
   "cell_type": "code",
   "execution_count": 89,
   "metadata": {},
   "outputs": [
    {
     "name": "stdout",
     "output_type": "stream",
     "text": [
      "Iteration 10, Result: 0.0\n",
      "Iteration 20, Result: 0.0\n",
      "Iteration 30, Result: 0.0\n",
      "Iteration 40, Result: 0.0\n",
      "Iteration 50, Result: 0.0\n"
     ]
    },
    {
     "name": "stdout",
     "output_type": "stream",
     "text": [
      "Iteration 60, Result: 0.0\n",
      "Final Result:  message: Optimization terminated successfully.\n",
      " success: True\n",
      "  status: 1\n",
      "     fun: 0.0\n",
      "       x: [ 6.283e-01  6.283e-01  6.283e-01  6.283e-01  6.283e-01\n",
      "            6.283e-01  6.283e-01  6.283e-01  6.283e-01  6.283e-01]\n",
      "    nfev: 61\n",
      "   maxcv: 0.0\n",
      "\n",
      "----------------- Full result ---------------------\n",
      "selection\t\tprobability\tvalue\n",
      "---------------------------------------------------\n",
      "000 100.0% 0\n"
     ]
    }
   ],
   "source": [
    "test(40, 5, np.full(5 * 2, np.pi/5))"
   ]
  },
  {
   "cell_type": "code",
   "execution_count": 90,
   "metadata": {},
   "outputs": [
    {
     "name": "stdout",
     "output_type": "stream",
     "text": [
      "Iteration 10, Result: 0.0\n",
      "Iteration 20, Result: 0.0\n",
      "Iteration 30, Result: 0.0\n",
      "Final Result:  message: Optimization terminated successfully.\n",
      " success: True\n",
      "  status: 1\n",
      "     fun: 0.0\n",
      "       x: [ 1.047e+00  1.047e+00  1.047e+00  1.047e+00  1.047e+00\n",
      "            1.047e+00]\n",
      "    nfev: 37\n",
      "   maxcv: 0.0\n",
      "\n",
      "----------------- Full result ---------------------\n",
      "selection\t\tprobability\tvalue\n",
      "---------------------------------------------------\n",
      "000 100.0% 0\n"
     ]
    }
   ],
   "source": [
    "test(40, 3, np.full(3 * 2, np.pi/3))"
   ]
  },
  {
   "cell_type": "code",
   "execution_count": 91,
   "metadata": {},
   "outputs": [],
   "source": [
    "# for i in range(1, 20):\n",
    "#   print(f'depth == {i}')\n",
    "#   test(20, i, np.ones(2 * i))"
   ]
  }
 ],
 "metadata": {
  "kernelspec": {
   "display_name": "quantum",
   "language": "python",
   "name": "python3"
  },
  "language_info": {
   "codemirror_mode": {
    "name": "ipython",
    "version": 3
   },
   "file_extension": ".py",
   "mimetype": "text/x-python",
   "name": "python",
   "nbconvert_exporter": "python",
   "pygments_lexer": "ipython3",
   "version": "3.8.18"
  }
 },
 "nbformat": 4,
 "nbformat_minor": 2
}
