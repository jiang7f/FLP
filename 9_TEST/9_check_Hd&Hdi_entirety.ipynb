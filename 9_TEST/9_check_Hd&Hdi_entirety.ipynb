{
 "cells": [
  {
   "cell_type": "code",
   "execution_count": 1,
   "metadata": {},
   "outputs": [],
   "source": [
    "from qiskit import QuantumCircuit\n",
    "from qiskit_aer import Aer\n",
    "from qiskit.visualization import plot_histogram\n",
    "\n",
    "import numpy as np\n",
    "from scipy.optimize import minimize"
   ]
  },
  {
   "cell_type": "code",
   "execution_count": 2,
   "metadata": {},
   "outputs": [],
   "source": [
    "# dij需求i到设施j的成本\n",
    "d = [[1, 2], [1, 2]]\n",
    "n = 1   # 两个设施点\n",
    "m = 1   # 两个需求点\n",
    "num_qubits = n + 2 * n * m\n",
    "\n",
    "# gi设施i的建设成本\n",
    "g = [2, 1]"
   ]
  },
  {
   "cell_type": "code",
   "execution_count": 3,
   "metadata": {},
   "outputs": [],
   "source": [
    "GateX = np.array([[0, 1],[1, 0]])\n",
    "GateY = np.array([[0, -1j],[1j, 0]])\n",
    "GateZ = np.array([[1, 0],[0, -1]])\n",
    "\n",
    "# 定义σ+和σ-矩阵\n",
    "sigma_plus = np.array([[0, 1], [0, 0]])\n",
    "sigma_minus = np.array([[0, 0], [1, 0]])\n",
    "\n",
    "def add_in_target(num_qubits, target_qubit, gate=np.array([[1, 0],[0, -1]])):\n",
    "    H = np.eye(2 ** (target_qubit))\n",
    "    H = np.kron(H, gate)\n",
    "    H = np.kron(H, np.eye(2 ** (num_qubits - 1 - target_qubit)))\n",
    "    return H\n",
    "\n",
    "def generate_Hp(n, m, d, g):\n",
    "    # 初始化 Hp 矩阵为零矩阵\n",
    "    Hp = np.zeros((2**num_qubits, 2**num_qubits))\n",
    "    for i in range(m):\n",
    "        for j in range(n):\n",
    "            Hp += d[i][j] * (add_in_target(num_qubits, n * (1 + i) + j) - np.eye(2**num_qubits)) / 2\n",
    "    \n",
    "    for j in range(n):\n",
    "        Hp +=  g[j] * (add_in_target(num_qubits, j)- np.eye(2**num_qubits)) / 2\n",
    "    return Hp\n",
    "        \n",
    "# Hp = generate_Hp(n, m, d, g)\n",
    "\n",
    "from qiskit import transpile\n",
    "# 输入qc, 返回电路酉矩阵\n",
    "def get_circ_unitary(quantum_circuit):\n",
    "  backend = Aer.get_backend('unitary_simulator' )\n",
    "  new_circuit = transpile(quantum_circuit, backend)\n",
    "  job = backend.run(new_circuit)\n",
    "  result = job.result()\n",
    "  unitary = result.get_unitary()\n",
    "  return unitary"
   ]
  },
  {
   "cell_type": "code",
   "execution_count": 4,
   "metadata": {},
   "outputs": [],
   "source": [
    "import sys\n",
    "sys.path.append('../')\n",
    "import z_library.linear_system as ls"
   ]
  },
  {
   "cell_type": "code",
   "execution_count": 5,
   "metadata": {},
   "outputs": [
    {
     "name": "stdout",
     "output_type": "stream",
     "text": [
      "[[-1  1  0]\n",
      " [ 0 -1  1]]\n",
      "[[0, 1], [1, 2]]\n"
     ]
    }
   ],
   "source": [
    "def gnrt_gate_hdi(u):\n",
    "    result = []\n",
    "    nonzero_indices = ls.find_nonzero_indices(u)\n",
    "    for urow, nrow in zip(u, nonzero_indices):\n",
    "        # 把非0元素映射成01\n",
    "        filtered_arr = [0 if x == -1 else 1 for x in urow if x != 0]\n",
    "        binary_str = ''.join(map(str, filtered_arr))\n",
    "        # 取到二进制表示的数\n",
    "        map_num = int(binary_str, 2)\n",
    "        # print(map_num)\n",
    "        length = len(nrow)\n",
    "        scale = 2**length\n",
    "        matrix = np.zeros((scale, scale))\n",
    "\n",
    "        matrix[map_num, scale - 1 - map_num] = 1\n",
    "        map_num = 2**length - 1 - map_num\n",
    "        # print(map_num)\n",
    "        matrix[map_num, scale - 1 - map_num] = 1\n",
    "        result.append(matrix)\n",
    "    return result\n",
    "\n",
    "# print(\"非零元素的索引：\", nonzero_indices)\n",
    "\n",
    "u = np.array([[-1,  1, 0], [0, -1, 1]])\n",
    "print(u)\n",
    "nonzero_indices = ls.find_nonzero_indices(u)\n",
    "gate_hds = gnrt_gate_hdi(u)\n",
    "print(nonzero_indices)"
   ]
  },
  {
   "cell_type": "code",
   "execution_count": 6,
   "metadata": {},
   "outputs": [],
   "source": [
    "# gnrt_gate_hdi(u)[0]"
   ]
  },
  {
   "cell_type": "code",
   "execution_count": 7,
   "metadata": {},
   "outputs": [],
   "source": [
    "from functools import reduce\n",
    "\n",
    "def calculate_hamiltonian(v, w):\n",
    "    n = len(v[0])\n",
    "    m = len(v)\n",
    "    hamiltonian = np.zeros((2**n, 2**n))\n",
    "    for i in range(m):\n",
    "        term1 = reduce(np.kron, [np.linalg.matrix_power(sigma_plus, v[i][j]) @ np.linalg.matrix_power(sigma_minus, w[i][j]) for j in range(n)])\n",
    "        term2 = reduce(np.kron, [np.linalg.matrix_power(sigma_plus, w[i][j]) @ np.linalg.matrix_power(sigma_minus, v[i][j]) for j in range(n)])\n",
    "        hamiltonian += term1 + term2\n",
    "    return hamiltonian\n",
    "\n",
    "import sys\n",
    "sys.path.append('../')\n",
    "import z_library.linear_system as ls\n",
    "# u = ls.gnrt_u(n, m)\n",
    "\n",
    "v = np.where(u == 1, 1, 0)\n",
    "w = np.where(u == -1, 1, 0)\n",
    "Hd = calculate_hamiltonian(v, w)"
   ]
  },
  {
   "cell_type": "code",
   "execution_count": 8,
   "metadata": {},
   "outputs": [
    {
     "name": "stdout",
     "output_type": "stream",
     "text": [
      "(8, 8)\n",
      "(4, 4)\n"
     ]
    },
    {
     "data": {
      "text/plain": [
       "False"
      ]
     },
     "execution_count": 8,
     "metadata": {},
     "output_type": "execute_result"
    }
   ],
   "source": [
    "print(Hd.shape)\n",
    "print(gate_hds[0].shape)\n",
    "np.array_equal(Hd, gate_hds[0])"
   ]
  },
  {
   "cell_type": "code",
   "execution_count": 9,
   "metadata": {},
   "outputs": [],
   "source": [
    "from scipy.linalg import expm\n",
    "def build_circ(params):\n",
    "  qc = QuantumCircuit(num_qubits)\n",
    "  gamma = params\n",
    "  for gate_hdi, ind in zip(gate_hds, nonzero_indices):\n",
    "    qc.unitary(expm(-1j * gamma * gate_hdi), (num_qubits - 1 - i for i in ind))\n",
    "  return qc"
   ]
  },
  {
   "cell_type": "code",
   "execution_count": 10,
   "metadata": {},
   "outputs": [],
   "source": [
    "from scipy.linalg import expm\n",
    "def build_circ2(params):\n",
    "  qc = QuantumCircuit(num_qubits)\n",
    "  gamma = params\n",
    "  # for dp in range(depth):\n",
    "  #   # qc.unitary(expm(-1j * beta[dp] * Hp), range(num_qubits))\n",
    "  qc.unitary(expm(-1j * gamma * Hd), range(num_qubits))\n",
    "  # qc.measure_all()\n",
    "  return qc"
   ]
  },
  {
   "cell_type": "code",
   "execution_count": 11,
   "metadata": {},
   "outputs": [
    {
     "data": {
      "text/plain": [
       "(array([], dtype=int64),)"
      ]
     },
     "execution_count": 11,
     "metadata": {},
     "output_type": "execute_result"
    }
   ],
   "source": [
    "from scipy.linalg import expm\n",
    "def build_circ3(params):\n",
    "  qc = QuantumCircuit(num_qubits)\n",
    "  gamma = params\n",
    "  # for dp in range(depth):\n",
    "  #   # qc.unitary(expm(-1j * beta[dp] * Hp), range(num_qubits))\n",
    "  qc.unitary(expm(-1j * Hd), range(num_qubits-1, -1, -1))\n",
    "  # qc.measure_all()\n",
    "  return qc\n",
    "\n",
    "def build_circ4(params):\n",
    "  qc = QuantumCircuit(num_qubits)\n",
    "  gamma = params\n",
    "  # for dp in range(depth):\n",
    "  #   # qc.unitary(expm(-1j * beta[dp] * Hp), range(num_qubits))\n",
    "  qc.unitary(expm(-1j * Hd), range(num_qubits))\n",
    "  # qc.measure_all()\n",
    "  return qc\n",
    "\n",
    "qc3 = build_circ3(1)\n",
    "qc4 = build_circ4(1)\n",
    "m3 = get_circ_unitary(qc3) \n",
    "m4 = get_circ_unitary(qc4) \n",
    "np.where(m3 != m4)"
   ]
  },
  {
   "cell_type": "code",
   "execution_count": 12,
   "metadata": {},
   "outputs": [
    {
     "data": {
      "text/plain": [
       "array([[0., 0., 0., 0., 0., 0., 0., 0.],\n",
       "       [0., 0., 1., 0., 0., 0., 0., 0.],\n",
       "       [0., 1., 0., 0., 1., 0., 0., 0.],\n",
       "       [0., 0., 0., 0., 0., 1., 0., 0.],\n",
       "       [0., 0., 1., 0., 0., 0., 0., 0.],\n",
       "       [0., 0., 0., 1., 0., 0., 1., 0.],\n",
       "       [0., 0., 0., 0., 0., 1., 0., 0.],\n",
       "       [0., 0., 0., 0., 0., 0., 0., 0.]])"
      ]
     },
     "execution_count": 12,
     "metadata": {},
     "output_type": "execute_result"
    }
   ],
   "source": [
    "Hd"
   ]
  },
  {
   "cell_type": "code",
   "execution_count": 13,
   "metadata": {},
   "outputs": [
    {
     "data": {
      "text/plain": [
       "(array([0]),)"
      ]
     },
     "execution_count": 13,
     "metadata": {},
     "output_type": "execute_result"
    }
   ],
   "source": [
    "from qiskit import transpile\n",
    "ls.set_print_form()\n",
    "\n",
    "\n",
    "qc1 = build_circ(1)\n",
    "qc2 = build_circ2(1)\n",
    "m2 = get_circ_unitary(qc1) \n",
    "m1 = get_circ_unitary(qc2) \n",
    "np.where(m1 != m2)"
   ]
  },
  {
   "cell_type": "code",
   "execution_count": 14,
   "metadata": {},
   "outputs": [
    {
     "data": {
      "text/html": [
       "<pre style=\"word-wrap: normal;white-space: pre;background: #fff0;line-height: 1.1;font-family: &quot;Courier New&quot;,Courier,monospace\">                 ┌──────────┐\n",
       "q_0: ────────────┤1         ├\n",
       "     ┌──────────┐│  Unitary │\n",
       "q_1: ┤1         ├┤0         ├\n",
       "     │  Unitary │└──────────┘\n",
       "q_2: ┤0         ├────────────\n",
       "     └──────────┘            </pre>"
      ],
      "text/plain": [
       "                 ┌──────────┐\n",
       "q_0: ────────────┤1         ├\n",
       "     ┌──────────┐│  Unitary │\n",
       "q_1: ┤1         ├┤0         ├\n",
       "     │  Unitary │└──────────┘\n",
       "q_2: ┤0         ├────────────\n",
       "     └──────────┘            "
      ]
     },
     "execution_count": 14,
     "metadata": {},
     "output_type": "execute_result"
    }
   ],
   "source": [
    "qc1.draw()"
   ]
  },
  {
   "cell_type": "code",
   "execution_count": 15,
   "metadata": {},
   "outputs": [
    {
     "data": {
      "text/html": [
       "<pre style=\"word-wrap: normal;white-space: pre;background: #fff0;line-height: 1.1;font-family: &quot;Courier New&quot;,Courier,monospace\">     ┌──────────┐\n",
       "q_0: ┤0         ├\n",
       "     │          │\n",
       "q_1: ┤1 Unitary ├\n",
       "     │          │\n",
       "q_2: ┤2         ├\n",
       "     └──────────┘</pre>"
      ],
      "text/plain": [
       "     ┌──────────┐\n",
       "q_0: ┤0         ├\n",
       "     │          │\n",
       "q_1: ┤1 Unitary ├\n",
       "     │          │\n",
       "q_2: ┤2         ├\n",
       "     └──────────┘"
      ]
     },
     "execution_count": 15,
     "metadata": {},
     "output_type": "execute_result"
    }
   ],
   "source": [
    "qc2.draw()"
   ]
  }
 ],
 "metadata": {
  "kernelspec": {
   "display_name": "quantum",
   "language": "python",
   "name": "python3"
  },
  "language_info": {
   "codemirror_mode": {
    "name": "ipython",
    "version": 3
   },
   "file_extension": ".py",
   "mimetype": "text/x-python",
   "name": "python",
   "nbconvert_exporter": "python",
   "pygments_lexer": "ipython3",
   "version": "3.8.19"
  }
 },
 "nbformat": 4,
 "nbformat_minor": 2
}
