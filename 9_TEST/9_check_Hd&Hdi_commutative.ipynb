{
 "cells": [
  {
   "cell_type": "code",
   "execution_count": 1,
   "metadata": {},
   "outputs": [],
   "source": [
    "from qiskit import QuantumCircuit\n",
    "from qiskit_aer import Aer\n",
    "from qiskit.visualization import plot_histogram\n",
    "\n",
    "import numpy as np\n",
    "from scipy.optimize import minimize"
   ]
  },
  {
   "cell_type": "code",
   "execution_count": 2,
   "metadata": {},
   "outputs": [],
   "source": [
    "# dij需求i到设施j的成本\n",
    "d = [[1, 2], [1, 2]]\n",
    "n = 2   # 两个设施点\n",
    "m = 1   # 两个需求点\n",
    "num_qubits = n + 2 * n * m\n",
    "\n",
    "# gi设施i的建设成本\n",
    "g = [2, 1]"
   ]
  },
  {
   "cell_type": "code",
   "execution_count": 3,
   "metadata": {},
   "outputs": [],
   "source": [
    "GateX = np.array([[0, 1],[1, 0]])\n",
    "GateY = np.array([[0, -1j],[1j, 0]])\n",
    "GateZ = np.array([[1, 0],[0, -1]])\n",
    "\n",
    "# 定义σ+和σ-矩阵\n",
    "sigma_plus = np.array([[0, 1], [0, 0]])\n",
    "sigma_minus = np.array([[0, 0], [1, 0]])\n",
    "\n",
    "def add_in_target(num_qubits, target_qubit, gate=np.array([[1, 0],[0, -1]])):\n",
    "    H = np.eye(2 ** (target_qubit))\n",
    "    H = np.kron(H, gate)\n",
    "    H = np.kron(H, np.eye(2 ** (num_qubits - 1 - target_qubit)))\n",
    "    return H\n",
    "\n",
    "def generate_Hp(n, m, d, g):\n",
    "    # 初始化 Hp 矩阵为零矩阵\n",
    "    Hp = np.zeros((2**num_qubits, 2**num_qubits))\n",
    "    for i in range(m):\n",
    "        for j in range(n):\n",
    "            Hp += d[i][j] * (add_in_target(num_qubits, n * (1 + i) + j) - np.eye(2**num_qubits)) / 2\n",
    "    \n",
    "    for j in range(n):\n",
    "        Hp +=  g[j] * (add_in_target(num_qubits, j)- np.eye(2**num_qubits)) / 2\n",
    "    return Hp\n",
    "        \n",
    "# Hp = generate_Hp(n, m, d, g)\n"
   ]
  },
  {
   "cell_type": "code",
   "execution_count": 4,
   "metadata": {},
   "outputs": [],
   "source": [
    "import sys\n",
    "sys.path.append('../')\n",
    "import z_library.linear_system as ls"
   ]
  },
  {
   "cell_type": "code",
   "execution_count": 5,
   "metadata": {},
   "outputs": [],
   "source": [
    "# n, m = 1, 1"
   ]
  },
  {
   "cell_type": "code",
   "execution_count": 6,
   "metadata": {},
   "outputs": [
    {
     "name": "stdout",
     "output_type": "stream",
     "text": [
      "[[0 1 1]\n",
      " [1 1 1]]\n",
      "[[1, 2], [0, 1, 2]]\n"
     ]
    }
   ],
   "source": [
    "def gnrt_gate_hdi(u):\n",
    "    result = []\n",
    "    nonzero_indices = ls.find_nonzero_indices(u)\n",
    "    for urow, nrow in zip(u, nonzero_indices):\n",
    "        # 把非0元素映射成01\n",
    "        filtered_arr = [0 if x == -1 else 1 for x in urow if x != 0]\n",
    "        binary_str = ''.join(map(str, filtered_arr))\n",
    "        # 取到二进制表示的数\n",
    "        map_num = int(binary_str, 2)\n",
    "        # print(map_num)\n",
    "        length = len(nrow)\n",
    "        scale = 2**length\n",
    "        matrix = np.zeros((scale, scale))\n",
    "\n",
    "        matrix[map_num, scale - 1 - map_num] = 1\n",
    "        map_num = 2**length - 1 - map_num\n",
    "        # print(map_num)\n",
    "        matrix[map_num, scale - 1 - map_num] = 1\n",
    "        result.append(matrix)\n",
    "    return result\n",
    "\n",
    "# print(\"非零元素的索引：\", nonzero_indices)\n",
    "\n",
    "u = ls.gnrt_u(n, m)\n",
    "u = np.array([[0,  1,  1],\n",
    "              [1,  1,  1]])\n",
    "print(u)\n",
    "nonzero_indices = ls.find_nonzero_indices(u)\n",
    "gate_hds = gnrt_gate_hdi(u)\n",
    "print(nonzero_indices)"
   ]
  },
  {
   "cell_type": "code",
   "execution_count": 7,
   "metadata": {},
   "outputs": [],
   "source": [
    "from scipy.linalg import expm\n",
    "def build_circ(params):\n",
    "  depth = len(params) // 2\n",
    "  qc = QuantumCircuit(num_qubits - 3)\n",
    "  beta = params[:depth]\n",
    "  gamma = params[depth:]\n",
    "\n",
    "  for dp in range(depth):\n",
    "    # qc.unitary(expm(-1j * beta[dp] * Hp), range(num_qubits))\n",
    "    for gate_hdi, ind in zip(gate_hds, nonzero_indices):\n",
    "      print(gate_hdi, ind)\n",
    "      qc.unitary(expm(-1j * gamma[dp] * gate_hdi), (num_qubits - 4 - i for i in ind))\n",
    "  # qc.measure_all()\n",
    "  return qc"
   ]
  },
  {
   "cell_type": "code",
   "execution_count": 8,
   "metadata": {},
   "outputs": [],
   "source": [
    "from scipy.linalg import expm\n",
    "def build_circ1(params):\n",
    "  depth = len(params) // 2\n",
    "  qc = QuantumCircuit(num_qubits - 3)\n",
    "  beta = params[:depth]\n",
    "  gamma = params[depth:]\n",
    "\n",
    "  for dp in range(depth):\n",
    "    # qc.unitary(expm(-1j * beta[dp] * Hp), range(num_qubits))\n",
    "    for gate_hdi, ind in zip(reversed(gate_hds), reversed(nonzero_indices)):\n",
    "      print(gate_hdi, ind)\n",
    "      qc.unitary(expm(-1j * gamma[dp] * gate_hdi), (num_qubits - 4 - i for i in ind))\n",
    "  # qc.measure_all()\n",
    "  return qc"
   ]
  },
  {
   "cell_type": "code",
   "execution_count": 9,
   "metadata": {},
   "outputs": [
    {
     "name": "stdout",
     "output_type": "stream",
     "text": [
      "[[0. 0. 0. 0. 0. 0. 0. 1.]\n",
      " [0. 0. 0. 0. 0. 0. 0. 0.]\n",
      " [0. 0. 0. 0. 0. 0. 0. 0.]\n",
      " [0. 0. 0. 0. 0. 0. 0. 0.]\n",
      " [0. 0. 0. 0. 0. 0. 0. 0.]\n",
      " [0. 0. 0. 0. 0. 0. 0. 0.]\n",
      " [0. 0. 0. 0. 0. 0. 0. 0.]\n",
      " [1. 0. 0. 0. 0. 0. 0. 0.]] [0, 1, 2]\n",
      "[[0. 0. 0. 1.]\n",
      " [0. 0. 0. 0.]\n",
      " [0. 0. 0. 0.]\n",
      " [1. 0. 0. 0.]] [1, 2]\n",
      "[[0. 0. 0. 1.]\n",
      " [0. 0. 0. 0.]\n",
      " [0. 0. 0. 0.]\n",
      " [1. 0. 0. 0.]] [1, 2]\n",
      "[[0. 0. 0. 0. 0. 0. 0. 1.]\n",
      " [0. 0. 0. 0. 0. 0. 0. 0.]\n",
      " [0. 0. 0. 0. 0. 0. 0. 0.]\n",
      " [0. 0. 0. 0. 0. 0. 0. 0.]\n",
      " [0. 0. 0. 0. 0. 0. 0. 0.]\n",
      " [0. 0. 0. 0. 0. 0. 0. 0.]\n",
      " [0. 0. 0. 0. 0. 0. 0. 0.]\n",
      " [1. 0. 0. 0. 0. 0. 0. 0.]] [0, 1, 2]\n"
     ]
    },
    {
     "data": {
      "text/plain": [
       "(array([0]),)"
      ]
     },
     "execution_count": 9,
     "metadata": {},
     "output_type": "execute_result"
    }
   ],
   "source": [
    "from qiskit import transpile\n",
    "ls.set_print_form()\n",
    "\n",
    "# 输入qc, 返回电路酉矩阵\n",
    "def get_circ_unitary(quantum_circuit):\n",
    "  backend = Aer.get_backend('unitary_simulator' )\n",
    "  new_circuit = transpile(quantum_circuit, backend)\n",
    "  job = backend.run(new_circuit)\n",
    "  result = job.result()\n",
    "  unitary = result.get_unitary()\n",
    "  return unitary\n",
    "\n",
    "m1 = get_circ_unitary(build_circ1([2*np.pi*0.9, 2*np.pi*0.9])) \n",
    "m2 = get_circ_unitary(build_circ([2*np.pi*0.9, 2*np.pi*0.9])) \n",
    "np.where(m1 != m2)"
   ]
  },
  {
   "cell_type": "code",
   "execution_count": 10,
   "metadata": {},
   "outputs": [
    {
     "name": "stdout",
     "output_type": "stream",
     "text": [
      "[[0. 0. 0. 1.]\n",
      " [0. 0. 0. 0.]\n",
      " [0. 0. 0. 0.]\n",
      " [1. 0. 0. 0.]] [1, 2]\n",
      "[[0. 0. 0. 0. 0. 0. 0. 1.]\n",
      " [0. 0. 0. 0. 0. 0. 0. 0.]\n",
      " [0. 0. 0. 0. 0. 0. 0. 0.]\n",
      " [0. 0. 0. 0. 0. 0. 0. 0.]\n",
      " [0. 0. 0. 0. 0. 0. 0. 0.]\n",
      " [0. 0. 0. 0. 0. 0. 0. 0.]\n",
      " [0. 0. 0. 0. 0. 0. 0. 0.]\n",
      " [1. 0. 0. 0. 0. 0. 0. 0.]] [0, 1, 2]\n"
     ]
    },
    {
     "data": {
      "text/html": [
       "<pre style=\"word-wrap: normal;white-space: pre;background: #fff0;line-height: 1.1;font-family: &quot;Courier New&quot;,Courier,monospace\">     ┌──────────┐┌──────────┐\n",
       "q_0: ┤1         ├┤2         ├\n",
       "     │  Unitary ││          │\n",
       "q_1: ┤0         ├┤1 Unitary ├\n",
       "     └──────────┘│          │\n",
       "q_2: ────────────┤0         ├\n",
       "                 └──────────┘</pre>"
      ],
      "text/plain": [
       "     ┌──────────┐┌──────────┐\n",
       "q_0: ┤1         ├┤2         ├\n",
       "     │  Unitary ││          │\n",
       "q_1: ┤0         ├┤1 Unitary ├\n",
       "     └──────────┘│          │\n",
       "q_2: ────────────┤0         ├\n",
       "                 └──────────┘"
      ]
     },
     "execution_count": 10,
     "metadata": {},
     "output_type": "execute_result"
    }
   ],
   "source": [
    "build_circ([1, 1]).draw()"
   ]
  },
  {
   "cell_type": "code",
   "execution_count": 11,
   "metadata": {},
   "outputs": [
    {
     "name": "stdout",
     "output_type": "stream",
     "text": [
      "[[0. 0. 0. 0. 0. 0. 0. 1.]\n",
      " [0. 0. 0. 0. 0. 0. 0. 0.]\n",
      " [0. 0. 0. 0. 0. 0. 0. 0.]\n",
      " [0. 0. 0. 0. 0. 0. 0. 0.]\n",
      " [0. 0. 0. 0. 0. 0. 0. 0.]\n",
      " [0. 0. 0. 0. 0. 0. 0. 0.]\n",
      " [0. 0. 0. 0. 0. 0. 0. 0.]\n",
      " [1. 0. 0. 0. 0. 0. 0. 0.]] [0, 1, 2]\n",
      "[[0. 0. 0. 1.]\n",
      " [0. 0. 0. 0.]\n",
      " [0. 0. 0. 0.]\n",
      " [1. 0. 0. 0.]] [1, 2]\n"
     ]
    },
    {
     "data": {
      "text/html": [
       "<pre style=\"word-wrap: normal;white-space: pre;background: #fff0;line-height: 1.1;font-family: &quot;Courier New&quot;,Courier,monospace\">     ┌──────────┐┌──────────┐\n",
       "q_0: ┤2         ├┤1         ├\n",
       "     │          ││  Unitary │\n",
       "q_1: ┤1 Unitary ├┤0         ├\n",
       "     │          │└──────────┘\n",
       "q_2: ┤0         ├────────────\n",
       "     └──────────┘            </pre>"
      ],
      "text/plain": [
       "     ┌──────────┐┌──────────┐\n",
       "q_0: ┤2         ├┤1         ├\n",
       "     │          ││  Unitary │\n",
       "q_1: ┤1 Unitary ├┤0         ├\n",
       "     │          │└──────────┘\n",
       "q_2: ┤0         ├────────────\n",
       "     └──────────┘            "
      ]
     },
     "execution_count": 11,
     "metadata": {},
     "output_type": "execute_result"
    }
   ],
   "source": [
    "build_circ1([1, 1]).draw()"
   ]
  },
  {
   "cell_type": "code",
   "execution_count": 12,
   "metadata": {},
   "outputs": [
    {
     "name": "stdout",
     "output_type": "stream",
     "text": [
      "Operator([[ 0.6545+0.j    ,  0.    +0.j    ,  0.    +0.j    ,  0.    +0.5878j,  0.    +0.j    ,  0.    +0.j    ,  0.    +0.j    ,  0.    +0.4755j],\n",
      "          [ 0.    +0.j    ,  1.    +0.j    ,  0.    +0.j    ,  0.    +0.j    ,  0.    +0.j    ,  0.    +0.j    ,  0.    +0.j    ,  0.    +0.j    ],\n",
      "          [ 0.    +0.j    ,  0.    +0.j    ,  1.    +0.j    ,  0.    +0.j    ,  0.    +0.j    ,  0.    +0.j    ,  0.    +0.j    ,  0.    +0.j    ],\n",
      "          [ 0.    +0.4755j,  0.    +0.j    ,  0.    +0.j    ,  0.809 +0.j    ,  0.    +0.j    ,  0.    +0.j    ,  0.    +0.j    , -0.3455+0.j    ],\n",
      "          [-0.3455+0.j    ,  0.    +0.j    ,  0.    +0.j    ,  0.    +0.j    ,  0.809 +0.j    ,  0.    +0.j    ,  0.    +0.j    ,  0.    +0.4755j],\n",
      "          [ 0.    +0.j    ,  0.    +0.j    ,  0.    +0.j    ,  0.    +0.j    ,  0.    +0.j    ,  1.    +0.j    ,  0.    +0.j    ,  0.    +0.j    ],\n",
      "          [ 0.    +0.j    ,  0.    +0.j    ,  0.    +0.j    ,  0.    +0.j    ,  0.    +0.j    ,  0.    +0.j    ,  1.    +0.j    ,  0.    +0.j    ],\n",
      "          [ 0.    +0.4755j,  0.    +0.j    ,  0.    +0.j    ,  0.    +0.j    ,  0.    +0.5878j,  0.    +0.j    ,  0.    +0.j    ,  0.6545+0.j    ]],\n",
      "         input_dims=(2, 2, 2), output_dims=(2, 2, 2))\n"
     ]
    }
   ],
   "source": [
    "m1"
   ]
  },
  {
   "cell_type": "code",
   "execution_count": 13,
   "metadata": {},
   "outputs": [
    {
     "name": "stdout",
     "output_type": "stream",
     "text": [
      "Operator([[ 0.6545+0.j    ,  0.    +0.j    ,  0.    +0.j    ,  0.    +0.4755j, -0.3455+0.j    ,  0.    +0.j    ,  0.    +0.j    ,  0.    +0.4755j],\n",
      "          [ 0.    +0.j    ,  1.    +0.j    ,  0.    +0.j    ,  0.    +0.j    ,  0.    +0.j    ,  0.    +0.j    ,  0.    +0.j    ,  0.    +0.j    ],\n",
      "          [ 0.    +0.j    ,  0.    +0.j    ,  1.    +0.j    ,  0.    +0.j    ,  0.    +0.j    ,  0.    +0.j    ,  0.    +0.j    ,  0.    +0.j    ],\n",
      "          [ 0.    +0.5878j,  0.    +0.j    ,  0.    +0.j    ,  0.809 +0.j    ,  0.    +0.j    ,  0.    +0.j    ,  0.    +0.j    ,  0.    +0.j    ],\n",
      "          [ 0.    +0.j    ,  0.    +0.j    ,  0.    +0.j    ,  0.    +0.j    ,  0.809 +0.j    ,  0.    +0.j    ,  0.    +0.j    ,  0.    +0.5878j],\n",
      "          [ 0.    +0.j    ,  0.    +0.j    ,  0.    +0.j    ,  0.    +0.j    ,  0.    +0.j    ,  1.    +0.j    ,  0.    +0.j    ,  0.    +0.j    ],\n",
      "          [ 0.    +0.j    ,  0.    +0.j    ,  0.    +0.j    ,  0.    +0.j    ,  0.    +0.j    ,  0.    +0.j    ,  1.    +0.j    ,  0.    +0.j    ],\n",
      "          [ 0.    +0.4755j,  0.    +0.j    ,  0.    +0.j    , -0.3455+0.j    ,  0.    +0.4755j,  0.    +0.j    ,  0.    +0.j    ,  0.6545+0.j    ]],\n",
      "         input_dims=(2, 2, 2), output_dims=(2, 2, 2))\n"
     ]
    }
   ],
   "source": [
    "m2"
   ]
  }
 ],
 "metadata": {
  "kernelspec": {
   "display_name": "quantum",
   "language": "python",
   "name": "python3"
  },
  "language_info": {
   "codemirror_mode": {
    "name": "ipython",
    "version": 3
   },
   "file_extension": ".py",
   "mimetype": "text/x-python",
   "name": "python",
   "nbconvert_exporter": "python",
   "pygments_lexer": "ipython3",
   "version": "3.8.19"
  }
 },
 "nbformat": 4,
 "nbformat_minor": 2
}
