{
 "cells": [
  {
   "cell_type": "code",
   "execution_count": 1,
   "metadata": {},
   "outputs": [],
   "source": [
    "from scipy.linalg import expm\n",
    "import numpy as np\n",
    "\n",
    "import sys\n",
    "sys.path.append('../')\n",
    "import z_library.linear_system as ls\n",
    "\n",
    "ls.set_print_form(precision=3)"
   ]
  },
  {
   "cell_type": "code",
   "execution_count": 2,
   "metadata": {},
   "outputs": [],
   "source": [
    "import numpy as np\n",
    "from functools import reduce"
   ]
  },
  {
   "cell_type": "code",
   "execution_count": 3,
   "metadata": {},
   "outputs": [],
   "source": [
    "GateX = np.array([[0, 1],[1, 0]])\n",
    "GateY = np.array([[0, -1j],[1j, 0]])\n",
    "GateZ = np.array([[1, 0],[0, -1]])\n",
    "\n",
    "# 定义σ+和σ-矩阵\n",
    "sigma_plus = np.array([[0, 1], [0, 0]])\n",
    "sigma_minus = np.array([[0, 0], [1, 0]])"
   ]
  },
  {
   "cell_type": "code",
   "execution_count": 4,
   "metadata": {},
   "outputs": [],
   "source": [
    "def calculate_hamiltonian(v, w):\n",
    "    n = len(v[0])\n",
    "    m = len(v)\n",
    "    hamiltonian = np.zeros((2**n, 2**n))\n",
    "    for i in range(m):\n",
    "        term1 = reduce(np.kron, [np.linalg.matrix_power(sigma_plus, v[i][j]) @ np.linalg.matrix_power(sigma_minus, w[i][j]) for j in range(n)])\n",
    "        term2 = reduce(np.kron, [np.linalg.matrix_power(sigma_plus, w[i][j]) @ np.linalg.matrix_power(sigma_minus, v[i][j]) for j in range(n)])\n",
    "        hamiltonian += term1 + term2\n",
    "    return hamiltonian\n",
    "\n",
    "def calculate_hamiltonian2(v, w):\n",
    "    n = len(v[0])\n",
    "    m = len(v)\n",
    "    hamiltonian = np.zeros((2**n, 2**n))\n",
    "    for i in range(m):\n",
    "        term1 = reduce(np.kron, [np.linalg.matrix_power(sigma_plus, v[i][j]) @ np.linalg.matrix_power(sigma_minus, w[i][j]) for j in range(n)])\n",
    "        term2 = reduce(np.kron, [np.linalg.matrix_power(sigma_plus, w[i][j]) @ np.linalg.matrix_power(sigma_minus, v[i][j]) for j in range(n)])\n",
    "        hamiltonian += term1 + term2\n",
    "    return hamiltonian"
   ]
  },
  {
   "cell_type": "code",
   "execution_count": 5,
   "metadata": {},
   "outputs": [],
   "source": [
    "GateX = np.array([[0, 1],[1, 0]])\n",
    "GateY = np.array([[0, -1j],[1j, 0]])\n",
    "GateZ = np.array([[1, 0],[0, -1]])\n",
    "\n",
    "# 定义σ+和σ-矩阵\n",
    "sigma_plus = np.array([[0, 1], [0, 0]])\n",
    "sigma_minus = np.array([[0, 0], [1, 0]])\n",
    "identity = np.array([[1, 0], [0, 1]])\n",
    "\n",
    "mlist = [sigma_plus, sigma_minus, identity]\n",
    "\n",
    "def tensor_product(matrices):\n",
    "    result = np.array(mlist[matrices[0]])\n",
    "    for matrix in matrices[1:]:\n",
    "        result = np.kron(result, mlist[matrix])\n",
    "    return result"
   ]
  },
  {
   "cell_type": "code",
   "execution_count": 12,
   "metadata": {},
   "outputs": [],
   "source": [
    "\n",
    "u = ls.gnrt_u(2, 2)\n",
    "v = np.where(u == 1, 1, 0)\n",
    "w = np.where(u == -1, 1, 0)\n",
    "Hd = calculate_hamiltonian(v, w)\n",
    "U = calculate_hamiltonian(v, w)\n",
    "U "
   ]
  },
  {
   "cell_type": "code",
   "execution_count": 9,
   "metadata": {},
   "outputs": [
    {
     "name": "stdout",
     "output_type": "stream",
     "text": [
      "[ 1. -1.  1. -1.  0.  0.  0.  0.]\n"
     ]
    }
   ],
   "source": [
    "## find the eigenvalues and eigenvectors\n",
    "eigenvalues, eigenvectors = np.linalg.eig(U)\n",
    "print(eigenvalues)"
   ]
  },
  {
   "cell_type": "code",
   "execution_count": 10,
   "metadata": {},
   "outputs": [
    {
     "data": {
      "text/plain": [
       "array([[ 0.   ,  0.   ,  0.   ,  0.   ,  1.   ,  0.   ,  0.   ,  0.   ],\n",
       "       [ 0.   ,  0.   ,  0.707, -0.707,  0.   ,  0.   ,  0.   ,  0.   ],\n",
       "       [ 0.   ,  0.   ,  0.707,  0.707,  0.   ,  0.   ,  0.   ,  0.   ],\n",
       "       [ 0.   ,  0.   ,  0.   ,  0.   ,  0.   ,  1.   ,  0.   ,  0.   ],\n",
       "       [ 0.   ,  0.   ,  0.   ,  0.   ,  0.   ,  0.   ,  1.   ,  0.   ],\n",
       "       [ 0.707, -0.707,  0.   ,  0.   ,  0.   ,  0.   ,  0.   ,  0.   ],\n",
       "       [ 0.707,  0.707,  0.   ,  0.   ,  0.   ,  0.   ,  0.   ,  0.   ],\n",
       "       [ 0.   ,  0.   ,  0.   ,  0.   ,  0.   ,  0.   ,  0.   ,  1.   ]])"
      ]
     },
     "execution_count": 10,
     "metadata": {},
     "output_type": "execute_result"
    }
   ],
   "source": [
    "eigenvectors"
   ]
  },
  {
   "cell_type": "code",
   "execution_count": 6,
   "metadata": {},
   "outputs": [
    {
     "name": "stdout",
     "output_type": "stream",
     "text": [
      "[ 0.-0.j -0.+0.j  1.+0.j  0.+0.j  0.+0.j  0.+0.j  0.+0.j  0.+0.j]\n",
      "[0.   +0.j    0.   +0.j    0.572+0.416j 0.   +0.j    0.   +0.j    0.572+0.416j 0.   +0.j    0.   +0.j   ]\n",
      "[0.   +0.j    0.   +0.j    0.572+0.416j 0.   +0.j    0.   +0.j    0.572+0.416j 0.   +0.j    0.   +0.j   ]\n"
     ]
    }
   ],
   "source": [
    "idx = 0\n",
    "print(eigenvectors[idx])\n",
    "print(U@eigenvectors[:, idx])\n",
    "print(eigenvalues[idx]*eigenvectors[:, idx])"
   ]
  },
  {
   "cell_type": "code",
   "execution_count": 7,
   "metadata": {},
   "outputs": [
    {
     "name": "stdout",
     "output_type": "stream",
     "text": [
      "[[0.809+0.j    0.   +0.588j]\n",
      " [0.   +0.588j 0.809+0.j   ]]\n",
      "(0.8090169943749473-0.5877852522924734j)\n"
     ]
    }
   ],
   "source": [
    "print(np.array([[np.cos(2*np.pi*t), -np.sin(2*np.pi*t)*1j], [-np.sin(2*np.pi*t)*1j,np.cos(2*np.pi*t)]]))\n",
    "print(np.exp(1j * 2*np.pi * t))"
   ]
  },
  {
   "cell_type": "code",
   "execution_count": 8,
   "metadata": {},
   "outputs": [
    {
     "data": {
      "text/html": [
       "<pre style=\"word-wrap: normal;white-space: pre;background: #fff0;line-height: 1.1;font-family: &quot;Courier New&quot;,Courier,monospace\">     ┌──────────┐\n",
       "q_0: ┤0         ├\n",
       "     │          │\n",
       "q_1: ┤1 Unitary ├\n",
       "     │          │\n",
       "q_2: ┤2         ├\n",
       "     └──────────┘</pre>"
      ],
      "text/plain": [
       "     ┌──────────┐\n",
       "q_0: ┤0         ├\n",
       "     │          │\n",
       "q_1: ┤1 Unitary ├\n",
       "     │          │\n",
       "q_2: ┤2         ├\n",
       "     └──────────┘"
      ]
     },
     "execution_count": 8,
     "metadata": {},
     "output_type": "execute_result"
    }
   ],
   "source": [
    "import numpy as np\n",
    "from qiskit import QuantumCircuit\n",
    "t=0.9\n",
    "n = len(v)\n",
    "circ = QuantumCircuit(n)\n",
    "circ.unitary(U, range(n))\n",
    "circ.draw()"
   ]
  },
  {
   "cell_type": "code",
   "execution_count": 9,
   "metadata": {},
   "outputs": [],
   "source": [
    "# circ.decompose().draw()"
   ]
  },
  {
   "cell_type": "code",
   "execution_count": 10,
   "metadata": {},
   "outputs": [],
   "source": [
    "# Convert it to gate:\n",
    "gate = circ.to_gate()"
   ]
  },
  {
   "cell_type": "code",
   "execution_count": 11,
   "metadata": {},
   "outputs": [
    {
     "name": "stdout",
     "output_type": "stream",
     "text": [
      "     ┌───┐ ░                ┌───┐\n",
      "q_0: ┤ X ├─░────────────────┤ X ├\n",
      "     ├───┤ ░           ┌───┐└─┬─┘\n",
      "q_1: ┤ X ├─░───────────┤ X ├──■──\n",
      "     ├───┤ ░ ┌───┐┌───┐└─┬─┘     \n",
      "q_2: ┤ X ├─░─┤ X ├┤ H ├──■───────\n",
      "     └───┘ ░ └───┘└───┘          \n",
      "验证制备为 |101> + |010> 的叠加态: [0.   +0.j 0.   +0.j 0.707+0.j 0.   +0.j 0.   +0.j 0.707+0.j 0.   +0.j 0.   +0.j]\n",
      "     ┌───┐ ░                ┌───┐┌───┐               \n",
      "q_0: ┤ X ├─░────────────────┤ X ├┤ X ├───────────────\n",
      "     ├───┤ ░           ┌───┐└─┬─┘└─┬─┘┌───┐          \n",
      "q_1: ┤ X ├─░───────────┤ X ├──■────■──┤ X ├──────────\n",
      "     ├───┤ ░ ┌───┐┌───┐└─┬─┘          └─┬─┘┌───┐┌───┐\n",
      "q_2: ┤ X ├─░─┤ X ├┤ H ├──■──────────────■──┤ H ├┤ X ├\n",
      "     └───┘ ░ └───┘└───┘                    └───┘└───┘\n",
      "验证经逆作用回到 |111> 态: [0.+0.j 0.+0.j 0.+0.j 0.+0.j 0.+0.j 0.+0.j 0.+0.j 1.+0.j]\n"
     ]
    }
   ],
   "source": [
    "from qiskit import QuantumCircuit\n",
    "from qiskit_aer import Aer\n",
    "from qiskit.circuit.library import MCMT\n",
    "from qiskit import transpile\n",
    "\n",
    "# 输入qc, 返回电路酉矩阵\n",
    "def get_circ_unitary(quantum_circuit):\n",
    "  backend = Aer.get_backend('unitary_simulator' )\n",
    "  new_circuit = transpile(quantum_circuit, backend)\n",
    "  job = backend.run(new_circuit)\n",
    "  result = job.result()\n",
    "  unitary = result.get_unitary()\n",
    "  return unitary\n",
    "\n",
    "num_qubits = 3\n",
    "qc = QuantumCircuit(num_qubits)\n",
    "\n",
    "# 设置初态为111, 模拟多比特控制门有效状态\n",
    "for i in range(num_qubits):\n",
    "  qc.x(i)\n",
    "qc.barrier()\n",
    "\n",
    "# 从q0加H后, cx控制其余门, 注意qiskit下标相反\n",
    "qc.x(num_qubits - 1) # 为了H|0> = |0> + |1>\n",
    "qc.h(num_qubits - 1)\n",
    "qc.cx(num_qubits - 1, num_qubits - 2)\n",
    "qc.cx(num_qubits - 2, num_qubits - 3)\n",
    "print(qc.draw())\n",
    "\n",
    "\n",
    "# 验证确实为 |101> + |010> 的叠加态\n",
    "print(f'验证制备为 |101> + |010> 的叠加态: {np.asarray(get_circ_unitary(qc))[:,0]}')\n",
    "\n",
    "# 施加逆作用 回到111\n",
    "qc.cx(num_qubits - 2, num_qubits - 3)\n",
    "qc.cx(num_qubits - 1, num_qubits - 2)\n",
    "qc.h(num_qubits - 1)\n",
    "qc.x(num_qubits - 1)\n",
    "print(qc.draw())\n",
    "\n",
    "backend = Aer.get_backend('unitary_simulator' )\n",
    "new_circuit = transpile(qc, backend)\n",
    "job = backend.run(new_circuit)\n",
    "result = job.result()\n",
    "unitary = result.get_unitary()\n",
    "# 验证确实为 |101> + |010> 的叠加态\n",
    "print(f'验证经逆作用回到 |111> 态: {np.asarray(get_circ_unitary(qc))[:,0]}')"
   ]
  },
  {
   "cell_type": "code",
   "execution_count": 12,
   "metadata": {},
   "outputs": [
    {
     "name": "stdout",
     "output_type": "stream",
     "text": [
      "Operator([[1.   +0.j   , 0.   +0.j   ],\n",
      "          [0.   +0.j   , 0.809-0.588j]],\n",
      "         input_dims=(2,), output_dims=(2,))\n"
     ]
    }
   ],
   "source": [
    "# 1态则添加相位theta\n",
    "def when_1_add_phase(theta):\n",
    "    circ = QuantumCircuit(1)\n",
    "    circ.unitary(np.array([[1, 0], [0, np.exp(1j * theta)]]), 0)\n",
    "    gate = circ.to_gate()\n",
    "    return gate\n",
    "qc_test = QuantumCircuit(1)\n",
    "qc_test.append(when_1_add_phase(2 * np.pi * t), [0])\n",
    "get_circ_unitary(qc_test)"
   ]
  },
  {
   "cell_type": "code",
   "execution_count": 13,
   "metadata": {},
   "outputs": [
    {
     "name": "stdout",
     "output_type": "stream",
     "text": [
      "     ┌───┐               ┌───┐ ░  ░ \n",
      "q_0: ┤ X ├───────────────┤ X ├─░──░─\n",
      "     ├───┤          ┌───┐└─┬─┘ ░  ░ \n",
      "q_1: ┤ X ├──────────┤ X ├──■───░──░─\n",
      "     ├───┤┌───┐┌───┐└─┬─┘      ░  ░ \n",
      "q_2: ┤ X ├┤ X ├┤ H ├──■────────░──░─\n",
      "     └───┘└───┘└───┘           ░  ░ \n",
      "制备得到 |101> + |010> 的叠加态: [0.   +0.j 0.   +0.j 0.707+0.j 0.   +0.j 0.   +0.j 0.707+0.j 0.   +0.j 0.   +0.j]\n",
      "     ┌───┐               ┌───┐ ░  ░ ┌───┐                ░ ┌───────┐ ░      ┌───────┐      ░                ┌───┐\n",
      "q_0: ┤ X ├───────────────┤ X ├─░──░─┤ X ├────────────────░─┤0      ├─░──────┤0      ├──────░────────────────┤ X ├\n",
      "     ├───┤          ┌───┐└─┬─┘ ░  ░ └─┬─┘┌───┐           ░ │       │ ░      │       │      ░           ┌───┐└─┬─┘\n",
      "q_1: ┤ X ├──────────┤ X ├──■───░──░───■──┤ X ├───────────░─┤1 mcmt ├─░──────┤1 mcmt ├──────░───────────┤ X ├──■──\n",
      "     ├───┤┌───┐┌───┐└─┬─┘      ░  ░      └─┬─┘┌───┐┌───┐ ░ │       │ ░ ┌───┐│       │┌───┐ ░ ┌───┐┌───┐└─┬─┘     \n",
      "q_2: ┤ X ├┤ X ├┤ H ├──■────────░──░────────■──┤ H ├┤ X ├─░─┤2      ├─░─┤ X ├┤2      ├┤ X ├─░─┤ X ├┤ H ├──■───────\n",
      "     └───┘└───┘└───┘           ░  ░           └───┘└───┘ ░ └───────┘ ░ └───┘└───────┘└───┘ ░ └───┘└───┘          \n",
      "酉矩阵作用后: [0.   +0.j    0.   +0.j    0.572-0.416j 0.   +0.j    0.   +0.j    0.572-0.416j 0.   +0.j    0.   +0.j   ]\n"
     ]
    }
   ],
   "source": [
    "num_qubits = 3\n",
    "qc_ham_simu = QuantumCircuit(num_qubits)\n",
    "\n",
    "\n",
    "for i in range(num_qubits):\n",
    "  qc_ham_simu.x(i)\n",
    "\n",
    "# 从q0加H后, cx控制其余门, 注意qiskit下标相反\n",
    "qc_ham_simu.x(num_qubits - 1) # 为了H|0> = |0> + |1>\n",
    "qc_ham_simu.h(num_qubits - 1)\n",
    "qc_ham_simu.cx(num_qubits - 1, num_qubits - 2)\n",
    "qc_ham_simu.cx(num_qubits - 2, num_qubits - 3)\n",
    "qc_ham_simu.barrier()\n",
    "qc_ham_simu.barrier()\n",
    "print(qc_ham_simu.draw())\n",
    "print(f'制备得到 |101> + |010> 的叠加态: {np.asarray(get_circ_unitary(qc_ham_simu))[:,0]}')\n",
    "\n",
    "# ==== 酉矩阵开始\n",
    "qc_ham_simu.cx(num_qubits - 2, num_qubits - 3)\n",
    "qc_ham_simu.cx(num_qubits - 1, num_qubits - 2)\n",
    "qc_ham_simu.h(num_qubits - 1)\n",
    "qc_ham_simu.x(num_qubits - 1)\n",
    "\n",
    "# 控制门开始\n",
    "\n",
    "qc_ham_simu.barrier()\n",
    "# gate1: 对角阵 |0>态不动 |1>态加相位e^it\n",
    "gete1 = when_1_add_phase(2 * np.pi * t)\n",
    "cc_gate1 = MCMT(gete1, num_qubits - 1, 1)\n",
    "# 哪个是受控门无所谓, 全 1 加相位\n",
    "qc_ham_simu.append(cc_gate1, range(num_qubits))\n",
    "qc_ham_simu.barrier()\n",
    "\n",
    "# gate2: 对角阵 |0>态不动 |1>态加相位e^it\n",
    "gete2 = when_1_add_phase(-2 * np.pi * t)\n",
    "cc_gate2 = MCMT(gete2, num_qubits - 1, 1)\n",
    "qc_ham_simu.x(num_qubits - 1)\n",
    "qc_ham_simu.append(cc_gate2, range(num_qubits))\n",
    "qc_ham_simu.x(num_qubits - 1)\n",
    "qc_ham_simu.barrier()\n",
    "# 控制门结束\n",
    "\n",
    "qc_ham_simu.x(num_qubits - 1) \n",
    "qc_ham_simu.h(num_qubits - 1)\n",
    "qc_ham_simu.cx(num_qubits - 1, num_qubits - 2)\n",
    "qc_ham_simu.cx(num_qubits - 2, num_qubits - 3)\n",
    "# ==== 酉矩阵结束\n",
    "print(qc_ham_simu.draw(fold=200))\n",
    "print(f'酉矩阵作用后: {np.asarray(np.asarray(get_circ_unitary(qc_ham_simu))[:,0])}')"
   ]
  },
  {
   "cell_type": "markdown",
   "metadata": {},
   "source": [
    "#下面是010 101酉矩阵测试代码"
   ]
  },
  {
   "cell_type": "code",
   "execution_count": 14,
   "metadata": {},
   "outputs": [
    {
     "name": "stdout",
     "output_type": "stream",
     "text": [
      "     ┌───┐                ░ ┌───────┐ ░      ┌───────┐      ░                ┌───┐\n",
      "q_0: ┤ X ├────────────────░─┤0      ├─░──────┤0      ├──────░────────────────┤ X ├\n",
      "     └─┬─┘┌───┐           ░ │       │ ░      │       │      ░           ┌───┐└─┬─┘\n",
      "q_1: ──■──┤ X ├───────────░─┤1 mcmt ├─░──────┤1 mcmt ├──────░───────────┤ X ├──■──\n",
      "          └─┬─┘┌───┐┌───┐ ░ │       │ ░ ┌───┐│       │┌───┐ ░ ┌───┐┌───┐└─┬─┘     \n",
      "q_2: ───────■──┤ H ├┤ X ├─░─┤2      ├─░─┤ X ├┤2      ├┤ X ├─░─┤ X ├┤ H ├──■───────\n",
      "               └───┘└───┘ ░ └───────┘ ░ └───┘└───────┘└───┘ ░ └───┘└───┘          \n",
      "酉矩阵作用后:\n",
      " [[1.   -0.j    0.   +0.j    0.   +0.j    0.   +0.j    0.   +0.j    0.   +0.j    0.   +0.j    0.   +0.j   ]\n",
      " [0.   +0.j    1.   -0.j    0.   +0.j    0.   +0.j    0.   +0.j    0.   +0.j    0.   +0.j    0.   +0.j   ]\n",
      " [0.   +0.j    0.   +0.j    0.809+0.j    0.   +0.j    0.   +0.j    0.   +0.588j 0.   +0.j    0.   +0.j   ]\n",
      " [0.   +0.j    0.   +0.j    0.   +0.j    1.   -0.j    0.   +0.j    0.   +0.j    0.   +0.j    0.   +0.j   ]\n",
      " [0.   +0.j    0.   +0.j    0.   +0.j    0.   +0.j    1.   -0.j    0.   +0.j    0.   +0.j    0.   +0.j   ]\n",
      " [0.   +0.j    0.   +0.j    0.   +0.588j 0.   +0.j    0.   +0.j    0.809-0.j    0.   +0.j    0.   +0.j   ]\n",
      " [0.   +0.j    0.   +0.j    0.   +0.j    0.   +0.j    0.   +0.j    0.   +0.j    1.   -0.j    0.   +0.j   ]\n",
      " [0.   +0.j    0.   +0.j    0.   +0.j    0.   +0.j    0.   +0.j    0.   +0.j    0.   +0.j    1.   -0.j   ]]\n"
     ]
    }
   ],
   "source": [
    "num_qubits = 3\n",
    "qc_ham_simu = QuantumCircuit(num_qubits)\n",
    "\n",
    "# ==== 酉矩阵开始\n",
    "qc_ham_simu.cx(num_qubits - 2, num_qubits - 3)\n",
    "qc_ham_simu.cx(num_qubits - 1, num_qubits - 2)\n",
    "qc_ham_simu.h(num_qubits - 1)\n",
    "qc_ham_simu.x(num_qubits - 1)\n",
    "\n",
    "# 控制门开始\n",
    "\n",
    "qc_ham_simu.barrier()\n",
    "# gate1: 对角阵 |0>态不动 |1>态加相位-e^it\n",
    "gete1 = when_1_add_phase(-2 * np.pi * t)\n",
    "cc_gate1 = MCMT(gete1, num_qubits - 1, 1)\n",
    "# 哪个是受控门无所谓, 全 1 加相位\n",
    "qc_ham_simu.append(cc_gate1, range(num_qubits))\n",
    "qc_ham_simu.barrier()\n",
    "\n",
    "# gate2: 对角阵 |0>态不动 |1>态加相位e^it\n",
    "gete2 = when_1_add_phase(2 * np.pi * t)\n",
    "cc_gate2 = MCMT(gete2, num_qubits - 1, 1)\n",
    "qc_ham_simu.x(num_qubits - 1)\n",
    "qc_ham_simu.append(cc_gate2, range(num_qubits))\n",
    "qc_ham_simu.x(num_qubits - 1)\n",
    "qc_ham_simu.barrier()\n",
    "# 控制门结束\n",
    "\n",
    "qc_ham_simu.x(num_qubits - 1) \n",
    "qc_ham_simu.h(num_qubits - 1)\n",
    "qc_ham_simu.cx(num_qubits - 1, num_qubits - 2)\n",
    "qc_ham_simu.cx(num_qubits - 2, num_qubits - 3)\n",
    "# ==== 酉矩阵结束\n",
    "print(qc_ham_simu.draw(fold=200))\n",
    "print(f'酉矩阵作用后:\\n {np.asarray(get_circ_unitary(qc_ham_simu))}')"
   ]
  },
  {
   "cell_type": "code",
   "execution_count": 15,
   "metadata": {},
   "outputs": [
    {
     "data": {
      "text/plain": [
       "array([[ 0.+0.j,  0.+0.j,  0.+0.j,  0.+0.j,  0.+0.j,  0.+0.j,  0.+0.j,  0.-0.j],\n",
       "       [ 0.+0.j,  0.+0.j,  0.+0.j,  0.+0.j,  0.+0.j,  0.+0.j,  0.-0.j,  0.+0.j],\n",
       "       [ 0.+0.j,  0.+0.j, -0.+0.j,  0.+0.j,  0.+0.j,  0.-0.j,  0.+0.j,  0.+0.j],\n",
       "       [ 0.+0.j,  0.+0.j,  0.+0.j,  0.+0.j,  0.-0.j,  0.+0.j,  0.+0.j,  0.+0.j],\n",
       "       [ 0.+0.j,  0.+0.j,  0.+0.j,  0.-0.j,  0.+0.j,  0.+0.j,  0.+0.j,  0.+0.j],\n",
       "       [ 0.+0.j,  0.+0.j, -0.-0.j,  0.+0.j,  0.+0.j,  0.+0.j,  0.+0.j,  0.+0.j],\n",
       "       [ 0.+0.j,  0.-0.j,  0.+0.j,  0.+0.j,  0.+0.j,  0.+0.j,  0.+0.j,  0.+0.j],\n",
       "       [ 0.-0.j,  0.+0.j,  0.+0.j,  0.+0.j,  0.+0.j,  0.+0.j,  0.+0.j,  0.+0.j]])"
      ]
     },
     "execution_count": 15,
     "metadata": {},
     "output_type": "execute_result"
    }
   ],
   "source": [
    "U - np.asarray(get_circ_unitary(qc_ham_simu))"
   ]
  }
 ],
 "metadata": {
  "kernelspec": {
   "display_name": "Python 3",
   "language": "python",
   "name": "python3"
  },
  "language_info": {
   "codemirror_mode": {
    "name": "ipython",
    "version": 3
   },
   "file_extension": ".py",
   "mimetype": "text/x-python",
   "name": "python",
   "nbconvert_exporter": "python",
   "pygments_lexer": "ipython3",
   "version": "3.8.19"
  }
 },
 "nbformat": 4,
 "nbformat_minor": 2
}
