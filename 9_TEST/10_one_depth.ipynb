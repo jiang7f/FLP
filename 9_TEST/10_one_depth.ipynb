{
 "cells": [
  {
   "cell_type": "code",
   "execution_count": 1,
   "metadata": {},
   "outputs": [
    {
     "name": "stdout",
     "output_type": "stream",
     "text": [
      "[0, 1]\n",
      "01\n",
      "7380\n"
     ]
    }
   ],
   "source": [
    "filtered_arr = [0 if x == -1 else 1 for x in [-1, 1] if x != 0]\n",
    "print(filtered_arr)\n",
    "binary_str = ''.join(map(str, filtered_arr))\n",
    "print(binary_str)\n",
    "# 取到二进制表示的数\n",
    "map_num = int(\"11110\", 9)\n",
    "print(map_num)"
   ]
  },
  {
   "cell_type": "code",
   "execution_count": 2,
   "metadata": {},
   "outputs": [],
   "source": [
    "import networkx as nx\n",
    "import matplotlib.pyplot as plt\n",
    "\n",
    "from qiskit import QuantumCircuit, ClassicalRegister, QuantumRegister\n",
    "from qiskit_aer import Aer\n",
    "from qiskit.circuit import Parameter\n",
    "from qiskit.visualization import plot_histogram\n",
    "from functools import reduce\n",
    "\n",
    "import numpy as np\n",
    "from scipy.optimize import minimize"
   ]
  },
  {
   "cell_type": "code",
   "execution_count": 3,
   "metadata": {},
   "outputs": [],
   "source": [
    "# dij需求i到设施j的成本\n",
    "d = [[1, 2], [1, 2]]\n",
    "n = 2   # 两个设施点\n",
    "m = 2   # 两个需求点\n",
    "num_qubits = n + 2 * n * m\n",
    "\n",
    "# gi设施i的建设成本\n",
    "g = [2, 1]"
   ]
  },
  {
   "cell_type": "code",
   "execution_count": 4,
   "metadata": {},
   "outputs": [],
   "source": [
    "GateX = np.array([[0, 1],[1, 0]])\n",
    "GateY = np.array([[0, -1j],[1j, 0]])\n",
    "GateZ = np.array([[1, 0],[0, -1]])\n",
    "\n",
    "# 定义σ+和σ-矩阵\n",
    "sigma_plus = np.array([[0, 1], [0, 0]])\n",
    "sigma_minus = np.array([[0, 0], [1, 0]])\n",
    "\n",
    "def add_in_target(num_qubits, target_qubit, gate=np.array([[1, 0],[0, -1]])):\n",
    "    H = np.eye(2 ** (target_qubit))\n",
    "    H = np.kron(H, gate)\n",
    "    H = np.kron(H, np.eye(2 ** (num_qubits - 1 - target_qubit)))\n",
    "    return H\n",
    "\n",
    "def calculate_hamiltonian(v, w):\n",
    "    n = len(v[0])\n",
    "    m = len(v)\n",
    "    hamiltonian = np.zeros((2**n, 2**n))\n",
    "    for i in range(m):\n",
    "        term1 = reduce(np.kron, [np.linalg.matrix_power(sigma_plus, v[i][j]) @ np.linalg.matrix_power(sigma_minus, w[i][j]) for j in range(n)])\n",
    "        term2 = reduce(np.kron, [np.linalg.matrix_power(sigma_plus, w[i][j]) @ np.linalg.matrix_power(sigma_minus, v[i][j]) for j in range(n)])\n",
    "        hamiltonian += term1 + term2\n",
    "    return hamiltonian\n",
    "\n",
    "def first_nonzero_index(arr, total_bits=3):\n",
    "    for i, num in enumerate(arr):\n",
    "        if num != 0:\n",
    "            binary_repr = format(i, '0' + str(total_bits) + 'b')\n",
    "            return binary_repr"
   ]
  },
  {
   "cell_type": "code",
   "execution_count": 5,
   "metadata": {},
   "outputs": [],
   "source": [
    "import sys\n",
    "sys.path.append('../')\n",
    "import z_library.linear_system as ls\n",
    "Cons = np.array([[-1, 0, 1, 0, 0, 0, 1, 0, 0, 0],\n",
    "              [-1, 0, 0, 0, 1, 0, 0, 0, 1, 0],\n",
    "              [0, -1, 0, 1, 0, 0, 0, 1, 0, 0],\n",
    "              [0, -1, 0, 0, 0, 1, 0, 0, 0, 1],\n",
    "              [0, 0, 0, 0, 0, 0, 0, 0, 0, 0],\n",
    "              [0, 0, 0, 0, 0, 0, 0, 0, 0, 0],\n",
    "              [0, 0, 0, 0, 0, 0, 0, 0, 0, 0],\n",
    "              [0, 0, 0, 0, 0, 0, 0, 0, 0, 0],\n",
    "              [0, 0, 1, 1, 0, 0, 0, 0, 0, 0],\n",
    "              [0, 0, 0, 0, 1, 1, 0, 0, 0, 0]])\n",
    "u = ls.find_basic_solution(Cons)\n",
    "v = np.where(u == 1, 1, 0)\n",
    "w = np.where(u == -1, 1, 0)\n",
    "Hd = calculate_hamiltonian(v, w)"
   ]
  },
  {
   "cell_type": "code",
   "execution_count": 6,
   "metadata": {},
   "outputs": [],
   "source": [
    "import sys\n",
    "sys.path.append('../')\n",
    "import z_library.linear_system as ls\n",
    "Cons = np.array([[-1, 0, 1, 0, 0, 0, 1, 0, 0, 0],\n",
    "              [-1, 0, 0, 0, 1, 0, 0, 0, 1, 0],\n",
    "              [0, -1, 0, 1, 0, 0, 0, 1, 0, 0],\n",
    "              [0, -1, 0, 0, 0, 1, 0, 0, 0, 1],\n",
    "              [0, 0, 0, 0, 0, 0, 0, 0, 0, 0],\n",
    "              [0, 0, 0, 0, 0, 0, 0, 0, 0, 0],\n",
    "              [0, 0, 0, 0, 0, 0, 0, 0, 0, 0],\n",
    "              [0, 0, 0, 0, 0, 0, 0, 0, 0, 0],\n",
    "              [0, 0, 1, 1, 0, 0, 0, 0, 0, 0],\n",
    "              [0, 0, 0, 0, 1, 1, 0, 0, 0, 0]])\n",
    "u = ls.find_basic_solution(Cons)\n",
    "v = np.where(u == 1, 1, 0)\n",
    "w = np.where(u == -1, 1, 0)\n",
    "Hd2 = calculate_hamiltonian(v, w)"
   ]
  },
  {
   "cell_type": "code",
   "execution_count": 7,
   "metadata": {},
   "outputs": [
    {
     "data": {
      "text/plain": [
       "(array([], dtype=int64), array([], dtype=int64))"
      ]
     },
     "execution_count": 7,
     "metadata": {},
     "output_type": "execute_result"
    }
   ],
   "source": [
    "np.where(Hd != Hd2)\n"
   ]
  },
  {
   "cell_type": "code",
   "execution_count": 8,
   "metadata": {},
   "outputs": [
    {
     "ename": "ImportError",
     "evalue": "cannot import name 'expm' from 'scipy' (/home/jiangqifan/Tools/anaconda3/envs/FLP/lib/python3.8/site-packages/scipy/__init__.py)",
     "output_type": "error",
     "traceback": [
      "\u001b[0;31m---------------------------------------------------------------------------\u001b[0m",
      "\u001b[0;31mImportError\u001b[0m                               Traceback (most recent call last)",
      "Cell \u001b[0;32mIn[8], line 1\u001b[0m\n\u001b[0;32m----> 1\u001b[0m \u001b[38;5;28;01mfrom\u001b[39;00m \u001b[38;5;21;01mscipy\u001b[39;00m \u001b[38;5;28;01mimport\u001b[39;00m expm\n",
      "\u001b[0;31mImportError\u001b[0m: cannot import name 'expm' from 'scipy' (/home/jiangqifan/Tools/anaconda3/envs/FLP/lib/python3.8/site-packages/scipy/__init__.py)"
     ]
    }
   ],
   "source": [
    "from scipy.linalg import expm"
   ]
  },
  {
   "cell_type": "code",
   "execution_count": null,
   "metadata": {},
   "outputs": [],
   "source": [
    "h = np.array([[ 3,    0],\n",
    "              [   0, -3]])"
   ]
  },
  {
   "cell_type": "code",
   "execution_count": null,
   "metadata": {},
   "outputs": [
    {
     "name": "stdout",
     "output_type": "stream",
     "text": [
      "[[-1.-0.j  0.+0.j]\n",
      " [ 0.+0.j -1.+0.j]]\n"
     ]
    }
   ],
   "source": [
    "print(expm(-1j * (2 * np.pi) * h))"
   ]
  },
  {
   "cell_type": "code",
   "execution_count": null,
   "metadata": {},
   "outputs": [
    {
     "name": "stdout",
     "output_type": "stream",
     "text": [
      "[[-1.-0.j  0.+0.j]\n",
      " [ 0.+0.j -1.+0.j]]\n",
      "[[-1.-0.j  0.+0.j]\n",
      " [ 0.+0.j -1.+0.j]]\n"
     ]
    }
   ],
   "source": [
    "print(expm(-1j * (1) * h))\n",
    "print(expm(-1j * (1 + 2 * np.pi) * h))"
   ]
  },
  {
   "cell_type": "code",
   "execution_count": null,
   "metadata": {},
   "outputs": [
    {
     "name": "stdout",
     "output_type": "stream",
     "text": [
      "\n",
      "----------------- Full result ---------------------\n",
      "selection\t\tprobability\tvalue\n",
      "---------------------------------------------------\n",
      "1101101001 59.94% 6\n",
      "1110100101 24.05% 5\n",
      "1101011010 8.43% 7\n",
      "1010100000 4.83% 4\n",
      "1110010110 1.83% 6\n",
      "0101010000 0.92% 5\n"
     ]
    }
   ],
   "source": [
    "from scipy.linalg import expm\n",
    "def build_circ(params):\n",
    "  depth = len(params)\n",
    "  qc = QuantumCircuit(num_qubits)\n",
    "  gamma = params\n",
    "  for i in [1,3,4,6,8,9]:\n",
    "    qc.x(i)\n",
    "  for dp in range(depth):\n",
    "    qc.unitary(expm(-1j * (1.5 + 3) * Hd2), range(num_qubits))\n",
    "  qc.measure_all()\n",
    "  return qc\n",
    "\n",
    "qc_res = build_circ(params=[23])\n",
    "backend = Aer.get_backend('aer_simulator')\n",
    "shots=100000\n",
    "backend.shots = 100000\n",
    "counts = backend.run(qc_res, seed_simulator=10, shots = shots).result().get_counts()\n",
    "# plot_histogram(counts)\n",
    "sorted_counts = sorted(counts, key=counts.get, reverse=True)\n",
    "print(\"\\n----------------- Full result ---------------------\")\n",
    "print(\"selection\\t\\tprobability\\tvalue\")  \n",
    "print(\"---------------------------------------------------\")\n",
    "for x in sorted_counts[:20]:\n",
    "  print(x, \"{:.2f}%\".format(counts[x] / shots * 100), cost_function(x))"
   ]
  },
  {
   "cell_type": "code",
   "execution_count": null,
   "metadata": {},
   "outputs": [
    {
     "name": "stdout",
     "output_type": "stream",
     "text": [
      "\n",
      "----------------- Full result ---------------------\n",
      "selection\t\tprobability\tvalue\n",
      "---------------------------------------------------\n",
      "1110010110 41.88% 6\n",
      "1010100000 22.63% 4\n",
      "1101011010 15.31% 7\n",
      "1101101001 9.29% 6\n",
      "0101010000 8.82% 5\n",
      "1110100101 2.07% 5\n"
     ]
    }
   ],
   "source": []
  },
  {
   "cell_type": "code",
   "execution_count": null,
   "metadata": {},
   "outputs": [],
   "source": [
    "def cost_function(x):\n",
    "  num = [int(char) for char in x]\n",
    "  C = 0\n",
    "  for i in range(m):\n",
    "    for j in range(n):\n",
    "      C += d[i][j] * num[n * (1 + i) + j]\n",
    "      \n",
    "  for j in range(n):\n",
    "    C += g[j] * num[j]\n",
    "  return C\n",
    "\n",
    "def compute_expectation(counts):\n",
    "  EV = 0\n",
    "  total_count = 0\n",
    "  for x, count in counts.items():\n",
    "    C = cost_function(x)\n",
    "    EV += C*count\n",
    "    total_count += count\n",
    "\n",
    "  return EV/total_count\n",
    "\n",
    "\n",
    "def expectation_from_sample(shots = 2000):\n",
    "  backend = Aer.get_backend('qasm_simulator')\n",
    "  backend.shots = shots\n",
    "\n",
    "  def execute_circ(theta):\n",
    "    qc = build_circ(theta)\n",
    "    counts = backend.run(qc, seed_simulator=10, shots=shots).result().get_counts()\n",
    "    return compute_expectation(counts)\n",
    "  \n",
    "  return execute_circ"
   ]
  },
  {
   "cell_type": "code",
   "execution_count": null,
   "metadata": {},
   "outputs": [],
   "source": [
    "from numpy.lib.utils import source\n",
    "from scipy.optimize import minimize\n",
    "import numpy as np\n",
    "# 初始化迭代计数器\n",
    "iteration_count = 0\n",
    "def test(par):\n",
    "  global iteration_count\n",
    "  iteration_count = 0\n",
    "  expectation = expectation_from_sample()\n",
    "  def callback(x):\n",
    "      global iteration_count\n",
    "      iteration_count += 1\n",
    "      if iteration_count % 10 == 0:\n",
    "          print(f\"Iteration {iteration_count}, Result: {expectation(x)}\")\n",
    "  # 设定最大迭代次数\n",
    "  max_iterations = 1000\n",
    "\n",
    "  # 使用 COBYLA 方法进行最小化，并设置 callback 函数\n",
    "  res = minimize(expectation, par, method='COBYLA', options={'maxiter': max_iterations}, callback=callback)\n",
    "  # 输出最终结果\n",
    "  print(\"Final Result:\", res)\n",
    "  backend = Aer.get_backend('aer_simulator')\n",
    "  backend.shots = 100000\n",
    "\n",
    "  shots=100000\n",
    "  qc_res = build_circ(params=res.x)\n",
    "\n",
    "  counts = backend.run(qc_res, seed_simulator=10, shots = shots).result().get_counts()\n",
    "  # plot_histogram(counts)\n",
    "  sorted_counts = sorted(counts, key=counts.get, reverse=True)\n",
    "  print(\"\\n----------------- Full result ---------------------\")\n",
    "  print(\"selection\\t\\tprobability\\tvalue\")\n",
    "  print(\"---------------------------------------------------\")\n",
    "  for x in sorted_counts[:20]:\n",
    "    print(x, \"{:.2f}%\".format(counts[x] / shots * 100), cost_function(x))"
   ]
  },
  {
   "cell_type": "code",
   "execution_count": null,
   "metadata": {},
   "outputs": [
    {
     "data": {
      "text/plain": [
       "5.194"
      ]
     },
     "execution_count": 17,
     "metadata": {},
     "output_type": "execute_result"
    }
   ],
   "source": [
    "sum([ 1.042e+00,  1.031e+00,  1.054e+00,  1.022e+00,  1.045e+00])"
   ]
  },
  {
   "cell_type": "code",
   "execution_count": null,
   "metadata": {},
   "outputs": [
    {
     "name": "stdout",
     "output_type": "stream",
     "text": [
      "depth == 1\n",
      "Iteration 10, Result: 5.242\n",
      "Final Result:  message: Optimization terminated successfully.\n",
      " success: True\n",
      "  status: 1\n",
      "     fun: 5.242\n",
      "       x: [ 1.138e+01]\n",
      "    nfev: 13\n",
      "   maxcv: 0.0\n",
      "\n",
      "----------------- Full result ---------------------\n",
      "selection\t\tprobability\tvalue\n",
      "---------------------------------------------------\n",
      "0101010000 73.50% 5\n",
      "1110010110 16.03% 6\n",
      "1101101001 8.67% 6\n",
      "1010100000 0.88% 4\n",
      "1110100101 0.85% 5\n",
      "1101011010 0.07% 7\n"
     ]
    }
   ],
   "source": [
    "dep = 1\n",
    "print(f'depth == {dep}')\n",
    "test([5.194 + 2*np.pi])"
   ]
  },
  {
   "cell_type": "code",
   "execution_count": null,
   "metadata": {},
   "outputs": [
    {
     "name": "stdout",
     "output_type": "stream",
     "text": [
      "depth == 2\n",
      "Iteration 10, Result: 4.921\n",
      "Iteration 20, Result: 4.899\n",
      "Final Result:  message: Optimization terminated successfully.\n",
      " success: True\n",
      "  status: 1\n",
      "     fun: 4.899\n",
      "       x: [ 2.772e+00  3.582e-01]\n",
      "    nfev: 26\n",
      "   maxcv: 0.0\n",
      "\n",
      "----------------- Full result ---------------------\n",
      "selection\t\tprobability\tvalue\n",
      "---------------------------------------------------\n",
      "0101010000 38.43% 5\n",
      "1110100101 26.24% 5\n",
      "1010100000 23.83% 4\n",
      "1101101001 7.38% 6\n",
      "1110010110 3.19% 6\n",
      "1101011010 0.92% 7\n"
     ]
    }
   ],
   "source": [
    "dep = 2\n",
    "print(f'depth == {dep}')\n",
    "test(np.full(dep, np.pi/3))"
   ]
  },
  {
   "cell_type": "code",
   "execution_count": null,
   "metadata": {},
   "outputs": [
    {
     "name": "stdout",
     "output_type": "stream",
     "text": [
      "depth == 3\n",
      "Iteration 10, Result: 4.9185\n",
      "Iteration 20, Result: 4.901\n",
      "Iteration 30, Result: 4.899\n",
      "Final Result:  message: Optimization terminated successfully.\n",
      " success: True\n",
      "  status: 1\n",
      "     fun: 4.899\n",
      "       x: [ 1.051e+00  1.040e+00  1.040e+00]\n",
      "    nfev: 31\n",
      "   maxcv: 0.0\n",
      "\n",
      "----------------- Full result ---------------------\n",
      "selection\t\tprobability\tvalue\n",
      "---------------------------------------------------\n",
      "0101010000 38.43% 5\n",
      "1110100101 26.24% 5\n",
      "1010100000 23.84% 4\n",
      "1101101001 7.38% 6\n",
      "1110010110 3.19% 6\n",
      "1101011010 0.92% 7\n"
     ]
    }
   ],
   "source": [
    "dep = 3\n",
    "print(f'depth == {dep}')\n",
    "test(np.full(dep, np.pi/3))"
   ]
  },
  {
   "cell_type": "code",
   "execution_count": null,
   "metadata": {},
   "outputs": [
    {
     "name": "stdout",
     "output_type": "stream",
     "text": [
      "depth == 4\n",
      "Iteration 10, Result: 6.0135\n",
      "Iteration 20, Result: 4.804\n",
      "Iteration 30, Result: 4.8045\n",
      "Iteration 40, Result: 4.8035\n",
      "Final Result:  message: Optimization terminated successfully.\n",
      " success: True\n",
      "  status: 1\n",
      "     fun: 4.8035\n",
      "       x: [ 2.048e+00  1.044e+00  1.054e+00  1.047e+00]\n",
      "    nfev: 40\n",
      "   maxcv: 0.0\n",
      "\n",
      "----------------- Full result ---------------------\n",
      "selection\t\tprobability\tvalue\n",
      "---------------------------------------------------\n",
      "1110100101 61.33% 5\n",
      "1010100000 29.37% 4\n",
      "1110010110 7.60% 6\n",
      "1101011010 1.24% 7\n",
      "0101010000 0.46% 5\n"
     ]
    }
   ],
   "source": [
    "dep = 4\n",
    "print(f'depth == {dep}')\n",
    "test(np.full(dep, np.pi/3))"
   ]
  },
  {
   "cell_type": "code",
   "execution_count": null,
   "metadata": {},
   "outputs": [
    {
     "name": "stdout",
     "output_type": "stream",
     "text": [
      "depth == 5\n",
      "Iteration 10, Result: 4.925\n",
      "Iteration 20, Result: 4.8045\n",
      "Iteration 30, Result: 4.8035\n",
      "Iteration 40, Result: 4.8035\n",
      "Final Result:  message: Optimization terminated successfully.\n",
      " success: True\n",
      "  status: 1\n",
      "     fun: 4.8035\n",
      "       x: [ 1.042e+00  1.031e+00  1.054e+00  1.022e+00  1.045e+00]\n",
      "    nfev: 46\n",
      "   maxcv: 0.0\n",
      "\n",
      "----------------- Full result ---------------------\n",
      "selection\t\tprobability\tvalue\n",
      "---------------------------------------------------\n",
      "1110100101 61.33% 5\n",
      "1010100000 29.36% 4\n",
      "1110010110 7.61% 6\n",
      "1101011010 1.24% 7\n",
      "0101010000 0.46% 5\n",
      "1101101001 0.00% 6\n"
     ]
    }
   ],
   "source": [
    "dep = 5\n",
    "print(f'depth == {dep}')\n",
    "test(np.full(dep, np.pi/3))"
   ]
  },
  {
   "cell_type": "code",
   "execution_count": null,
   "metadata": {},
   "outputs": [
    {
     "name": "stdout",
     "output_type": "stream",
     "text": [
      "depth == 6\n",
      "Iteration 10, Result: 6.0285\n",
      "Iteration 20, Result: 4.508\n",
      "Iteration 30, Result: 5.6785\n",
      "Iteration 40, Result: 4.3685\n",
      "Iteration 50, Result: 4.334\n",
      "Iteration 60, Result: 4.246\n",
      "Iteration 70, Result: 4.154\n",
      "Iteration 80, Result: 4.098\n",
      "Iteration 90, Result: 4.0885\n",
      "Iteration 100, Result: 4.063\n",
      "Iteration 110, Result: 4.0505\n",
      "Iteration 120, Result: 4.0475\n",
      "Iteration 130, Result: 4.0485\n",
      "Iteration 140, Result: 4.0455\n",
      "Iteration 150, Result: 4.05\n",
      "Iteration 160, Result: 4.0465\n",
      "Iteration 170, Result: 4.045\n",
      "Iteration 180, Result: 4.045\n",
      "Final Result:  message: Optimization terminated successfully.\n",
      " success: True\n",
      "  status: 1\n",
      "     fun: 4.045\n",
      "       x: [ 1.097e+00  1.081e+00  1.407e+00  1.353e+00  2.052e+00\n",
      "            1.199e+00  9.227e-01  5.431e-01  1.797e+00  9.038e-01\n",
      "            8.691e-01  9.233e-01]\n",
      "    nfev: 185\n",
      "   maxcv: 0.0\n",
      "\n",
      "----------------- Full result ---------------------\n",
      "selection\t\tprobability\tvalue\n",
      "---------------------------------------------------\n",
      "1010100000 96.19% 4\n",
      "0101010000 2.16% 5\n",
      "1101101001 0.73% 6\n",
      "1110010110 0.35% 6\n",
      "1110100101 0.34% 5\n",
      "1101011010 0.24% 7\n"
     ]
    }
   ],
   "source": [
    "dep = 6\n",
    "print(f'depth == {dep}')\n",
    "test(np.full(dep * 2, np.pi/3))"
   ]
  },
  {
   "cell_type": "code",
   "execution_count": null,
   "metadata": {},
   "outputs": [
    {
     "name": "stdout",
     "output_type": "stream",
     "text": [
      "depth == 7\n",
      "Iteration 10, Result: 6.029\n",
      "Iteration 20, Result: 4.724\n",
      "Iteration 30, Result: 4.7375\n",
      "Iteration 40, Result: 4.55\n",
      "Iteration 50, Result: 4.303\n",
      "Iteration 60, Result: 4.299\n",
      "Iteration 70, Result: 4.2595\n",
      "Iteration 80, Result: 4.2375\n",
      "Iteration 90, Result: 4.22\n",
      "Iteration 100, Result: 4.1835\n",
      "Iteration 110, Result: 4.185\n",
      "Iteration 120, Result: 4.1745\n",
      "Iteration 130, Result: 4.175\n",
      "Iteration 140, Result: 4.1715\n",
      "Iteration 150, Result: 4.1725\n",
      "Iteration 160, Result: 4.17\n",
      "Iteration 170, Result: 4.17\n",
      "Iteration 180, Result: 4.17\n",
      "Final Result:  message: Optimization terminated successfully.\n",
      " success: True\n",
      "  status: 1\n",
      "     fun: 4.17\n",
      "       x: [ 1.108e+00  1.951e+00 ...  1.015e+00  9.465e-01]\n",
      "    nfev: 187\n",
      "   maxcv: 0.0\n",
      "\n",
      "----------------- Full result ---------------------\n",
      "selection\t\tprobability\tvalue\n",
      "---------------------------------------------------\n",
      "1010100000 87.36% 4\n",
      "1110100101 9.37% 5\n",
      "1110010110 1.70% 6\n",
      "0101010000 0.90% 5\n",
      "1101011010 0.61% 7\n",
      "1101101001 0.06% 6\n"
     ]
    }
   ],
   "source": [
    "dep = 7\n",
    "print(f'depth == {dep}')\n",
    "test(np.full(dep * 2, np.pi/3))"
   ]
  },
  {
   "cell_type": "code",
   "execution_count": null,
   "metadata": {},
   "outputs": [
    {
     "name": "stdout",
     "output_type": "stream",
     "text": [
      "depth == 8\n",
      "Iteration 10, Result: 5.481\n",
      "Iteration 20, Result: 4.7265\n",
      "Iteration 30, Result: 4.437\n",
      "Iteration 40, Result: 4.4315\n",
      "Iteration 50, Result: 4.5425\n",
      "Iteration 60, Result: 4.292\n",
      "Iteration 70, Result: 4.228\n",
      "Iteration 80, Result: 4.184\n",
      "Iteration 90, Result: 4.199\n",
      "Iteration 100, Result: 4.1635\n",
      "Iteration 110, Result: 4.1255\n",
      "Iteration 120, Result: 4.1155\n",
      "Iteration 130, Result: 4.102\n",
      "Iteration 140, Result: 4.0925\n",
      "Iteration 150, Result: 4.0845\n",
      "Iteration 160, Result: 4.0745\n",
      "Iteration 170, Result: 4.068\n",
      "Iteration 180, Result: 4.0625\n",
      "Iteration 190, Result: 4.056\n",
      "Iteration 200, Result: 4.055\n",
      "Iteration 210, Result: 4.054\n",
      "Iteration 220, Result: 4.0525\n",
      "Iteration 230, Result: 4.052\n",
      "Iteration 240, Result: 4.051\n",
      "Iteration 250, Result: 4.051\n",
      "Iteration 260, Result: 4.051\n",
      "Iteration 270, Result: 4.0505\n",
      "Iteration 280, Result: 4.0505\n",
      "Final Result:  message: Optimization terminated successfully.\n",
      " success: True\n",
      "  status: 1\n",
      "     fun: 4.0505\n",
      "       x: [ 1.056e+00  1.390e+00 ...  5.169e-01  8.260e-01]\n",
      "    nfev: 282\n",
      "   maxcv: 0.0\n",
      "\n",
      "----------------- Full result ---------------------\n",
      "selection\t\tprobability\tvalue\n",
      "---------------------------------------------------\n",
      "1010100000 94.84% 4\n",
      "1110100101 2.85% 5\n",
      "0101010000 1.68% 5\n",
      "1110010110 0.27% 6\n",
      "1101101001 0.27% 6\n",
      "1101011010 0.09% 7\n"
     ]
    }
   ],
   "source": [
    "dep = 8\n",
    "print(f'depth == {dep}')\n",
    "test(np.full(dep * 2, np.pi/3))"
   ]
  },
  {
   "cell_type": "code",
   "execution_count": null,
   "metadata": {},
   "outputs": [
    {
     "name": "stdout",
     "output_type": "stream",
     "text": [
      "depth == 9\n",
      "Iteration 10, Result: 5.404\n",
      "Iteration 20, Result: 5.0355\n",
      "Iteration 30, Result: 5.1075\n",
      "Iteration 40, Result: 5.1065\n",
      "Iteration 50, Result: 4.612\n",
      "Iteration 60, Result: 4.6225\n",
      "Iteration 70, Result: 4.4235\n",
      "Iteration 80, Result: 4.2495\n",
      "Iteration 90, Result: 4.162\n",
      "Iteration 100, Result: 4.077\n",
      "Iteration 110, Result: 4.066\n",
      "Iteration 120, Result: 4.0545\n",
      "Iteration 130, Result: 4.0555\n",
      "Iteration 140, Result: 4.055\n",
      "Iteration 150, Result: 4.0525\n",
      "Iteration 160, Result: 4.0525\n",
      "Iteration 170, Result: 4.0545\n",
      "Iteration 180, Result: 4.053\n",
      "Iteration 190, Result: 4.0515\n",
      "Iteration 200, Result: 4.0515\n",
      "Iteration 210, Result: 4.0515\n",
      "Iteration 220, Result: 4.0515\n",
      "Iteration 230, Result: 4.0515\n",
      "Final Result:  message: Optimization terminated successfully.\n",
      " success: True\n",
      "  status: 1\n",
      "     fun: 4.0515\n",
      "       x: [ 4.839e-01  2.106e+00 ...  6.650e-01  1.185e+00]\n",
      "    nfev: 231\n",
      "   maxcv: 0.0\n",
      "\n",
      "----------------- Full result ---------------------\n",
      "selection\t\tprobability\tvalue\n",
      "---------------------------------------------------\n",
      "1010100000 95.86% 4\n",
      "0101010000 1.66% 5\n",
      "1101101001 1.40% 6\n",
      "1110100101 0.75% 5\n",
      "1101011010 0.32% 7\n",
      "1110010110 0.02% 6\n"
     ]
    }
   ],
   "source": [
    "dep = 9\n",
    "print(f'depth == {dep}')\n",
    "test(np.full(dep * 2, np.pi/3))"
   ]
  }
 ],
 "metadata": {
  "kernelspec": {
   "display_name": "quantum",
   "language": "python",
   "name": "python3"
  },
  "language_info": {
   "codemirror_mode": {
    "name": "ipython",
    "version": 3
   },
   "file_extension": ".py",
   "mimetype": "text/x-python",
   "name": "python",
   "nbconvert_exporter": "python",
   "pygments_lexer": "ipython3",
   "version": "3.8.19"
  }
 },
 "nbformat": 4,
 "nbformat_minor": 2
}
