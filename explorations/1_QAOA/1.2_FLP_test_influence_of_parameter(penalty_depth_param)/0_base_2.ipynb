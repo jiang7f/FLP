{
 "cells": [
  {
   "cell_type": "code",
   "execution_count": 1,
   "metadata": {},
   "outputs": [],
   "source": [
    "import networkx as nx\n",
    "import matplotlib.pyplot as plt\n",
    "\n",
    "from qiskit import QuantumCircuit, ClassicalRegister, QuantumRegister\n",
    "from qiskit_aer import Aer\n",
    "from qiskit.circuit import Parameter\n",
    "from qiskit.visualization import plot_histogram\n",
    "\n",
    "import numpy as np\n",
    "from scipy.optimize import minimize"
   ]
  },
  {
   "cell_type": "code",
   "execution_count": 2,
   "metadata": {},
   "outputs": [],
   "source": [
    "# dij需求i到设施j的成本\n",
    "d = [[1, 2], [1, 2]]\n",
    "n = 2   # 两个设施点\n",
    "m = 2   # 两个需求点\n",
    "# d = [[1, 2], [3, 4], [5, 6]]\n",
    "# n = 2   # 两个设施点\n",
    "# m = 3   # 三个需求点\n",
    "num_qubits = n + 2 * n * m\n",
    "\n",
    "# gi设施i的建设成本\n",
    "g = [2, 1]\n"
   ]
  },
  {
   "cell_type": "code",
   "execution_count": 3,
   "metadata": {},
   "outputs": [],
   "source": [
    "penalty = 25\n",
    "depth = 6\n",
    "params = np.ones(depth * 2)"
   ]
  },
  {
   "cell_type": "code",
   "execution_count": 4,
   "metadata": {},
   "outputs": [],
   "source": [
    "# dtype=np.complex128\n",
    "def add_in_target(num_qubits, target_qubit, gate=np.array([[1, 0],[0, -1]])):\n",
    "    H = np.eye(2 ** (target_qubit))\n",
    "    H = np.kron(H, gate)\n",
    "    H = np.kron(H, np.eye(2 ** (num_qubits - 1 - target_qubit)))\n",
    "    return H\n",
    "def add_in_target2(num_qubits, target_qubit, gate=(np.array([[1, 0],[0, -1]])-np.eye(2))/2):\n",
    "    H = np.eye(2 ** (target_qubit))\n",
    "    H = np.kron(H, gate)\n",
    "    H = np.kron(H, np.eye(2 ** (num_qubits - 1 - target_qubit)))\n",
    "    return H\n",
    "\n",
    "def generate_Hp(n, m, d, g):\n",
    "    # 初始化 Hp 矩阵为零矩阵\n",
    "    # print(num_qubits)\n",
    "    Hp = np.zeros((2**num_qubits, 2**num_qubits))\n",
    "    for i in range(m):\n",
    "        for j in range(n):\n",
    "            Hp += d[i][j] * add_in_target2(num_qubits, n * (1 + i) + j)\n",
    "    \n",
    "    for j in range(n):\n",
    "        Hp +=  g[j] * add_in_target2(num_qubits, j)\n",
    "\n",
    "    for i in range(m):\n",
    "        Ht = np.zeros((2**num_qubits, 2**num_qubits))\n",
    "        for j in range(n):\n",
    "            Ht += (np.eye(2**num_qubits) - add_in_target(num_qubits, n * (1 + i) + j)) / 2\n",
    "        Ht -= np.eye(2**num_qubits)\n",
    "        Hp += -penalty * Ht @ Ht\n",
    "    \n",
    "    for i in range(m):\n",
    "        for j in range(n):\n",
    "            Ht = (np.eye(2**num_qubits) - add_in_target(num_qubits, n * (1 + i) + j)) / 2 + (np.eye(2**num_qubits) - add_in_target(num_qubits, n * (1 + m + i) + j)) / 2 + (np.eye(2**num_qubits) - add_in_target(num_qubits, j)) / 2\n",
    "            Hp += -penalty * Ht @ Ht\n",
    "\n",
    "    return Hp"
   ]
  },
  {
   "cell_type": "code",
   "execution_count": 5,
   "metadata": {},
   "outputs": [],
   "source": [
    "from scipy.linalg import expm\n",
    "def build_circ(n, m, d, g, params):\n",
    "  qc = QuantumCircuit(num_qubits)\n",
    "  beta = params[:depth + 1]\n",
    "  gamma = params[depth:]\n",
    "  for i in range(num_qubits):\n",
    "    qc.h(i)\n",
    "  for dp in range(depth):\n",
    "    qc.unitary(expm(-1j * gamma[dp] * generate_Hp(n, m, d, g)), range(num_qubits))\n",
    "    for i in range(num_qubits):\n",
    "      qc.rx(beta[dp], i)\n",
    "  qc.measure_all()\n",
    "  return qc"
   ]
  },
  {
   "cell_type": "code",
   "execution_count": 6,
   "metadata": {},
   "outputs": [],
   "source": [
    "def cost_function(x):\n",
    "  num = [int(char) for char in x]\n",
    "  num = num[::-1]\n",
    "  C = 0\n",
    "  for i in range(m):\n",
    "    for j in range(n):\n",
    "      C += d[i][j] * num[n * (1 + i) + j]\n",
    "      \n",
    "  for j in range(n):\n",
    "    C += g[j] * num[j]\n",
    "\n",
    "  for i in range(m):\n",
    "    t = 0\n",
    "    for j in range(n):\n",
    "      t += num[n * (1 + i) + j]\n",
    "    C += penalty * (t - 1)**2\n",
    "\n",
    "  for i in range(m):\n",
    "    for j in range(n):\n",
    "      C += penalty * (num[n * (1 + i) + j] + num[n * (1 + m + i) + j] - num[j]) ** 2\n",
    "  return C\n",
    "\n",
    "def compute_expectation(counts):\n",
    "  EV = 0\n",
    "  total_count = 0\n",
    "  for x, count in counts.items():\n",
    "    C = cost_function(x)\n",
    "    EV += C*count\n",
    "    total_count += count\n",
    "\n",
    "  return EV/total_count\n",
    "\n",
    "\n",
    "def expectation_from_sample(shots = 2000):\n",
    "  backend = Aer.get_backend('qasm_simulator')\n",
    "  backend.shots = shots\n",
    "\n",
    "  def execute_circ(theta):\n",
    "    qc = build_circ(n, m, d, g, theta)\n",
    "    counts = backend.run(qc, seed_simulator=10, shots=shots).result().get_counts()\n",
    "    return compute_expectation(counts)\n",
    "  \n",
    "  return execute_circ"
   ]
  },
  {
   "cell_type": "code",
   "execution_count": 7,
   "metadata": {},
   "outputs": [
    {
     "name": "stdout",
     "output_type": "stream",
     "text": [
      "Iteration 10, Result: 123.0715\n",
      "Iteration 20, Result: 81.5905\n",
      "Iteration 30, Result: 93.4675\n",
      "Iteration 40, Result: 132.046\n",
      "Iteration 50, Result: 83.6695\n",
      "Iteration 60, Result: 85.723\n",
      "Iteration 70, Result: 90.7285\n",
      "Iteration 80, Result: 77.9605\n",
      "Iteration 90, Result: 78.4755\n",
      "Iteration 100, Result: 78.9495\n",
      "Iteration 110, Result: 77.4135\n",
      "Iteration 120, Result: 76.699\n",
      "Final Result:  message: Optimization terminated successfully.\n",
      " success: True\n",
      "  status: 1\n",
      "     fun: 78.8995\n",
      "       x: [ 2.035e+00  9.815e-01  9.927e-01  1.684e+00  9.923e-01\n",
      "            9.942e-01  8.730e-01  9.974e-01  9.984e-01  8.658e-01\n",
      "            9.981e-01  9.985e-01]\n",
      "    nfev: 124\n",
      "   maxcv: 0.0\n"
     ]
    }
   ],
   "source": [
    "from scipy.optimize import minimize\n",
    "import numpy as np\n",
    "\n",
    "expectation = expectation_from_sample()\n",
    "\n",
    "def callback(x):\n",
    "    global iteration_count\n",
    "    iteration_count += 1\n",
    "    if iteration_count % 10 == 0:\n",
    "        print(f\"Iteration {iteration_count}, Result: {expectation(x)}\")\n",
    "\n",
    "# 设定最大迭代次数\n",
    "max_iterations = 1000\n",
    "\n",
    "# 初始化迭代计数器\n",
    "iteration_count = 0\n",
    "\n",
    "# 使用 COBYLA 方法进行最小化，并设置 callback 函数\n",
    "res = minimize(expectation, params, method='COBYLA', options={'maxiter': max_iterations}, callback=callback)\n",
    "\n",
    "# 输出最终结果\n",
    "print(\"Final Result:\", res)"
   ]
  },
  {
   "cell_type": "code",
   "execution_count": 8,
   "metadata": {},
   "outputs": [],
   "source": [
    "from numpy.lib.utils import source\n",
    "backend = Aer.get_backend('aer_simulator')\n",
    "backend.shots = 100000\n",
    "\n",
    "shots=100000\n",
    "qc_res = build_circ(n, m, d, g, params=res.x)\n",
    "\n",
    "counts = backend.run(qc_res, seed_simulator=10, shots = shots).result().get_counts()\n",
    "# plot_histogram(counts)"
   ]
  },
  {
   "cell_type": "code",
   "execution_count": 9,
   "metadata": {},
   "outputs": [
    {
     "name": "stdout",
     "output_type": "stream",
     "text": [
      "\n",
      "----------------- Full result ---------------------\n",
      "selection\t\tprobability\tvalue\n",
      "---------------------------------------------------\n",
      "0110101111 18.8% 58\n",
      "0100101111 6.5% 33\n",
      "0110001111 6.5% 106\n",
      "1100101111 5.7% 58\n",
      "1110001111 5.6% 81\n",
      "1110101111 5.5% 83\n",
      "1100001111 5.0% 56\n",
      "0110001101 2.2% 155\n",
      "0100100111 2.2% 31\n",
      "0010101010 1.1% 30\n",
      "0010101111 1.0% 83\n",
      "0100001101 0.9% 80\n",
      "0100000111 0.9% 79\n",
      "0010101011 0.9% 82\n",
      "0100001111 0.9% 81\n",
      "0010101110 0.8% 81\n",
      "0111101011 0.8% 32\n",
      "0110111110 0.7% 207\n",
      "0101101111 0.6% 58\n",
      "0110011111 0.6% 107\n"
     ]
    }
   ],
   "source": [
    "sorted_counts = sorted(counts, key=counts.get, reverse=True)\n",
    "print(\"\\n----------------- Full result ---------------------\")\n",
    "print(\"selection\\t\\tprobability\\tvalue\")\n",
    "print(\"---------------------------------------------------\")\n",
    "for x in sorted_counts[:20]:\n",
    "  print(x, \"{:.1f}%\".format(counts[x] / shots * 100), cost_function(x))"
   ]
  }
 ],
 "metadata": {
  "kernelspec": {
   "display_name": "quantum",
   "language": "python",
   "name": "python3"
  },
  "language_info": {
   "codemirror_mode": {
    "name": "ipython",
    "version": 3
   },
   "file_extension": ".py",
   "mimetype": "text/x-python",
   "name": "python",
   "nbconvert_exporter": "python",
   "pygments_lexer": "ipython3",
   "version": "3.8.19"
  }
 },
 "nbformat": 4,
 "nbformat_minor": 2
}
