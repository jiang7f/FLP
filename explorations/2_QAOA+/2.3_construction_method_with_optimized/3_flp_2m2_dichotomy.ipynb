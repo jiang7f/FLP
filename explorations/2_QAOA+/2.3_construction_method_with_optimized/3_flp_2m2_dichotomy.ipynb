{
 "cells": [
  {
   "cell_type": "code",
   "execution_count": 39,
   "metadata": {},
   "outputs": [],
   "source": [
    "from qiskit import QuantumCircuit\n",
    "from qiskit_aer import Aer\n",
    "from qiskit.visualization import plot_histogram\n",
    "import numpy as np\n",
    "from scipy.optimize import minimize"
   ]
  },
  {
   "cell_type": "code",
   "execution_count": 40,
   "metadata": {},
   "outputs": [],
   "source": [
    "# dij需求i到设施j的成本\n",
    "d = [[1, 3], [1, 3]]\n",
    "n = 2   # 两个设施点\n",
    "m = 2   # 两个需求点\n",
    "num_qubits = n + 2 * n * m\n",
    "\n",
    "# gi设施i的建设成本\n",
    "g = [2, 1]"
   ]
  },
  {
   "cell_type": "code",
   "execution_count": 41,
   "metadata": {},
   "outputs": [],
   "source": [
    "GateX = np.array([[0, 1],[1, 0]])\n",
    "GateY = np.array([[0, -1j],[1j, 0]])\n",
    "GateZ = np.array([[1, 0],[0, -1]])\n",
    "\n",
    "# 定义σ+和σ-矩阵\n",
    "sigma_plus = np.array([[0, 1], [0, 0]])\n",
    "sigma_minus = np.array([[0, 0], [1, 0]])\n",
    "\n",
    "def add_in_target(num_qubits, target_qubit, gate=np.array([[1, 0],[0, -1]])):\n",
    "    H = np.eye(2 ** (target_qubit))\n",
    "    H = np.kron(H, gate)\n",
    "    H = np.kron(H, np.eye(2 ** (num_qubits - 1 - target_qubit)))\n",
    "    return H\n",
    "\n",
    "def generate_Hp(n, m, d, g):\n",
    "    # 初始化 Hp 矩阵为零矩阵\n",
    "    Hp = np.zeros((2**num_qubits, 2**num_qubits))\n",
    "    for i in range(m):\n",
    "        for j in range(n):\n",
    "            Hp += d[i][j] * (add_in_target(num_qubits, n * (1 + i) + j) - np.eye(2**num_qubits)) / 2\n",
    "    \n",
    "    for j in range(n):\n",
    "        Hp +=  g[j] * (add_in_target(num_qubits, j)- np.eye(2**num_qubits)) / 2\n",
    "    return Hp\n",
    "        \n",
    "Hp = generate_Hp(n, m, d, g)\n"
   ]
  },
  {
   "cell_type": "code",
   "execution_count": 42,
   "metadata": {},
   "outputs": [],
   "source": [
    "import sys\n",
    "sys.path.append('../../')\n",
    "import z_library.linear_system as ls"
   ]
  },
  {
   "cell_type": "code",
   "execution_count": 43,
   "metadata": {},
   "outputs": [
    {
     "name": "stdout",
     "output_type": "stream",
     "text": [
      "[[-1.  1. -1.  1. -1.  1.  0.  0.  0.  0.]\n",
      " [ 0.  0.  1. -1.  0.  0. -1.  1.  0.  0.]\n",
      " [ 1.  0.  0.  0.  0.  0.  1.  0.  1.  0.]\n",
      " [ 0.  1. -1.  1.  0.  0.  1.  0.  0.  1.]]\n",
      "[0, 1, 0, 1, 0, 1]\n",
      "010101\n",
      "21\n",
      "[1, 0, 0, 1]\n",
      "1001\n",
      "9\n",
      "[1, 1, 1]\n",
      "111\n",
      "7\n",
      "[1, 0, 1, 1, 1]\n",
      "10111\n",
      "23\n",
      "[[0, 1, 2, 3, 4, 5], [2, 3, 6, 7], [0, 6, 8], [1, 2, 3, 6, 9]]\n"
     ]
    }
   ],
   "source": [
    "def gnrt_gate_hdi(u):\n",
    "    result = []\n",
    "    nonzero_indices = ls.find_nonzero_indices(u)\n",
    "    for urow, nrow in zip(u, nonzero_indices):\n",
    "        # 把非0元素映射成01\n",
    "        filtered_arr = [0 if x == -1 else 1 for x in urow if x != 0]\n",
    "        print(filtered_arr)\n",
    "        binary_str = ''.join(map(str, filtered_arr))\n",
    "        print(binary_str)\n",
    "        # 取到二进制表示的数\n",
    "        map_num = int(binary_str, 2)\n",
    "        print(map_num)\n",
    "        # print(map_num)\n",
    "        length = len(nrow)\n",
    "        scale = 2**length\n",
    "        matrix = np.zeros((scale, scale))\n",
    "\n",
    "        matrix[map_num, scale - 1 - map_num] = 1\n",
    "        map_num = 2**length - 1 - map_num\n",
    "        # print(map_num)\n",
    "        matrix[map_num, scale - 1 - map_num] = 1\n",
    "        result.append(matrix)\n",
    "    return result\n",
    "\n",
    "# print(\"非零元素的索引：\", nonzero_indices)\n",
    "\n",
    "u = ls.gnrt_u(n, m)\n",
    "print(u)\n",
    "nonzero_indices = ls.find_nonzero_indices(u)\n",
    "gate_hds = gnrt_gate_hdi(u)\n",
    "print(nonzero_indices)"
   ]
  },
  {
   "cell_type": "code",
   "execution_count": 46,
   "metadata": {},
   "outputs": [
    {
     "data": {
      "text/plain": [
       "array([[-1.,  1.,  0.,  0.,  0.,  0.,  0.,  0.,  0.,  0.,  0.,  0.],\n",
       "       [-1.,  0.,  1.,  0.,  0.,  0.,  0.,  0.,  0.,  0.,  0.,  0.],\n",
       "       [ 0.,  0.,  0.,  1., -1.,  0., -1.,  1.,  0.,  0.,  0.,  0.],\n",
       "       [ 0.,  0.,  0.,  1.,  0., -1., -1.,  0.,  1.,  0.,  0.,  0.],\n",
       "       [ 0.,  0.,  0., -1.,  1.,  0.,  0.,  0.,  0., -1.,  1.,  0.],\n",
       "       [ 0.,  0.,  0., -1.,  0.,  1.,  0.,  0.,  0., -1.,  0.,  1.]])"
      ]
     },
     "execution_count": 46,
     "metadata": {},
     "output_type": "execute_result"
    }
   ],
   "source": [
    "u = np.array(\n",
    "[[ 1,  1,  1,  0,  0,  0,  0,  0,  0,  0,  0,  0,],\n",
    " [ 0,  0,  0,  1,  1,  1,  0,  0,  0,  0,  0,  0,],\n",
    " [ 0,  0,  0,  0,  0,  0,  1,  1,  1,  0,  0,  0,],\n",
    " [ 0,  0,  0,  1,  0,  0,  1,  0,  0, -1,  0,  0,],\n",
    " [ 0,  0,  0,  0,  1,  0,  0,  1,  0,  0, -1,  0,],\n",
    " [ 0,  0,  0,  0,  0,  1,  0,  0,  1,  0,  0, -1,]]\n",
    " )\n",
    "# print(ls.to_row_echelon_form((u)))\n",
    "# print()\n",
    "ls.find_basic_solution(u)"
   ]
  },
  {
   "cell_type": "code",
   "execution_count": 48,
   "metadata": {},
   "outputs": [],
   "source": [
    "u = np.array(\n",
    "[[ 1,  1,  1,  0,  0,  0,  0,  0,  0,  0,  0,],\n",
    " [ 0,  0,  0,  1,  1,  0,  0,  0,  0,  0,  0,],\n",
    " [ 0,  0,  0,  0,  0,  1,  1,  1,  0,  0,  0,],\n",
    " [ 0,  0,  0,  0,  0,  1,  0,  0, -1,  0,  0,],\n",
    " [ 0,  0,  0,  1,  0,  0,  1,  0,  0, -1,  0,],\n",
    " [ 0,  0,  0,  0,  1,  0,  0,  1,  0,  0, -1,]]\n",
    " )\n",
    "# print(ls.to_row_echelon_form((u)))\n",
    "# print()\n",
    "solution = ls.find_basic_solution(u)\n",
    "\n",
    "nonzero = np.nonzero(solution)\n",
    "print(nonezero)"
   ]
  },
  {
   "cell_type": "code",
   "execution_count": 9,
   "metadata": {},
   "outputs": [
    {
     "name": "stdout",
     "output_type": "stream",
     "text": [
      "[[1]]\n",
      "\n"
     ]
    },
    {
     "data": {
      "text/plain": [
       "array([], dtype=float64)"
      ]
     },
     "execution_count": 9,
     "metadata": {},
     "output_type": "execute_result"
    }
   ],
   "source": [
    "u = np.array([[1]])\n",
    "print(ls.to_row_echelon_form((u)))\n",
    "print()\n",
    "ls.find_basic_solution(u)"
   ]
  },
  {
   "cell_type": "code",
   "execution_count": 9,
   "metadata": {},
   "outputs": [
    {
     "name": "stdout",
     "output_type": "stream",
     "text": [
      "[1, 1]\n",
      "11\n",
      "3\n",
      "[1, 1]\n",
      "11\n",
      "3\n",
      "[1, 1]\n",
      "11\n",
      "3\n"
     ]
    },
    {
     "data": {
      "text/plain": [
       "array([[0., 0., 0., 1.],\n",
       "       [0., 0., 0., 0.],\n",
       "       [0., 0., 0., 0.],\n",
       "       [1., 0., 0., 0.]])"
      ]
     },
     "execution_count": 9,
     "metadata": {},
     "output_type": "execute_result"
    }
   ],
   "source": [
    "gnrt_gate_hdi(u)[1]"
   ]
  },
  {
   "cell_type": "code",
   "execution_count": 9,
   "metadata": {},
   "outputs": [],
   "source": [
    "from scipy.linalg import expm\n",
    "def build_circ(params):\n",
    "  depth = len(params) // 2\n",
    "  qc = QuantumCircuit(num_qubits, num_qubits)\n",
    "  beta = params[:depth]\n",
    "  gamma = params[depth:]\n",
    "  # for i in [1,3,4,6,8,9]:\n",
    "  for i in [0, 1, 3, 5, 6, 8]:\n",
    "    qc.x(i)\n",
    "  for dp in range(depth):\n",
    "    qc.unitary(expm(-1j * beta[dp] * Hp), range(num_qubits)[::-1])\n",
    "    for gate_hdi, ind in zip(gate_hds, nonzero_indices):\n",
    "      qc.unitary(expm(-1j * gamma[dp] * gate_hdi), ind[::-1])\n",
    "  qc.barrier()\n",
    "  qc.measure(range(num_qubits), range(num_qubits)[::-1])\n",
    "  return qc"
   ]
  },
  {
   "cell_type": "code",
   "execution_count": 10,
   "metadata": {},
   "outputs": [
    {
     "data": {
      "text/html": [
       "<pre style=\"word-wrap: normal;white-space: pre;background: #fff0;line-height: 1.1;font-family: &quot;Courier New&quot;,Courier,monospace\">      ┌───┐┌──────────┐┌──────────┐            ┌──────────┐            »\n",
       " q_0: ┤ X ├┤9         ├┤5         ├────────────┤2         ├────────────»\n",
       "      ├───┤│          ││          │            │          │┌──────────┐»\n",
       " q_1: ┤ X ├┤8         ├┤4         ├────────────┤          ├┤4         ├»\n",
       "      └───┘│          ││          │┌──────────┐│          ││          │»\n",
       " q_2: ─────┤7         ├┤3         ├┤3         ├┤          ├┤3         ├»\n",
       "      ┌───┐│          ││  Unitary ││          ││          ││          │»\n",
       " q_3: ┤ X ├┤6         ├┤2         ├┤2         ├┤          ├┤2         ├»\n",
       "      └───┘│          ││          ││          ││          ││          │»\n",
       " q_4: ─────┤5         ├┤1         ├┤          ├┤  Unitary ├┤          ├»\n",
       "      ┌───┐│  Unitary ││          ││  Unitary ││          ││          │»\n",
       " q_5: ┤ X ├┤4         ├┤0         ├┤          ├┤          ├┤  Unitary ├»\n",
       "      ├───┤│          │└──────────┘│          ││          ││          │»\n",
       " q_6: ┤ X ├┤3         ├────────────┤1         ├┤1         ├┤1         ├»\n",
       "      └───┘│          │            │          ││          ││          │»\n",
       " q_7: ─────┤2         ├────────────┤0         ├┤          ├┤          ├»\n",
       "      ┌───┐│          │            └──────────┘│          ││          │»\n",
       " q_8: ┤ X ├┤1         ├────────────────────────┤0         ├┤          ├»\n",
       "      └───┘│          │                        └──────────┘│          │»\n",
       " q_9: ─────┤0         ├────────────────────────────────────┤0         ├»\n",
       "           └──────────┘                                    └──────────┘»\n",
       "c: 10/═════════════════════════════════════════════════════════════════»\n",
       "                                                                       »\n",
       "«      ┌──────────┐┌──────────┐            ┌──────────┐             ░ ┌─┐      »\n",
       "« q_0: ┤9         ├┤5         ├────────────┤2         ├─────────────░─┤M├──────»\n",
       "«      │          ││          │            │          │┌──────────┐ ░ └╥┘┌─┐   »\n",
       "« q_1: ┤8         ├┤4         ├────────────┤          ├┤4         ├─░──╫─┤M├───»\n",
       "«      │          ││          │┌──────────┐│          ││          │ ░  ║ └╥┘┌─┐»\n",
       "« q_2: ┤7         ├┤3         ├┤3         ├┤          ├┤3         ├─░──╫──╫─┤M├»\n",
       "«      │          ││  Unitary ││          ││          ││          │ ░  ║  ║ └╥┘»\n",
       "« q_3: ┤6         ├┤2         ├┤2         ├┤          ├┤2         ├─░──╫──╫──╫─»\n",
       "«      │          ││          ││          ││          ││          │ ░  ║  ║  ║ »\n",
       "« q_4: ┤5         ├┤1         ├┤          ├┤  Unitary ├┤          ├─░──╫──╫──╫─»\n",
       "«      │  Unitary ││          ││  Unitary ││          ││          │ ░  ║  ║  ║ »\n",
       "« q_5: ┤4         ├┤0         ├┤          ├┤          ├┤  Unitary ├─░──╫──╫──╫─»\n",
       "«      │          │└──────────┘│          ││          ││          │ ░  ║  ║  ║ »\n",
       "« q_6: ┤3         ├────────────┤1         ├┤1         ├┤1         ├─░──╫──╫──╫─»\n",
       "«      │          │            │          ││          ││          │ ░  ║  ║  ║ »\n",
       "« q_7: ┤2         ├────────────┤0         ├┤          ├┤          ├─░──╫──╫──╫─»\n",
       "«      │          │            └──────────┘│          ││          │ ░  ║  ║  ║ »\n",
       "« q_8: ┤1         ├────────────────────────┤0         ├┤          ├─░──╫──╫──╫─»\n",
       "«      │          │                        └──────────┘│          │ ░  ║  ║  ║ »\n",
       "« q_9: ┤0         ├────────────────────────────────────┤0         ├─░──╫──╫──╫─»\n",
       "«      └──────────┘                                    └──────────┘ ░  ║  ║  ║ »\n",
       "«c: 10/════════════════════════════════════════════════════════════════╩══╩══╩═»\n",
       "«                                                                      9  8  7 »\n",
       "«                           \n",
       "« q_0: ─────────────────────\n",
       "«                           \n",
       "« q_1: ─────────────────────\n",
       "«                           \n",
       "« q_2: ─────────────────────\n",
       "«      ┌─┐                  \n",
       "« q_3: ┤M├──────────────────\n",
       "«      └╥┘┌─┐               \n",
       "« q_4: ─╫─┤M├───────────────\n",
       "«       ║ └╥┘┌─┐            \n",
       "« q_5: ─╫──╫─┤M├────────────\n",
       "«       ║  ║ └╥┘┌─┐         \n",
       "« q_6: ─╫──╫──╫─┤M├─────────\n",
       "«       ║  ║  ║ └╥┘┌─┐      \n",
       "« q_7: ─╫──╫──╫──╫─┤M├──────\n",
       "«       ║  ║  ║  ║ └╥┘┌─┐   \n",
       "« q_8: ─╫──╫──╫──╫──╫─┤M├───\n",
       "«       ║  ║  ║  ║  ║ └╥┘┌─┐\n",
       "« q_9: ─╫──╫──╫──╫──╫──╫─┤M├\n",
       "«       ║  ║  ║  ║  ║  ║ └╥┘\n",
       "«c: 10/═╩══╩══╩══╩══╩══╩══╩═\n",
       "«       6  5  4  3  2  1  0 </pre>"
      ],
      "text/plain": [
       "      ┌───┐┌──────────┐┌──────────┐            ┌──────────┐            »\n",
       " q_0: ┤ X ├┤9         ├┤5         ├────────────┤2         ├────────────»\n",
       "      ├───┤│          ││          │            │          │┌──────────┐»\n",
       " q_1: ┤ X ├┤8         ├┤4         ├────────────┤          ├┤4         ├»\n",
       "      └───┘│          ││          │┌──────────┐│          ││          │»\n",
       " q_2: ─────┤7         ├┤3         ├┤3         ├┤          ├┤3         ├»\n",
       "      ┌───┐│          ││  Unitary ││          ││          ││          │»\n",
       " q_3: ┤ X ├┤6         ├┤2         ├┤2         ├┤          ├┤2         ├»\n",
       "      └───┘│          ││          ││          ││          ││          │»\n",
       " q_4: ─────┤5         ├┤1         ├┤          ├┤  Unitary ├┤          ├»\n",
       "      ┌───┐│  Unitary ││          ││  Unitary ││          ││          │»\n",
       " q_5: ┤ X ├┤4         ├┤0         ├┤          ├┤          ├┤  Unitary ├»\n",
       "      ├───┤│          │└──────────┘│          ││          ││          │»\n",
       " q_6: ┤ X ├┤3         ├────────────┤1         ├┤1         ├┤1         ├»\n",
       "      └───┘│          │            │          ││          ││          │»\n",
       " q_7: ─────┤2         ├────────────┤0         ├┤          ├┤          ├»\n",
       "      ┌───┐│          │            └──────────┘│          ││          │»\n",
       " q_8: ┤ X ├┤1         ├────────────────────────┤0         ├┤          ├»\n",
       "      └───┘│          │                        └──────────┘│          │»\n",
       " q_9: ─────┤0         ├────────────────────────────────────┤0         ├»\n",
       "           └──────────┘                                    └──────────┘»\n",
       "c: 10/═════════════════════════════════════════════════════════════════»\n",
       "                                                                       »\n",
       "«      ┌──────────┐┌──────────┐            ┌──────────┐             ░ ┌─┐      »\n",
       "« q_0: ┤9         ├┤5         ├────────────┤2         ├─────────────░─┤M├──────»\n",
       "«      │          ││          │            │          │┌──────────┐ ░ └╥┘┌─┐   »\n",
       "« q_1: ┤8         ├┤4         ├────────────┤          ├┤4         ├─░──╫─┤M├───»\n",
       "«      │          ││          │┌──────────┐│          ││          │ ░  ║ └╥┘┌─┐»\n",
       "« q_2: ┤7         ├┤3         ├┤3         ├┤          ├┤3         ├─░──╫──╫─┤M├»\n",
       "«      │          ││  Unitary ││          ││          ││          │ ░  ║  ║ └╥┘»\n",
       "« q_3: ┤6         ├┤2         ├┤2         ├┤          ├┤2         ├─░──╫──╫──╫─»\n",
       "«      │          ││          ││          ││          ││          │ ░  ║  ║  ║ »\n",
       "« q_4: ┤5         ├┤1         ├┤          ├┤  Unitary ├┤          ├─░──╫──╫──╫─»\n",
       "«      │  Unitary ││          ││  Unitary ││          ││          │ ░  ║  ║  ║ »\n",
       "« q_5: ┤4         ├┤0         ├┤          ├┤          ├┤  Unitary ├─░──╫──╫──╫─»\n",
       "«      │          │└──────────┘│          ││          ││          │ ░  ║  ║  ║ »\n",
       "« q_6: ┤3         ├────────────┤1         ├┤1         ├┤1         ├─░──╫──╫──╫─»\n",
       "«      │          │            │          ││          ││          │ ░  ║  ║  ║ »\n",
       "« q_7: ┤2         ├────────────┤0         ├┤          ├┤          ├─░──╫──╫──╫─»\n",
       "«      │          │            └──────────┘│          ││          │ ░  ║  ║  ║ »\n",
       "« q_8: ┤1         ├────────────────────────┤0         ├┤          ├─░──╫──╫──╫─»\n",
       "«      │          │                        └──────────┘│          │ ░  ║  ║  ║ »\n",
       "« q_9: ┤0         ├────────────────────────────────────┤0         ├─░──╫──╫──╫─»\n",
       "«      └──────────┘                                    └──────────┘ ░  ║  ║  ║ »\n",
       "«c: 10/════════════════════════════════════════════════════════════════╩══╩══╩═»\n",
       "«                                                                      9  8  7 »\n",
       "«                           \n",
       "« q_0: ─────────────────────\n",
       "«                           \n",
       "« q_1: ─────────────────────\n",
       "«                           \n",
       "« q_2: ─────────────────────\n",
       "«      ┌─┐                  \n",
       "« q_3: ┤M├──────────────────\n",
       "«      └╥┘┌─┐               \n",
       "« q_4: ─╫─┤M├───────────────\n",
       "«       ║ └╥┘┌─┐            \n",
       "« q_5: ─╫──╫─┤M├────────────\n",
       "«       ║  ║ └╥┘┌─┐         \n",
       "« q_6: ─╫──╫──╫─┤M├─────────\n",
       "«       ║  ║  ║ └╥┘┌─┐      \n",
       "« q_7: ─╫──╫──╫──╫─┤M├──────\n",
       "«       ║  ║  ║  ║ └╥┘┌─┐   \n",
       "« q_8: ─╫──╫──╫──╫──╫─┤M├───\n",
       "«       ║  ║  ║  ║  ║ └╥┘┌─┐\n",
       "« q_9: ─╫──╫──╫──╫──╫──╫─┤M├\n",
       "«       ║  ║  ║  ║  ║  ║ └╥┘\n",
       "«c: 10/═╩══╩══╩══╩══╩══╩══╩═\n",
       "«       6  5  4  3  2  1  0 "
      ]
     },
     "execution_count": 10,
     "metadata": {},
     "output_type": "execute_result"
    }
   ],
   "source": [
    "ls.set_print_form()\n",
    "build_circ(np.full(2 * 2, np.pi/3)).draw()"
   ]
  },
  {
   "cell_type": "code",
   "execution_count": 11,
   "metadata": {},
   "outputs": [],
   "source": [
    "def cost_function(x):\n",
    "  num = [int(char) for char in x]\n",
    "  C = 0\n",
    "  for i in range(m):\n",
    "    for j in range(n):\n",
    "      C += d[i][j] * num[n * (1 + i) + j]\n",
    "      \n",
    "  for j in range(n):\n",
    "    C += g[j] * num[j]\n",
    "  return C\n",
    "\n",
    "def compute_expectation(counts):\n",
    "  EV = 0\n",
    "  total_count = 0\n",
    "  for x, count in counts.items():\n",
    "    C = cost_function(x)\n",
    "    EV += C*count\n",
    "    total_count += count\n",
    "\n",
    "  return EV/total_count\n",
    "\n",
    "\n",
    "def expectation_from_sample(shots = 2000):\n",
    "  backend = Aer.get_backend('qasm_simulator')\n",
    "  backend.shots = shots\n",
    "\n",
    "  def execute_circ(theta):\n",
    "    qc = build_circ(theta)\n",
    "    counts = backend.run(qc, seed_simulator=10, shots=shots).result().get_counts()\n",
    "    return compute_expectation(counts)\n",
    "  \n",
    "  return execute_circ"
   ]
  },
  {
   "cell_type": "code",
   "execution_count": 12,
   "metadata": {},
   "outputs": [],
   "source": [
    "# 初始化迭代计数器\n",
    "iteration_count = 0\n",
    "def test(par):\n",
    "  global iteration_count\n",
    "  iteration_count = 0\n",
    "  expectation = expectation_from_sample()\n",
    "  def callback(x):\n",
    "      global iteration_count\n",
    "      iteration_count += 1\n",
    "      if iteration_count % 10 == 0:\n",
    "          print(f\"Iteration {iteration_count}, Result: {expectation(x)}\")\n",
    "  # 设定最大迭代次数\n",
    "  max_iterations = 1000\n",
    "\n",
    "  # 使用 COBYLA 方法进行最小化，并设置 callback 函数\n",
    "  res = minimize(expectation, par, method='COBYLA', options={'maxiter': max_iterations}, callback=callback)\n",
    "  # 输出最终结果\n",
    "  print(\"Final Result:\", res)\n",
    "  backend = Aer.get_backend('qasm_simulator')\n",
    "  backend.shots = 100000\n",
    "\n",
    "  shots=100000\n",
    "  qc_res = build_circ(params=res.x)\n",
    "\n",
    "  counts = backend.run(qc_res, seed_simulator=10, shots = shots).result().get_counts()\n",
    "  # plot_histogram(counts)\n",
    "  sorted_counts = sorted(counts, key=counts.get, reverse=True)\n",
    "  print(\"\\n----------------- Full result ---------------------\")\n",
    "  print(\"selection\\t\\tprobability\\tvalue\")\n",
    "  print(\"---------------------------------------------------\")\n",
    "  for x in sorted_counts[:20]:\n",
    "    print(x, \"{:.2f}%\".format(counts[x] / shots * 100), cost_function(x))"
   ]
  },
  {
   "cell_type": "code",
   "execution_count": 13,
   "metadata": {},
   "outputs": [
    {
     "name": "stdout",
     "output_type": "stream",
     "text": [
      "depth == 1\n",
      "Iteration 10, Result: 7.0\n",
      "Final Result:  message: Optimization terminated successfully.\n",
      " success: True\n",
      "  status: 1\n",
      "     fun: 7.0\n",
      "       x: [ 7.854e-01  1.535e+00]\n",
      "    nfev: 18\n",
      "   maxcv: 0.0\n",
      "\n",
      "----------------- Full result ---------------------\n",
      "selection\t\tprobability\tvalue\n",
      "---------------------------------------------------\n",
      "1110010110 99.86% 7\n",
      "0101010000 0.14% 7\n",
      "\n",
      "depth == 2\n",
      "Iteration 10, Result: 6.979\n",
      "Iteration 20, Result: 6.942\n",
      "Iteration 30, Result: 6.9375\n",
      "Iteration 40, Result: 6.934\n",
      "Final Result:  message: Optimization terminated successfully.\n",
      " success: True\n",
      "  status: 1\n",
      "     fun: 6.934\n",
      "       x: [ 7.860e-01  2.587e-01  2.437e+00  2.057e+00]\n",
      "    nfev: 47\n",
      "   maxcv: 0.0\n",
      "\n",
      "----------------- Full result ---------------------\n",
      "selection\t\tprobability\tvalue\n",
      "---------------------------------------------------\n",
      "0101010000 69.11% 7\n",
      "1101101001 14.82% 7\n",
      "1110010110 8.48% 7\n",
      "1010100000 4.20% 4\n",
      "1101011010 3.39% 9\n",
      "\n",
      "depth == 3\n",
      "Iteration 10, Result: 7.625\n"
     ]
    }
   ],
   "source": [
    "for dep in range(1,10):\n",
    "  print(f'depth == {dep}')\n",
    "  test(np.full(dep * 2, np.pi/4))\n",
    "  print()"
   ]
  }
 ],
 "metadata": {
  "kernelspec": {
   "display_name": "quantum",
   "language": "python",
   "name": "python3"
  },
  "language_info": {
   "codemirror_mode": {
    "name": "ipython",
    "version": 3
   },
   "file_extension": ".py",
   "mimetype": "text/x-python",
   "name": "python",
   "nbconvert_exporter": "python",
   "pygments_lexer": "ipython3",
   "version": "3.10.14"
  }
 },
 "nbformat": 4,
 "nbformat_minor": 2
}
