{
 "cells": [
  {
   "cell_type": "code",
   "execution_count": 1,
   "metadata": {},
   "outputs": [],
   "source": [
    "import networkx as nx\n",
    "import matplotlib.pyplot as plt\n",
    "\n",
    "from qiskit import QuantumCircuit, ClassicalRegister, QuantumRegister\n",
    "from qiskit_aer import Aer\n",
    "from qiskit.circuit import Parameter\n",
    "from qiskit.visualization import plot_histogram\n",
    "\n",
    "import numpy as np\n",
    "from scipy.optimize import minimize"
   ]
  },
  {
   "cell_type": "code",
   "execution_count": 2,
   "metadata": {},
   "outputs": [],
   "source": [
    "# dij需求i到设施j的成本\n",
    "d = [[1, 2], [1, 2]]\n",
    "n = 2   # 两个设施点\n",
    "m = 2   # 两个需求点\n",
    "# d = [[1, 2], [3, 4], [5, 6]]\n",
    "# n = 2   # 两个设施点\n",
    "# m = 3   # 三个需求点\n",
    "num_qubits = n + 2 * n * m\n",
    "\n",
    "# gi设施i的建设成本\n",
    "g = [2, 1]\n"
   ]
  },
  {
   "cell_type": "code",
   "execution_count": 3,
   "metadata": {},
   "outputs": [],
   "source": [
    "penalty = 40\n",
    "depth = 5\n",
    "params = np.ones(depth * 2)"
   ]
  },
  {
   "cell_type": "code",
   "execution_count": 4,
   "metadata": {},
   "outputs": [],
   "source": [
    "GateX = np.array([[0, 1],[1, 0]])\n",
    "GateY = np.array([[0, -1j],[1j, 0]])\n",
    "GateZ = np.array([[1, 0],[0, -1]])"
   ]
  },
  {
   "cell_type": "code",
   "execution_count": 5,
   "metadata": {},
   "outputs": [],
   "source": [
    "# dtype=np.complex128\n",
    "def add_in_target(num_qubits, target_qubit, gate=np.array([[1, 0],[0, -1]])):\n",
    "    H = np.eye(2 ** (target_qubit))\n",
    "    H = np.kron(H, gate)\n",
    "    H = np.kron(H, np.eye(2 ** (num_qubits - 1 - target_qubit)))\n",
    "    return H\n",
    "\n",
    "\n",
    "def generate_Hp(n, m, d, g):\n",
    "    # 初始化 Hp 矩阵为零矩阵\n",
    "    # print(num_qubits)\n",
    "    Hp = np.zeros((2**num_qubits, 2**num_qubits))\n",
    "    for i in range(m):\n",
    "        for j in range(n):\n",
    "            Hp += d[i][j] * (add_in_target(num_qubits, n * (1 + i) + j) - np.eye(2**num_qubits)) / 2\n",
    "    \n",
    "    for j in range(n):\n",
    "        Hp +=  g[j] * (add_in_target(num_qubits, j)- np.eye(2**num_qubits)) / 2\n",
    "\n",
    "    # for i in range(m):\n",
    "    #     Ht = np.zeros((2**num_qubits, 2**num_qubits))\n",
    "    #     for j in range(n):\n",
    "    #         Ht += (np.eye(2**num_qubits) - add_in_target(num_qubits, n * (1 + i) + j)) / 2\n",
    "    #     Ht -= np.eye(2**num_qubits)\n",
    "    #     Hp += -penalty * Ht @ Ht\n",
    "    \n",
    "    # for i in range(m):\n",
    "    #     for j in range(n):\n",
    "    #         Ht = (np.eye(2**num_qubits) - add_in_target(num_qubits, n * (1 + i) + j)) / 2 + (np.eye(2**num_qubits) - add_in_target(num_qubits, n * (1 + m + i) + j)) / 2 + (np.eye(2**num_qubits) - add_in_target(num_qubits, j)) / 2\n",
    "    #         Hp += -penalty * Ht @ Ht\n",
    "\n",
    "    return Hp"
   ]
  },
  {
   "cell_type": "code",
   "execution_count": 6,
   "metadata": {},
   "outputs": [],
   "source": [
    "# def gnrt_Hd(n, m):\n",
    "#   mn = m * n\n",
    "#   Hd = np.zeros((2**mn, 2**mn)).astype(np.complex128)\n",
    "#   for i in range(mn):\n",
    "#     j = (i + 1) % mn\n",
    "#     Hd += (add_in_target(mn, i, GateX) @ add_in_target(mn, j, GateX) + add_in_target(mn, i, GateY) @ add_in_target(mn, j, GateY))\n",
    "#   return -Hd\n"
   ]
  },
  {
   "cell_type": "code",
   "execution_count": 7,
   "metadata": {},
   "outputs": [],
   "source": [
    "def gnrt_Hd0():\n",
    "  Hd = np.zeros((2**3, 2**3)).astype(np.complex128)\n",
    "  Hd += (add_in_target(3, 0, GateX) @ add_in_target(3, 1, GateX) + add_in_target(3, 0, GateY) @ add_in_target(3, 1, GateY))\n",
    "  Hd += (add_in_target(3, 1, GateX) @ add_in_target(3, 2, GateX) + add_in_target(3, 1, GateY) @ add_in_target(3, 2, GateY))\n",
    "  Hd += (add_in_target(3, 2, GateX) @ add_in_target(3, 0, GateX) + add_in_target(3, 2, GateY) @ add_in_target(3, 0, GateY))\n",
    "  return Hd"
   ]
  },
  {
   "cell_type": "code",
   "execution_count": 8,
   "metadata": {},
   "outputs": [],
   "source": [
    "def gnrt_Hd1():\n",
    "  Hd = np.zeros((2**3, 2**3)).astype(np.complex128)\n",
    "  Hd += (add_in_target(3, 0, GateX) @ add_in_target(3, 1, GateX) + add_in_target(3, 0, GateY) @ add_in_target(3, 1, GateY))\n",
    "  Hd += (add_in_target(3, 1, GateX) @ add_in_target(3, 2, GateX) - add_in_target(3, 1, GateY) @ add_in_target(3, 2, GateY))\n",
    "  Hd += (add_in_target(3, 2, GateX) @ add_in_target(3, 0, GateX) - add_in_target(3, 2, GateY) @ add_in_target(3, 0, GateY))\n",
    "  return Hd"
   ]
  },
  {
   "cell_type": "code",
   "execution_count": 9,
   "metadata": {},
   "outputs": [],
   "source": [
    "def gnrt_Hd2():\n",
    "  Hd = np.zeros((2**5, 2**5)).astype(np.complex128)\n",
    "  Hd += (add_in_target(5, 0, GateX) @ add_in_target(5, 3, GateX) + add_in_target(5, 0, GateY) @ add_in_target(5, 3, GateY))\n",
    "  Hd += (add_in_target(5, 3, GateX) @ add_in_target(5, 4, GateX) - add_in_target(5, 3, GateY) @ add_in_target(5, 4, GateY))\n",
    "  Hd += (add_in_target(5, 4, GateX) @ add_in_target(5, 0, GateX) - add_in_target(5, 4, GateY) @ add_in_target(5, 0, GateY))\n",
    "  return Hd"
   ]
  },
  {
   "cell_type": "code",
   "execution_count": 10,
   "metadata": {},
   "outputs": [],
   "source": [
    "def gnrt_Hd3():\n",
    "  Hd = np.zeros((2**6, 2**6)).astype(np.complex128)\n",
    "  Hd += (add_in_target(6, 0, GateX) @ add_in_target(6, 1, GateX) + add_in_target(6, 0, GateY) @ add_in_target(6, 1, GateY))\n",
    "  Hd += (add_in_target(6, 1, GateX) @ add_in_target(6, 2, GateX) - add_in_target(6, 1, GateY) @ add_in_target(6, 2, GateY))\n",
    "  Hd += (add_in_target(6, 2, GateX) @ add_in_target(6, 0, GateX) - add_in_target(6, 2, GateY) @ add_in_target(6, 0, GateY))\n",
    "\n",
    "  Hd += (add_in_target(6, 1, GateX) @ add_in_target(6, 4, GateX) + add_in_target(6, 0, GateY) @ add_in_target(6, 4, GateY))\n",
    "  Hd += (add_in_target(6, 4, GateX) @ add_in_target(6, 5, GateX) - add_in_target(6, 4, GateY) @ add_in_target(6, 5, GateY))\n",
    "  Hd += (add_in_target(6, 5, GateX) @ add_in_target(6, 0, GateX) - add_in_target(6, 5, GateY) @ add_in_target(6, 0, GateY))\n",
    "  return Hd"
   ]
  },
  {
   "cell_type": "code",
   "execution_count": 11,
   "metadata": {},
   "outputs": [
    {
     "data": {
      "text/plain": [
       "[1, 2, 3]"
      ]
     },
     "execution_count": 11,
     "metadata": {},
     "output_type": "execute_result"
    }
   ],
   "source": [
    "a = [1, 2, 3, 4, 5]\n",
    "a[:3]"
   ]
  },
  {
   "cell_type": "code",
   "execution_count": 12,
   "metadata": {},
   "outputs": [],
   "source": [
    "def chg1to3():\n",
    "  for i in range(16):\n",
    "    B = np.zeros(16)\n",
    "    B[i] = 1\n",
    "    Z = np.zeros((2 ** 4, 2 ** 4)).astype(np.complex128)\n",
    "    a = add_in_target(4, 0, GateX)@add_in_target(4, 1, GateX)@add_in_target(4, 2, GateX)@add_in_target(4, 3, GateX) + add_in_target(4, 0, GateY)@add_in_target(4, 1, GateY)@add_in_target(4, 2, GateY)@add_in_target(4, 3, GateY)\n",
    "    b = add_in_target(4, 0, GateX)@add_in_target(4, 1, GateY)@add_in_target(4, 2, GateY)@add_in_target(4, 3, GateX) + add_in_target(4, 0, GateY)@add_in_target(4, 1, GateX)@add_in_target(4, 2, GateX)@add_in_target(4, 3, GateY)\n",
    "    c = add_in_target(4, 0, GateX)@add_in_target(4, 1, GateY)@add_in_target(4, 2, GateX)@add_in_target(4, 3, GateY) + add_in_target(4, 0, GateY)@add_in_target(4, 1, GateX)@add_in_target(4, 2, GateY)@add_in_target(4, 3, GateX)\n",
    "    d = add_in_target(4, 0, GateX)@add_in_target(4, 1, GateX)@add_in_target(4, 2, GateY)@add_in_target(4, 3, GateY) + add_in_target(4, 0, GateY)@add_in_target(4, 1, GateY)@add_in_target(4, 2, GateX)@add_in_target(4, 3, GateX)\n",
    "    Z = a - b + c + d\n",
    "    return Z\n",
    "    # print(B.astype(int))\n",
    "    # print(Z.dot(B).astype(int).real)\n",
    "    # print(\"====\")"
   ]
  },
  {
   "cell_type": "code",
   "execution_count": 13,
   "metadata": {},
   "outputs": [],
   "source": [
    "from scipy.linalg import expm\n",
    "def build_circ(n, m, d, g, params):\n",
    "  qc = QuantumCircuit(num_qubits)\n",
    "  beta = params[:depth]\n",
    "  gamma = params[depth:]\n",
    "  # for i in range(m * n):\n",
    "  #   qc.h(i)\n",
    "  # for i in range(m * n, m * n * 2 - 1):\n",
    "  #   qc.x(i)\n",
    "  qc.x(3)\n",
    "  qc.x(4)\n",
    "  qc.x(7)\n",
    "  qc.x(8)\n",
    "  # for i in range(7, 10):\n",
    "    # qc.x(i)\n",
    "  for dp in range(depth):\n",
    "    qc.unitary(expm(-1j * gamma[dp] * generate_Hp(n, m, d, g)), range(num_qubits), label=\"Hp\") # transpile\n",
    "    # \n",
    "    # for i in range(m * n):\n",
    "    #   qc.rx(beta[dp], i)\n",
    "    mov = 2\n",
    "    qc.unitary(expm(-1j * beta[dp] * chg1to3()/4), range(m * n + 2, 2 * m * n + 2), label=\"Hd11_1\")\n",
    "    qc.unitary(expm(-1j * beta[dp] * chg1to3()/4), range(m * n - mov, 2 * m * n - mov), label=\"Hd11_1\")\n",
    "    # qc.unitary(expm(-1j * beta[dp] * gnrt_Hd0()), range(m * n + 3 - mov, 2 * m * n + 2 - mov), label=\"Hd11_1\")\n",
    "    # qc.unitary(expm(-1j * beta[dp] * gnrt_Hd0()), range(m * n + 3, 2 * m * n + 2), label=\"Hd11_1_2\")\n",
    "    # qc.unitary(expm(-1j * beta[dp] * gnrt_Hd2()), range(m * n -2 , 2 * m * n - 1), label=\"Hd11_2\")\n",
    "    # qc.unitary(expm(-1j * beta[dp] * gnrt_Hd3()), range(2 , 8), label=\"Hd11_3\")\n",
    "    # for i in range(2 * m * n, num_qubits):\n",
    "    #   qc.rx(beta[dp], i)\n",
    "  qc.measure_all()\n",
    "  return qc"
   ]
  },
  {
   "cell_type": "code",
   "execution_count": 14,
   "metadata": {},
   "outputs": [
    {
     "name": "stdout",
     "output_type": "stream",
     "text": [
      "              ┌─────┐           ┌─────┐           ┌─────┐           ┌─────┐»\n",
      "    q_0: ─────┤0    ├───────────┤0    ├───────────┤0    ├───────────┤0    ├»\n",
      "              │     │           │     │           │     │           │     │»\n",
      "    q_1: ─────┤1    ├───────────┤1    ├───────────┤1    ├───────────┤1    ├»\n",
      "              │     │┌─────────┐│     │┌─────────┐│     │┌─────────┐│     │»\n",
      "    q_2: ─────┤2    ├┤0        ├┤2    ├┤0        ├┤2    ├┤0        ├┤2    ├»\n",
      "         ┌───┐│     ││         ││     ││         ││     ││         ││     │»\n",
      "    q_3: ┤ X ├┤3    ├┤1        ├┤3    ├┤1        ├┤3    ├┤1        ├┤3    ├»\n",
      "         ├───┤│     ││  Hd11_1 ││     ││  Hd11_1 ││     ││  Hd11_1 ││     │»\n",
      "    q_4: ┤ X ├┤4    ├┤2        ├┤4    ├┤2        ├┤4    ├┤2        ├┤4    ├»\n",
      "         └───┘│  Hp ││         ││  Hp ││         ││  Hp ││         ││  Hp │»\n",
      "    q_5: ─────┤5    ├┤3        ├┤5    ├┤3        ├┤5    ├┤3        ├┤5    ├»\n",
      "              │     │├─────────┤│     │├─────────┤│     │├─────────┤│     │»\n",
      "    q_6: ─────┤6    ├┤0        ├┤6    ├┤0        ├┤6    ├┤0        ├┤6    ├»\n",
      "         ┌───┐│     ││         ││     ││         ││     ││         ││     │»\n",
      "    q_7: ┤ X ├┤7    ├┤1        ├┤7    ├┤1        ├┤7    ├┤1        ├┤7    ├»\n",
      "         ├───┤│     ││  Hd11_1 ││     ││  Hd11_1 ││     ││  Hd11_1 ││     │»\n",
      "    q_8: ┤ X ├┤8    ├┤2        ├┤8    ├┤2        ├┤8    ├┤2        ├┤8    ├»\n",
      "         └───┘│     ││         ││     ││         ││     ││         ││     │»\n",
      "    q_9: ─────┤9    ├┤3        ├┤9    ├┤3        ├┤9    ├┤3        ├┤9    ├»\n",
      "              └─────┘└─────────┘└─────┘└─────────┘└─────┘└─────────┘└─────┘»\n",
      "meas: 10/══════════════════════════════════════════════════════════════════»\n",
      "                                                                           »\n",
      "«                    ┌─────┐            ░ ┌─┐                           \n",
      "«    q_0: ───────────┤0    ├────────────░─┤M├───────────────────────────\n",
      "«                    │     │            ░ └╥┘┌─┐                        \n",
      "«    q_1: ───────────┤1    ├────────────░──╫─┤M├────────────────────────\n",
      "«         ┌─────────┐│     │┌─────────┐ ░  ║ └╥┘┌─┐                     \n",
      "«    q_2: ┤0        ├┤2    ├┤0        ├─░──╫──╫─┤M├─────────────────────\n",
      "«         │         ││     ││         │ ░  ║  ║ └╥┘┌─┐                  \n",
      "«    q_3: ┤1        ├┤3    ├┤1        ├─░──╫──╫──╫─┤M├──────────────────\n",
      "«         │  Hd11_1 ││     ││  Hd11_1 │ ░  ║  ║  ║ └╥┘┌─┐               \n",
      "«    q_4: ┤2        ├┤4    ├┤2        ├─░──╫──╫──╫──╫─┤M├───────────────\n",
      "«         │         ││  Hp ││         │ ░  ║  ║  ║  ║ └╥┘┌─┐            \n",
      "«    q_5: ┤3        ├┤5    ├┤3        ├─░──╫──╫──╫──╫──╫─┤M├────────────\n",
      "«         ├─────────┤│     │├─────────┤ ░  ║  ║  ║  ║  ║ └╥┘┌─┐         \n",
      "«    q_6: ┤0        ├┤6    ├┤0        ├─░──╫──╫──╫──╫──╫──╫─┤M├─────────\n",
      "«         │         ││     ││         │ ░  ║  ║  ║  ║  ║  ║ └╥┘┌─┐      \n",
      "«    q_7: ┤1        ├┤7    ├┤1        ├─░──╫──╫──╫──╫──╫──╫──╫─┤M├──────\n",
      "«         │  Hd11_1 ││     ││  Hd11_1 │ ░  ║  ║  ║  ║  ║  ║  ║ └╥┘┌─┐   \n",
      "«    q_8: ┤2        ├┤8    ├┤2        ├─░──╫──╫──╫──╫──╫──╫──╫──╫─┤M├───\n",
      "«         │         ││     ││         │ ░  ║  ║  ║  ║  ║  ║  ║  ║ └╥┘┌─┐\n",
      "«    q_9: ┤3        ├┤9    ├┤3        ├─░──╫──╫──╫──╫──╫──╫──╫──╫──╫─┤M├\n",
      "«         └─────────┘└─────┘└─────────┘ ░  ║  ║  ║  ║  ║  ║  ║  ║  ║ └╥┘\n",
      "«meas: 10/═════════════════════════════════╩══╩══╩══╩══╩══╩══╩══╩══╩══╩═\n",
      "«                                          0  1  2  3  4  5  6  7  8  9 \n"
     ]
    }
   ],
   "source": [
    "print(build_circ(n, m, d, g, np.full(depth * 2, np.pi/4)))"
   ]
  },
  {
   "cell_type": "code",
   "execution_count": 15,
   "metadata": {},
   "outputs": [],
   "source": [
    "def cost_function(x):\n",
    "  num = [int(char) for char in x]\n",
    "  C = 0\n",
    "  for i in range(m):\n",
    "    for j in range(n):\n",
    "      C += d[i][j] * num[n * (1 + i) + j]\n",
    "      \n",
    "  for j in range(n):\n",
    "    C += g[j] * num[j]\n",
    "\n",
    "  # for i in range(m):\n",
    "  #   t = 0\n",
    "  #   for j in range(n):\n",
    "  #     t += num[n * (1 + i) + j]\n",
    "  #   C += penalty * (t - 1)**2\n",
    "\n",
    "  # for i in range(m):\n",
    "  #   for j in range(n):\n",
    "  #     C += penalty * (num[n * (1 + i) + j] + num[n * (1 + m + i) + j] - num[j]) ** 2\n",
    "  return C\n",
    "\n",
    "def compute_expectation(counts):\n",
    "  EV = 0\n",
    "  total_count = 0\n",
    "  for x, count in counts.items():\n",
    "    C = cost_function(x)\n",
    "    EV += C*count\n",
    "    total_count += count\n",
    "\n",
    "  return EV/total_count\n",
    "\n",
    "\n",
    "def expectation_from_sample(shots = 2000):\n",
    "  backend = Aer.get_backend('qasm_simulator')\n",
    "  backend.shots = shots\n",
    "\n",
    "  def execute_circ(theta):\n",
    "    qc = build_circ(n, m, d, g, theta)\n",
    "    counts = backend.run(qc, seed_simulator=10, shots=shots).result().get_counts()\n",
    "    return compute_expectation(counts)\n",
    "  \n",
    "  return execute_circ"
   ]
  },
  {
   "cell_type": "code",
   "execution_count": 16,
   "metadata": {},
   "outputs": [
    {
     "data": {
      "text/plain": [
       "2"
      ]
     },
     "execution_count": 16,
     "metadata": {},
     "output_type": "execute_result"
    }
   ],
   "source": [
    "cost_function('0000010101')"
   ]
  },
  {
   "cell_type": "code",
   "execution_count": 17,
   "metadata": {},
   "outputs": [],
   "source": [
    "from numpy.lib.utils import source\n",
    "from scipy.optimize import minimize\n",
    "import numpy as np\n",
    "# 初始化迭代计数器\n",
    "iteration_count = 0\n",
    "def test(pen, dep, par):\n",
    "  global penalty, depth, params, iteration_count\n",
    "  iteration_count = 0\n",
    "  penalty = pen\n",
    "  depth = dep\n",
    "  params = par\n",
    "  expectation = expectation_from_sample()\n",
    "  def callback(x):\n",
    "      global iteration_count\n",
    "      iteration_count += 1\n",
    "      if iteration_count % 10 == 0:\n",
    "          print(f\"Iteration {iteration_count}, Result: {expectation(x)}\")\n",
    "  # 设定最大迭代次数\n",
    "  max_iterations = 1000\n",
    "\n",
    "  # 使用 COBYLA 方法进行最小化，并设置 callback 函数\n",
    "  res = minimize(expectation, params, method='COBYLA', options={'maxiter': max_iterations}, callback=callback)\n",
    "  # 输出最终结果\n",
    "  print(\"Final Result:\", res)\n",
    "  backend = Aer.get_backend('aer_simulator')\n",
    "  backend.shots = 100000\n",
    "\n",
    "  shots=100000\n",
    "  qc_res = build_circ(n, m, d, g, params=res.x)\n",
    "\n",
    "  counts = backend.run(qc_res, seed_simulator=10, shots = shots).result().get_counts()\n",
    "  # plot_histogram(counts)\n",
    "  sorted_counts = sorted(counts, key=counts.get, reverse=True)\n",
    "  print(\"\\n----------------- Full result ---------------------\")\n",
    "  print(\"selection\\t\\tprobability\\tvalue\")\n",
    "  print(\"---------------------------------------------------\")\n",
    "  for x in sorted_counts[:20]:\n",
    "    print(x, \"{:.1f}%\".format(counts[x] / shots * 100), cost_function(x))"
   ]
  },
  {
   "cell_type": "code",
   "execution_count": 18,
   "metadata": {},
   "outputs": [
    {
     "name": "stdout",
     "output_type": "stream",
     "text": [
      "Iteration 10, Result: 3.348\n",
      "Iteration 20, Result: 3.545\n",
      "Iteration 30, Result: 3.3945\n",
      "Iteration 40, Result: 3.121\n",
      "Iteration 50, Result: 3.0115\n",
      "Iteration 60, Result: 3.0075\n",
      "Iteration 70, Result: 3.0085\n",
      "Iteration 80, Result: 3.004\n",
      "Iteration 90, Result: 3.0015\n",
      "Iteration 100, Result: 3.001\n",
      "Iteration 110, Result: 3.001\n",
      "Iteration 120, Result: 3.001\n",
      "Iteration 130, Result: 3.001\n",
      "Final Result:  message: Optimization terminated successfully.\n",
      " success: True\n",
      "  status: 1\n",
      "     fun: 3.001\n",
      "       x: [ 9.909e-01  1.139e+00  1.070e+00  1.150e+00  1.071e+00\n",
      "            1.971e+00  2.067e+00  1.114e+00  1.043e+00  1.041e+00\n",
      "            1.039e+00  1.039e+00]\n",
      "    nfev: 136\n",
      "   maxcv: 0.0\n",
      "\n",
      "----------------- Full result ---------------------\n",
      "selection\t\tprobability\tvalue\n",
      "---------------------------------------------------\n",
      "0110100100 99.9% 3\n",
      "0110011000 0.1% 4\n",
      "1001100100 0.0% 5\n"
     ]
    }
   ],
   "source": [
    "test(40, 4, np.full(4 * 3, np.pi/3))"
   ]
  }
 ],
 "metadata": {
  "kernelspec": {
   "display_name": "quantum",
   "language": "python",
   "name": "python3"
  },
  "language_info": {
   "codemirror_mode": {
    "name": "ipython",
    "version": 3
   },
   "file_extension": ".py",
   "mimetype": "text/x-python",
   "name": "python",
   "nbconvert_exporter": "python",
   "pygments_lexer": "ipython3",
   "version": "3.8.19"
  }
 },
 "nbformat": 4,
 "nbformat_minor": 2
}
