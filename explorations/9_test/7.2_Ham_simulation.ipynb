{
 "cells": [
  {
   "cell_type": "code",
   "execution_count": 13,
   "metadata": {},
   "outputs": [],
   "source": [
    "from scipy.linalg import expm\n",
    "import numpy as np\n",
    "\n",
    "import sys\n",
    "sys.path.append('../')\n",
    "import z_library.linear_system as ls\n",
    "\n",
    "ls.set_print_form(precision=3)"
   ]
  },
  {
   "cell_type": "code",
   "execution_count": 14,
   "metadata": {},
   "outputs": [],
   "source": [
    "\n",
    "# 定义σ+和σ-矩阵\n",
    "sigma_plus = np.array([[0, 1], [0, 0]])\n",
    "sigma_minus = np.array([[0, 0], [1, 0]])\n",
    "identity = np.array([[1, 0], [0, 1]])\n",
    "\n",
    "mlist = [sigma_plus, sigma_minus, identity]\n",
    "\n",
    "def tensor_product(matrices):\n",
    "    result = np.array(mlist[matrices[0]])\n",
    "    for matrix in matrices[1:]:\n",
    "        result = np.kron(result, mlist[matrix])\n",
    "    return result"
   ]
  },
  {
   "cell_type": "code",
   "execution_count": 15,
   "metadata": {},
   "outputs": [],
   "source": [
    "def get_simulate_unitary(t,v):    \n",
    "    # for unitary build contrary_v\n",
    "    contrary_v = [not(i) for i in v]\n",
    "    U = expm(-1j * 2 * np.pi * t * (tensor_product(v)+tensor_product(contrary_v)))\n",
    "    return U"
   ]
  },
  {
   "cell_type": "code",
   "execution_count": 16,
   "metadata": {},
   "outputs": [
    {
     "name": "stdout",
     "output_type": "stream",
     "text": [
      "[0.309+0.951j 0.309-0.951j 1.   +0.j    1.   +0.j    1.   +0.j    1.   +0.j    1.   +0.j    1.   +0.j   ]\n"
     ]
    }
   ],
   "source": [
    "## find the eigenvalues and eigenvectors\n",
    "eigenvalues, eigenvectors = np.linalg.eig(get_simulate_unitary(0.8,[1,1,0]))\n",
    "print(eigenvalues)"
   ]
  },
  {
   "cell_type": "code",
   "execution_count": 17,
   "metadata": {},
   "outputs": [],
   "source": [
    "U= get_simulate_unitary(0.8,[1,1,0])\n"
   ]
  },
  {
   "cell_type": "code",
   "execution_count": 20,
   "metadata": {},
   "outputs": [
    {
     "name": "stdout",
     "output_type": "stream",
     "text": [
      "[0.188 0.23  0.469 0.293 0.454 0.014 0.457 0.437]\n",
      "[0.188+0.j    0.071+0.434j 0.469+0.j    0.293+0.j    0.454+0.j    0.014+0.j    0.141+0.219j 0.437+0.j   ]\n",
      "[[0.035 0.043 0.088 0.055 0.085 0.003 0.086 0.082]\n",
      " [0.043 0.053 0.108 0.067 0.104 0.003 0.105 0.101]\n",
      " [0.088 0.108 0.22  0.138 0.213 0.006 0.214 0.205]\n",
      " [0.055 0.067 0.138 0.086 0.133 0.004 0.134 0.128]\n",
      " [0.085 0.104 0.213 0.133 0.206 0.006 0.207 0.198]\n",
      " [0.003 0.003 0.006 0.004 0.006 0.    0.006 0.006]\n",
      " [0.086 0.105 0.214 0.134 0.207 0.006 0.209 0.2  ]\n",
      " [0.082 0.101 0.205 0.128 0.198 0.006 0.2   0.191]]\n"
     ]
    }
   ],
   "source": [
    "initvec = np.random.rand(8)\n",
    "initvec = initvec / np.linalg.norm(initvec)\n",
    "print(initvec)\n",
    "print(U @ initvec)\n",
    "## get density matrix\n",
    "rho = np.outer(initvec, initvec.conj().T)\n",
    "print(rho)\n"
   ]
  },
  {
   "cell_type": "code",
   "execution_count": 10,
   "metadata": {},
   "outputs": [
    {
     "name": "stdout",
     "output_type": "stream",
     "text": [
      "       ┌───┐     ┌───┐          ┌───┐   ┌───┐         \n",
      "q_0: ──┤ H ├───■─┤ H ├─■────────┤ H ├─■─┤ H ├─■───────\n",
      "       └───┘   │ └───┘ │        └───┘ │ └───┘ │       \n",
      "q_1: ─■────────■───────┼──────────────■───────┼───────\n",
      "      │P(0.4)          │P(-0.4)               │P(0.4) \n",
      "q_2: ─■────────────────■──────────────────────■───────\n",
      "                                                      \n"
     ]
    }
   ],
   "source": [
    "cir = QuantumCircuit(3)\n",
    "cir.mcp(0.8, [0,1], 2)\n",
    "new_cir = transpile(cir, basis_gates=['x','cp','y','z','cz','ccz','ccp','h'])\n",
    "print(new_cir)"
   ]
  },
  {
   "cell_type": "code",
   "execution_count": 1,
   "metadata": {},
   "outputs": [],
   "source": [
    "from qiskit import QuantumCircuit\n",
    "from qiskit_aer import Aer\n",
    "from qiskit.circuit.library import MCMT\n",
    "from qiskit import transpile\n",
    "\n",
    "# 输入qc, 返回电路酉矩阵\n",
    "def get_circ_unitary(quantum_circuit):\n",
    "  backend = Aer.get_backend('unitary_simulator' )\n",
    "  new_circuit = transpile(quantum_circuit, backend)\n",
    "  job = backend.run(new_circuit)\n",
    "  result = job.result()\n",
    "  unitary = result.get_unitary()\n",
    "  return unitary"
   ]
  },
  {
   "cell_type": "code",
   "execution_count": 21,
   "metadata": {},
   "outputs": [
    {
     "data": {
      "text/html": [
       "<pre style=\"word-wrap: normal;white-space: pre;background: #fff0;line-height: 1.1;font-family: &quot;Courier New&quot;,Courier,monospace\">     ┌───┐          ┌───┐\n",
       "q_0: ┤ X ├──────────┤ X ├\n",
       "     ├───┤     ┌───┐└─┬─┘\n",
       "q_1: ┤ X ├─────┤ X ├──■──\n",
       "     ├───┤┌───┐└─┬─┘     \n",
       "q_2: ┤ X ├┤ H ├──■───────\n",
       "     └───┘└───┘          </pre>"
      ],
      "text/plain": [
       "     ┌───┐          ┌───┐\n",
       "q_0: ┤ X ├──────────┤ X ├\n",
       "     ├───┤     ┌───┐└─┬─┘\n",
       "q_1: ┤ X ├─────┤ X ├──■──\n",
       "     ├───┤┌───┐└─┬─┘     \n",
       "q_2: ┤ X ├┤ H ├──■───────\n",
       "     └───┘└───┘          "
      ]
     },
     "execution_count": 21,
     "metadata": {},
     "output_type": "execute_result"
    }
   ],
   "source": [
    "# 从q0加H后, cx控制其余门, 注意qiskit下标相反\n",
    "from qiskit import QuantumCircuit\n",
    "def iter_apply(qc,bitstring,i,num_qubits):\n",
    "    flip = bitstring[0]==0\n",
    "    if flip:\n",
    "        bitstring = [not(j) for j in bitstring]\n",
    "    if bitstring[1]:\n",
    "        qc.x(num_qubits-i-1)\n",
    "    qc.cx(num_qubits - i,num_qubits-(i+1))\n",
    "    next_bitstring = bitstring[1:]\n",
    "    if len(next_bitstring)>1:\n",
    "        return iter_apply(qc,next_bitstring,i+1,num_qubits)\n",
    "    else:\n",
    "        return qc\n",
    "        \n",
    "    \n",
    "\n",
    "def apply_convert(qc,bitstring):\n",
    "    ## 1111\n",
    "    num_qubits = len(bitstring)\n",
    "    qc.x(num_qubits - 1)\n",
    "    qc.h(num_qubits - 1)\n",
    "    ## 1111+0111\n",
    "    ##find bit start with 1\n",
    "    iter_apply(qc,bitstring,1,num_qubits)\n",
    "\n",
    "num_q = 3\n",
    "qc = QuantumCircuit(num_q)\n",
    "bitstring = [1,0,1]\n",
    "for i in range(num_q-1):\n",
    "    qc.x(i)\n",
    "apply_convert(qc,bitstring)\n",
    "qc.draw()"
   ]
  },
  {
   "cell_type": "code",
   "execution_count": 22,
   "metadata": {},
   "outputs": [
    {
     "name": "stdout",
     "output_type": "stream",
     "text": [
      "验证制备 的叠加态: [ 0.   +0.j  0.   +0.j  0.707+0.j  0.   +0.j  0.   +0.j -0.707-0.j  0.   +0.j  0.   +0.j]\n"
     ]
    }
   ],
   "source": [
    "# 验证确实为 |101> + |010> 的叠加态\n",
    "print(f'验证制备 的叠加态: {np.asarray(get_circ_unitary(qc))[:,0]}')\n"
   ]
  },
  {
   "cell_type": "code",
   "execution_count": 26,
   "metadata": {},
   "outputs": [
    {
     "data": {
      "text/html": [
       "<pre style=\"word-wrap: normal;white-space: pre;background: #fff0;line-height: 1.1;font-family: &quot;Courier New&quot;,Courier,monospace\">     ┌───┐┌───┐               \n",
       "q_0: ┤ X ├┤ X ├───────────────\n",
       "     ├───┤└─┬─┘┌───┐          \n",
       "q_1: ┤ X ├──■──┤ X ├──────────\n",
       "     ├───┤     └─┬─┘┌───┐┌───┐\n",
       "q_2: ┤ X ├───────■──┤ H ├┤ X ├\n",
       "     └───┘          └───┘└───┘</pre>"
      ],
      "text/plain": [
       "     ┌───┐┌───┐               \n",
       "q_0: ┤ X ├┤ X ├───────────────\n",
       "     ├───┤└─┬─┘┌───┐          \n",
       "q_1: ┤ X ├──■──┤ X ├──────────\n",
       "     ├───┤     └─┬─┘┌───┐┌───┐\n",
       "q_2: ┤ X ├───────■──┤ H ├┤ X ├\n",
       "     └───┘          └───┘└───┘"
      ]
     },
     "execution_count": 26,
     "metadata": {},
     "output_type": "execute_result"
    }
   ],
   "source": [
    "def reversed_iter_apply(qc,bitstring,i,num_qubits):\n",
    "    flip = bitstring[0]==0\n",
    "    if flip:\n",
    "        bitstring = [not(j) for j in bitstring]\n",
    "    if len(bitstring)>1:\n",
    "        reversed_iter_apply(qc,bitstring[1:],i+1,num_qubits)\n",
    "    else:\n",
    "        return qc\n",
    "    qc.cx(num_qubits - i,num_qubits-(i+1))\n",
    "    if bitstring[1]:\n",
    "        qc.x(num_qubits-i-1)\n",
    "    return qc\n",
    "    \n",
    "\n",
    "def reverse_apply_convert(qc,bitstring):\n",
    "    ## 1111\n",
    "    num_qubits = len(bitstring)\n",
    "    reversed_iter_apply(qc,bitstring,1,num_qubits)\n",
    "    qc.h(num_qubits - 1)\n",
    "    qc.x(num_qubits - 1)\n",
    "    ## 1111+0111\n",
    "    ##find bit start with 1\n",
    "\n",
    "num_q = 3\n",
    "qc = QuantumCircuit(num_q)\n",
    "bitstring = [1,0,1]\n",
    "for i in range(num_q):\n",
    "    qc.x(i)\n",
    "reverse_apply_convert(qc,bitstring)\n",
    "qc.draw()"
   ]
  },
  {
   "cell_type": "code",
   "execution_count": 109,
   "metadata": {},
   "outputs": [
    {
     "name": "stdout",
     "output_type": "stream",
     "text": [
      "验证反向的态: [ 0.   +0.j  0.   +0.j  0.   +0.j  0.   +0.j  0.   +0.j -0.707+0.j  0.   +0.j  0.   +0.j  0.   +0.j  0.   +0.j  0.   +0.j  0.   +0.j  0.   +0.j  0.707+0.j  0.   +0.j  0.   +0.j]\n"
     ]
    }
   ],
   "source": [
    "print(f'验证反向的态: {np.asarray(get_circ_unitary(qc))[:,0]}')"
   ]
  },
  {
   "cell_type": "code",
   "execution_count": 79,
   "metadata": {},
   "outputs": [
    {
     "name": "stdout",
     "output_type": "stream",
     "text": [
      "[[ 1.   +0.j     0.   +0.j     0.   +0.j     0.   +0.j     0.   +0.j     0.   +0.j     0.   +0.j     0.   +0.j     0.   +0.j     0.   +0.j     0.   +0.j     0.   +0.j     0.   +0.j     0.   +0.j     0.   +0.j     0.   +0.j   ]\n",
      " [ 0.   +0.j     1.   +0.j     0.   +0.j     0.   +0.j     0.   +0.j     0.   +0.j     0.   +0.j     0.   +0.j     0.   +0.j     0.   +0.j     0.   +0.j     0.   +0.j     0.   +0.j     0.   +0.j     0.   +0.j     0.   +0.j   ]\n",
      " [ 0.   +0.j     0.   +0.j     1.   +0.j     0.   +0.j     0.   +0.j     0.   +0.j     0.   +0.j     0.   +0.j     0.   +0.j     0.   +0.j     0.   +0.j     0.   +0.j     0.   +0.j     0.   +0.j     0.   +0.j     0.   +0.j   ]\n",
      " [ 0.   +0.j     0.   +0.j     0.   +0.j     0.809-0.j     0.   +0.j     0.   +0.j     0.   +0.j     0.   +0.j     0.   +0.j     0.   +0.j     0.   +0.j     0.   +0.j     0.   +0.588j  0.   +0.j     0.   +0.j     0.   +0.j   ]\n",
      " [ 0.   +0.j     0.   +0.j     0.   +0.j     0.   +0.j     1.   +0.j     0.   +0.j     0.   +0.j     0.   +0.j     0.   +0.j     0.   +0.j     0.   +0.j     0.   +0.j     0.   +0.j     0.   +0.j     0.   +0.j     0.   +0.j   ]\n",
      " [ 0.   +0.j     0.   +0.j     0.   +0.j     0.   +0.j     0.   +0.j     1.   +0.j     0.   +0.j     0.   +0.j     0.   +0.j     0.   +0.j     0.   +0.j     0.   +0.j     0.   +0.j     0.   +0.j     0.   +0.j     0.   +0.j   ]\n",
      " [ 0.   +0.j     0.   +0.j     0.   +0.j     0.   +0.j     0.   +0.j     0.   +0.j     1.   +0.j     0.   +0.j     0.   +0.j     0.   +0.j     0.   +0.j     0.   +0.j     0.   +0.j     0.   +0.j     0.   +0.j     0.   +0.j   ]\n",
      " [ 0.   +0.j     0.   +0.j     0.   +0.j     0.   +0.j     0.   +0.j     0.   +0.j     0.   +0.j     1.   +0.j     0.   +0.j     0.   +0.j     0.   +0.j     0.   +0.j     0.   +0.j     0.   +0.j     0.   +0.j     0.   +0.j   ]\n",
      " [ 0.   +0.j     0.   +0.j     0.   +0.j     0.   +0.j     0.   +0.j     0.   +0.j     0.   +0.j     0.   +0.j     1.   +0.j     0.   +0.j     0.   +0.j     0.   +0.j     0.   +0.j     0.   +0.j     0.   +0.j     0.   +0.j   ]\n",
      " [ 0.   +0.j     0.   +0.j     0.   +0.j     0.   +0.j     0.   +0.j     0.   +0.j     0.   +0.j     0.   +0.j     0.   +0.j     1.   +0.j     0.   +0.j     0.   +0.j     0.   +0.j     0.   +0.j     0.   +0.j     0.   +0.j   ]\n",
      " [ 0.   +0.j     0.   +0.j     0.   +0.j     0.   +0.j     0.   +0.j     0.   +0.j     0.   +0.j     0.   +0.j     0.   +0.j     0.   +0.j     1.   +0.j     0.   +0.j     0.   +0.j     0.   +0.j     0.   +0.j     0.   +0.j   ]\n",
      " [ 0.   +0.j     0.   +0.j     0.   +0.j     0.   +0.j     0.   +0.j     0.   +0.j     0.   +0.j     0.   +0.j     0.   +0.j     0.   +0.j     0.   +0.j     1.   +0.j     0.   +0.j     0.   +0.j     0.   +0.j     0.   +0.j   ]\n",
      " [ 0.   +0.j     0.   +0.j     0.   +0.j    -0.   +0.588j  0.   +0.j     0.   +0.j     0.   +0.j     0.   +0.j     0.   +0.j     0.   +0.j     0.   +0.j     0.   +0.j     0.809+0.j     0.   +0.j     0.   +0.j     0.   +0.j   ]\n",
      " [ 0.   +0.j     0.   +0.j     0.   +0.j     0.   +0.j     0.   +0.j     0.   +0.j     0.   +0.j     0.   +0.j     0.   +0.j     0.   +0.j     0.   +0.j     0.   +0.j     0.   +0.j     1.   +0.j     0.   +0.j     0.   +0.j   ]\n",
      " [ 0.   +0.j     0.   +0.j     0.   +0.j     0.   +0.j     0.   +0.j     0.   +0.j     0.   +0.j     0.   +0.j     0.   +0.j     0.   +0.j     0.   +0.j     0.   +0.j     0.   +0.j     0.   +0.j     1.   +0.j     0.   +0.j   ]\n",
      " [ 0.   +0.j     0.   +0.j     0.   +0.j     0.   +0.j     0.   +0.j     0.   +0.j     0.   +0.j     0.   +0.j     0.   +0.j     0.   +0.j     0.   +0.j     0.   +0.j     0.   +0.j     0.   +0.j     0.   +0.j     1.   +0.j   ]]\n",
      "     ┌───┐┌───┐                convert             multi-ctrl                      reverse ┌───┐               ┌───┐\n",
      "q_0: ┤ X ├┤ X ├───────────────────░─────■──────────────░────────────■─────────────────░────┤ X ├───────────────┤ X ├\n",
      "     └─┬─┘├───┤                   ░     │              ░            │                 ░    └───┘          ┌───┐└─┬─┘\n",
      "q_1: ──■──┤ X ├───────────────────░─────■──────────────░────────────■─────────────────░───────────────────┤ X ├──■──\n",
      "          └─┬─┘┌───┐┌───┐         ░     │              ░            │                 ░    ┌───┐     ┌───┐└─┬─┘     \n",
      "q_2: ───────■──┤ X ├┤ X ├─────────░─────■──────────────░────────────■─────────────────░────┤ X ├─────┤ X ├──■───────\n",
      "               └─┬─┘├───┤┌───┐    ░     │P(-9π/5)      ░      ┌───┐ │P(9π/5) ┌───┐    ░    ├───┤┌───┐└─┬─┘          \n",
      "q_3: ────────────■──┤ H ├┤ X ├────░─────■──────────────░──────┤ X ├─■────────┤ X ├────░────┤ X ├┤ H ├──■────────────\n",
      "                    └───┘└───┘    ░                    ░      └───┘          └───┘    ░    └───┘└───┘               \n"
     ]
    }
   ],
   "source": [
    "def iter_apply(qc,bitstring,i,num_qubits):\n",
    "    flip = bitstring[0]==0\n",
    "    if flip:\n",
    "        bitstring = [not(j) for j in bitstring]\n",
    "    if bitstring[1]:\n",
    "        qc.x(num_qubits-i-1)\n",
    "    qc.cx(num_qubits - i,num_qubits-(i+1))\n",
    "    next_bitstring = bitstring[1:]\n",
    "    if len(next_bitstring)>1:\n",
    "        return iter_apply(qc,next_bitstring,i+1,num_qubits)\n",
    "    else:\n",
    "        return qc\n",
    "\n",
    "def apply_convert(qc,bitstring):\n",
    "    num_qubits = len(bitstring)\n",
    "    qc.x(num_qubits - 1)\n",
    "    qc.h(num_qubits - 1)\n",
    "    iter_apply(qc,bitstring,1,num_qubits)\n",
    "\n",
    "def reversed_iter_apply(qc,bitstring,i,num_qubits):\n",
    "    flip = bitstring[0]==0\n",
    "    if flip:\n",
    "        bitstring = [not(j) for j in bitstring]\n",
    "    if len(bitstring)>1:\n",
    "        reversed_iter_apply(qc,bitstring[1:],i+1,num_qubits)\n",
    "    else:\n",
    "        return qc\n",
    "    qc.cx(num_qubits - i,num_qubits-(i+1))\n",
    "    if bitstring[1]:\n",
    "        qc.x(num_qubits-i-1)\n",
    "    return qc\n",
    "    \n",
    "\n",
    "def reverse_apply_convert(qc,bitstring):\n",
    "    ## 1111\n",
    "    num_qubits = len(bitstring)\n",
    "    reversed_iter_apply(qc,bitstring,1,num_qubits)\n",
    "    qc.h(num_qubits - 1)\n",
    "    qc.x(num_qubits - 1)\n",
    "    ## 1111+0111\n",
    "    ##find bit start with 1\n",
    "\n",
    "\n",
    "def get_circuit(num_qubits,t,bitstring):\n",
    "    qc = QuantumCircuit(num_qubits)\n",
    "    # for i in range(num_qubits):\n",
    "    #     if i == index:\n",
    "    #         qc.x(i)\n",
    "    reverse_apply_convert(qc,bitstring)\n",
    "    qc.barrier(label='convert')\n",
    "    qc.mcp(-2*np.pi * t, list(range(1,num_qubits)),0)\n",
    "    qc.barrier(label='multi-ctrl')\n",
    "    qc.x(num_qubits-1)\n",
    "    \n",
    "    qc.mcp(2*np.pi * t, list(range(1,num_qubits)),0)\n",
    "    qc.x(num_qubits-1)\n",
    "    qc.barrier(label='reverse')\n",
    "    # qc.mcp(-2*np.pi * t, list(range(num_qubits-1)),num_qubits-1)\n",
    "    apply_convert(qc,bitstring)\n",
    "\n",
    "    # for i in range(num_qubits):\n",
    "    #     if i == index:\n",
    "    #         qc.x(i)\n",
    "    return qc\n",
    "t = 0.9\n",
    "bitstring = [0,0,1,1]\n",
    "num_q = len(bitstring)\n",
    "qc =get_circuit(num_q,t,bitstring)\n",
    "\n",
    "import numpy as np\n",
    "unitary = get_circ_unitary(qc)\n",
    "unitarymatrix= np.where(np.abs(unitary.data) < 1e-10, 0, unitary.data)\n",
    "print(unitarymatrix.round(4))\n",
    "print(qc.draw(fold=200))"
   ]
  },
  {
   "cell_type": "code",
   "execution_count": 80,
   "metadata": {},
   "outputs": [
    {
     "data": {
      "text/plain": [
       "True"
      ]
     },
     "execution_count": 80,
     "metadata": {},
     "output_type": "execute_result"
    }
   ],
   "source": [
    "np.allclose(unitarymatrix- get_simulate_unitary(t,bitstring), 0, atol=1e-10)"
   ]
  },
  {
   "cell_type": "code",
   "execution_count": 33,
   "metadata": {},
   "outputs": [
    {
     "data": {
      "text/plain": [
       "array([[1.   +0.j   , 0.   +0.j   , 0.   +0.j   , 0.   +0.j   , 0.   +0.j   , 0.   +0.j   , 0.   +0.j   , 0.   +0.j   ],\n",
       "       [0.   +0.j   , 1.   +0.j   , 0.   +0.j   , 0.   +0.j   , 0.   +0.j   , 0.   +0.j   , 0.   +0.j   , 0.   +0.j   ],\n",
       "       [0.   +0.j   , 0.   +0.j   , 0.809+0.j   , 0.   +0.j   , 0.   +0.j   , 0.   +0.588j, 0.   +0.j   , 0.   +0.j   ],\n",
       "       [0.   +0.j   , 0.   +0.j   , 0.   +0.j   , 1.   +0.j   , 0.   +0.j   , 0.   +0.j   , 0.   +0.j   , 0.   +0.j   ],\n",
       "       [0.   +0.j   , 0.   +0.j   , 0.   +0.j   , 0.   +0.j   , 1.   +0.j   , 0.   +0.j   , 0.   +0.j   , 0.   +0.j   ],\n",
       "       [0.   +0.j   , 0.   +0.j   , 0.   +0.588j, 0.   +0.j   , 0.   +0.j   , 0.809+0.j   , 0.   +0.j   , 0.   +0.j   ],\n",
       "       [0.   +0.j   , 0.   +0.j   , 0.   +0.j   , 0.   +0.j   , 0.   +0.j   , 0.   +0.j   , 1.   +0.j   , 0.   +0.j   ],\n",
       "       [0.   +0.j   , 0.   +0.j   , 0.   +0.j   , 0.   +0.j   , 0.   +0.j   , 0.   +0.j   , 0.   +0.j   , 1.   +0.j   ]])"
      ]
     },
     "execution_count": 33,
     "metadata": {},
     "output_type": "execute_result"
    }
   ],
   "source": [
    "t =0.9\n",
    "v = [0, 1, 0]\n",
    "\n",
    "# for unitary build contrary_v\n",
    "contrary_v = [not(i) for i in v]\n",
    "U = expm(-1j * 2 * np.pi * t * (tensor_product(v)+tensor_product(contrary_v)))\n",
    "U"
   ]
  },
  {
   "cell_type": "code",
   "execution_count": 52,
   "metadata": {},
   "outputs": [
    {
     "data": {
      "text/plain": [
       "Operator([[1.   +0.j   , 0.   +0.j   , 0.   +0.j   , 0.   +0.j   , 0.   +0.j   , 0.   +0.j   , 0.   +0.j   , 0.   +0.j   ],\n",
       "          [0.   +0.j   , 1.   +0.j   , 0.   +0.j   , 0.   +0.j   , 0.   +0.j   , 0.   +0.j   , 0.   +0.j   , 0.   +0.j   ],\n",
       "          [0.   +0.j   , 0.   +0.j   , 1.   +0.j   , 0.   +0.j   , 0.   +0.j   , 0.   +0.j   , 0.   +0.j   , 0.   +0.j   ],\n",
       "          [0.   +0.j   , 0.   +0.j   , 0.   +0.j   , 1.   +0.j   , 0.   +0.j   , 0.   +0.j   , 0.   +0.j   , 0.   +0.j   ],\n",
       "          [0.   +0.j   , 0.   +0.j   , 0.   +0.j   , 0.   +0.j   , 1.   +0.j   , 0.   +0.j   , 0.   +0.j   , 0.   +0.j   ],\n",
       "          [0.   +0.j   , 0.   +0.j   , 0.   +0.j   , 0.   +0.j   , 0.   +0.j   , 1.   +0.j   , 0.   +0.j   , 0.   +0.j   ],\n",
       "          [0.   +0.j   , 0.   +0.j   , 0.   +0.j   , 0.   +0.j   , 0.   +0.j   , 0.   +0.j   , 1.   +0.j   , 0.   +0.j   ],\n",
       "          [0.   +0.j   , 0.   +0.j   , 0.   +0.j   , 0.   +0.j   , 0.   +0.j   , 0.   +0.j   , 0.   +0.j   , 0.809-0.588j]],\n",
       "         input_dims=(2, 2, 2), output_dims=(2, 2, 2))"
      ]
     },
     "execution_count": 52,
     "metadata": {},
     "output_type": "execute_result"
    }
   ],
   "source": [
    "def when_1_add_phase(theta):\n",
    "    circ = QuantumCircuit(1)\n",
    "    circ.unitary(np.array([[1, 0], [0, np.exp(1j * theta)]]), 0)\n",
    "    gate = circ.to_gate()\n",
    "    return gate\n",
    "num_qubits = 3\n",
    "t = 0.9\n",
    "qc_ham_simu = QuantumCircuit(num_qubits)\n",
    "gete1 = when_1_add_phase(2 * np.pi * t)\n",
    "cc_gate1 = MCMT(gete1, num_qubits - 1, 1)\n",
    "# 哪个是受控门无所谓, 全 1 加相位\n",
    "qc_ham_simu.append(cc_gate1, range(num_qubits))\n",
    "get_circ_unitary(qc_ham_simu)"
   ]
  },
  {
   "cell_type": "code",
   "execution_count": 53,
   "metadata": {},
   "outputs": [
    {
     "data": {
      "text/plain": [
       "Operator([[1.   +0.j   , 0.   +0.j   , 0.   +0.j   , 0.   +0.j   , 0.   +0.j   , 0.   +0.j   , 0.   +0.j   , 0.   +0.j   ],\n",
       "          [0.   +0.j   , 1.   +0.j   , 0.   +0.j   , 0.   +0.j   , 0.   +0.j   , 0.   +0.j   , 0.   +0.j   , 0.   +0.j   ],\n",
       "          [0.   +0.j   , 0.   +0.j   , 1.   +0.j   , 0.   +0.j   , 0.   +0.j   , 0.   +0.j   , 0.   +0.j   , 0.   +0.j   ],\n",
       "          [0.   +0.j   , 0.   +0.j   , 0.   +0.j   , 1.   +0.j   , 0.   +0.j   , 0.   +0.j   , 0.   +0.j   , 0.   +0.j   ],\n",
       "          [0.   +0.j   , 0.   +0.j   , 0.   +0.j   , 0.   +0.j   , 1.   +0.j   , 0.   +0.j   , 0.   +0.j   , 0.   +0.j   ],\n",
       "          [0.   +0.j   , 0.   +0.j   , 0.   +0.j   , 0.   +0.j   , 0.   +0.j   , 1.   +0.j   , 0.   +0.j   , 0.   +0.j   ],\n",
       "          [0.   +0.j   , 0.   +0.j   , 0.   +0.j   , 0.   +0.j   , 0.   +0.j   , 0.   +0.j   , 1.   +0.j   , 0.   +0.j   ],\n",
       "          [0.   +0.j   , 0.   +0.j   , 0.   +0.j   , 0.   +0.j   , 0.   +0.j   , 0.   +0.j   , 0.   +0.j   , 0.809-0.588j]],\n",
       "         input_dims=(2, 2, 2), output_dims=(2, 2, 2))"
      ]
     },
     "execution_count": 53,
     "metadata": {},
     "output_type": "execute_result"
    }
   ],
   "source": [
    "qc_ham= QuantumCircuit(num_qubits)\n",
    "qc_ham.mcp(2*np.pi * t, list(range(1,num_qubits)),0)\n",
    "get_circ_unitary(qc_ham)"
   ]
  },
  {
   "cell_type": "code",
   "execution_count": 54,
   "metadata": {},
   "outputs": [
    {
     "data": {
      "text/plain": [
       "True"
      ]
     },
     "execution_count": 54,
     "metadata": {},
     "output_type": "execute_result"
    }
   ],
   "source": [
    "np.allclose(get_circ_unitary(qc_ham_simu)- get_circ_unitary(qc_ham),0)"
   ]
  },
  {
   "cell_type": "code",
   "execution_count": 56,
   "metadata": {},
   "outputs": [
    {
     "name": "stdout",
     "output_type": "stream",
     "text": [
      "     ┌───┐                ░             ░                      ░                ┌───┐\n",
      "q_0: ┤ X ├────────────────░──■──────────░───────■──────────────░────────────────┤ X ├\n",
      "     └─┬─┘┌───┐           ░  │          ░       │              ░           ┌───┐└─┬─┘\n",
      "q_1: ──■──┤ X ├───────────░──■──────────░───────■──────────────░───────────┤ X ├──■──\n",
      "          └─┬─┘┌───┐┌───┐ ░  │P(-9π/5)  ░ ┌───┐ │P(9π/5) ┌───┐ ░ ┌───┐┌───┐└─┬─┘     \n",
      "q_2: ───────■──┤ H ├┤ X ├─░──■──────────░─┤ X ├─■────────┤ X ├─░─┤ X ├┤ H ├──■───────\n",
      "               └───┘└───┘ ░             ░ └───┘          └───┘ ░ └───┘└───┘          \n",
      "酉矩阵作用后:\n",
      " [[ 1.   +0.j     0.   +0.j     0.   +0.j     0.   +0.j     0.   +0.j     0.   +0.j     0.   +0.j     0.   +0.j   ]\n",
      " [ 0.   +0.j     1.   +0.j     0.   +0.j     0.   +0.j     0.   +0.j     0.   +0.j     0.   +0.j     0.   +0.j   ]\n",
      " [ 0.   +0.j     0.   +0.j     0.809-0.j     0.   +0.j     0.   +0.j     0.   +0.588j  0.   +0.j     0.   +0.j   ]\n",
      " [ 0.   +0.j     0.   +0.j     0.   +0.j     1.   +0.j     0.   +0.j     0.   +0.j     0.   +0.j     0.   +0.j   ]\n",
      " [ 0.   +0.j     0.   +0.j     0.   +0.j     0.   +0.j     1.   +0.j     0.   +0.j     0.   +0.j     0.   +0.j   ]\n",
      " [ 0.   +0.j     0.   +0.j    -0.   +0.588j  0.   +0.j     0.   +0.j     0.809+0.j     0.   +0.j     0.   +0.j   ]\n",
      " [ 0.   +0.j     0.   +0.j     0.   +0.j     0.   +0.j     0.   +0.j     0.   +0.j     1.   +0.j     0.   +0.j   ]\n",
      " [ 0.   +0.j     0.   +0.j     0.   +0.j     0.   +0.j     0.   +0.j     0.   +0.j     0.   +0.j     1.   +0.j   ]]\n"
     ]
    }
   ],
   "source": [
    "num_qubits = 3\n",
    "qc_ham_simu = QuantumCircuit(num_qubits)\n",
    "\n",
    "# ==== 酉矩阵开始\n",
    "qc_ham_simu.cx(num_qubits - 2, num_qubits - 3)\n",
    "qc_ham_simu.cx(num_qubits - 1, num_qubits - 2)\n",
    "qc_ham_simu.h(num_qubits - 1)\n",
    "qc_ham_simu.x(num_qubits - 1)\n",
    "\n",
    "# 控制门开始\n",
    "\n",
    "qc_ham_simu.barrier()\n",
    "qc_ham_simu.mcp(-2*np.pi * t, list(range(1,num_qubits)),0)\n",
    "qc_ham_simu.barrier()\n",
    "\n",
    "qc_ham_simu.x(num_qubits - 1)\n",
    "qc_ham_simu.mcp(2*np.pi * t, list(range(1,num_qubits)),0)\n",
    "qc_ham_simu.x(num_qubits - 1)\n",
    "qc_ham_simu.barrier()\n",
    "# 控制门结束\n",
    "\n",
    "qc_ham_simu.x(num_qubits - 1) \n",
    "qc_ham_simu.h(num_qubits - 1)\n",
    "qc_ham_simu.cx(num_qubits - 1, num_qubits - 2)\n",
    "qc_ham_simu.cx(num_qubits - 2, num_qubits - 3)\n",
    "# ==== 酉矩阵结束\n",
    "print(qc_ham_simu.draw(fold=200))\n",
    "print(f'酉矩阵作用后:\\n {np.asarray(get_circ_unitary(qc_ham_simu))}')"
   ]
  },
  {
   "cell_type": "code",
   "execution_count": 64,
   "metadata": {},
   "outputs": [
    {
     "name": "stdout",
     "output_type": "stream",
     "text": [
      "                    ┌───┐                          ┌───┐               \n",
      "q_0: ───────────────┤ X ├─■───────────────■────────┤ X ├───────────────\n",
      "               ┌───┐└─┬─┘ │               │        └─┬─┘┌───┐          \n",
      "q_1: ──────────┤ X ├──■───■───────────────■──────────■──┤ X ├──────────\n",
      "     ┌───┐┌───┐└─┬─┘      │P(-9π/5) ┌───┐ │P(9π/5) ┌───┐└─┬─┘┌───┐┌───┐\n",
      "q_2: ┤ X ├┤ H ├──■────────■─────────┤ X ├─■────────┤ X ├──■──┤ H ├┤ X ├\n",
      "     └───┘└───┘                     └───┘          └───┘     └───┘└───┘\n"
     ]
    }
   ],
   "source": [
    "print(qc.draw(fold=200))"
   ]
  },
  {
   "cell_type": "code",
   "execution_count": 57,
   "metadata": {},
   "outputs": [
    {
     "name": "stdout",
     "output_type": "stream",
     "text": [
      "     ┌───┐                ░ ┌───────┐ ░      ┌───────┐      ░                ┌───┐\n",
      "q_0: ┤ X ├────────────────░─┤0      ├─░──────┤0      ├──────░────────────────┤ X ├\n",
      "     └─┬─┘┌───┐           ░ │       │ ░      │       │      ░           ┌───┐└─┬─┘\n",
      "q_1: ──■──┤ X ├───────────░─┤1 mcmt ├─░──────┤1 mcmt ├──────░───────────┤ X ├──■──\n",
      "          └─┬─┘┌───┐┌───┐ ░ │       │ ░ ┌───┐│       │┌───┐ ░ ┌───┐┌───┐└─┬─┘     \n",
      "q_2: ───────■──┤ H ├┤ X ├─░─┤2      ├─░─┤ X ├┤2      ├┤ X ├─░─┤ X ├┤ H ├──■───────\n",
      "               └───┘└───┘ ░ └───────┘ ░ └───┘└───────┘└───┘ ░ └───┘└───┘          \n",
      "酉矩阵作用后:\n",
      " [[ 1.   +0.j     0.   +0.j     0.   +0.j     0.   +0.j     0.   +0.j     0.   +0.j     0.   +0.j     0.   +0.j   ]\n",
      " [ 0.   +0.j     1.   +0.j     0.   +0.j     0.   +0.j     0.   +0.j     0.   +0.j     0.   +0.j     0.   +0.j   ]\n",
      " [ 0.   +0.j     0.   +0.j     0.809+0.j     0.   +0.j     0.   +0.j    -0.   +0.588j  0.   +0.j     0.   +0.j   ]\n",
      " [ 0.   +0.j     0.   +0.j     0.   +0.j     1.   +0.j     0.   +0.j     0.   +0.j     0.   +0.j     0.   +0.j   ]\n",
      " [ 0.   +0.j     0.   +0.j     0.   +0.j     0.   +0.j     1.   +0.j     0.   +0.j     0.   +0.j     0.   +0.j   ]\n",
      " [ 0.   +0.j     0.   +0.j    -0.   +0.588j  0.   +0.j     0.   +0.j     0.809+0.j     0.   +0.j     0.   +0.j   ]\n",
      " [ 0.   +0.j     0.   +0.j     0.   +0.j     0.   +0.j     0.   +0.j     0.   +0.j     1.   +0.j     0.   +0.j   ]\n",
      " [ 0.   +0.j     0.   +0.j     0.   +0.j     0.   +0.j     0.   +0.j     0.   +0.j     0.   +0.j     1.   +0.j   ]]\n"
     ]
    }
   ],
   "source": [
    "num_qubits = 3\n",
    "qc_ham_simu = QuantumCircuit(num_qubits)\n",
    "\n",
    "# ==== 酉矩阵开始\n",
    "qc_ham_simu.cx(num_qubits - 2, num_qubits - 3)\n",
    "qc_ham_simu.cx(num_qubits - 1, num_qubits - 2)\n",
    "qc_ham_simu.h(num_qubits - 1)\n",
    "qc_ham_simu.x(num_qubits - 1)\n",
    "\n",
    "# 控制门开始\n",
    "\n",
    "qc_ham_simu.barrier()\n",
    "# gate1: 对角阵 |0>态不动 |1>态加相位-e^it\n",
    "gete1 = when_1_add_phase(-2 * np.pi * t)\n",
    "cc_gate1 = MCMT(gete1, num_qubits - 1, 1)\n",
    "# 哪个是受控门无所谓, 全 1 加相位\n",
    "qc_ham_simu.append(cc_gate1, range(num_qubits))\n",
    "qc_ham_simu.barrier()\n",
    "\n",
    "# gate2: 对角阵 |0>态不动 |1>态加相位e^it\n",
    "gete2 = when_1_add_phase(2 * np.pi * t)\n",
    "cc_gate2 = MCMT(gete2, num_qubits - 1, 1)\n",
    "qc_ham_simu.x(num_qubits - 1)\n",
    "qc_ham_simu.append(cc_gate2, range(num_qubits))\n",
    "qc_ham_simu.x(num_qubits - 1)\n",
    "qc_ham_simu.barrier()\n",
    "# 控制门结束\n",
    "\n",
    "qc_ham_simu.x(num_qubits - 1) \n",
    "qc_ham_simu.h(num_qubits - 1)\n",
    "qc_ham_simu.cx(num_qubits - 1, num_qubits - 2)\n",
    "qc_ham_simu.cx(num_qubits - 2, num_qubits - 3)\n",
    "# ==== 酉矩阵结束\n",
    "print(qc_ham_simu.draw(fold=200))\n",
    "print(f'酉矩阵作用后:\\n {np.asarray(get_circ_unitary(qc_ham_simu))}')"
   ]
  },
  {
   "cell_type": "code",
   "execution_count": 58,
   "metadata": {},
   "outputs": [
    {
     "data": {
      "text/plain": [
       "array([[1.   +0.j   , 0.   +0.j   , 0.   +0.j   , 0.   +0.j   , 0.   +0.j   , 0.   +0.j   , 0.   +0.j   , 0.   +0.j   ],\n",
       "       [0.   +0.j   , 1.   +0.j   , 0.   +0.j   , 0.   +0.j   , 0.   +0.j   , 0.   +0.j   , 0.   +0.j   , 0.   +0.j   ],\n",
       "       [0.   +0.j   , 0.   +0.j   , 0.809+0.j   , 0.   +0.j   , 0.   +0.j   , 0.   +0.588j, 0.   +0.j   , 0.   +0.j   ],\n",
       "       [0.   +0.j   , 0.   +0.j   , 0.   +0.j   , 1.   +0.j   , 0.   +0.j   , 0.   +0.j   , 0.   +0.j   , 0.   +0.j   ],\n",
       "       [0.   +0.j   , 0.   +0.j   , 0.   +0.j   , 0.   +0.j   , 1.   +0.j   , 0.   +0.j   , 0.   +0.j   , 0.   +0.j   ],\n",
       "       [0.   +0.j   , 0.   +0.j   , 0.   +0.588j, 0.   +0.j   , 0.   +0.j   , 0.809+0.j   , 0.   +0.j   , 0.   +0.j   ],\n",
       "       [0.   +0.j   , 0.   +0.j   , 0.   +0.j   , 0.   +0.j   , 0.   +0.j   , 0.   +0.j   , 1.   +0.j   , 0.   +0.j   ],\n",
       "       [0.   +0.j   , 0.   +0.j   , 0.   +0.j   , 0.   +0.j   , 0.   +0.j   , 0.   +0.j   , 0.   +0.j   , 1.   +0.j   ]])"
      ]
     },
     "execution_count": 58,
     "metadata": {},
     "output_type": "execute_result"
    }
   ],
   "source": [
    "get_simulate_unitary(t,v)"
   ]
  },
  {
   "cell_type": "code",
   "execution_count": null,
   "metadata": {},
   "outputs": [],
   "source": []
  }
 ],
 "metadata": {
  "kernelspec": {
   "display_name": "Python 3",
   "language": "python",
   "name": "python3"
  },
  "language_info": {
   "codemirror_mode": {
    "name": "ipython",
    "version": 3
   },
   "file_extension": ".py",
   "mimetype": "text/x-python",
   "name": "python",
   "nbconvert_exporter": "python",
   "pygments_lexer": "ipython3",
   "version": "3.9.16"
  }
 },
 "nbformat": 4,
 "nbformat_minor": 2
}
