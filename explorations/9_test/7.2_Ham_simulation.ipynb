{
 "cells": [
  {
   "cell_type": "code",
   "execution_count": 1,
   "metadata": {},
   "outputs": [],
   "source": [
    "from scipy.linalg import expm\n",
    "import numpy as np\n",
    "\n",
    "import sys\n",
    "sys.path.append('../')\n",
    "import z_library.linear_system as ls\n",
    "\n",
    "ls.set_print_form(precision=3)"
   ]
  },
  {
   "cell_type": "code",
   "execution_count": 16,
   "metadata": {},
   "outputs": [
    {
     "data": {
      "text/latex": [
       "$\\displaystyle \\left[\\begin{matrix}\\frac{2.0 \\left(- 0.125 d^{2} + 0.25 i d + 0.5 \\left(b c + 0.25 d^{2} - 0.5 i d - 0.25\\right)^{1.0} + 0.125\\right) e^{0.5 d + 1.0 \\left(b c + 0.25 d^{2} - 0.5 i d - 0.25\\right)^{0.5} + 0.5 i}}{\\left(d + 2.0 \\left(b c + 0.25 d^{2} - 0.5 i d - 0.25\\right)^{0.5} - i\\right) \\left(b c + 0.25 d^{2} - 0.5 i d - 0.25\\right)^{0.5}} + \\frac{2.0 \\cdot \\left(0.125 d^{2} - 0.25 i d - 0.5 \\left(b c + 0.25 d^{2} - 0.5 i d - 0.25\\right)^{1.0} - 0.125\\right) e^{0.5 d - 1.0 \\left(b c + 0.25 d^{2} - 0.5 i d - 0.25\\right)^{0.5} + 0.5 i}}{\\left(d - 2.0 \\left(b c + 0.25 d^{2} - 0.5 i d - 0.25\\right)^{0.5} - i\\right) \\left(b c + 0.25 d^{2} - 0.5 i d - 0.25\\right)^{0.5}} & \\frac{2.0 b \\left(- 0.25 d^{2} + 0.5 i d + 1.0 \\left(b c + 0.25 d^{2} - 0.5 i d - 0.25\\right)^{1.0} + 0.25\\right) e^{0.5 d + 1.0 \\left(b c + 0.25 d^{2} - 0.5 i d - 0.25\\right)^{0.5} + 0.5 i}}{\\left(d + 2.0 \\left(b c + 0.25 d^{2} - 0.5 i d - 0.25\\right)^{0.5} - i\\right) \\left(- 1.0 d \\left(b c + 0.25 d^{2} - 0.5 i d - 0.25\\right)^{0.5} + 1.0 i \\left(b c + 0.25 d^{2} - 0.5 i d - 0.25\\right)^{0.5} + 2.0 \\left(b c + 0.25 d^{2} - 0.5 i d - 0.25\\right)^{1.0}\\right)} + \\frac{2.0 b \\left(- 0.25 d^{4} + 1.0 d^{3} \\left(b c + 0.25 d^{2} - 0.5 i d - 0.25\\right)^{0.5} + 1.0 i d^{3} - 3.0 i d^{2} \\left(b c + 0.25 d^{2} - 0.5 i d - 0.25\\right)^{0.5} + 1.5 d^{2} - 3.0 d \\left(b c + 0.25 d^{2} - 0.5 i d - 0.25\\right)^{0.5} - 4.0 d \\left(b c + 0.25 d^{2} - 0.5 i d - 0.25\\right)^{1.5} - 1.0 i d + 1.0 i \\left(b c + 0.25 d^{2} - 0.5 i d - 0.25\\right)^{0.5} + 4.0 i \\left(b c + 0.25 d^{2} - 0.5 i d - 0.25\\right)^{1.5} + 4.0 \\left(b c + 0.25 d^{2} - 0.5 i d - 0.25\\right)^{2.0} - 0.25\\right) e^{0.5 d - 1.0 \\left(b c + 0.25 d^{2} - 0.5 i d - 0.25\\right)^{0.5} + 0.5 i}}{\\left(d - 2.0 \\left(b c + 0.25 d^{2} - 0.5 i d - 0.25\\right)^{0.5} - i\\right) \\left(1.0 d^{3} \\left(b c + 0.25 d^{2} - 0.5 i d - 0.25\\right)^{0.5} - 3.0 i d^{2} \\left(b c + 0.25 d^{2} - 0.5 i d - 0.25\\right)^{0.5} - 2.0 d^{2} \\left(b c + 0.25 d^{2} - 0.5 i d - 0.25\\right)^{1.0} - 3.0 d \\left(b c + 0.25 d^{2} - 0.5 i d - 0.25\\right)^{0.5} + 4.0 i d \\left(b c + 0.25 d^{2} - 0.5 i d - 0.25\\right)^{1.0} - 4.0 d \\left(b c + 0.25 d^{2} - 0.5 i d - 0.25\\right)^{1.5} + 1.0 i \\left(b c + 0.25 d^{2} - 0.5 i d - 0.25\\right)^{0.5} + 2.0 \\left(b c + 0.25 d^{2} - 0.5 i d - 0.25\\right)^{1.0} + 4.0 i \\left(b c + 0.25 d^{2} - 0.5 i d - 0.25\\right)^{1.5} + 8.0 \\left(b c + 0.25 d^{2} - 0.5 i d - 0.25\\right)^{2.0}\\right)}\\\\\\frac{1.0 \\left(- 0.125 d^{2} + 0.25 i d + 0.5 \\left(b c + 0.25 d^{2} - 0.5 i d - 0.25\\right)^{1.0} + 0.125\\right) e^{0.5 d + 1.0 \\left(b c + 0.25 d^{2} - 0.5 i d - 0.25\\right)^{0.5} + 0.5 i}}{b \\left(b c + 0.25 d^{2} - 0.5 i d - 0.25\\right)^{0.5}} + \\frac{1.0 \\cdot \\left(0.125 d^{2} - 0.25 i d - 0.5 \\left(b c + 0.25 d^{2} - 0.5 i d - 0.25\\right)^{1.0} - 0.125\\right) e^{0.5 d - 1.0 \\left(b c + 0.25 d^{2} - 0.5 i d - 0.25\\right)^{0.5} + 0.5 i}}{b \\left(b c + 0.25 d^{2} - 0.5 i d - 0.25\\right)^{0.5}} & \\frac{1.0 \\left(- 0.25 d^{4} + 1.0 d^{3} \\left(b c + 0.25 d^{2} - 0.5 i d - 0.25\\right)^{0.5} + 1.0 i d^{3} - 3.0 i d^{2} \\left(b c + 0.25 d^{2} - 0.5 i d - 0.25\\right)^{0.5} + 1.5 d^{2} - 3.0 d \\left(b c + 0.25 d^{2} - 0.5 i d - 0.25\\right)^{0.5} - 4.0 d \\left(b c + 0.25 d^{2} - 0.5 i d - 0.25\\right)^{1.5} - 1.0 i d + 1.0 i \\left(b c + 0.25 d^{2} - 0.5 i d - 0.25\\right)^{0.5} + 4.0 i \\left(b c + 0.25 d^{2} - 0.5 i d - 0.25\\right)^{1.5} + 4.0 \\left(b c + 0.25 d^{2} - 0.5 i d - 0.25\\right)^{2.0} - 0.25\\right) e^{0.5 d - 1.0 \\left(b c + 0.25 d^{2} - 0.5 i d - 0.25\\right)^{0.5} + 0.5 i}}{1.0 d^{3} \\left(b c + 0.25 d^{2} - 0.5 i d - 0.25\\right)^{0.5} - 3.0 i d^{2} \\left(b c + 0.25 d^{2} - 0.5 i d - 0.25\\right)^{0.5} - 2.0 d^{2} \\left(b c + 0.25 d^{2} - 0.5 i d - 0.25\\right)^{1.0} - 3.0 d \\left(b c + 0.25 d^{2} - 0.5 i d - 0.25\\right)^{0.5} + 4.0 i d \\left(b c + 0.25 d^{2} - 0.5 i d - 0.25\\right)^{1.0} - 4.0 d \\left(b c + 0.25 d^{2} - 0.5 i d - 0.25\\right)^{1.5} + 1.0 i \\left(b c + 0.25 d^{2} - 0.5 i d - 0.25\\right)^{0.5} + 2.0 \\left(b c + 0.25 d^{2} - 0.5 i d - 0.25\\right)^{1.0} + 4.0 i \\left(b c + 0.25 d^{2} - 0.5 i d - 0.25\\right)^{1.5} + 8.0 \\left(b c + 0.25 d^{2} - 0.5 i d - 0.25\\right)^{2.0}} + \\frac{1.0 \\left(- 0.25 d^{2} + 0.5 i d + 1.0 \\left(b c + 0.25 d^{2} - 0.5 i d - 0.25\\right)^{1.0} + 0.25\\right) e^{0.5 d + 1.0 \\left(b c + 0.25 d^{2} - 0.5 i d - 0.25\\right)^{0.5} + 0.5 i}}{- 1.0 d \\left(b c + 0.25 d^{2} - 0.5 i d - 0.25\\right)^{0.5} + 1.0 i \\left(b c + 0.25 d^{2} - 0.5 i d - 0.25\\right)^{0.5} + 2.0 \\left(b c + 0.25 d^{2} - 0.5 i d - 0.25\\right)^{1.0}}\\end{matrix}\\right]$"
      ],
      "text/plain": [
       "Matrix([\n",
       "[2.0*(-0.125*d**2 + 0.25*I*d + 0.5*(b*c + 0.25*d**2 - 0.5*I*d - 0.25)**1.0 + 0.125)*exp(0.5*d + 1.0*(b*c + 0.25*d**2 - 0.5*I*d - 0.25)**0.5 + 0.5*I)/((d + 2.0*(b*c + 0.25*d**2 - 0.5*I*d - 0.25)**0.5 - I)*(b*c + 0.25*d**2 - 0.5*I*d - 0.25)**0.5) + 2.0*(0.125*d**2 - 0.25*I*d - 0.5*(b*c + 0.25*d**2 - 0.5*I*d - 0.25)**1.0 - 0.125)*exp(0.5*d - 1.0*(b*c + 0.25*d**2 - 0.5*I*d - 0.25)**0.5 + 0.5*I)/((d - 2.0*(b*c + 0.25*d**2 - 0.5*I*d - 0.25)**0.5 - I)*(b*c + 0.25*d**2 - 0.5*I*d - 0.25)**0.5), 2.0*b*(-0.25*d**2 + 0.5*I*d + 1.0*(b*c + 0.25*d**2 - 0.5*I*d - 0.25)**1.0 + 0.25)*exp(0.5*d + 1.0*(b*c + 0.25*d**2 - 0.5*I*d - 0.25)**0.5 + 0.5*I)/((d + 2.0*(b*c + 0.25*d**2 - 0.5*I*d - 0.25)**0.5 - I)*(-1.0*d*(b*c + 0.25*d**2 - 0.5*I*d - 0.25)**0.5 + 1.0*I*(b*c + 0.25*d**2 - 0.5*I*d - 0.25)**0.5 + 2.0*(b*c + 0.25*d**2 - 0.5*I*d - 0.25)**1.0)) + 2.0*b*(-0.25*d**4 + 1.0*d**3*(b*c + 0.25*d**2 - 0.5*I*d - 0.25)**0.5 + 1.0*I*d**3 - 3.0*I*d**2*(b*c + 0.25*d**2 - 0.5*I*d - 0.25)**0.5 + 1.5*d**2 - 3.0*d*(b*c + 0.25*d**2 - 0.5*I*d - 0.25)**0.5 - 4.0*d*(b*c + 0.25*d**2 - 0.5*I*d - 0.25)**1.5 - 1.0*I*d + 1.0*I*(b*c + 0.25*d**2 - 0.5*I*d - 0.25)**0.5 + 4.0*I*(b*c + 0.25*d**2 - 0.5*I*d - 0.25)**1.5 + 4.0*(b*c + 0.25*d**2 - 0.5*I*d - 0.25)**2.0 - 0.25)*exp(0.5*d - 1.0*(b*c + 0.25*d**2 - 0.5*I*d - 0.25)**0.5 + 0.5*I)/((d - 2.0*(b*c + 0.25*d**2 - 0.5*I*d - 0.25)**0.5 - I)*(1.0*d**3*(b*c + 0.25*d**2 - 0.5*I*d - 0.25)**0.5 - 3.0*I*d**2*(b*c + 0.25*d**2 - 0.5*I*d - 0.25)**0.5 - 2.0*d**2*(b*c + 0.25*d**2 - 0.5*I*d - 0.25)**1.0 - 3.0*d*(b*c + 0.25*d**2 - 0.5*I*d - 0.25)**0.5 + 4.0*I*d*(b*c + 0.25*d**2 - 0.5*I*d - 0.25)**1.0 - 4.0*d*(b*c + 0.25*d**2 - 0.5*I*d - 0.25)**1.5 + 1.0*I*(b*c + 0.25*d**2 - 0.5*I*d - 0.25)**0.5 + 2.0*(b*c + 0.25*d**2 - 0.5*I*d - 0.25)**1.0 + 4.0*I*(b*c + 0.25*d**2 - 0.5*I*d - 0.25)**1.5 + 8.0*(b*c + 0.25*d**2 - 0.5*I*d - 0.25)**2.0))],\n",
       "[                                                                                                        1.0*(-0.125*d**2 + 0.25*I*d + 0.5*(b*c + 0.25*d**2 - 0.5*I*d - 0.25)**1.0 + 0.125)*exp(0.5*d + 1.0*(b*c + 0.25*d**2 - 0.5*I*d - 0.25)**0.5 + 0.5*I)/(b*(b*c + 0.25*d**2 - 0.5*I*d - 0.25)**0.5) + 1.0*(0.125*d**2 - 0.25*I*d - 0.5*(b*c + 0.25*d**2 - 0.5*I*d - 0.25)**1.0 - 0.125)*exp(0.5*d - 1.0*(b*c + 0.25*d**2 - 0.5*I*d - 0.25)**0.5 + 0.5*I)/(b*(b*c + 0.25*d**2 - 0.5*I*d - 0.25)**0.5),                                                                                                                     1.0*(-0.25*d**4 + 1.0*d**3*(b*c + 0.25*d**2 - 0.5*I*d - 0.25)**0.5 + 1.0*I*d**3 - 3.0*I*d**2*(b*c + 0.25*d**2 - 0.5*I*d - 0.25)**0.5 + 1.5*d**2 - 3.0*d*(b*c + 0.25*d**2 - 0.5*I*d - 0.25)**0.5 - 4.0*d*(b*c + 0.25*d**2 - 0.5*I*d - 0.25)**1.5 - 1.0*I*d + 1.0*I*(b*c + 0.25*d**2 - 0.5*I*d - 0.25)**0.5 + 4.0*I*(b*c + 0.25*d**2 - 0.5*I*d - 0.25)**1.5 + 4.0*(b*c + 0.25*d**2 - 0.5*I*d - 0.25)**2.0 - 0.25)*exp(0.5*d - 1.0*(b*c + 0.25*d**2 - 0.5*I*d - 0.25)**0.5 + 0.5*I)/(1.0*d**3*(b*c + 0.25*d**2 - 0.5*I*d - 0.25)**0.5 - 3.0*I*d**2*(b*c + 0.25*d**2 - 0.5*I*d - 0.25)**0.5 - 2.0*d**2*(b*c + 0.25*d**2 - 0.5*I*d - 0.25)**1.0 - 3.0*d*(b*c + 0.25*d**2 - 0.5*I*d - 0.25)**0.5 + 4.0*I*d*(b*c + 0.25*d**2 - 0.5*I*d - 0.25)**1.0 - 4.0*d*(b*c + 0.25*d**2 - 0.5*I*d - 0.25)**1.5 + 1.0*I*(b*c + 0.25*d**2 - 0.5*I*d - 0.25)**0.5 + 2.0*(b*c + 0.25*d**2 - 0.5*I*d - 0.25)**1.0 + 4.0*I*(b*c + 0.25*d**2 - 0.5*I*d - 0.25)**1.5 + 8.0*(b*c + 0.25*d**2 - 0.5*I*d - 0.25)**2.0) + 1.0*(-0.25*d**2 + 0.5*I*d + 1.0*(b*c + 0.25*d**2 - 0.5*I*d - 0.25)**1.0 + 0.25)*exp(0.5*d + 1.0*(b*c + 0.25*d**2 - 0.5*I*d - 0.25)**0.5 + 0.5*I)/(-1.0*d*(b*c + 0.25*d**2 - 0.5*I*d - 0.25)**0.5 + 1.0*I*(b*c + 0.25*d**2 - 0.5*I*d - 0.25)**0.5 + 2.0*(b*c + 0.25*d**2 - 0.5*I*d - 0.25)**1.0)]])"
      ]
     },
     "execution_count": 16,
     "metadata": {},
     "output_type": "execute_result"
    }
   ],
   "source": [
    "import sympy as sp\n",
    "\n",
    "# 定义符号变量\n",
    "a, b, c, d = sp.symbols('a b c d')\n",
    "\n",
    "# 定义矩阵 A\n",
    "A = sp.Matrix([[1j, b], [c, d]])\n",
    "\n",
    "# 计算矩阵的指数幂 e^A\n",
    "exp_A = sp.exp(A)\n",
    "\n",
    "exp_A\n"
   ]
  },
  {
   "cell_type": "code",
   "execution_count": 38,
   "metadata": {},
   "outputs": [
    {
     "name": "stdout",
     "output_type": "stream",
     "text": [
      "[[[[0, 0], [0, 0]], [[1, 0], [1, 1]]], [[[1, 1], [0, 1]], [[0, 0], [0, 0]]]]\n"
     ]
    },
    {
     "ename": "TypeError",
     "evalue": "Cannot convert expression to float",
     "output_type": "error",
     "traceback": [
      "\u001b[0;31m---------------------------------------------------------------------------\u001b[0m",
      "\u001b[0;31mTypeError\u001b[0m                                 Traceback (most recent call last)",
      "Cell \u001b[0;32mIn[38], line 31\u001b[0m\n\u001b[1;32m     29\u001b[0m     \u001b[39mreturn\u001b[39;00m U\n\u001b[1;32m     30\u001b[0m \u001b[39m## define the time-independent part of the Liouvillian\u001b[39;00m\n\u001b[0;32m---> 31\u001b[0m U \u001b[39m=\u001b[39m get_simulate_unitary_two([\u001b[39m1\u001b[39;49m,\u001b[39m0\u001b[39;49m],[\u001b[39m1\u001b[39;49m,\u001b[39m-\u001b[39;49m\u001b[39m1\u001b[39;49m])\n\u001b[1;32m     32\u001b[0m U\n\u001b[1;32m     34\u001b[0m \u001b[39m## define the initial state\u001b[39;00m\n",
      "Cell \u001b[0;32mIn[38], line 28\u001b[0m, in \u001b[0;36mget_simulate_unitary_two\u001b[0;34m(v, u)\u001b[0m\n\u001b[1;32m     26\u001b[0m H \u001b[39m=\u001b[39m (tensor_product(v)\u001b[39m+\u001b[39mtensor_product(contrary_v)\u001b[39m+\u001b[39m tensor_product(u)\u001b[39m+\u001b[39mtensor_product(contrary_u))\n\u001b[1;32m     27\u001b[0m \u001b[39mprint\u001b[39m(H)\n\u001b[0;32m---> 28\u001b[0m U \u001b[39m=\u001b[39m expm(\u001b[39m-\u001b[39;49m\u001b[39m1\u001b[39;49mj \u001b[39m*\u001b[39;49m t \u001b[39m*\u001b[39;49m H)\n\u001b[1;32m     29\u001b[0m \u001b[39mreturn\u001b[39;00m U\n",
      "File \u001b[0;32m~/.local/lib/python3.10/site-packages/scipy/linalg/_matfuncs.py:301\u001b[0m, in \u001b[0;36mexpm\u001b[0;34m(A)\u001b[0m\n\u001b[1;32m    298\u001b[0m     \u001b[39mreturn\u001b[39;00m np\u001b[39m.\u001b[39mexp(a)\n\u001b[1;32m    300\u001b[0m \u001b[39mif\u001b[39;00m \u001b[39mnot\u001b[39;00m np\u001b[39m.\u001b[39missubdtype(a\u001b[39m.\u001b[39mdtype, np\u001b[39m.\u001b[39minexact):\n\u001b[0;32m--> 301\u001b[0m     a \u001b[39m=\u001b[39m a\u001b[39m.\u001b[39;49mastype(np\u001b[39m.\u001b[39;49mfloat64)\n\u001b[1;32m    302\u001b[0m \u001b[39melif\u001b[39;00m a\u001b[39m.\u001b[39mdtype \u001b[39m==\u001b[39m np\u001b[39m.\u001b[39mfloat16:\n\u001b[1;32m    303\u001b[0m     a \u001b[39m=\u001b[39m a\u001b[39m.\u001b[39mastype(np\u001b[39m.\u001b[39mfloat32)\n",
      "File \u001b[0;32m~/.local/lib/python3.10/site-packages/sympy/core/expr.py:351\u001b[0m, in \u001b[0;36mExpr.__float__\u001b[0;34m(self)\u001b[0m\n\u001b[1;32m    349\u001b[0m \u001b[39mif\u001b[39;00m result\u001b[39m.\u001b[39mis_number \u001b[39mand\u001b[39;00m result\u001b[39m.\u001b[39mas_real_imag()[\u001b[39m1\u001b[39m]:\n\u001b[1;32m    350\u001b[0m     \u001b[39mraise\u001b[39;00m \u001b[39mTypeError\u001b[39;00m(\u001b[39m\"\u001b[39m\u001b[39mCannot convert complex to float\u001b[39m\u001b[39m\"\u001b[39m)\n\u001b[0;32m--> 351\u001b[0m \u001b[39mraise\u001b[39;00m \u001b[39mTypeError\u001b[39;00m(\u001b[39m\"\u001b[39m\u001b[39mCannot convert expression to float\u001b[39m\u001b[39m\"\u001b[39m)\n",
      "\u001b[0;31mTypeError\u001b[0m: Cannot convert expression to float"
     ]
    }
   ],
   "source": [
    "import sympy as sp\n",
    "## define the Hamiltonian\n",
    "sigma_plus =sp.Matrix([[0,1],[0,0]])\n",
    "sigma_minus =sp.Matrix([[0,0],[1,0]])\n",
    "identity = sp.Matrix([[1,0],[0,1]])\n",
    "\n",
    "mlist = {\n",
    "    1: sigma_plus,\n",
    "    0 : identity,\n",
    "    -1: sigma_minus\n",
    "}\n",
    "\n",
    "def tensor_product(matrices):\n",
    "    return sp.tensorproduct(*[mlist[i] for i in matrices])\n",
    "    \n",
    "def get_simulate_unitary(v):    \n",
    "    contrary_v = [-i for i in v]\n",
    "    t = sp.Symbol('t')\n",
    "    U = sp.exp((-1*sp.I * t * (tensor_product(v)+tensor_product(contrary_v))).doit())\n",
    "    return U\n",
    "\n",
    "def get_simulate_unitary_two(v,u):    \n",
    "    contrary_v = [-i for i in v]\n",
    "    contrary_u = [-i for i in u]\n",
    "    t = sp.Symbol('t')\n",
    "    H = (tensor_product(v)+tensor_product(contrary_v)+ tensor_product(u)+tensor_product(contrary_u))\n",
    "    print(H)\n",
    "    U = expm(-1j * t * H)\n",
    "    return U\n",
    "## define the time-independent part of the Liouvillian\n",
    "U = get_simulate_unitary_two([1,0],[1,-1])\n",
    "U\n",
    "\n",
    "## define the initial state"
   ]
  },
  {
   "cell_type": "code",
   "execution_count": 31,
   "metadata": {},
   "outputs": [],
   "source": [
    "t = sp.symbols('t')\n",
    "U10=sp.exp(sp.Matrix([[0,0,-sp.I*t,0],[0,0,0,-sp.I*t],[-sp.I*t,0,0,0],[0,-sp.I*t,0,0]]))\n",
    "U1m=sp.exp(sp.Matrix([[0,0,0,0],[0,0,-sp.I*t,0],[0,-sp.I*t,0,0],[0,0,0,0]]))"
   ]
  },
  {
   "cell_type": "code",
   "execution_count": 34,
   "metadata": {},
   "outputs": [
    {
     "data": {
      "text/latex": [
       "$\\displaystyle \\left[\\begin{matrix}\\frac{e^{i t}}{2} + \\frac{e^{- i t}}{2} & \\left(- \\frac{e^{i t}}{2} + \\frac{e^{- i t}}{2}\\right)^{2} & \\left(- \\frac{e^{i t}}{2} + \\frac{e^{- i t}}{2}\\right) \\left(\\frac{e^{i t}}{2} + \\frac{e^{- i t}}{2}\\right) & 0\\\\0 & \\left(\\frac{e^{i t}}{2} + \\frac{e^{- i t}}{2}\\right)^{2} & \\left(- \\frac{e^{i t}}{2} + \\frac{e^{- i t}}{2}\\right) \\left(\\frac{e^{i t}}{2} + \\frac{e^{- i t}}{2}\\right) & - \\frac{e^{i t}}{2} + \\frac{e^{- i t}}{2}\\\\- \\frac{e^{i t}}{2} + \\frac{e^{- i t}}{2} & \\left(- \\frac{e^{i t}}{2} + \\frac{e^{- i t}}{2}\\right) \\left(\\frac{e^{i t}}{2} + \\frac{e^{- i t}}{2}\\right) & \\left(\\frac{e^{i t}}{2} + \\frac{e^{- i t}}{2}\\right)^{2} & 0\\\\0 & \\left(- \\frac{e^{i t}}{2} + \\frac{e^{- i t}}{2}\\right) \\left(\\frac{e^{i t}}{2} + \\frac{e^{- i t}}{2}\\right) & \\left(- \\frac{e^{i t}}{2} + \\frac{e^{- i t}}{2}\\right)^{2} & \\frac{e^{i t}}{2} + \\frac{e^{- i t}}{2}\\end{matrix}\\right]$"
      ],
      "text/plain": [
       "Matrix([\n",
       "[ exp(I*t)/2 + exp(-I*t)/2,                         (-exp(I*t)/2 + exp(-I*t)/2)**2, (-exp(I*t)/2 + exp(-I*t)/2)*(exp(I*t)/2 + exp(-I*t)/2),                         0],\n",
       "[                        0,                          (exp(I*t)/2 + exp(-I*t)/2)**2, (-exp(I*t)/2 + exp(-I*t)/2)*(exp(I*t)/2 + exp(-I*t)/2), -exp(I*t)/2 + exp(-I*t)/2],\n",
       "[-exp(I*t)/2 + exp(-I*t)/2, (-exp(I*t)/2 + exp(-I*t)/2)*(exp(I*t)/2 + exp(-I*t)/2),                          (exp(I*t)/2 + exp(-I*t)/2)**2,                         0],\n",
       "[                        0, (-exp(I*t)/2 + exp(-I*t)/2)*(exp(I*t)/2 + exp(-I*t)/2),                         (-exp(I*t)/2 + exp(-I*t)/2)**2,  exp(I*t)/2 + exp(-I*t)/2]])"
      ]
     },
     "execution_count": 34,
     "metadata": {},
     "output_type": "execute_result"
    }
   ],
   "source": [
    "(U10@U1m).doit()"
   ]
  },
  {
   "cell_type": "code",
   "execution_count": 45,
   "metadata": {},
   "outputs": [
    {
     "data": {
      "text/latex": [
       "$\\displaystyle \\left[\\begin{matrix}\\frac{\\sqrt{2} \\sqrt{3 - \\sqrt{5}} \\left(- \\sqrt{10} + \\sqrt{2}\\right) e^{i t \\sqrt{\\frac{3}{2} - \\frac{\\sqrt{5}}{2}}}}{\\left(-1 + \\sqrt{5}\\right) \\left(- 10 \\sqrt{3 - \\sqrt{5}} + 2 \\sqrt{5} \\sqrt{3 - \\sqrt{5}}\\right)} - \\frac{\\sqrt{2} \\left(- 5 \\sqrt{2} + 2 \\sqrt{10}\\right) \\sqrt{\\sqrt{5} + 3} e^{i t \\sqrt{\\frac{\\sqrt{5}}{2} + \\frac{3}{2}}}}{\\left(1 + \\sqrt{5}\\right) \\left(- 20 \\sqrt{\\sqrt{5} + 3} + 10 \\sqrt{5} \\sqrt{\\sqrt{5} + 3}\\right)} + \\frac{\\sqrt{2} \\sqrt{\\sqrt{5} + 3} \\left(- 21 \\sqrt{10} \\sqrt{\\sqrt{5} + 3} + 47 \\sqrt{2} \\sqrt{\\sqrt{5} + 3}\\right) e^{- i t \\sqrt{\\frac{\\sqrt{5}}{2} + \\frac{3}{2}}}}{\\left(-160 + 72 \\sqrt{5}\\right) \\left(1 + \\sqrt{5}\\right)} - \\frac{\\sqrt{2} \\sqrt{3 - \\sqrt{5}} \\left(- 7 \\sqrt{2} \\sqrt{3 - \\sqrt{5}} + 3 \\sqrt{10} \\sqrt{3 - \\sqrt{5}}\\right) e^{- i t \\sqrt{\\frac{3}{2} - \\frac{\\sqrt{5}}{2}}}}{\\left(-160 + 72 \\sqrt{5}\\right) \\left(-1 + \\sqrt{5}\\right)} & \\frac{\\sqrt{2} \\sqrt{3 - \\sqrt{5}} \\left(- 4 \\sqrt{10} + 9 \\sqrt{2}\\right) e^{i t \\sqrt{\\frac{3}{2} - \\frac{\\sqrt{5}}{2}}}}{\\left(-1 + \\sqrt{5}\\right) \\left(- 25 \\sqrt{3 - \\sqrt{5}} + 11 \\sqrt{5} \\sqrt{3 - \\sqrt{5}}\\right)} - \\frac{\\sqrt{2} \\left(- 3 \\sqrt{10} + 5 \\sqrt{2}\\right) \\sqrt{\\sqrt{5} + 3} e^{i t \\sqrt{\\frac{\\sqrt{5}}{2} + \\frac{3}{2}}}}{\\left(1 + \\sqrt{5}\\right) \\left(- 40 \\sqrt{\\sqrt{5} + 3} + 20 \\sqrt{5} \\sqrt{\\sqrt{5} + 3}\\right)} + \\frac{\\sqrt{2} \\sqrt{\\sqrt{5} + 3} \\left(- 29 \\sqrt{2} \\sqrt{\\sqrt{5} + 3} + 13 \\sqrt{10} \\sqrt{\\sqrt{5} + 3}\\right) e^{- i t \\sqrt{\\frac{\\sqrt{5}}{2} + \\frac{3}{2}}}}{\\left(-160 + 72 \\sqrt{5}\\right) \\left(1 + \\sqrt{5}\\right)} - \\frac{\\sqrt{2} \\sqrt{3 - \\sqrt{5}} \\left(- 29 \\sqrt{2} \\sqrt{3 - \\sqrt{5}} + 13 \\sqrt{10} \\sqrt{3 - \\sqrt{5}}\\right) e^{- i t \\sqrt{\\frac{3}{2} - \\frac{\\sqrt{5}}{2}}}}{\\left(-420 + 188 \\sqrt{5}\\right) \\left(-1 + \\sqrt{5}\\right)} & \\frac{\\sqrt{2} \\left(-11 + 5 \\sqrt{5}\\right) \\sqrt{3 - \\sqrt{5}} e^{i t \\sqrt{\\frac{3}{2} - \\frac{\\sqrt{5}}{2}}}}{\\left(-50 + 22 \\sqrt{5}\\right) \\left(-1 + \\sqrt{5}\\right)} - \\frac{\\sqrt{2} \\cdot \\left(5 - \\sqrt{5}\\right) \\sqrt{\\sqrt{5} + 3} e^{i t \\sqrt{\\frac{\\sqrt{5}}{2} + \\frac{3}{2}}}}{\\left(-10 + 10 \\sqrt{5}\\right) \\left(1 + \\sqrt{5}\\right)} + \\frac{\\sqrt{2} \\cdot \\left(1 - \\sqrt{5}\\right) \\sqrt{\\sqrt{5} + 3} e^{- i t \\sqrt{\\frac{\\sqrt{5}}{2} + \\frac{3}{2}}}}{\\left(-10 + 2 \\sqrt{5}\\right) \\left(1 + \\sqrt{5}\\right)} - \\frac{\\sqrt{2} \\left(-11 + 5 \\sqrt{5}\\right) \\sqrt{3 - \\sqrt{5}} e^{- i t \\sqrt{\\frac{3}{2} - \\frac{\\sqrt{5}}{2}}}}{\\left(-50 + 22 \\sqrt{5}\\right) \\left(-1 + \\sqrt{5}\\right)} & - \\frac{\\sqrt{2} \\sqrt{3 - \\sqrt{5}} e^{i t \\sqrt{\\frac{3}{2} - \\frac{\\sqrt{5}}{2}}}}{\\left(-5 + \\sqrt{5}\\right) \\left(-1 + \\sqrt{5}\\right)} - \\frac{\\sqrt{2} \\left(-5 + 2 \\sqrt{5}\\right) \\sqrt{\\sqrt{5} + 3} e^{i t \\sqrt{\\frac{\\sqrt{5}}{2} + \\frac{3}{2}}}}{\\left(-15 + 5 \\sqrt{5}\\right) \\left(1 + \\sqrt{5}\\right)} + \\frac{\\sqrt{2} \\left(-3 + \\sqrt{5}\\right) \\sqrt{\\sqrt{5} + 3} e^{- i t \\sqrt{\\frac{\\sqrt{5}}{2} + \\frac{3}{2}}}}{\\left(-10 + 2 \\sqrt{5}\\right) \\left(1 + \\sqrt{5}\\right)} - \\frac{20 \\sqrt{2} \\sqrt{3 - \\sqrt{5}} e^{- i t \\sqrt{\\frac{3}{2} - \\frac{\\sqrt{5}}{2}}}}{\\left(-1 + \\sqrt{5}\\right) \\left(100 - 20 \\sqrt{5}\\right)}\\\\- \\frac{\\sqrt{2} \\sqrt{3 - \\sqrt{5}} \\left(- \\sqrt{10} + \\sqrt{2}\\right) e^{i t \\sqrt{\\frac{3}{2} - \\frac{\\sqrt{5}}{2}}}}{2 \\left(- 10 \\sqrt{3 - \\sqrt{5}} + 2 \\sqrt{5} \\sqrt{3 - \\sqrt{5}}\\right)} - \\frac{\\sqrt{2} \\left(- 5 \\sqrt{2} + 2 \\sqrt{10}\\right) \\sqrt{\\sqrt{5} + 3} e^{i t \\sqrt{\\frac{\\sqrt{5}}{2} + \\frac{3}{2}}}}{2 \\left(- 20 \\sqrt{\\sqrt{5} + 3} + 10 \\sqrt{5} \\sqrt{\\sqrt{5} + 3}\\right)} + \\frac{\\sqrt{2} \\sqrt{\\sqrt{5} + 3} \\left(- 21 \\sqrt{10} \\sqrt{\\sqrt{5} + 3} + 47 \\sqrt{2} \\sqrt{\\sqrt{5} + 3}\\right) e^{- i t \\sqrt{\\frac{\\sqrt{5}}{2} + \\frac{3}{2}}}}{2 \\left(-160 + 72 \\sqrt{5}\\right)} - \\frac{\\left(- \\sqrt{10} \\sqrt{3 - \\sqrt{5}} + \\sqrt{2} \\sqrt{3 - \\sqrt{5}}\\right) \\left(- 7 \\sqrt{2} \\sqrt{3 - \\sqrt{5}} + 3 \\sqrt{10} \\sqrt{3 - \\sqrt{5}}\\right) e^{- i t \\sqrt{\\frac{3}{2} - \\frac{\\sqrt{5}}{2}}}}{\\left(-160 + 72 \\sqrt{5}\\right) \\left(-2 + 2 \\sqrt{5}\\right)} & - \\frac{\\sqrt{2} \\sqrt{3 - \\sqrt{5}} \\left(- 4 \\sqrt{10} + 9 \\sqrt{2}\\right) e^{i t \\sqrt{\\frac{3}{2} - \\frac{\\sqrt{5}}{2}}}}{2 \\left(- 25 \\sqrt{3 - \\sqrt{5}} + 11 \\sqrt{5} \\sqrt{3 - \\sqrt{5}}\\right)} - \\frac{\\sqrt{2} \\left(- 3 \\sqrt{10} + 5 \\sqrt{2}\\right) \\sqrt{\\sqrt{5} + 3} e^{i t \\sqrt{\\frac{\\sqrt{5}}{2} + \\frac{3}{2}}}}{2 \\left(- 40 \\sqrt{\\sqrt{5} + 3} + 20 \\sqrt{5} \\sqrt{\\sqrt{5} + 3}\\right)} + \\frac{\\sqrt{2} \\sqrt{\\sqrt{5} + 3} \\left(- 29 \\sqrt{2} \\sqrt{\\sqrt{5} + 3} + 13 \\sqrt{10} \\sqrt{\\sqrt{5} + 3}\\right) e^{- i t \\sqrt{\\frac{\\sqrt{5}}{2} + \\frac{3}{2}}}}{2 \\left(-160 + 72 \\sqrt{5}\\right)} - \\frac{\\left(- \\sqrt{10} \\sqrt{3 - \\sqrt{5}} + \\sqrt{2} \\sqrt{3 - \\sqrt{5}}\\right) \\left(- 29 \\sqrt{2} \\sqrt{3 - \\sqrt{5}} + 13 \\sqrt{10} \\sqrt{3 - \\sqrt{5}}\\right) e^{- i t \\sqrt{\\frac{3}{2} - \\frac{\\sqrt{5}}{2}}}}{\\left(-420 + 188 \\sqrt{5}\\right) \\left(-2 + 2 \\sqrt{5}\\right)} & - \\frac{\\sqrt{2} \\left(-11 + 5 \\sqrt{5}\\right) \\sqrt{3 - \\sqrt{5}} e^{i t \\sqrt{\\frac{3}{2} - \\frac{\\sqrt{5}}{2}}}}{2 \\left(-50 + 22 \\sqrt{5}\\right)} - \\frac{\\sqrt{2} \\cdot \\left(5 - \\sqrt{5}\\right) \\sqrt{\\sqrt{5} + 3} e^{i t \\sqrt{\\frac{\\sqrt{5}}{2} + \\frac{3}{2}}}}{2 \\left(-10 + 10 \\sqrt{5}\\right)} + \\frac{\\sqrt{2} \\cdot \\left(1 - \\sqrt{5}\\right) \\sqrt{\\sqrt{5} + 3} e^{- i t \\sqrt{\\frac{\\sqrt{5}}{2} + \\frac{3}{2}}}}{2 \\left(-10 + 2 \\sqrt{5}\\right)} - \\frac{\\left(-11 + 5 \\sqrt{5}\\right) \\left(- \\sqrt{10} \\sqrt{3 - \\sqrt{5}} + \\sqrt{2} \\sqrt{3 - \\sqrt{5}}\\right) e^{- i t \\sqrt{\\frac{3}{2} - \\frac{\\sqrt{5}}{2}}}}{\\left(-50 + 22 \\sqrt{5}\\right) \\left(-2 + 2 \\sqrt{5}\\right)} & \\frac{\\sqrt{2} \\sqrt{3 - \\sqrt{5}} e^{i t \\sqrt{\\frac{3}{2} - \\frac{\\sqrt{5}}{2}}}}{2 \\left(-5 + \\sqrt{5}\\right)} - \\frac{\\sqrt{2} \\left(-5 + 2 \\sqrt{5}\\right) \\sqrt{\\sqrt{5} + 3} e^{i t \\sqrt{\\frac{\\sqrt{5}}{2} + \\frac{3}{2}}}}{2 \\left(-15 + 5 \\sqrt{5}\\right)} + \\frac{\\sqrt{2} \\left(-3 + \\sqrt{5}\\right) \\sqrt{\\sqrt{5} + 3} e^{- i t \\sqrt{\\frac{\\sqrt{5}}{2} + \\frac{3}{2}}}}{2 \\left(-10 + 2 \\sqrt{5}\\right)} - \\frac{20 \\left(- \\sqrt{10} \\sqrt{3 - \\sqrt{5}} + \\sqrt{2} \\sqrt{3 - \\sqrt{5}}\\right) e^{- i t \\sqrt{\\frac{3}{2} - \\frac{\\sqrt{5}}{2}}}}{\\left(-2 + 2 \\sqrt{5}\\right) \\left(100 - 20 \\sqrt{5}\\right)}\\\\- \\frac{2 \\left(- \\sqrt{10} + \\sqrt{2}\\right) e^{i t \\sqrt{\\frac{3}{2} - \\frac{\\sqrt{5}}{2}}}}{\\left(1 + \\sqrt{5}\\right) \\left(- 10 \\sqrt{3 - \\sqrt{5}} + 2 \\sqrt{5} \\sqrt{3 - \\sqrt{5}}\\right)} + \\frac{2 \\left(- 5 \\sqrt{2} + 2 \\sqrt{10}\\right) e^{i t \\sqrt{\\frac{\\sqrt{5}}{2} + \\frac{3}{2}}}}{\\left(-1 + \\sqrt{5}\\right) \\left(- 20 \\sqrt{\\sqrt{5} + 3} + 10 \\sqrt{5} \\sqrt{\\sqrt{5} + 3}\\right)} + \\frac{2 \\left(- 21 \\sqrt{10} \\sqrt{\\sqrt{5} + 3} + 47 \\sqrt{2} \\sqrt{\\sqrt{5} + 3}\\right) e^{- i t \\sqrt{\\frac{\\sqrt{5}}{2} + \\frac{3}{2}}}}{\\left(-160 + 72 \\sqrt{5}\\right) \\left(-1 + \\sqrt{5}\\right)} - \\frac{2 \\left(- 7 \\sqrt{2} \\sqrt{3 - \\sqrt{5}} + 3 \\sqrt{10} \\sqrt{3 - \\sqrt{5}}\\right) e^{- i t \\sqrt{\\frac{3}{2} - \\frac{\\sqrt{5}}{2}}}}{\\left(-160 + 72 \\sqrt{5}\\right) \\left(1 + \\sqrt{5}\\right)} & - \\frac{2 \\left(- 4 \\sqrt{10} + 9 \\sqrt{2}\\right) e^{i t \\sqrt{\\frac{3}{2} - \\frac{\\sqrt{5}}{2}}}}{\\left(1 + \\sqrt{5}\\right) \\left(- 25 \\sqrt{3 - \\sqrt{5}} + 11 \\sqrt{5} \\sqrt{3 - \\sqrt{5}}\\right)} + \\frac{2 \\left(- 3 \\sqrt{10} + 5 \\sqrt{2}\\right) e^{i t \\sqrt{\\frac{\\sqrt{5}}{2} + \\frac{3}{2}}}}{\\left(-1 + \\sqrt{5}\\right) \\left(- 40 \\sqrt{\\sqrt{5} + 3} + 20 \\sqrt{5} \\sqrt{\\sqrt{5} + 3}\\right)} + \\frac{2 \\left(- 29 \\sqrt{2} \\sqrt{\\sqrt{5} + 3} + 13 \\sqrt{10} \\sqrt{\\sqrt{5} + 3}\\right) e^{- i t \\sqrt{\\frac{\\sqrt{5}}{2} + \\frac{3}{2}}}}{\\left(-160 + 72 \\sqrt{5}\\right) \\left(-1 + \\sqrt{5}\\right)} - \\frac{2 \\left(- 29 \\sqrt{2} \\sqrt{3 - \\sqrt{5}} + 13 \\sqrt{10} \\sqrt{3 - \\sqrt{5}}\\right) e^{- i t \\sqrt{\\frac{3}{2} - \\frac{\\sqrt{5}}{2}}}}{\\left(-420 + 188 \\sqrt{5}\\right) \\left(1 + \\sqrt{5}\\right)} & - \\frac{2 \\left(-11 + 5 \\sqrt{5}\\right) e^{i t \\sqrt{\\frac{3}{2} - \\frac{\\sqrt{5}}{2}}}}{\\left(-50 + 22 \\sqrt{5}\\right) \\left(1 + \\sqrt{5}\\right)} + \\frac{2 \\cdot \\left(5 - \\sqrt{5}\\right) e^{i t \\sqrt{\\frac{\\sqrt{5}}{2} + \\frac{3}{2}}}}{\\left(-10 + 10 \\sqrt{5}\\right) \\left(-1 + \\sqrt{5}\\right)} + \\frac{2 \\cdot \\left(1 - \\sqrt{5}\\right) e^{- i t \\sqrt{\\frac{\\sqrt{5}}{2} + \\frac{3}{2}}}}{\\left(-10 + 2 \\sqrt{5}\\right) \\left(-1 + \\sqrt{5}\\right)} - \\frac{2 \\left(-11 + 5 \\sqrt{5}\\right) e^{- i t \\sqrt{\\frac{3}{2} - \\frac{\\sqrt{5}}{2}}}}{\\left(-50 + 22 \\sqrt{5}\\right) \\left(1 + \\sqrt{5}\\right)} & \\frac{2 e^{i t \\sqrt{\\frac{3}{2} - \\frac{\\sqrt{5}}{2}}}}{\\left(-5 + \\sqrt{5}\\right) \\left(1 + \\sqrt{5}\\right)} + \\frac{2 \\left(-5 + 2 \\sqrt{5}\\right) e^{i t \\sqrt{\\frac{\\sqrt{5}}{2} + \\frac{3}{2}}}}{\\left(-15 + 5 \\sqrt{5}\\right) \\left(-1 + \\sqrt{5}\\right)} + \\frac{2 \\left(-3 + \\sqrt{5}\\right) e^{- i t \\sqrt{\\frac{\\sqrt{5}}{2} + \\frac{3}{2}}}}{\\left(-10 + 2 \\sqrt{5}\\right) \\left(-1 + \\sqrt{5}\\right)} - \\frac{40 e^{- i t \\sqrt{\\frac{3}{2} - \\frac{\\sqrt{5}}{2}}}}{\\left(1 + \\sqrt{5}\\right) \\left(100 - 20 \\sqrt{5}\\right)}\\\\\\frac{\\left(- \\sqrt{10} + \\sqrt{2}\\right) e^{i t \\sqrt{\\frac{3}{2} - \\frac{\\sqrt{5}}{2}}}}{- 10 \\sqrt{3 - \\sqrt{5}} + 2 \\sqrt{5} \\sqrt{3 - \\sqrt{5}}} + \\frac{\\left(- 5 \\sqrt{2} + 2 \\sqrt{10}\\right) e^{i t \\sqrt{\\frac{\\sqrt{5}}{2} + \\frac{3}{2}}}}{- 20 \\sqrt{\\sqrt{5} + 3} + 10 \\sqrt{5} \\sqrt{\\sqrt{5} + 3}} + \\frac{\\left(- 21 \\sqrt{10} \\sqrt{\\sqrt{5} + 3} + 47 \\sqrt{2} \\sqrt{\\sqrt{5} + 3}\\right) e^{- i t \\sqrt{\\frac{\\sqrt{5}}{2} + \\frac{3}{2}}}}{-160 + 72 \\sqrt{5}} + \\frac{\\left(- 7 \\sqrt{2} \\sqrt{3 - \\sqrt{5}} + 3 \\sqrt{10} \\sqrt{3 - \\sqrt{5}}\\right) e^{- i t \\sqrt{\\frac{3}{2} - \\frac{\\sqrt{5}}{2}}}}{-160 + 72 \\sqrt{5}} & \\frac{\\left(- 4 \\sqrt{10} + 9 \\sqrt{2}\\right) e^{i t \\sqrt{\\frac{3}{2} - \\frac{\\sqrt{5}}{2}}}}{- 25 \\sqrt{3 - \\sqrt{5}} + 11 \\sqrt{5} \\sqrt{3 - \\sqrt{5}}} + \\frac{\\left(- 3 \\sqrt{10} + 5 \\sqrt{2}\\right) e^{i t \\sqrt{\\frac{\\sqrt{5}}{2} + \\frac{3}{2}}}}{- 40 \\sqrt{\\sqrt{5} + 3} + 20 \\sqrt{5} \\sqrt{\\sqrt{5} + 3}} + \\frac{\\left(- 29 \\sqrt{2} \\sqrt{\\sqrt{5} + 3} + 13 \\sqrt{10} \\sqrt{\\sqrt{5} + 3}\\right) e^{- i t \\sqrt{\\frac{\\sqrt{5}}{2} + \\frac{3}{2}}}}{-160 + 72 \\sqrt{5}} + \\frac{\\left(- 29 \\sqrt{2} \\sqrt{3 - \\sqrt{5}} + 13 \\sqrt{10} \\sqrt{3 - \\sqrt{5}}\\right) e^{- i t \\sqrt{\\frac{3}{2} - \\frac{\\sqrt{5}}{2}}}}{-420 + 188 \\sqrt{5}} & \\frac{\\left(-11 + 5 \\sqrt{5}\\right) e^{i t \\sqrt{\\frac{3}{2} - \\frac{\\sqrt{5}}{2}}}}{-50 + 22 \\sqrt{5}} + \\frac{\\left(5 - \\sqrt{5}\\right) e^{i t \\sqrt{\\frac{\\sqrt{5}}{2} + \\frac{3}{2}}}}{-10 + 10 \\sqrt{5}} + \\frac{\\left(1 - \\sqrt{5}\\right) e^{- i t \\sqrt{\\frac{\\sqrt{5}}{2} + \\frac{3}{2}}}}{-10 + 2 \\sqrt{5}} + \\frac{\\left(-11 + 5 \\sqrt{5}\\right) e^{- i t \\sqrt{\\frac{3}{2} - \\frac{\\sqrt{5}}{2}}}}{-50 + 22 \\sqrt{5}} & - \\frac{e^{i t \\sqrt{\\frac{3}{2} - \\frac{\\sqrt{5}}{2}}}}{-5 + \\sqrt{5}} + \\frac{\\left(-5 + 2 \\sqrt{5}\\right) e^{i t \\sqrt{\\frac{\\sqrt{5}}{2} + \\frac{3}{2}}}}{-15 + 5 \\sqrt{5}} + \\frac{\\left(-3 + \\sqrt{5}\\right) e^{- i t \\sqrt{\\frac{\\sqrt{5}}{2} + \\frac{3}{2}}}}{-10 + 2 \\sqrt{5}} + \\frac{20 e^{- i t \\sqrt{\\frac{3}{2} - \\frac{\\sqrt{5}}{2}}}}{100 - 20 \\sqrt{5}}\\end{matrix}\\right]$"
      ],
      "text/plain": [
       "Matrix([\n",
       "[sqrt(2)*sqrt(3 - sqrt(5))*(-sqrt(10) + sqrt(2))*exp(I*t*sqrt(3/2 - sqrt(5)/2))/((-1 + sqrt(5))*(-10*sqrt(3 - sqrt(5)) + 2*sqrt(5)*sqrt(3 - sqrt(5)))) - sqrt(2)*(-5*sqrt(2) + 2*sqrt(10))*sqrt(sqrt(5) + 3)*exp(I*t*sqrt(sqrt(5)/2 + 3/2))/((1 + sqrt(5))*(-20*sqrt(sqrt(5) + 3) + 10*sqrt(5)*sqrt(sqrt(5) + 3))) + sqrt(2)*sqrt(sqrt(5) + 3)*(-21*sqrt(10)*sqrt(sqrt(5) + 3) + 47*sqrt(2)*sqrt(sqrt(5) + 3))*exp(-I*t*sqrt(sqrt(5)/2 + 3/2))/((-160 + 72*sqrt(5))*(1 + sqrt(5))) - sqrt(2)*sqrt(3 - sqrt(5))*(-7*sqrt(2)*sqrt(3 - sqrt(5)) + 3*sqrt(10)*sqrt(3 - sqrt(5)))*exp(-I*t*sqrt(3/2 - sqrt(5)/2))/((-160 + 72*sqrt(5))*(-1 + sqrt(5))), sqrt(2)*sqrt(3 - sqrt(5))*(-4*sqrt(10) + 9*sqrt(2))*exp(I*t*sqrt(3/2 - sqrt(5)/2))/((-1 + sqrt(5))*(-25*sqrt(3 - sqrt(5)) + 11*sqrt(5)*sqrt(3 - sqrt(5)))) - sqrt(2)*(-3*sqrt(10) + 5*sqrt(2))*sqrt(sqrt(5) + 3)*exp(I*t*sqrt(sqrt(5)/2 + 3/2))/((1 + sqrt(5))*(-40*sqrt(sqrt(5) + 3) + 20*sqrt(5)*sqrt(sqrt(5) + 3))) + sqrt(2)*sqrt(sqrt(5) + 3)*(-29*sqrt(2)*sqrt(sqrt(5) + 3) + 13*sqrt(10)*sqrt(sqrt(5) + 3))*exp(-I*t*sqrt(sqrt(5)/2 + 3/2))/((-160 + 72*sqrt(5))*(1 + sqrt(5))) - sqrt(2)*sqrt(3 - sqrt(5))*(-29*sqrt(2)*sqrt(3 - sqrt(5)) + 13*sqrt(10)*sqrt(3 - sqrt(5)))*exp(-I*t*sqrt(3/2 - sqrt(5)/2))/((-420 + 188*sqrt(5))*(-1 + sqrt(5))), sqrt(2)*(-11 + 5*sqrt(5))*sqrt(3 - sqrt(5))*exp(I*t*sqrt(3/2 - sqrt(5)/2))/((-50 + 22*sqrt(5))*(-1 + sqrt(5))) - sqrt(2)*(5 - sqrt(5))*sqrt(sqrt(5) + 3)*exp(I*t*sqrt(sqrt(5)/2 + 3/2))/((-10 + 10*sqrt(5))*(1 + sqrt(5))) + sqrt(2)*(1 - sqrt(5))*sqrt(sqrt(5) + 3)*exp(-I*t*sqrt(sqrt(5)/2 + 3/2))/((-10 + 2*sqrt(5))*(1 + sqrt(5))) - sqrt(2)*(-11 + 5*sqrt(5))*sqrt(3 - sqrt(5))*exp(-I*t*sqrt(3/2 - sqrt(5)/2))/((-50 + 22*sqrt(5))*(-1 + sqrt(5))), -sqrt(2)*sqrt(3 - sqrt(5))*exp(I*t*sqrt(3/2 - sqrt(5)/2))/((-5 + sqrt(5))*(-1 + sqrt(5))) - sqrt(2)*(-5 + 2*sqrt(5))*sqrt(sqrt(5) + 3)*exp(I*t*sqrt(sqrt(5)/2 + 3/2))/((-15 + 5*sqrt(5))*(1 + sqrt(5))) + sqrt(2)*(-3 + sqrt(5))*sqrt(sqrt(5) + 3)*exp(-I*t*sqrt(sqrt(5)/2 + 3/2))/((-10 + 2*sqrt(5))*(1 + sqrt(5))) - 20*sqrt(2)*sqrt(3 - sqrt(5))*exp(-I*t*sqrt(3/2 - sqrt(5)/2))/((-1 + sqrt(5))*(100 - 20*sqrt(5)))],\n",
       "[  -sqrt(2)*sqrt(3 - sqrt(5))*(-sqrt(10) + sqrt(2))*exp(I*t*sqrt(3/2 - sqrt(5)/2))/(2*(-10*sqrt(3 - sqrt(5)) + 2*sqrt(5)*sqrt(3 - sqrt(5)))) - sqrt(2)*(-5*sqrt(2) + 2*sqrt(10))*sqrt(sqrt(5) + 3)*exp(I*t*sqrt(sqrt(5)/2 + 3/2))/(2*(-20*sqrt(sqrt(5) + 3) + 10*sqrt(5)*sqrt(sqrt(5) + 3))) + sqrt(2)*sqrt(sqrt(5) + 3)*(-21*sqrt(10)*sqrt(sqrt(5) + 3) + 47*sqrt(2)*sqrt(sqrt(5) + 3))*exp(-I*t*sqrt(sqrt(5)/2 + 3/2))/(2*(-160 + 72*sqrt(5))) - (-sqrt(10)*sqrt(3 - sqrt(5)) + sqrt(2)*sqrt(3 - sqrt(5)))*(-7*sqrt(2)*sqrt(3 - sqrt(5)) + 3*sqrt(10)*sqrt(3 - sqrt(5)))*exp(-I*t*sqrt(3/2 - sqrt(5)/2))/((-160 + 72*sqrt(5))*(-2 + 2*sqrt(5))),   -sqrt(2)*sqrt(3 - sqrt(5))*(-4*sqrt(10) + 9*sqrt(2))*exp(I*t*sqrt(3/2 - sqrt(5)/2))/(2*(-25*sqrt(3 - sqrt(5)) + 11*sqrt(5)*sqrt(3 - sqrt(5)))) - sqrt(2)*(-3*sqrt(10) + 5*sqrt(2))*sqrt(sqrt(5) + 3)*exp(I*t*sqrt(sqrt(5)/2 + 3/2))/(2*(-40*sqrt(sqrt(5) + 3) + 20*sqrt(5)*sqrt(sqrt(5) + 3))) + sqrt(2)*sqrt(sqrt(5) + 3)*(-29*sqrt(2)*sqrt(sqrt(5) + 3) + 13*sqrt(10)*sqrt(sqrt(5) + 3))*exp(-I*t*sqrt(sqrt(5)/2 + 3/2))/(2*(-160 + 72*sqrt(5))) - (-sqrt(10)*sqrt(3 - sqrt(5)) + sqrt(2)*sqrt(3 - sqrt(5)))*(-29*sqrt(2)*sqrt(3 - sqrt(5)) + 13*sqrt(10)*sqrt(3 - sqrt(5)))*exp(-I*t*sqrt(3/2 - sqrt(5)/2))/((-420 + 188*sqrt(5))*(-2 + 2*sqrt(5))),   -sqrt(2)*(-11 + 5*sqrt(5))*sqrt(3 - sqrt(5))*exp(I*t*sqrt(3/2 - sqrt(5)/2))/(2*(-50 + 22*sqrt(5))) - sqrt(2)*(5 - sqrt(5))*sqrt(sqrt(5) + 3)*exp(I*t*sqrt(sqrt(5)/2 + 3/2))/(2*(-10 + 10*sqrt(5))) + sqrt(2)*(1 - sqrt(5))*sqrt(sqrt(5) + 3)*exp(-I*t*sqrt(sqrt(5)/2 + 3/2))/(2*(-10 + 2*sqrt(5))) - (-11 + 5*sqrt(5))*(-sqrt(10)*sqrt(3 - sqrt(5)) + sqrt(2)*sqrt(3 - sqrt(5)))*exp(-I*t*sqrt(3/2 - sqrt(5)/2))/((-50 + 22*sqrt(5))*(-2 + 2*sqrt(5))),     sqrt(2)*sqrt(3 - sqrt(5))*exp(I*t*sqrt(3/2 - sqrt(5)/2))/(2*(-5 + sqrt(5))) - sqrt(2)*(-5 + 2*sqrt(5))*sqrt(sqrt(5) + 3)*exp(I*t*sqrt(sqrt(5)/2 + 3/2))/(2*(-15 + 5*sqrt(5))) + sqrt(2)*(-3 + sqrt(5))*sqrt(sqrt(5) + 3)*exp(-I*t*sqrt(sqrt(5)/2 + 3/2))/(2*(-10 + 2*sqrt(5))) - 20*(-sqrt(10)*sqrt(3 - sqrt(5)) + sqrt(2)*sqrt(3 - sqrt(5)))*exp(-I*t*sqrt(3/2 - sqrt(5)/2))/((-2 + 2*sqrt(5))*(100 - 20*sqrt(5)))],\n",
       "[                                                                                               -2*(-sqrt(10) + sqrt(2))*exp(I*t*sqrt(3/2 - sqrt(5)/2))/((1 + sqrt(5))*(-10*sqrt(3 - sqrt(5)) + 2*sqrt(5)*sqrt(3 - sqrt(5)))) + 2*(-5*sqrt(2) + 2*sqrt(10))*exp(I*t*sqrt(sqrt(5)/2 + 3/2))/((-1 + sqrt(5))*(-20*sqrt(sqrt(5) + 3) + 10*sqrt(5)*sqrt(sqrt(5) + 3))) + 2*(-21*sqrt(10)*sqrt(sqrt(5) + 3) + 47*sqrt(2)*sqrt(sqrt(5) + 3))*exp(-I*t*sqrt(sqrt(5)/2 + 3/2))/((-160 + 72*sqrt(5))*(-1 + sqrt(5))) - 2*(-7*sqrt(2)*sqrt(3 - sqrt(5)) + 3*sqrt(10)*sqrt(3 - sqrt(5)))*exp(-I*t*sqrt(3/2 - sqrt(5)/2))/((-160 + 72*sqrt(5))*(1 + sqrt(5))),                                                                                                -2*(-4*sqrt(10) + 9*sqrt(2))*exp(I*t*sqrt(3/2 - sqrt(5)/2))/((1 + sqrt(5))*(-25*sqrt(3 - sqrt(5)) + 11*sqrt(5)*sqrt(3 - sqrt(5)))) + 2*(-3*sqrt(10) + 5*sqrt(2))*exp(I*t*sqrt(sqrt(5)/2 + 3/2))/((-1 + sqrt(5))*(-40*sqrt(sqrt(5) + 3) + 20*sqrt(5)*sqrt(sqrt(5) + 3))) + 2*(-29*sqrt(2)*sqrt(sqrt(5) + 3) + 13*sqrt(10)*sqrt(sqrt(5) + 3))*exp(-I*t*sqrt(sqrt(5)/2 + 3/2))/((-160 + 72*sqrt(5))*(-1 + sqrt(5))) - 2*(-29*sqrt(2)*sqrt(3 - sqrt(5)) + 13*sqrt(10)*sqrt(3 - sqrt(5)))*exp(-I*t*sqrt(3/2 - sqrt(5)/2))/((-420 + 188*sqrt(5))*(1 + sqrt(5))),                                                                                                -2*(-11 + 5*sqrt(5))*exp(I*t*sqrt(3/2 - sqrt(5)/2))/((-50 + 22*sqrt(5))*(1 + sqrt(5))) + 2*(5 - sqrt(5))*exp(I*t*sqrt(sqrt(5)/2 + 3/2))/((-10 + 10*sqrt(5))*(-1 + sqrt(5))) + 2*(1 - sqrt(5))*exp(-I*t*sqrt(sqrt(5)/2 + 3/2))/((-10 + 2*sqrt(5))*(-1 + sqrt(5))) - 2*(-11 + 5*sqrt(5))*exp(-I*t*sqrt(3/2 - sqrt(5)/2))/((-50 + 22*sqrt(5))*(1 + sqrt(5))),                                                                                                    2*exp(I*t*sqrt(3/2 - sqrt(5)/2))/((-5 + sqrt(5))*(1 + sqrt(5))) + 2*(-5 + 2*sqrt(5))*exp(I*t*sqrt(sqrt(5)/2 + 3/2))/((-15 + 5*sqrt(5))*(-1 + sqrt(5))) + 2*(-3 + sqrt(5))*exp(-I*t*sqrt(sqrt(5)/2 + 3/2))/((-10 + 2*sqrt(5))*(-1 + sqrt(5))) - 40*exp(-I*t*sqrt(3/2 - sqrt(5)/2))/((1 + sqrt(5))*(100 - 20*sqrt(5)))],\n",
       "[                                                                                                                                                                          (-sqrt(10) + sqrt(2))*exp(I*t*sqrt(3/2 - sqrt(5)/2))/(-10*sqrt(3 - sqrt(5)) + 2*sqrt(5)*sqrt(3 - sqrt(5))) + (-5*sqrt(2) + 2*sqrt(10))*exp(I*t*sqrt(sqrt(5)/2 + 3/2))/(-20*sqrt(sqrt(5) + 3) + 10*sqrt(5)*sqrt(sqrt(5) + 3)) + (-21*sqrt(10)*sqrt(sqrt(5) + 3) + 47*sqrt(2)*sqrt(sqrt(5) + 3))*exp(-I*t*sqrt(sqrt(5)/2 + 3/2))/(-160 + 72*sqrt(5)) + (-7*sqrt(2)*sqrt(3 - sqrt(5)) + 3*sqrt(10)*sqrt(3 - sqrt(5)))*exp(-I*t*sqrt(3/2 - sqrt(5)/2))/(-160 + 72*sqrt(5)),                                                                                                                                                                           (-4*sqrt(10) + 9*sqrt(2))*exp(I*t*sqrt(3/2 - sqrt(5)/2))/(-25*sqrt(3 - sqrt(5)) + 11*sqrt(5)*sqrt(3 - sqrt(5))) + (-3*sqrt(10) + 5*sqrt(2))*exp(I*t*sqrt(sqrt(5)/2 + 3/2))/(-40*sqrt(sqrt(5) + 3) + 20*sqrt(5)*sqrt(sqrt(5) + 3)) + (-29*sqrt(2)*sqrt(sqrt(5) + 3) + 13*sqrt(10)*sqrt(sqrt(5) + 3))*exp(-I*t*sqrt(sqrt(5)/2 + 3/2))/(-160 + 72*sqrt(5)) + (-29*sqrt(2)*sqrt(3 - sqrt(5)) + 13*sqrt(10)*sqrt(3 - sqrt(5)))*exp(-I*t*sqrt(3/2 - sqrt(5)/2))/(-420 + 188*sqrt(5)),                                                                                                                                                                           (-11 + 5*sqrt(5))*exp(I*t*sqrt(3/2 - sqrt(5)/2))/(-50 + 22*sqrt(5)) + (5 - sqrt(5))*exp(I*t*sqrt(sqrt(5)/2 + 3/2))/(-10 + 10*sqrt(5)) + (1 - sqrt(5))*exp(-I*t*sqrt(sqrt(5)/2 + 3/2))/(-10 + 2*sqrt(5)) + (-11 + 5*sqrt(5))*exp(-I*t*sqrt(3/2 - sqrt(5)/2))/(-50 + 22*sqrt(5)),                                                                                                                                                                           -exp(I*t*sqrt(3/2 - sqrt(5)/2))/(-5 + sqrt(5)) + (-5 + 2*sqrt(5))*exp(I*t*sqrt(sqrt(5)/2 + 3/2))/(-15 + 5*sqrt(5)) + (-3 + sqrt(5))*exp(-I*t*sqrt(sqrt(5)/2 + 3/2))/(-10 + 2*sqrt(5)) + 20*exp(-I*t*sqrt(3/2 - sqrt(5)/2))/(100 - 20*sqrt(5))]])"
      ]
     },
     "execution_count": 45,
     "metadata": {},
     "output_type": "execute_result"
    }
   ],
   "source": [
    "t = sp.symbols('t')\n",
    "U=sp.exp(sp.Matrix([[0,0,-sp.I*t,0],[0,0,-sp.I*t,-sp.I*t],[-sp.I*t,-sp.I*t,0,0],[0,-sp.I*t,0,0]]))\n",
    "U"
   ]
  },
  {
   "cell_type": "code",
   "execution_count": 46,
   "metadata": {},
   "outputs": [],
   "source": [
    "# 定义σ+和σ-矩阵\n",
    "sigma_plus = np.array([[0, 1], [0, 0]])\n",
    "sigma_minus = np.array([[0, 0], [1, 0]])\n",
    "identity = np.array([[1, 0], [0, 1]])\n",
    "matrix_map ={\n",
    "    1: sigma_plus,\n",
    "    -1: sigma_minus,\n",
    "    0: identity\n",
    "}\n",
    "def tensor_product(us):\n",
    "    result = matrix_map[us[0]]\n",
    "    for u in us[1:]:\n",
    "        result = np.kron(result, matrix_map[u])\n",
    "    return result\n",
    "    \n",
    "\n"
   ]
  },
  {
   "cell_type": "code",
   "execution_count": 47,
   "metadata": {},
   "outputs": [
    {
     "data": {
      "text/plain": [
       "array([[0, 0, 0, 0],\n",
       "       [0, 0, 0, 0],\n",
       "       [1, 0, 0, 0],\n",
       "       [0, 1, 0, 0]])"
      ]
     },
     "execution_count": 47,
     "metadata": {},
     "output_type": "execute_result"
    }
   ],
   "source": [
    "tensor_product([-1,0])"
   ]
  },
  {
   "cell_type": "code",
   "execution_count": 48,
   "metadata": {},
   "outputs": [],
   "source": [
    "import sympy as sp\n",
    "def get_simulate_unitary(t,v):    \n",
    "    contrary_v = [-i for i in v]\n",
    "    U = expm(-1j * t * (tensor_product(v)+tensor_product(contrary_v)))\n",
    "    return U\n",
    "\n",
    "def get_simulate_unitary_two(t,v,u):    \n",
    "    contrary_v = [-i for i in v]\n",
    "    contrary_u = [-i for i in u]\n",
    "    H = (tensor_product(v)+tensor_product(contrary_v)+ tensor_product(u)+tensor_product(contrary_u))\n",
    "    print(H)\n",
    "    U = expm(-1j * t * H)\n",
    "    return U"
   ]
  },
  {
   "cell_type": "code",
   "execution_count": 49,
   "metadata": {},
   "outputs": [
    {
     "name": "stdout",
     "output_type": "stream",
     "text": [
      "[[0 0 1 0]\n",
      " [0 0 1 1]\n",
      " [1 1 0 0]\n",
      " [0 1 0 0]]\n"
     ]
    },
    {
     "data": {
      "text/plain": [
       "array([[ 0.712+0.j   , -0.272+0.j   ,  0.   -0.642j,  0.   +0.077j],\n",
       "       [-0.272+0.j   ,  0.441+0.j   ,  0.   -0.565j,  0.   -0.642j],\n",
       "       [ 0.   -0.642j,  0.   -0.565j,  0.441+0.j   , -0.272+0.j   ],\n",
       "       [ 0.   +0.077j,  0.   -0.642j, -0.272+0.j   ,  0.712+0.j   ]])"
      ]
     },
     "execution_count": 49,
     "metadata": {},
     "output_type": "execute_result"
    }
   ],
   "source": [
    "U1= get_simulate_unitary(0.8,[-1,1])\n",
    "U2 = get_simulate_unitary(0.8,[1,0])\n",
    "Ud = U1@U2\n",
    "U = get_simulate_unitary_two(0.8,[-1,1],[1,0])\n",
    "U\n"
   ]
  },
  {
   "cell_type": "code",
   "execution_count": 50,
   "metadata": {},
   "outputs": [
    {
     "data": {
      "text/plain": [
       "array([[ 0.697+0.j   ,  0.   +0.j   ,  0.   -0.717j,  0.   +0.j   ],\n",
       "       [-0.515+0.j   ,  0.485+0.j   ,  0.   -0.5j  ,  0.   -0.5j  ],\n",
       "       [ 0.   -0.5j  ,  0.   -0.5j  ,  0.485+0.j   , -0.515+0.j   ],\n",
       "       [ 0.   +0.j   ,  0.   -0.717j,  0.   +0.j   ,  0.697+0.j   ]])"
      ]
     },
     "execution_count": 50,
     "metadata": {},
     "output_type": "execute_result"
    }
   ],
   "source": [
    "Ud"
   ]
  },
  {
   "cell_type": "code",
   "execution_count": 11,
   "metadata": {},
   "outputs": [
    {
     "data": {
      "text/plain": [
       "array([[ 0.697+0.j   ,  0.   +0.j   ,  0.   -0.717j,  0.   +0.j   ],\n",
       "       [-0.515+0.j   ,  0.485+0.j   ,  0.   -0.5j  ,  0.   -0.5j  ],\n",
       "       [ 0.   -0.5j  ,  0.   -0.5j  ,  0.485+0.j   , -0.515+0.j   ],\n",
       "       [ 0.   +0.j   ,  0.   -0.717j,  0.   +0.j   ,  0.697+0.j   ]])"
      ]
     },
     "execution_count": 11,
     "metadata": {},
     "output_type": "execute_result"
    }
   ],
   "source": [
    "Ud"
   ]
  },
  {
   "cell_type": "code",
   "execution_count": 43,
   "metadata": {},
   "outputs": [
    {
     "data": {
      "text/plain": [
       "array([[ 0.292+0.j   ,  0.   -0.455j, -0.708+0.j   ,  0.   -0.455j],\n",
       "       [ 0.   -0.841j,  0.54 +0.j   ,  0.   +0.j   ,  0.   +0.j   ],\n",
       "       [ 0.   +0.j   ,  0.   +0.j   ,  0.54 +0.j   ,  0.   -0.841j],\n",
       "       [ 0.   -0.455j, -0.708+0.j   ,  0.   -0.455j,  0.292+0.j   ]])"
      ]
     },
     "execution_count": 43,
     "metadata": {},
     "output_type": "execute_result"
    }
   ],
   "source": [
    "U2@U1"
   ]
  },
  {
   "cell_type": "code",
   "execution_count": 191,
   "metadata": {},
   "outputs": [
    {
     "name": "stdout",
     "output_type": "stream",
     "text": [
      "[0.233 0.494 0.482 0.183 0.447 0.019 0.174 0.453]\n",
      "[0.233+0.j    0.153+0.165j 0.482+0.j    0.183+0.j    0.447+0.j    0.019+0.j    0.054+0.47j  0.453+0.j   ]\n",
      "[[0.054 0.115 0.112 0.043 0.104 0.005 0.04  0.106]\n",
      " [0.115 0.244 0.238 0.091 0.221 0.01  0.086 0.224]\n",
      " [0.112 0.238 0.232 0.088 0.215 0.009 0.084 0.218]\n",
      " [0.043 0.091 0.088 0.034 0.082 0.004 0.032 0.083]\n",
      " [0.104 0.221 0.215 0.082 0.2   0.009 0.078 0.203]\n",
      " [0.005 0.01  0.009 0.004 0.009 0.    0.003 0.009]\n",
      " [0.04  0.086 0.084 0.032 0.078 0.003 0.03  0.079]\n",
      " [0.106 0.224 0.218 0.083 0.203 0.009 0.079 0.206]]\n"
     ]
    }
   ],
   "source": [
    "initvec = np.random.rand(8)\n",
    "initvec = initvec / np.linalg.norm(initvec)\n",
    "print(initvec)\n",
    "print(U @ initvec)\n",
    "## get density matrix\n",
    "rho = np.outer(initvec, initvec.conj().T)\n",
    "print(rho)\n"
   ]
  },
  {
   "cell_type": "code",
   "execution_count": 211,
   "metadata": {},
   "outputs": [
    {
     "name": "stdout",
     "output_type": "stream",
     "text": [
      "         ┌───┐       ┌───┐              ┌───┐   ┌───┐             \n",
      "q_0: ────┤ H ├─────■─┤ H ├─■────────────┤ H ├─■─┤ H ├─■───────────\n",
      "         └───┘     │ └───┘ │            └───┘ │ └───┘ │           \n",
      "q_1: ─■────────────■───────┼──────────────────■───────┼───────────\n",
      "      │P(0.43278)          │P(-0.43278)               │P(0.43278) \n",
      "q_2: ─■────────────────────■──────────────────────────■───────────\n",
      "                                                                  \n"
     ]
    }
   ],
   "source": [
    "from qiskit import QuantumCircuit\n",
    "from qiskit import transpile\n",
    "\n",
    "cir = QuantumCircuit(3)\n",
    "cir.mcp(0.865555555, [0,1], 2)\n",
    "new_cir = transpile(cir, basis_gates=['x','cp','y','z','cz','ccz','ccp','h'])\n",
    "print(new_cir)"
   ]
  },
  {
   "cell_type": "code",
   "execution_count": 193,
   "metadata": {},
   "outputs": [],
   "source": [
    "from qiskit import QuantumCircuit\n",
    "from qiskit_aer import Aer\n",
    "from qiskit.circuit.library import MCMT\n",
    "from qiskit import transpile\n",
    "\n",
    "# 输入qc, 返回电路酉矩阵\n",
    "def get_circ_unitary(quantum_circuit):\n",
    "  backend = Aer.get_backend('unitary_simulator' )\n",
    "  new_circuit = transpile(quantum_circuit, backend)\n",
    "  job = backend.run(new_circuit)\n",
    "  result = job.result()\n",
    "  unitary = result.get_unitary()\n",
    "  return unitary"
   ]
  },
  {
   "cell_type": "code",
   "execution_count": 194,
   "metadata": {},
   "outputs": [
    {
     "data": {
      "text/html": [
       "<pre style=\"word-wrap: normal;white-space: pre;background: #fff0;line-height: 1.1;font-family: &quot;Courier New&quot;,Courier,monospace\">     ┌───┐          ┌───┐\n",
       "q_0: ┤ X ├──────────┤ X ├\n",
       "     ├───┤     ┌───┐└─┬─┘\n",
       "q_1: ┤ X ├─────┤ X ├──■──\n",
       "     ├───┤┌───┐└─┬─┘     \n",
       "q_2: ┤ X ├┤ H ├──■───────\n",
       "     └───┘└───┘          </pre>"
      ],
      "text/plain": [
       "     ┌───┐          ┌───┐\n",
       "q_0: ┤ X ├──────────┤ X ├\n",
       "     ├───┤     ┌───┐└─┬─┘\n",
       "q_1: ┤ X ├─────┤ X ├──■──\n",
       "     ├───┤┌───┐└─┬─┘     \n",
       "q_2: ┤ X ├┤ H ├──■───────\n",
       "     └───┘└───┘          "
      ]
     },
     "execution_count": 194,
     "metadata": {},
     "output_type": "execute_result"
    }
   ],
   "source": [
    "# 从q0加H后, cx控制其余门, 注意qiskit下标相反\n",
    "from qiskit import QuantumCircuit\n",
    "def iter_apply(qc,bitstring,i,num_qubits):\n",
    "    flip = bitstring[0]==0\n",
    "    if flip:\n",
    "        bitstring = [not(j) for j in bitstring]\n",
    "    if bitstring[1]:\n",
    "        qc.x(num_qubits-i-1)\n",
    "    qc.cx(num_qubits - i,num_qubits-(i+1))\n",
    "    next_bitstring = bitstring[1:]\n",
    "    if len(next_bitstring)>1:\n",
    "        return iter_apply(qc,next_bitstring,i+1,num_qubits)\n",
    "    else:\n",
    "        return qc\n",
    "        \n",
    "    \n",
    "\n",
    "def apply_convert(qc,bitstring):\n",
    "    ## 1111\n",
    "    num_qubits = len(bitstring)\n",
    "    qc.x(num_qubits - 1)\n",
    "    qc.h(num_qubits - 1)\n",
    "    ## 1111+0111\n",
    "    ##find bit start with 1\n",
    "    iter_apply(qc,bitstring,1,num_qubits)\n",
    "\n",
    "num_q = 3\n",
    "qc = QuantumCircuit(num_q)\n",
    "bitstring = [1,0,1]\n",
    "for i in range(num_q-1):\n",
    "    qc.x(i)\n",
    "apply_convert(qc,bitstring)\n",
    "qc.draw()"
   ]
  },
  {
   "cell_type": "code",
   "execution_count": 195,
   "metadata": {},
   "outputs": [
    {
     "name": "stdout",
     "output_type": "stream",
     "text": [
      "验证制备 的叠加态: [ 0.   +0.j  0.   +0.j  0.707-0.j  0.   +0.j  0.   +0.j -0.707+0.j  0.   +0.j  0.   +0.j]\n"
     ]
    }
   ],
   "source": [
    "# 验证确实为 |101> + |010> 的叠加态\n",
    "print(f'验证制备 的叠加态: {np.asarray(get_circ_unitary(qc))[:,0]}')\n"
   ]
  },
  {
   "cell_type": "code",
   "execution_count": 196,
   "metadata": {},
   "outputs": [
    {
     "data": {
      "text/html": [
       "<pre style=\"word-wrap: normal;white-space: pre;background: #fff0;line-height: 1.1;font-family: &quot;Courier New&quot;,Courier,monospace\">     ┌───┐┌───┐               \n",
       "q_0: ┤ X ├┤ X ├───────────────\n",
       "     ├───┤└─┬─┘┌───┐          \n",
       "q_1: ┤ X ├──■──┤ X ├──────────\n",
       "     ├───┤     └─┬─┘┌───┐┌───┐\n",
       "q_2: ┤ X ├───────■──┤ H ├┤ X ├\n",
       "     └───┘          └───┘└───┘</pre>"
      ],
      "text/plain": [
       "     ┌───┐┌───┐               \n",
       "q_0: ┤ X ├┤ X ├───────────────\n",
       "     ├───┤└─┬─┘┌───┐          \n",
       "q_1: ┤ X ├──■──┤ X ├──────────\n",
       "     ├───┤     └─┬─┘┌───┐┌───┐\n",
       "q_2: ┤ X ├───────■──┤ H ├┤ X ├\n",
       "     └───┘          └───┘└───┘"
      ]
     },
     "execution_count": 196,
     "metadata": {},
     "output_type": "execute_result"
    }
   ],
   "source": [
    "def reversed_iter_apply(qc,bitstring,i,num_qubits):\n",
    "    flip = bitstring[0]==0\n",
    "    if flip:\n",
    "        bitstring = [not(j) for j in bitstring]\n",
    "    if len(bitstring)>1:\n",
    "        reversed_iter_apply(qc,bitstring[1:],i+1,num_qubits)\n",
    "    else:\n",
    "        return qc\n",
    "    qc.cx(num_qubits - i,num_qubits-(i+1))\n",
    "    if bitstring[1]:\n",
    "        qc.x(num_qubits-i-1)\n",
    "    return qc\n",
    "    \n",
    "\n",
    "def reverse_apply_convert(qc,bitstring):\n",
    "    ## 1111\n",
    "    num_qubits = len(bitstring)\n",
    "    reversed_iter_apply(qc,bitstring,1,num_qubits)\n",
    "    qc.h(num_qubits - 1)\n",
    "    qc.x(num_qubits - 1)\n",
    "    ## 1111+0111\n",
    "    ##find bit start with 1\n",
    "\n",
    "num_q = 3\n",
    "qc = QuantumCircuit(num_q)\n",
    "bitstring = [1,0,1]\n",
    "for i in range(num_q):\n",
    "    qc.x(i)\n",
    "reverse_apply_convert(qc,bitstring)\n",
    "qc.draw()"
   ]
  },
  {
   "cell_type": "code",
   "execution_count": 197,
   "metadata": {},
   "outputs": [
    {
     "name": "stdout",
     "output_type": "stream",
     "text": [
      "验证反向的态: [-0.707+0.j  0.   +0.j  0.   +0.j  0.   +0.j  0.707-0.j  0.   +0.j  0.   +0.j  0.   +0.j]\n"
     ]
    }
   ],
   "source": [
    "print(f'验证反向的态: {np.asarray(get_circ_unitary(qc))[:,0]}')"
   ]
  },
  {
   "cell_type": "code",
   "execution_count": 198,
   "metadata": {},
   "outputs": [
    {
     "name": "stdout",
     "output_type": "stream",
     "text": [
      "[[1.   -0.j    0.   +0.j    0.   +0.j    0.   +0.j    0.   +0.j    0.   +0.j    0.   +0.j    0.   +0.j    0.   +0.j    0.   +0.j    0.   +0.j    0.   +0.j    0.   +0.j    0.   +0.j    0.   +0.j    0.   +0.j   ]\n",
      " [0.   +0.j    1.   -0.j    0.   +0.j    0.   +0.j    0.   +0.j    0.   +0.j    0.   +0.j    0.   +0.j    0.   +0.j    0.   +0.j    0.   +0.j    0.   +0.j    0.   +0.j    0.   +0.j    0.   +0.j    0.   +0.j   ]\n",
      " [0.   +0.j    0.   +0.j    1.   -0.j    0.   +0.j    0.   +0.j    0.   +0.j    0.   +0.j    0.   +0.j    0.   +0.j    0.   +0.j    0.   +0.j    0.   +0.j    0.   +0.j    0.   +0.j    0.   +0.j    0.   +0.j   ]\n",
      " [0.   +0.j    0.   +0.j    0.   +0.j    0.809+0.j    0.   +0.j    0.   +0.j    0.   +0.j    0.   +0.j    0.   +0.j    0.   +0.j    0.   +0.j    0.   +0.j    0.   +0.588j 0.   +0.j    0.   +0.j    0.   +0.j   ]\n",
      " [0.   +0.j    0.   +0.j    0.   +0.j    0.   +0.j    1.   -0.j    0.   +0.j    0.   +0.j    0.   +0.j    0.   +0.j    0.   +0.j    0.   +0.j    0.   +0.j    0.   +0.j    0.   +0.j    0.   +0.j    0.   +0.j   ]\n",
      " [0.   +0.j    0.   +0.j    0.   +0.j    0.   +0.j    0.   +0.j    1.   -0.j    0.   +0.j    0.   +0.j    0.   +0.j    0.   +0.j    0.   +0.j    0.   +0.j    0.   +0.j    0.   +0.j    0.   +0.j    0.   +0.j   ]\n",
      " [0.   +0.j    0.   +0.j    0.   +0.j    0.   +0.j    0.   +0.j    0.   +0.j    1.   -0.j    0.   +0.j    0.   +0.j    0.   +0.j    0.   +0.j    0.   +0.j    0.   +0.j    0.   +0.j    0.   +0.j    0.   +0.j   ]\n",
      " [0.   +0.j    0.   +0.j    0.   +0.j    0.   +0.j    0.   +0.j    0.   +0.j    0.   +0.j    1.   -0.j    0.   +0.j    0.   +0.j    0.   +0.j    0.   +0.j    0.   +0.j    0.   +0.j    0.   +0.j    0.   +0.j   ]\n",
      " [0.   +0.j    0.   +0.j    0.   +0.j    0.   +0.j    0.   +0.j    0.   +0.j    0.   +0.j    0.   +0.j    1.   -0.j    0.   +0.j    0.   +0.j    0.   +0.j    0.   +0.j    0.   +0.j    0.   +0.j    0.   +0.j   ]\n",
      " [0.   +0.j    0.   +0.j    0.   +0.j    0.   +0.j    0.   +0.j    0.   +0.j    0.   +0.j    0.   +0.j    0.   +0.j    1.   -0.j    0.   +0.j    0.   +0.j    0.   +0.j    0.   +0.j    0.   +0.j    0.   +0.j   ]\n",
      " [0.   +0.j    0.   +0.j    0.   +0.j    0.   +0.j    0.   +0.j    0.   +0.j    0.   +0.j    0.   +0.j    0.   +0.j    0.   +0.j    1.   -0.j    0.   +0.j    0.   +0.j    0.   +0.j    0.   +0.j    0.   +0.j   ]\n",
      " [0.   +0.j    0.   +0.j    0.   +0.j    0.   +0.j    0.   +0.j    0.   +0.j    0.   +0.j    0.   +0.j    0.   +0.j    0.   +0.j    0.   +0.j    1.   -0.j    0.   +0.j    0.   +0.j    0.   +0.j    0.   +0.j   ]\n",
      " [0.   +0.j    0.   +0.j    0.   +0.j    0.   +0.588j 0.   +0.j    0.   +0.j    0.   +0.j    0.   +0.j    0.   +0.j    0.   +0.j    0.   +0.j    0.   +0.j    0.809-0.j    0.   +0.j    0.   +0.j    0.   +0.j   ]\n",
      " [0.   +0.j    0.   +0.j    0.   +0.j    0.   +0.j    0.   +0.j    0.   +0.j    0.   +0.j    0.   +0.j    0.   +0.j    0.   +0.j    0.   +0.j    0.   +0.j    0.   +0.j    1.   -0.j    0.   +0.j    0.   +0.j   ]\n",
      " [0.   +0.j    0.   +0.j    0.   +0.j    0.   +0.j    0.   +0.j    0.   +0.j    0.   +0.j    0.   +0.j    0.   +0.j    0.   +0.j    0.   +0.j    0.   +0.j    0.   +0.j    0.   +0.j    1.   -0.j    0.   +0.j   ]\n",
      " [0.   +0.j    0.   +0.j    0.   +0.j    0.   +0.j    0.   +0.j    0.   +0.j    0.   +0.j    0.   +0.j    0.   +0.j    0.   +0.j    0.   +0.j    0.   +0.j    0.   +0.j    0.   +0.j    0.   +0.j    1.   -0.j   ]]\n",
      "     ┌───┐┌───┐                convert             multi-ctrl                      reverse ┌───┐               ┌───┐\n",
      "q_0: ┤ X ├┤ X ├───────────────────░─────■──────────────░────────────■─────────────────░────┤ X ├───────────────┤ X ├\n",
      "     └─┬─┘├───┤                   ░     │              ░            │                 ░    └───┘          ┌───┐└─┬─┘\n",
      "q_1: ──■──┤ X ├───────────────────░─────■──────────────░────────────■─────────────────░───────────────────┤ X ├──■──\n",
      "          └─┬─┘┌───┐┌───┐         ░     │              ░            │                 ░    ┌───┐     ┌───┐└─┬─┘     \n",
      "q_2: ───────■──┤ X ├┤ X ├─────────░─────■──────────────░────────────■─────────────────░────┤ X ├─────┤ X ├──■───────\n",
      "               └─┬─┘├───┤┌───┐    ░     │P(-9π/5)      ░      ┌───┐ │P(9π/5) ┌───┐    ░    ├───┤┌───┐└─┬─┘          \n",
      "q_3: ────────────■──┤ H ├┤ X ├────░─────■──────────────░──────┤ X ├─■────────┤ X ├────░────┤ X ├┤ H ├──■────────────\n",
      "                    └───┘└───┘    ░                    ░      └───┘          └───┘    ░    └───┘└───┘               \n"
     ]
    }
   ],
   "source": [
    "def iter_apply(qc,bitstring,i,num_qubits):\n",
    "    flip = bitstring[0]==0\n",
    "    if flip:\n",
    "        bitstring = [not(j) for j in bitstring]\n",
    "    if bitstring[1]:\n",
    "        qc.x(num_qubits-i-1)\n",
    "    qc.cx(num_qubits - i,num_qubits-(i+1))\n",
    "    next_bitstring = bitstring[1:]\n",
    "    if len(next_bitstring)>1:\n",
    "        return iter_apply(qc,next_bitstring,i+1,num_qubits)\n",
    "    else:\n",
    "        return qc\n",
    "\n",
    "def apply_convert(qc,bitstring):\n",
    "    num_qubits = len(bitstring)\n",
    "    qc.x(num_qubits - 1)\n",
    "    qc.h(num_qubits - 1)\n",
    "    iter_apply(qc,bitstring,1,num_qubits)\n",
    "\n",
    "def reversed_iter_apply(qc,bitstring,i,num_qubits):\n",
    "    flip = bitstring[0]==0\n",
    "    if flip:\n",
    "        bitstring = [not(j) for j in bitstring]\n",
    "    if len(bitstring)>1:\n",
    "        reversed_iter_apply(qc,bitstring[1:],i+1,num_qubits)\n",
    "    else:\n",
    "        return qc\n",
    "    qc.cx(num_qubits - i,num_qubits-(i+1))\n",
    "    if bitstring[1]:\n",
    "        qc.x(num_qubits-i-1)\n",
    "    return qc\n",
    "    \n",
    "\n",
    "def reverse_apply_convert(qc,bitstring):\n",
    "    ## 1111\n",
    "    num_qubits = len(bitstring)\n",
    "    reversed_iter_apply(qc,bitstring,1,num_qubits)\n",
    "    qc.h(num_qubits - 1)\n",
    "    qc.x(num_qubits - 1)\n",
    "    ## 1111+0111\n",
    "    ##find bit start with 1\n",
    "\n",
    "\n",
    "def get_circuit(num_qubits,t,bitstring):\n",
    "    qc = QuantumCircuit(num_qubits)\n",
    "    # for i in range(num_qubits):\n",
    "    #     if i == index:\n",
    "    #         qc.x(i)\n",
    "    reverse_apply_convert(qc,bitstring)\n",
    "    qc.barrier(label='convert')\n",
    "    qc.mcp(-2*np.pi * t, list(range(1,num_qubits)),0)\n",
    "    qc.barrier(label='multi-ctrl')\n",
    "    qc.x(num_qubits-1)\n",
    "    \n",
    "    qc.mcp(2*np.pi * t, list(range(1,num_qubits)),0)\n",
    "    qc.x(num_qubits-1)\n",
    "    qc.barrier(label='reverse')\n",
    "    # qc.mcp(-2*np.pi * t, list(range(num_qubits-1)),num_qubits-1)\n",
    "    apply_convert(qc,bitstring)\n",
    "\n",
    "    # for i in range(num_qubits):\n",
    "    #     if i == index:\n",
    "    #         qc.x(i)\n",
    "    return qc\n",
    "t = 0.9\n",
    "bitstring = [0,0,1,1]\n",
    "num_q = len(bitstring)\n",
    "qc =get_circuit(num_q,t,bitstring)\n",
    "\n",
    "import numpy as np\n",
    "unitary = get_circ_unitary(qc)\n",
    "unitarymatrix= np.where(np.abs(unitary.data) < 1e-10, 0, unitary.data)\n",
    "print(unitarymatrix.round(4))\n",
    "print(qc.draw(fold=200))"
   ]
  },
  {
   "cell_type": "code",
   "execution_count": 199,
   "metadata": {},
   "outputs": [
    {
     "data": {
      "text/plain": [
       "True"
      ]
     },
     "execution_count": 199,
     "metadata": {},
     "output_type": "execute_result"
    }
   ],
   "source": [
    "np.allclose(unitarymatrix- get_simulate_unitary(t,bitstring), 0, atol=1e-10)"
   ]
  },
  {
   "cell_type": "code",
   "execution_count": 200,
   "metadata": {},
   "outputs": [
    {
     "data": {
      "text/plain": [
       "array([[1.   +0.j   , 0.   +0.j   , 0.   +0.j   , 0.   +0.j   , 0.   +0.j   , 0.   +0.j   , 0.   +0.j   , 0.   +0.j   ],\n",
       "       [0.   +0.j   , 1.   +0.j   , 0.   +0.j   , 0.   +0.j   , 0.   +0.j   , 0.   +0.j   , 0.   +0.j   , 0.   +0.j   ],\n",
       "       [0.   +0.j   , 0.   +0.j   , 0.809+0.j   , 0.   +0.j   , 0.   +0.j   , 0.   +0.588j, 0.   +0.j   , 0.   +0.j   ],\n",
       "       [0.   +0.j   , 0.   +0.j   , 0.   +0.j   , 1.   +0.j   , 0.   +0.j   , 0.   +0.j   , 0.   +0.j   , 0.   +0.j   ],\n",
       "       [0.   +0.j   , 0.   +0.j   , 0.   +0.j   , 0.   +0.j   , 1.   +0.j   , 0.   +0.j   , 0.   +0.j   , 0.   +0.j   ],\n",
       "       [0.   +0.j   , 0.   +0.j   , 0.   +0.588j, 0.   +0.j   , 0.   +0.j   , 0.809+0.j   , 0.   +0.j   , 0.   +0.j   ],\n",
       "       [0.   +0.j   , 0.   +0.j   , 0.   +0.j   , 0.   +0.j   , 0.   +0.j   , 0.   +0.j   , 1.   +0.j   , 0.   +0.j   ],\n",
       "       [0.   +0.j   , 0.   +0.j   , 0.   +0.j   , 0.   +0.j   , 0.   +0.j   , 0.   +0.j   , 0.   +0.j   , 1.   +0.j   ]])"
      ]
     },
     "execution_count": 200,
     "metadata": {},
     "output_type": "execute_result"
    }
   ],
   "source": [
    "t =0.9\n",
    "v = [0, 1, 0]\n",
    "\n",
    "# for unitary build contrary_v\n",
    "contrary_v = [not(i) for i in v]\n",
    "U = expm(-1j * 2 * np.pi * t * (tensor_product(v)+tensor_product(contrary_v)))\n",
    "U"
   ]
  },
  {
   "cell_type": "code",
   "execution_count": 201,
   "metadata": {},
   "outputs": [
    {
     "name": "stdout",
     "output_type": "stream",
     "text": [
      "Operator([[1.   +0.j   , 0.   +0.j   , 0.   +0.j   , 0.   +0.j   , 0.   +0.j   , 0.   +0.j   , 0.   +0.j   , 0.   +0.j   ],\n",
      "          [0.   +0.j   , 1.   +0.j   , 0.   +0.j   , 0.   +0.j   , 0.   +0.j   , 0.   +0.j   , 0.   +0.j   , 0.   +0.j   ],\n",
      "          [0.   +0.j   , 0.   +0.j   , 1.   +0.j   , 0.   +0.j   , 0.   +0.j   , 0.   +0.j   , 0.   +0.j   , 0.   +0.j   ],\n",
      "          [0.   +0.j   , 0.   +0.j   , 0.   +0.j   , 1.   +0.j   , 0.   +0.j   , 0.   +0.j   , 0.   +0.j   , 0.   +0.j   ],\n",
      "          [0.   +0.j   , 0.   +0.j   , 0.   +0.j   , 0.   +0.j   , 1.   +0.j   , 0.   +0.j   , 0.   +0.j   , 0.   +0.j   ],\n",
      "          [0.   +0.j   , 0.   +0.j   , 0.   +0.j   , 0.   +0.j   , 0.   +0.j   , 1.   +0.j   , 0.   +0.j   , 0.   +0.j   ],\n",
      "          [0.   +0.j   , 0.   +0.j   , 0.   +0.j   , 0.   +0.j   , 0.   +0.j   , 0.   +0.j   , 1.   +0.j   , 0.   +0.j   ],\n",
      "          [0.   +0.j   , 0.   +0.j   , 0.   +0.j   , 0.   +0.j   , 0.   +0.j   , 0.   +0.j   , 0.   +0.j   , 0.809-0.588j]],\n",
      "         input_dims=(2, 2, 2), output_dims=(2, 2, 2))\n"
     ]
    }
   ],
   "source": [
    "def when_1_add_phase(theta):\n",
    "    circ = QuantumCircuit(1)\n",
    "    circ.unitary(np.array([[1, 0], [0, np.exp(1j * theta)]]), 0)\n",
    "    gate = circ.to_gate()\n",
    "    return gate\n",
    "num_qubits = 3\n",
    "t = 0.9\n",
    "qc_ham_simu = QuantumCircuit(num_qubits)\n",
    "gete1 = when_1_add_phase(2 * np.pi * t)\n",
    "cc_gate1 = MCMT(gete1, num_qubits - 1, 1)\n",
    "# 哪个是受控门无所谓, 全 1 加相位\n",
    "qc_ham_simu.append(cc_gate1, range(num_qubits))\n",
    "get_circ_unitary(qc_ham_simu)"
   ]
  },
  {
   "cell_type": "code",
   "execution_count": 202,
   "metadata": {},
   "outputs": [
    {
     "name": "stdout",
     "output_type": "stream",
     "text": [
      "Operator([[1.   +0.j   , 0.   +0.j   , 0.   +0.j   , 0.   +0.j   , 0.   +0.j   , 0.   +0.j   , 0.   +0.j   , 0.   +0.j   ],\n",
      "          [0.   +0.j   , 1.   +0.j   , 0.   +0.j   , 0.   +0.j   , 0.   +0.j   , 0.   +0.j   , 0.   +0.j   , 0.   +0.j   ],\n",
      "          [0.   +0.j   , 0.   +0.j   , 1.   +0.j   , 0.   +0.j   , 0.   +0.j   , 0.   +0.j   , 0.   +0.j   , 0.   +0.j   ],\n",
      "          [0.   +0.j   , 0.   +0.j   , 0.   +0.j   , 1.   +0.j   , 0.   +0.j   , 0.   +0.j   , 0.   +0.j   , 0.   +0.j   ],\n",
      "          [0.   +0.j   , 0.   +0.j   , 0.   +0.j   , 0.   +0.j   , 1.   +0.j   , 0.   +0.j   , 0.   +0.j   , 0.   +0.j   ],\n",
      "          [0.   +0.j   , 0.   +0.j   , 0.   +0.j   , 0.   +0.j   , 0.   +0.j   , 1.   +0.j   , 0.   +0.j   , 0.   +0.j   ],\n",
      "          [0.   +0.j   , 0.   +0.j   , 0.   +0.j   , 0.   +0.j   , 0.   +0.j   , 0.   +0.j   , 1.   +0.j   , 0.   +0.j   ],\n",
      "          [0.   +0.j   , 0.   +0.j   , 0.   +0.j   , 0.   +0.j   , 0.   +0.j   , 0.   +0.j   , 0.   +0.j   , 0.809-0.588j]],\n",
      "         input_dims=(2, 2, 2), output_dims=(2, 2, 2))\n"
     ]
    }
   ],
   "source": [
    "qc_ham= QuantumCircuit(num_qubits)\n",
    "qc_ham.mcp(2*np.pi * t, list(range(1,num_qubits)),0)\n",
    "get_circ_unitary(qc_ham)"
   ]
  },
  {
   "cell_type": "code",
   "execution_count": 203,
   "metadata": {},
   "outputs": [
    {
     "data": {
      "text/plain": [
       "True"
      ]
     },
     "execution_count": 203,
     "metadata": {},
     "output_type": "execute_result"
    }
   ],
   "source": [
    "np.allclose(get_circ_unitary(qc_ham_simu)- get_circ_unitary(qc_ham),0)"
   ]
  },
  {
   "cell_type": "code",
   "execution_count": 204,
   "metadata": {},
   "outputs": [
    {
     "name": "stdout",
     "output_type": "stream",
     "text": [
      "     ┌───┐                ░             ░                      ░                ┌───┐\n",
      "q_0: ┤ X ├────────────────░──■──────────░───────■──────────────░────────────────┤ X ├\n",
      "     └─┬─┘┌───┐           ░  │          ░       │              ░           ┌───┐└─┬─┘\n",
      "q_1: ──■──┤ X ├───────────░──■──────────░───────■──────────────░───────────┤ X ├──■──\n",
      "          └─┬─┘┌───┐┌───┐ ░  │P(-9π/5)  ░ ┌───┐ │P(9π/5) ┌───┐ ░ ┌───┐┌───┐└─┬─┘     \n",
      "q_2: ───────■──┤ H ├┤ X ├─░──■──────────░─┤ X ├─■────────┤ X ├─░─┤ X ├┤ H ├──■───────\n",
      "               └───┘└───┘ ░             ░ └───┘          └───┘ ░ └───┘└───┘          \n",
      "酉矩阵作用后:\n",
      " [[1.   -0.j    0.   +0.j    0.   +0.j    0.   +0.j    0.   +0.j    0.   +0.j    0.   +0.j    0.   +0.j   ]\n",
      " [0.   +0.j    1.   -0.j    0.   +0.j    0.   +0.j    0.   +0.j    0.   +0.j    0.   +0.j    0.   +0.j   ]\n",
      " [0.   +0.j    0.   +0.j    0.809+0.j    0.   +0.j    0.   +0.j    0.   +0.588j 0.   +0.j    0.   +0.j   ]\n",
      " [0.   +0.j    0.   +0.j    0.   +0.j    1.   -0.j    0.   +0.j    0.   +0.j    0.   +0.j    0.   +0.j   ]\n",
      " [0.   +0.j    0.   +0.j    0.   +0.j    0.   +0.j    1.   -0.j    0.   +0.j    0.   +0.j    0.   +0.j   ]\n",
      " [0.   +0.j    0.   +0.j    0.   +0.588j 0.   +0.j    0.   +0.j    0.809-0.j    0.   +0.j    0.   +0.j   ]\n",
      " [0.   +0.j    0.   +0.j    0.   +0.j    0.   +0.j    0.   +0.j    0.   +0.j    1.   -0.j    0.   +0.j   ]\n",
      " [0.   +0.j    0.   +0.j    0.   +0.j    0.   +0.j    0.   +0.j    0.   +0.j    0.   +0.j    1.   -0.j   ]]\n"
     ]
    }
   ],
   "source": [
    "num_qubits = 3\n",
    "qc_ham_simu = QuantumCircuit(num_qubits)\n",
    "\n",
    "# ==== 酉矩阵开始\n",
    "qc_ham_simu.cx(num_qubits - 2, num_qubits - 3)\n",
    "qc_ham_simu.cx(num_qubits - 1, num_qubits - 2)\n",
    "qc_ham_simu.h(num_qubits - 1)\n",
    "qc_ham_simu.x(num_qubits - 1)\n",
    "\n",
    "# 控制门开始\n",
    "\n",
    "qc_ham_simu.barrier()\n",
    "qc_ham_simu.mcp(-2*np.pi * t, list(range(1,num_qubits)),0)\n",
    "qc_ham_simu.barrier()\n",
    "\n",
    "qc_ham_simu.x(num_qubits - 1)\n",
    "qc_ham_simu.mcp(2*np.pi * t, list(range(1,num_qubits)),0)\n",
    "qc_ham_simu.x(num_qubits - 1)\n",
    "qc_ham_simu.barrier()\n",
    "# 控制门结束\n",
    "\n",
    "qc_ham_simu.x(num_qubits - 1) \n",
    "qc_ham_simu.h(num_qubits - 1)\n",
    "qc_ham_simu.cx(num_qubits - 1, num_qubits - 2)\n",
    "qc_ham_simu.cx(num_qubits - 2, num_qubits - 3)\n",
    "# ==== 酉矩阵结束\n",
    "print(qc_ham_simu.draw(fold=200))\n",
    "print(f'酉矩阵作用后:\\n {np.asarray(get_circ_unitary(qc_ham_simu))}')"
   ]
  },
  {
   "cell_type": "code",
   "execution_count": 205,
   "metadata": {},
   "outputs": [
    {
     "name": "stdout",
     "output_type": "stream",
     "text": [
      "     ┌───┐┌───┐                convert             multi-ctrl                      reverse ┌───┐               ┌───┐\n",
      "q_0: ┤ X ├┤ X ├───────────────────░─────■──────────────░────────────■─────────────────░────┤ X ├───────────────┤ X ├\n",
      "     └─┬─┘├───┤                   ░     │              ░            │                 ░    └───┘          ┌───┐└─┬─┘\n",
      "q_1: ──■──┤ X ├───────────────────░─────■──────────────░────────────■─────────────────░───────────────────┤ X ├──■──\n",
      "          └─┬─┘┌───┐┌───┐         ░     │              ░            │                 ░    ┌───┐     ┌───┐└─┬─┘     \n",
      "q_2: ───────■──┤ X ├┤ X ├─────────░─────■──────────────░────────────■─────────────────░────┤ X ├─────┤ X ├──■───────\n",
      "               └─┬─┘├───┤┌───┐    ░     │P(-9π/5)      ░      ┌───┐ │P(9π/5) ┌───┐    ░    ├───┤┌───┐└─┬─┘          \n",
      "q_3: ────────────■──┤ H ├┤ X ├────░─────■──────────────░──────┤ X ├─■────────┤ X ├────░────┤ X ├┤ H ├──■────────────\n",
      "                    └───┘└───┘    ░                    ░      └───┘          └───┘    ░    └───┘└───┘               \n"
     ]
    }
   ],
   "source": [
    "print(qc.draw(fold=200))"
   ]
  },
  {
   "cell_type": "code",
   "execution_count": 206,
   "metadata": {},
   "outputs": [
    {
     "name": "stdout",
     "output_type": "stream",
     "text": [
      "     ┌───┐                ░ ┌───────┐ ░      ┌───────┐      ░                ┌───┐\n",
      "q_0: ┤ X ├────────────────░─┤0      ├─░──────┤0      ├──────░────────────────┤ X ├\n",
      "     └─┬─┘┌───┐           ░ │       │ ░      │       │      ░           ┌───┐└─┬─┘\n",
      "q_1: ──■──┤ X ├───────────░─┤1 mcmt ├─░──────┤1 mcmt ├──────░───────────┤ X ├──■──\n",
      "          └─┬─┘┌───┐┌───┐ ░ │       │ ░ ┌───┐│       │┌───┐ ░ ┌───┐┌───┐└─┬─┘     \n",
      "q_2: ───────■──┤ H ├┤ X ├─░─┤2      ├─░─┤ X ├┤2      ├┤ X ├─░─┤ X ├┤ H ├──■───────\n",
      "               └───┘└───┘ ░ └───────┘ ░ └───┘└───────┘└───┘ ░ └───┘└───┘          \n",
      "酉矩阵作用后:\n",
      " [[1.   -0.j    0.   +0.j    0.   +0.j    0.   +0.j    0.   +0.j    0.   +0.j    0.   +0.j    0.   +0.j   ]\n",
      " [0.   +0.j    1.   -0.j    0.   +0.j    0.   +0.j    0.   +0.j    0.   +0.j    0.   +0.j    0.   +0.j   ]\n",
      " [0.   +0.j    0.   +0.j    0.809+0.j    0.   +0.j    0.   +0.j    0.   +0.588j 0.   +0.j    0.   +0.j   ]\n",
      " [0.   +0.j    0.   +0.j    0.   +0.j    1.   -0.j    0.   +0.j    0.   +0.j    0.   +0.j    0.   +0.j   ]\n",
      " [0.   +0.j    0.   +0.j    0.   +0.j    0.   +0.j    1.   -0.j    0.   +0.j    0.   +0.j    0.   +0.j   ]\n",
      " [0.   +0.j    0.   +0.j    0.   +0.588j 0.   +0.j    0.   +0.j    0.809-0.j    0.   +0.j    0.   +0.j   ]\n",
      " [0.   +0.j    0.   +0.j    0.   +0.j    0.   +0.j    0.   +0.j    0.   +0.j    1.   -0.j    0.   +0.j   ]\n",
      " [0.   +0.j    0.   +0.j    0.   +0.j    0.   +0.j    0.   +0.j    0.   +0.j    0.   +0.j    1.   -0.j   ]]\n"
     ]
    }
   ],
   "source": [
    "num_qubits = 3\n",
    "qc_ham_simu = QuantumCircuit(num_qubits)\n",
    "\n",
    "# ==== 酉矩阵开始\n",
    "qc_ham_simu.cx(num_qubits - 2, num_qubits - 3)\n",
    "qc_ham_simu.cx(num_qubits - 1, num_qubits - 2)\n",
    "qc_ham_simu.h(num_qubits - 1)\n",
    "qc_ham_simu.x(num_qubits - 1)\n",
    "\n",
    "# 控制门开始\n",
    "\n",
    "qc_ham_simu.barrier()\n",
    "# gate1: 对角阵 |0>态不动 |1>态加相位-e^it\n",
    "gete1 = when_1_add_phase(-2 * np.pi * t)\n",
    "cc_gate1 = MCMT(gete1, num_qubits - 1, 1)\n",
    "# 哪个是受控门无所谓, 全 1 加相位\n",
    "qc_ham_simu.append(cc_gate1, range(num_qubits))\n",
    "qc_ham_simu.barrier()\n",
    "\n",
    "# gate2: 对角阵 |0>态不动 |1>态加相位e^it\n",
    "gete2 = when_1_add_phase(2 * np.pi * t)\n",
    "cc_gate2 = MCMT(gete2, num_qubits - 1, 1)\n",
    "qc_ham_simu.x(num_qubits - 1)\n",
    "qc_ham_simu.append(cc_gate2, range(num_qubits))\n",
    "qc_ham_simu.x(num_qubits - 1)\n",
    "qc_ham_simu.barrier()\n",
    "# 控制门结束\n",
    "\n",
    "qc_ham_simu.x(num_qubits - 1) \n",
    "qc_ham_simu.h(num_qubits - 1)\n",
    "qc_ham_simu.cx(num_qubits - 1, num_qubits - 2)\n",
    "qc_ham_simu.cx(num_qubits - 2, num_qubits - 3)\n",
    "# ==== 酉矩阵结束\n",
    "print(qc_ham_simu.draw(fold=200))\n",
    "print(f'酉矩阵作用后:\\n {np.asarray(get_circ_unitary(qc_ham_simu))}')"
   ]
  },
  {
   "cell_type": "code",
   "execution_count": 207,
   "metadata": {},
   "outputs": [
    {
     "data": {
      "text/plain": [
       "array([[1.   +0.j   , 0.   +0.j   , 0.   +0.j   , 0.   +0.j   , 0.   +0.j   , 0.   +0.j   , 0.   +0.j   , 0.   +0.j   ],\n",
       "       [0.   +0.j   , 1.   +0.j   , 0.   +0.j   , 0.   +0.j   , 0.   +0.j   , 0.   +0.j   , 0.   +0.j   , 0.   +0.j   ],\n",
       "       [0.   +0.j   , 0.   +0.j   , 0.809+0.j   , 0.   +0.j   , 0.   +0.j   , 0.   +0.588j, 0.   +0.j   , 0.   +0.j   ],\n",
       "       [0.   +0.j   , 0.   +0.j   , 0.   +0.j   , 1.   +0.j   , 0.   +0.j   , 0.   +0.j   , 0.   +0.j   , 0.   +0.j   ],\n",
       "       [0.   +0.j   , 0.   +0.j   , 0.   +0.j   , 0.   +0.j   , 1.   +0.j   , 0.   +0.j   , 0.   +0.j   , 0.   +0.j   ],\n",
       "       [0.   +0.j   , 0.   +0.j   , 0.   +0.588j, 0.   +0.j   , 0.   +0.j   , 0.809+0.j   , 0.   +0.j   , 0.   +0.j   ],\n",
       "       [0.   +0.j   , 0.   +0.j   , 0.   +0.j   , 0.   +0.j   , 0.   +0.j   , 0.   +0.j   , 1.   +0.j   , 0.   +0.j   ],\n",
       "       [0.   +0.j   , 0.   +0.j   , 0.   +0.j   , 0.   +0.j   , 0.   +0.j   , 0.   +0.j   , 0.   +0.j   , 1.   +0.j   ]])"
      ]
     },
     "execution_count": 207,
     "metadata": {},
     "output_type": "execute_result"
    }
   ],
   "source": [
    "get_simulate_unitary(t,v)"
   ]
  },
  {
   "cell_type": "code",
   "execution_count": null,
   "metadata": {},
   "outputs": [],
   "source": []
  }
 ],
 "metadata": {
  "kernelspec": {
   "display_name": "Python 3",
   "language": "python",
   "name": "python3"
  },
  "language_info": {
   "codemirror_mode": {
    "name": "ipython",
    "version": 3
   },
   "file_extension": ".py",
   "mimetype": "text/x-python",
   "name": "python",
   "nbconvert_exporter": "python",
   "pygments_lexer": "ipython3",
   "version": "3.8.19"
  }
 },
 "nbformat": 4,
 "nbformat_minor": 2
}
