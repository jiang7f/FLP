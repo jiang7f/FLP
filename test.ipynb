{
 "cells": [
  {
   "cell_type": "code",
   "execution_count": 44,
   "metadata": {},
   "outputs": [
    {
     "data": {
      "text/plain": [
       "(1, 2)"
      ]
     },
     "execution_count": 44,
     "metadata": {},
     "output_type": "execute_result"
    }
   ],
   "source": [
    "a, b = [1, 2]\n",
    "a, b"
   ]
  },
  {
   "cell_type": "markdown",
   "metadata": {},
   "source": [
    "$\\sum_{i=1}^m \\sum_{j=1}^n d_{i j} y_{i j}+\\sum_{j=1}^n g_j x_j$"
   ]
  },
  {
   "cell_type": "code",
   "execution_count": 23,
   "metadata": {},
   "outputs": [
    {
     "name": "stdout",
     "output_type": "stream",
     "text": [
      "['x_0', 'x_1', 'x_2', 'x_3', 'x_4']\n",
      "[['x_0_0', 'x_0_1']]\n",
      "[['x_0_0', 'x_0_1'], ['x_1_0', 'x_1_1']]\n"
     ]
    }
   ],
   "source": [
    "def gnrt_variables(prefix, shape):\n",
    "    if len(shape) == 1:\n",
    "        return [f\"{prefix}_{i}\" for i in range(shape[0])]\n",
    "    else:\n",
    "        indices = []\n",
    "        for i in range(shape[0]):\n",
    "            sub_indices = gnrt_variables(prefix=f\"{prefix}_{i}\", shape=shape[1:])\n",
    "            indices.append(sub_indices)\n",
    "        return indices\n",
    "\n",
    "# 测试\n",
    "print(gnrt_variables('x', [5]))        # ['x_0', 'x_1', 'x_2', 'x_3', 'x_4']\n",
    "print(gnrt_variables('x', [1, 2]))     # ['x_0_0', 'x_0_1']\n",
    "print(gnrt_variables('x', [2, 2]))     # [['x_0_0', 'x_0_1'], ['x_1_0', 'x_1_1']]\n"
   ]
  }
 ],
 "metadata": {
  "kernelspec": {
   "display_name": "FLP",
   "language": "python",
   "name": "python3"
  },
  "language_info": {
   "codemirror_mode": {
    "name": "ipython",
    "version": 3
   },
   "file_extension": ".py",
   "mimetype": "text/x-python",
   "name": "python",
   "nbconvert_exporter": "python",
   "pygments_lexer": "ipython3",
   "version": "3.8.19"
  }
 },
 "nbformat": 4,
 "nbformat_minor": 2
}
