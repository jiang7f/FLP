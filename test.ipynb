{
 "cells": [
  {
   "cell_type": "code",
   "execution_count": 7,
   "metadata": {},
   "outputs": [],
   "source": [
    "import numpy as np\n",
    "def add_constraint(self, expr):\n",
    "    \"\"\"\n",
    "    Add a linear constraint to the optimization problem.\n",
    "\n",
    "    Args:\n",
    "        expr : A string representing a linear expression with variables and coefficients, followed by an equality or inequality sign.\n",
    "                e.g., '2*x1 + 3*x2 + 3*x3 == 1'.\n",
    "    \"\"\"\n",
    "    ## extract the coefficients and the variables from the expression like 2*x1 + 3*x2 + 3*x3 == 1\n",
    "    print(expr)\n",
    "    coefficients = np.zeros(len(self.variables) + 1)\n",
    "    ## parse the expression:2*x1 + 3*x2 + 3*x3 == 1\n",
    "    for sign,term in split_expr(expr.split('==')[0]):\n",
    "        sign = 1 if sign == '+' else -1\n",
    "        if '*' in term:\n",
    "            coefficient,variable = term.split('*')\n",
    "            coefficients[self.variables_idx[variable]] = sign*int(coefficient)\n",
    "        else:\n",
    "            variable = term\n",
    "            coefficients[self.variables_idx[variable]] = sign\n",
    "    coefficients[-1]= int(expr.split('==')[1])\n",
    "    print(coefficients)\n",
    "    self._add_linear_constraint(coefficients)\n"
   ]
  },
  {
   "cell_type": "code",
   "execution_count": 9,
   "metadata": {},
   "outputs": [
    {
     "data": {
      "text/plain": [
       "[6, 4, 2]"
      ]
     },
     "execution_count": 9,
     "metadata": {},
     "output_type": "execute_result"
    }
   ],
   "source": [
    "import numpy as np\n",
    "np.nonzero(np.array([1,2,0]))\n",
    "\n",
    "[1,2,3,4,5,6][::-2]"
   ]
  }
 ],
 "metadata": {
  "kernelspec": {
   "display_name": "FLP",
   "language": "python",
   "name": "python3"
  },
  "language_info": {
   "codemirror_mode": {
    "name": "ipython",
    "version": 3
   },
   "file_extension": ".py",
   "mimetype": "text/x-python",
   "name": "python",
   "nbconvert_exporter": "python",
   "pygments_lexer": "ipython3",
   "version": "3.8.19"
  }
 },
 "nbformat": 4,
 "nbformat_minor": 2
}
