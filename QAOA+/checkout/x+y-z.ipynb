{
 "cells": [
  {
   "cell_type": "code",
   "execution_count": 17,
   "metadata": {},
   "outputs": [],
   "source": [
    "import networkx as nx\n",
    "import matplotlib.pyplot as plt\n",
    "\n",
    "from qiskit import QuantumCircuit, ClassicalRegister, QuantumRegister\n",
    "from qiskit import Aer\n",
    "from qiskit.circuit import Parameter\n",
    "from qiskit.visualization import plot_histogram\n",
    "from functools import reduce\n",
    "\n",
    "import numpy as np\n",
    "from scipy.optimize import minimize"
   ]
  },
  {
   "cell_type": "code",
   "execution_count": 18,
   "metadata": {},
   "outputs": [],
   "source": [
    "cst = [-100, -1, -20]"
   ]
  },
  {
   "cell_type": "code",
   "execution_count": 19,
   "metadata": {},
   "outputs": [],
   "source": [
    "depth = 5\n",
    "params = np.ones(depth * 2)"
   ]
  },
  {
   "cell_type": "code",
   "execution_count": 20,
   "metadata": {},
   "outputs": [],
   "source": [
    "GateX = np.array([[0, 1],[1, 0]])\n",
    "GateY = np.array([[0, -1j],[1j, 0]])\n",
    "GateZ = np.array([[1, 0],[0, -1]])\n",
    "\n",
    "# 定义σ+和σ-矩阵\n",
    "sigma_plus = np.array([[0, 1], [0, 0]])\n",
    "sigma_minus = np.array([[0, 0], [1, 0]])\n",
    "\n",
    "def add_in_target(num_qubits, target_qubit, gate=np.array([[1, 0],[0, -1]])):\n",
    "    H = np.eye(2 ** (target_qubit))\n",
    "    H = np.kron(H, gate)\n",
    "    H = np.kron(H, np.eye(2 ** (num_qubits - 1 - target_qubit)))\n",
    "    return H\n",
    "\n",
    "def calculate_hamiltonian(v, w):\n",
    "    n = len(v[0])\n",
    "    m = len(v)\n",
    "    hamiltonian = np.zeros((2**n, 2**n))\n",
    "\n",
    "    for i in range(m):\n",
    "        term1 = reduce(np.kron, [np.linalg.matrix_power(sigma_plus, v[i][j]) for j in range(n)])\n",
    "        term2 = reduce(np.kron, [np.linalg.matrix_power(sigma_minus, w[i][j]) for j in range(n)])\n",
    "        term3 = reduce(np.kron, [np.linalg.matrix_power(sigma_plus, w[i][j]) for j in range(n)])\n",
    "        term4 = reduce(np.kron, [np.linalg.matrix_power(sigma_minus, v[i][j]) for j in range(n)])\n",
    "\n",
    "        hamiltonian += term1 @ term2 + term3 @ term4\n",
    "\n",
    "    return hamiltonian\n",
    "\n",
    "def first_nonzero_index(arr, total_bits=3):\n",
    "    for i, num in enumerate(arr):\n",
    "        if num != 0:\n",
    "            binary_repr = format(i, '0' + str(total_bits) + 'b')\n",
    "            return binary_repr\n",
    "        \n",
    "def gnrt_Hd():\n",
    "  Hd = np.zeros((2**3, 2**3)).astype(np.complex128)\n",
    "  Hd += add_in_target(3, 0, GateZ)\n",
    "  Hd += add_in_target(3, 1, GateZ)\n",
    "  Hd += add_in_target(3, 2, GateZ)\n",
    "  return Hd"
   ]
  },
  {
   "cell_type": "code",
   "execution_count": 21,
   "metadata": {},
   "outputs": [],
   "source": [
    "# dtype=np.complex128\n",
    "def add_in_target(num_qubits, target_qubit, gate=np.array([[1, 0],[0, -1]])):\n",
    "    H = np.eye(2 ** (target_qubit))\n",
    "    H = np.kron(H, gate)\n",
    "    H = np.kron(H, np.eye(2 ** (num_qubits - 1 - target_qubit)))\n",
    "    return H\n",
    "\n",
    "\n",
    "def generate_Hp():\n",
    "    Hp = np.zeros((2**3, 2**3))\n",
    "    for i in range(3):\n",
    "        Hp +=  cst[i] * (add_in_target(3, i) - np.eye(2**3)) / 2\n",
    "    return Hp\n",
    "Hp = generate_Hp()"
   ]
  },
  {
   "cell_type": "code",
   "execution_count": 22,
   "metadata": {},
   "outputs": [],
   "source": [
    "def gnrt_Hd():\n",
    "  Hd = np.zeros((2**3, 2**3)).astype(np.complex128)\n",
    "  Hd += (add_in_target(3, 0, GateX) @ add_in_target(3, 1, GateX) + add_in_target(3, 0, GateY) @ add_in_target(3, 1, GateY))\n",
    "  Hd += (add_in_target(3, 1, GateX) @ add_in_target(3, 2, GateX) - add_in_target(3, 1, GateY) @ add_in_target(3, 2, GateY))\n",
    "  Hd += (add_in_target(3, 2, GateX) @ add_in_target(3, 0, GateX) - add_in_target(3, 2, GateY) @ add_in_target(3, 0, GateY))\n",
    "  # Hd += add_in_target(1, 0, GateX)\n",
    "  # Hd += add_in_target(3, 1, GateX)\n",
    "  # Hd += add_in_target(3, 2, GateX)\n",
    "  return Hd"
   ]
  },
  {
   "cell_type": "code",
   "execution_count": 23,
   "metadata": {},
   "outputs": [],
   "source": [
    "v = np.array([[1, 0, 0],\n",
    "              [0, 1, 0],\n",
    "              [0, 0, 1]])\n",
    "w = np.array([[0, 1, 0], \n",
    "              [0, 0, 1],\n",
    "              [1, 0, 0]])\n",
    "# Hd = gnrt_Hd()\n",
    "Hd = calculate_hamiltonian(v, w)"
   ]
  },
  {
   "cell_type": "code",
   "execution_count": 24,
   "metadata": {},
   "outputs": [
    {
     "name": "stdout",
     "output_type": "stream",
     "text": [
      "[-1.  2. -1.  2. -1. -1.  0.  0.]\n",
      "\n",
      "Eigenvalues:\n",
      "-1.0000\n",
      "Eigenvectors:\n",
      "['0.0000', '0.0000', '0.0000', '0.4082', '0.0000', '0.4082', '-0.8165', '0.0000']\n",
      "\n",
      "Eigenvalues:\n",
      "2.0000\n",
      "Eigenvectors:\n",
      "['0.0000', '-0.0000', '0.0000', '0.5774', '0.0000', '0.5774', '0.5774', '0.0000']\n",
      "\n",
      "Eigenvalues:\n",
      "-1.0000\n",
      "Eigenvectors:\n",
      "['0.0000', '0.7682', '-0.3841', '-0.1384', '-0.3841', '-0.1384', '0.2768', '0.0000']\n",
      "\n",
      "Eigenvalues:\n",
      "2.0000\n",
      "Eigenvectors:\n",
      "['0.0000', '-0.5485', '-0.5485', '-0.1803', '-0.5485', '-0.1803', '-0.1803', '0.0000']\n",
      "\n",
      "Eigenvalues:\n",
      "-1.0000\n",
      "Eigenvectors:\n",
      "['0.0000', '0.4153', '0.3649', '-0.1835', '-0.7802', '-0.0410', '0.2244', '0.0000']\n",
      "\n",
      "Eigenvalues:\n",
      "-1.0000\n",
      "Eigenvectors:\n",
      "['0.0000', '-0.2422', '0.0380', '-0.6350', '0.2042', '0.7005', '-0.0654', '0.0000']\n",
      "\n",
      "Eigenvalues:\n",
      "0.0000\n",
      "Eigenvectors:\n",
      "['1.0000', '0.0000', '0.0000', '0.0000', '0.0000', '0.0000', '0.0000', '0.0000']\n",
      "\n",
      "Eigenvalues:\n",
      "0.0000\n",
      "Eigenvectors:\n",
      "['0.0000', '0.0000', '0.0000', '0.0000', '0.0000', '0.0000', '0.0000', '1.0000']\n"
     ]
    }
   ],
   "source": [
    "# 求解本征值和本征态\n",
    "eigenvalues, eigenvectors = np.linalg.eig(Hd)\n",
    "print(eigenvalues)\n",
    "# 输出结果\n",
    "for i in range(len(eigenvalues)):\n",
    "  print(\"\\nEigenvalues:\")\n",
    "  print(f'{eigenvalues[i].real:.4f}')\n",
    "  print(\"Eigenvectors:\")\n",
    "  print([f'{num:.4f}' for num in eigenvectors[:, i].real])"
   ]
  },
  {
   "cell_type": "code",
   "execution_count": 25,
   "metadata": {},
   "outputs": [],
   "source": [
    "from scipy.linalg import expm\n",
    "def build_circ(params):\n",
    "  qc = QuantumCircuit(3)\n",
    "  beta = params[:depth]\n",
    "  gamma = params[depth:]\n",
    "  qc.initialize(eigenvectors[:, 1].real, range(3))\n",
    "  # qc.x(0)\n",
    "  # qc.x(2)\n",
    "  for dp in range(depth):\n",
    "    qc.unitary(expm(-1j * gamma[dp] * Hp), range(3)) # transpile\n",
    "    qc.unitary(expm(-1j * beta[dp] * Hd), range(3))\n",
    "  qc.measure_all()\n",
    "  return qc"
   ]
  },
  {
   "cell_type": "code",
   "execution_count": 26,
   "metadata": {},
   "outputs": [],
   "source": [
    "# print(build_circ(params))"
   ]
  },
  {
   "cell_type": "code",
   "execution_count": 27,
   "metadata": {},
   "outputs": [],
   "source": [
    "def cost_function(x):\n",
    "  num = [int(char) for char in x]\n",
    "  C = 0\n",
    "  for i in range(3):\n",
    "    C += cst[i] * num[i]\n",
    "  return C\n",
    "\n",
    "def compute_expectation(counts):\n",
    "  EV = 0\n",
    "  total_count = 0\n",
    "  for x, count in counts.items():\n",
    "    C = cost_function(x)\n",
    "    EV += C*count\n",
    "    total_count += count\n",
    "\n",
    "  return EV/total_count\n",
    "\n",
    "\n",
    "def expectation_from_sample(shots = 2000):\n",
    "  backend = Aer.get_backend('qasm_simulator')\n",
    "  backend.shots = shots\n",
    "\n",
    "  def execute_circ(theta):\n",
    "    qc = build_circ(theta)\n",
    "    counts = backend.run(qc, seed_simulator=10, shots=shots).result().get_counts()\n",
    "    return compute_expectation(counts)\n",
    "  \n",
    "  return execute_circ"
   ]
  },
  {
   "cell_type": "code",
   "execution_count": 28,
   "metadata": {},
   "outputs": [],
   "source": [
    "from numpy.lib.utils import source\n",
    "from scipy.optimize import minimize\n",
    "import numpy as np\n",
    "# 初始化迭代计数器\n",
    "iteration_count = 0\n",
    "def test(pen, dep, par):\n",
    "  global penalty, depth, params, iteration_count\n",
    "  iteration_count = 0\n",
    "  penalty = pen\n",
    "  depth = dep\n",
    "  params = par\n",
    "  expectation = expectation_from_sample()\n",
    "  def callback(x):\n",
    "      global iteration_count\n",
    "      iteration_count += 1\n",
    "      if iteration_count % 10 == 0:\n",
    "          print(f\"Iteration {iteration_count}, Result: {expectation(x)}\")\n",
    "  # 设定最大迭代次数\n",
    "  max_iterations = 1000\n",
    "\n",
    "  # 使用 COBYLA 方法进行最小化，并设置 callback 函数\n",
    "  res = minimize(expectation, params, method='COBYLA', options={'maxiter': max_iterations}, callback=callback)\n",
    "  # 输出最终结果\n",
    "  print(\"Final Result:\", res)\n",
    "  backend = Aer.get_backend('aer_simulator')\n",
    "  backend.shots = 100000\n",
    "\n",
    "  shots=100000\n",
    "  qc_res = build_circ(params=res.x)\n",
    "\n",
    "  counts = backend.run(qc_res, seed_simulator=10, shots = shots).result().get_counts()\n",
    "  # plot_histogram(counts)\n",
    "  sorted_counts = sorted(counts, key=counts.get, reverse=True)\n",
    "  print(\"\\n----------------- Full result ---------------------\")\n",
    "  print(\"selection\\t\\tprobability\\tvalue\")\n",
    "  print(\"---------------------------------------------------\")\n",
    "  for x in sorted_counts[:20]:\n",
    "    print(x, \"{:.1f}%\".format(counts[x] / shots * 100), cost_function(x))"
   ]
  },
  {
   "cell_type": "code",
   "execution_count": 29,
   "metadata": {},
   "outputs": [
    {
     "name": "stdout",
     "output_type": "stream",
     "text": [
      "Iteration 10, Result: -61.916\n"
     ]
    },
    {
     "name": "stdout",
     "output_type": "stream",
     "text": [
      "Iteration 20, Result: -47.9585\n",
      "Iteration 30, Result: -86.739\n",
      "Iteration 40, Result: -82.3335\n",
      "Iteration 50, Result: -107.566\n",
      "Iteration 60, Result: -111.119\n",
      "Iteration 70, Result: -112.096\n",
      "Iteration 80, Result: -113.1515\n",
      "Iteration 90, Result: -114.934\n",
      "Iteration 100, Result: -113.752\n",
      "Iteration 110, Result: -116.3065\n",
      "Iteration 120, Result: -117.925\n",
      "Iteration 130, Result: -118.4665\n",
      "Iteration 140, Result: -118.5805\n",
      "Iteration 150, Result: -118.5805\n",
      "Final Result:  message: Optimization terminated successfully.\n",
      " success: True\n",
      "  status: 1\n",
      "     fun: -118.4815\n",
      "       x: [ 5.305e-01  4.075e-01  6.190e-01  1.116e+00  1.629e+00\n",
      "            1.682e+00  6.203e-01  5.858e-01  1.663e+00  5.080e-01]\n",
      "    nfev: 158\n",
      "   maxcv: 0.0\n",
      "\n",
      "----------------- Full result ---------------------\n",
      "selection\t\tprobability\tvalue\n",
      "---------------------------------------------------\n",
      "101 93.3% -120\n",
      "110 6.5% -101\n",
      "011 0.2% -21\n"
     ]
    }
   ],
   "source": [
    "test(40, 5, np.full(5 * 2, np.pi/5))"
   ]
  },
  {
   "cell_type": "code",
   "execution_count": 30,
   "metadata": {},
   "outputs": [
    {
     "name": "stdout",
     "output_type": "stream",
     "text": [
      "Iteration 10, Result: -80.5245\n",
      "Iteration 20, Result: -91.278\n",
      "Iteration 30, Result: -108.3555\n",
      "Iteration 40, Result: -112.7935\n",
      "Iteration 50, Result: -114.341\n",
      "Iteration 60, Result: -114.6045\n",
      "Iteration 70, Result: -114.637\n",
      "Final Result:  message: Optimization terminated successfully.\n",
      " success: True\n",
      "  status: 1\n",
      "     fun: -114.677\n",
      "       x: [ 7.611e-01  2.002e+00  1.013e+00  1.059e+00  1.046e+00\n",
      "            1.048e+00]\n",
      "    nfev: 78\n",
      "   maxcv: 0.0\n",
      "\n",
      "----------------- Full result ---------------------\n",
      "selection\t\tprobability\tvalue\n",
      "---------------------------------------------------\n",
      "101 79.0% -120\n",
      "110 19.1% -101\n",
      "011 1.9% -21\n"
     ]
    }
   ],
   "source": [
    "test(40, 3, np.full(3 * 2, np.pi/3))"
   ]
  },
  {
   "cell_type": "code",
   "execution_count": 31,
   "metadata": {},
   "outputs": [],
   "source": [
    "# for i in range(1, 20):\n",
    "#   print(f'depth == {i}')\n",
    "#   test(20, i, np.ones(2 * i))"
   ]
  }
 ],
 "metadata": {
  "kernelspec": {
   "display_name": "quantum",
   "language": "python",
   "name": "python3"
  },
  "language_info": {
   "codemirror_mode": {
    "name": "ipython",
    "version": 3
   },
   "file_extension": ".py",
   "mimetype": "text/x-python",
   "name": "python",
   "nbconvert_exporter": "python",
   "pygments_lexer": "ipython3",
   "version": "3.8.18"
  }
 },
 "nbformat": 4,
 "nbformat_minor": 2
}
