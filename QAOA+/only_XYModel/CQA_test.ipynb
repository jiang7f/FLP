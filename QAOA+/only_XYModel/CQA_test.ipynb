{
 "cells": [
  {
   "cell_type": "code",
   "execution_count": 69,
   "metadata": {},
   "outputs": [],
   "source": [
    "import networkx as nx\n",
    "import matplotlib.pyplot as plt\n",
    "\n",
    "from qiskit import QuantumCircuit, ClassicalRegister, QuantumRegister\n",
    "from qiskit import Aer\n",
    "from qiskit.circuit import Parameter\n",
    "from qiskit.visualization import plot_histogram\n",
    "\n",
    "import numpy as np\n",
    "from scipy.optimize import minimize"
   ]
  },
  {
   "cell_type": "code",
   "execution_count": 70,
   "metadata": {},
   "outputs": [],
   "source": [
    "# dij需求i到设施j的成本\n",
    "d = [[1, 2], [1, 2]]\n",
    "n = 2   # 两个设施点\n",
    "m = 2   # 两个需求点\n",
    "# d = [[1, 2], [3, 4], [5, 6]]\n",
    "# n = 2   # 两个设施点\n",
    "# m = 3   # 三个需求点\n",
    "num_qubits = n + 2 * n * m\n",
    "\n",
    "# gi设施i的建设成本\n",
    "g = [2, 1]\n"
   ]
  },
  {
   "cell_type": "code",
   "execution_count": 71,
   "metadata": {},
   "outputs": [],
   "source": [
    "penalty = 25\n",
    "depth = 2\n",
    "params = np.ones(depth * 2)"
   ]
  },
  {
   "cell_type": "code",
   "execution_count": 72,
   "metadata": {},
   "outputs": [],
   "source": [
    "GateX = np.array([[0, 1],[1, 0]])\n",
    "GateY = np.array([[0, -1j],[1j, 0]])\n",
    "GateZ = np.array([[1, 0],[0, -1]])"
   ]
  },
  {
   "cell_type": "code",
   "execution_count": 73,
   "metadata": {},
   "outputs": [],
   "source": [
    "# dtype=np.complex128\n",
    "def add_in_target(num_qubits, target_qubit, gate=np.array([[1, 0],[0, -1]])):\n",
    "    H = np.eye(2 ** (target_qubit))\n",
    "    H = np.kron(H, gate)\n",
    "    H = np.kron(H, np.eye(2 ** (num_qubits - 1 - target_qubit)))\n",
    "    return H\n",
    "\n",
    "\n",
    "def generate_Hp(n, m, d, g):\n",
    "    # 初始化 Hp 矩阵为零矩阵\n",
    "    # print(num_qubits)\n",
    "    Hp = np.zeros((2**num_qubits, 2**num_qubits))\n",
    "    for i in range(m):\n",
    "        for j in range(n):\n",
    "            Hp += d[i][j] * (add_in_target(num_qubits, n * (1 + i) + j) - np.eye(2**num_qubits)) / 2\n",
    "    \n",
    "    for j in range(n):\n",
    "        Hp +=  g[j - 1] * (add_in_target(num_qubits, j)- np.eye(2**num_qubits)) / 2\n",
    "\n",
    "    # for i in range(m):\n",
    "    #     Ht = np.zeros((2**num_qubits, 2**num_qubits))\n",
    "    #     for j in range(n):\n",
    "    #         Ht += (np.eye(2**num_qubits) - add_in_target(num_qubits, n * (1 + i) + j)) / 2\n",
    "    #     Ht -= np.eye(2**num_qubits)\n",
    "    #     Hp += -penalty * Ht @ Ht\n",
    "    \n",
    "    # for i in range(m):\n",
    "    #     for j in range(n):\n",
    "    #         Ht = (np.eye(2**num_qubits) - add_in_target(num_qubits, n * (1 + i) + j)) / 2 + (np.eye(2**num_qubits) - add_in_target(num_qubits, n * (1 + m + i) + j)) / 2 + (np.eye(2**num_qubits) - add_in_target(num_qubits, j)) / 2\n",
    "    #         Hp += -penalty * Ht @ Ht\n",
    "\n",
    "    return Hp"
   ]
  },
  {
   "cell_type": "code",
   "execution_count": 74,
   "metadata": {},
   "outputs": [],
   "source": [
    "def gnrt_Hd(n, m):\n",
    "  mn = m * n\n",
    "  Hd = np.zeros((2**num_qubits, 2**num_qubits)).astype(np.complex128)\n",
    "  for i in range(num_qubits):\n",
    "    j = (i + 1) % num_qubits\n",
    "    Hd += (add_in_target(num_qubits, i, GateX) @ add_in_target(num_qubits, j, GateX) + add_in_target(num_qubits, i, GateY) @ add_in_target(num_qubits, j, GateY))\n",
    "  return -Hd\n"
   ]
  },
  {
   "cell_type": "code",
   "execution_count": 88,
   "metadata": {},
   "outputs": [],
   "source": [
    "def build_circ(n, m, d, g, params):\n",
    "  qc = QuantumCircuit(num_qubits)\n",
    "  beta = params[:depth + 1]\n",
    "  gamma = params[depth:]\n",
    "  for i in range(0, num_qubits, 2):\n",
    "    qc.x(i)\n",
    "\n",
    "  for dp in range(depth):\n",
    "    qc.unitary(expm(-1j * gamma[dp] * generate_Hp(n, m, d, g)), range(num_qubits - 1,0,-1)) # transpile\n",
    "    qc.unitary(expm(-1j * beta[dp] * gnrt_Hd(n, m)), range(num_qubits))\n",
    "  qc.measure_all()\n",
    "  return qc"
   ]
  },
  {
   "cell_type": "code",
   "execution_count": null,
   "metadata": {},
   "outputs": [],
   "source": [
    "print(build_circ(n, m, d, g, np.full(depth * 2, np.pi/4)))"
   ]
  },
  {
   "cell_type": "code",
   "execution_count": 94,
   "metadata": {},
   "outputs": [
    {
     "name": "stdout",
     "output_type": "stream",
     "text": [
      "[[0.+0.j 1.+0.j 0.+0.j 0.+0.j]\n",
      " [1.+0.j 0.+0.j 0.+0.j 0.+0.j]\n",
      " [0.+0.j 0.+0.j 0.+0.j 1.+0.j]\n",
      " [0.+0.j 0.+0.j 1.+0.j 0.+0.j]]\n"
     ]
    }
   ],
   "source": [
    "from qiskit import QuantumCircuit\n",
    "from qiskit.quantum_info import Operator\n",
    "\n",
    "# 创建一个量子电路\n",
    "qc = QuantumCircuit(2)\n",
    "qc.x(0)\n",
    "# qc.cx(0, 1)\n",
    "\n",
    "# 转换为 Operator 对象\n",
    "op = Operator(qc)\n",
    "\n",
    "# 输出矩阵表示\n",
    "print(op.data)\n"
   ]
  },
  {
   "cell_type": "code",
   "execution_count": null,
   "metadata": {},
   "outputs": [],
   "source": [
    "def cost_function(x):\n",
    "  num = [int(char) for char in x]\n",
    "  C = 0\n",
    "  for i in range(m):\n",
    "    for j in range(n):\n",
    "      C += d[i][j] * num[n * (1 + i) + j]\n",
    "      \n",
    "  for j in range(n):\n",
    "    C += g[j] * num[j]\n",
    "\n",
    "  # for i in range(m):\n",
    "  #   t = 0\n",
    "  #   for j in range(n):\n",
    "  #     t += num[n * (1 + i) + j]\n",
    "  #   C += penalty * (t - 1)**2\n",
    "\n",
    "  # for i in range(m):\n",
    "  #   for j in range(n):\n",
    "  #     C += penalty * (num[n * (1 + i) + j] + num[n * (1 + m + i) + j] - num[j]) ** 2\n",
    "  return C\n",
    "\n",
    "def compute_expectation(counts):\n",
    "  EV = 0\n",
    "  total_count = 0\n",
    "  for x, count in counts.items():\n",
    "    C = cost_function(x)\n",
    "    EV += C*count\n",
    "    total_count += count\n",
    "\n",
    "  return EV/total_count\n",
    "\n",
    "\n",
    "def expectation_from_sample(shots = 2000):\n",
    "  backend = Aer.get_backend('qasm_simulator')\n",
    "  backend.shots = shots\n",
    "\n",
    "  def execute_circ(theta):\n",
    "    qc = build_circ(n, m, d, g, theta)\n",
    "    counts = backend.run(qc, seed_simulator=10, shots=shots).result().get_counts()\n",
    "    return compute_expectation(counts)\n",
    "  \n",
    "  return execute_circ"
   ]
  },
  {
   "cell_type": "code",
   "execution_count": null,
   "metadata": {},
   "outputs": [],
   "source": [
    "from numpy.lib.utils import source\n",
    "from scipy.optimize import minimize\n",
    "import numpy as np\n",
    "# 初始化迭代计数器\n",
    "iteration_count = 0\n",
    "def test(pen, dep, par):\n",
    "  global penalty, depth, params, iteration_count\n",
    "  iteration_count = 0\n",
    "  penalty = pen\n",
    "  depth = dep\n",
    "  params = par\n",
    "  expectation = expectation_from_sample()\n",
    "  def callback(x):\n",
    "      global iteration_count\n",
    "      iteration_count += 1\n",
    "      if iteration_count % 10 == 0:\n",
    "          print(f\"Iteration {iteration_count}, Result: {expectation(x)}\")\n",
    "  # 设定最大迭代次数\n",
    "  max_iterations = 1000\n",
    "\n",
    "  # 使用 COBYLA 方法进行最小化，并设置 callback 函数\n",
    "  res = minimize(expectation, params, method='COBYLA', options={'maxiter': max_iterations}, callback=callback)\n",
    "  # 输出最终结果\n",
    "  print(\"Final Result:\", res)\n",
    "  backend = Aer.get_backend('aer_simulator')\n",
    "  backend.shots = 100000\n",
    "\n",
    "  shots=100000\n",
    "  qc_res = build_circ(n, m, d, g, params=res.x)\n",
    "\n",
    "  counts = backend.run(qc_res, seed_simulator=10, shots = shots).result().get_counts()\n",
    "  # plot_histogram(counts)\n",
    "  sorted_counts = sorted(counts, key=counts.get, reverse=True)\n",
    "  print(\"\\n----------------- Full result ---------------------\")\n",
    "  print(\"selection\\t\\tprobability\\tvalue\")\n",
    "  print(\"---------------------------------------------------\")\n",
    "  for x in sorted_counts[:20]:\n",
    "    print(x, \"{:.1f}%\".format(counts[x] / shots * 100), cost_function(x))"
   ]
  },
  {
   "cell_type": "code",
   "execution_count": null,
   "metadata": {},
   "outputs": [
    {
     "name": "stdout",
     "output_type": "stream",
     "text": [
      "Iteration 10, Result: 4.3735\n",
      "Iteration 20, Result: 4.034\n",
      "Iteration 30, Result: 3.1945\n",
      "Iteration 40, Result: 3.2405\n",
      "Iteration 50, Result: 3.1525\n",
      "Iteration 60, Result: 3.1635\n",
      "Iteration 70, Result: 3.1345\n",
      "Iteration 80, Result: 3.0925\n",
      "Iteration 90, Result: 3.0905\n",
      "Iteration 100, Result: 3.0815\n",
      "Iteration 110, Result: 3.089\n",
      "Iteration 120, Result: 3.0775\n",
      "Final Result:  message: Optimization terminated successfully.\n",
      " success: True\n",
      "  status: 1\n",
      "     fun: 3.0775\n",
      "       x: [ 9.158e-01  1.985e+00  6.219e-01  7.437e-01  2.094e+00\n",
      "            9.038e-01  1.215e+00  4.659e-01  1.864e+00  7.084e-01]\n",
      "    nfev: 126\n",
      "   maxcv: 0.0\n",
      "\n",
      "----------------- Full result ---------------------\n",
      "selection\t\tprobability\tvalue\n",
      "---------------------------------------------------\n",
      "0010101110 5.9% 2\n",
      "0110001011 5.2% 2\n",
      "0110101010 4.6% 3\n",
      "0100001111 4.3% 1\n",
      "0100101110 4.3% 2\n",
      "0010001111 3.6% 1\n",
      "0010011110 3.3% 3\n",
      "0110001110 2.6% 2\n",
      "0000111110 2.1% 3\n",
      "1100101010 2.0% 4\n",
      "0000011111 1.8% 2\n",
      "0011001110 1.8% 3\n",
      "1010001110 1.7% 3\n",
      "0001101110 1.6% 3\n",
      "0010011011 1.6% 3\n",
      "0011101100 1.6% 4\n",
      "0101101010 1.6% 4\n",
      "1110001010 1.6% 4\n",
      "0110101100 1.6% 3\n",
      "1000101110 1.5% 3\n"
     ]
    }
   ],
   "source": [
    "test(40, 5, np.full(2 * 5, np.pi/4))"
   ]
  },
  {
   "cell_type": "code",
   "execution_count": null,
   "metadata": {},
   "outputs": [],
   "source": [
    "# for i in range(1, 20):\n",
    "#   print(f'depth == {i}')\n",
    "#   test(20, i, np.ones(2 * i))"
   ]
  }
 ],
 "metadata": {
  "kernelspec": {
   "display_name": "quantum",
   "language": "python",
   "name": "python3"
  },
  "language_info": {
   "codemirror_mode": {
    "name": "ipython",
    "version": 3
   },
   "file_extension": ".py",
   "mimetype": "text/x-python",
   "name": "python",
   "nbconvert_exporter": "python",
   "pygments_lexer": "ipython3",
   "version": "3.9.18"
  }
 },
 "nbformat": 4,
 "nbformat_minor": 2
}
