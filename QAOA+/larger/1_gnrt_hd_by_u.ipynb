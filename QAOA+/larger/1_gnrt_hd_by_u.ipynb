{
 "cells": [
  {
   "cell_type": "code",
   "execution_count": 17,
   "metadata": {},
   "outputs": [
    {
     "data": {
      "text/plain": [
       "array([[-1,  1, -1,  1, -1,  1, -1,  1,  0,  0,  0,  0,  0,  0],\n",
       "       [ 0,  0,  1, -1,  0,  0,  0,  0, -1,  1,  0,  0,  0,  0],\n",
       "       [ 0,  0,  0,  0,  1, -1,  0,  0,  0,  0, -1,  1,  0,  0],\n",
       "       [ 1,  0,  0,  0,  0,  0,  0,  0,  1,  0,  1,  0,  1,  0],\n",
       "       [ 0,  1, -1,  1, -1,  1,  0,  0,  1,  0,  1,  0,  0,  1]])"
      ]
     },
     "execution_count": 17,
     "metadata": {},
     "output_type": "execute_result"
    }
   ],
   "source": [
    "import numpy as np\n",
    "import sys\n",
    "sys.path.append('../../')\n",
    "import zlibrary.linear_system as ls\n",
    "\n",
    "ls.set_print_form(0, 200)\n",
    "ls.gnrt_u(2, 3)"
   ]
  },
  {
   "cell_type": "code",
   "execution_count": 18,
   "metadata": {},
   "outputs": [],
   "source": [
    "GateX = np.array([[0, 1],[1, 0]])\n",
    "GateY = np.array([[0, -1j],[1j, 0]])\n",
    "GateZ = np.array([[1, 0],[0, -1]])\n",
    "\n",
    "# 定义σ+和σ-矩阵\n",
    "sigma_plus = np.array([[0, 1], [0, 0]])\n",
    "sigma_minus = np.array([[0, 0], [1, 0]])\n",
    "identity = np.array([[1, 0], [0, 1]])\n",
    "\n",
    "mlist = [identity, sigma_plus, sigma_minus]"
   ]
  },
  {
   "cell_type": "code",
   "execution_count": 19,
   "metadata": {},
   "outputs": [],
   "source": [
    "def tensor_product(*matrices):\n",
    "    result = np.array(mlist[matrices[0]])\n",
    "    for matrix in matrices[1:]:\n",
    "        result = np.kron(result, mlist[matrix])\n",
    "    return result"
   ]
  },
  {
   "cell_type": "code",
   "execution_count": 20,
   "metadata": {},
   "outputs": [
    {
     "data": {
      "text/plain": [
       "array([[0, 0, 0, 0, 0, 0, 0, 0],\n",
       "       [0, 0, 0, 0, 0, 0, 0, 0],\n",
       "       [0, 0, 0, 0, 0, 1, 0, 0],\n",
       "       [0, 0, 0, 0, 0, 0, 0, 0],\n",
       "       [0, 0, 0, 0, 0, 0, 0, 0],\n",
       "       [0, 0, 0, 0, 0, 0, 0, 0],\n",
       "       [0, 0, 0, 0, 0, 0, 0, 0],\n",
       "       [0, 0, 0, 0, 0, 0, 0, 0]])"
      ]
     },
     "execution_count": 20,
     "metadata": {},
     "output_type": "execute_result"
    }
   ],
   "source": [
    "tensor_product(1,2,1)"
   ]
  },
  {
   "cell_type": "code",
   "execution_count": 23,
   "metadata": {},
   "outputs": [
    {
     "name": "stdout",
     "output_type": "stream",
     "text": [
      "[[1.        +0.j         0.        +0.j         0.        +0.j         0.        +0.j         0.        +0.j         0.        +0.j         0.        +0.j         0.        +0.j\n",
      "  0.        +0.j         0.        +0.j         0.        +0.j         0.        +0.j         0.        +0.j         0.        +0.j         0.        +0.j         0.        +0.j        ]\n",
      " [0.        +0.j         1.        +0.j         0.        +0.j         0.        +0.j         0.        +0.j         0.        +0.j         0.        +0.j         0.        +0.j\n",
      "  0.        +0.j         0.        +0.j         0.        +0.j         0.        +0.j         0.        +0.j         0.        +0.j         0.        +0.j         0.        +0.j        ]\n",
      " [0.        +0.j         0.        +0.j         1.        +0.j         0.        +0.j         0.        +0.j         0.        +0.j         0.        +0.j         0.        +0.j\n",
      "  0.        +0.j         0.        +0.j         0.        +0.j         0.        +0.j         0.        +0.j         0.        +0.j         0.        +0.j         0.        +0.j        ]\n",
      " [0.        +0.j         0.        +0.j         0.        +0.j         1.        +0.j         0.        +0.j         0.        +0.j         0.        +0.j         0.        +0.j\n",
      "  0.        +0.j         0.        +0.j         0.        +0.j         0.        +0.j         0.        +0.j         0.        +0.j         0.        +0.j         0.        +0.j        ]\n",
      " [0.        +0.j         0.        +0.j         0.        +0.j         0.        +0.j         1.        +0.j         0.        +0.j         0.        +0.j         0.        +0.j\n",
      "  0.        +0.j         0.        +0.j         0.        +0.j         0.        +0.j         0.        +0.j         0.        +0.j         0.        +0.j         0.        +0.j        ]\n",
      " [0.        +0.j         0.        +0.j         0.        +0.j         0.        +0.j         0.        +0.j         0.54030231+0.j         0.        +0.j         0.        +0.j\n",
      "  0.        +0.j         0.        +0.j         0.        +0.84147098j 0.        +0.j         0.        +0.j         0.        +0.j         0.        +0.j         0.        +0.j        ]\n",
      " [0.        +0.j         0.        +0.j         0.        +0.j         0.        +0.j         0.        +0.j         0.        +0.j         1.        +0.j         0.        +0.j\n",
      "  0.        +0.j         0.        +0.j         0.        +0.j         0.        +0.j         0.        +0.j         0.        +0.j         0.        +0.j         0.        +0.j        ]\n",
      " [0.        +0.j         0.        +0.j         0.        +0.j         0.        +0.j         0.        +0.j         0.        +0.j         0.        +0.j         1.        +0.j\n",
      "  0.        +0.j         0.        +0.j         0.        +0.j         0.        +0.j         0.        +0.j         0.        +0.j         0.        +0.j         0.        +0.j        ]\n",
      " [0.        +0.j         0.        +0.j         0.        +0.j         0.        +0.j         0.        +0.j         0.        +0.j         0.        +0.j         0.        +0.j\n",
      "  1.        +0.j         0.        +0.j         0.        +0.j         0.        +0.j         0.        +0.j         0.        +0.j         0.        +0.j         0.        +0.j        ]\n",
      " [0.        +0.j         0.        +0.j         0.        +0.j         0.        +0.j         0.        +0.j         0.        +0.j         0.        +0.j         0.        +0.j\n",
      "  0.        +0.j         1.        +0.j         0.        +0.j         0.        +0.j         0.        +0.j         0.        +0.j         0.        +0.j         0.        +0.j        ]\n",
      " [0.        +0.j         0.        +0.j         0.        +0.j         0.        +0.j         0.        +0.j         0.        +0.84147098j 0.        +0.j         0.        +0.j\n",
      "  0.        +0.j         0.        +0.j         0.54030231+0.j         0.        +0.j         0.        +0.j         0.        +0.j         0.        +0.j         0.        +0.j        ]\n",
      " [0.        +0.j         0.        +0.j         0.        +0.j         0.        +0.j         0.        +0.j         0.        +0.j         0.        +0.j         0.        +0.j\n",
      "  0.        +0.j         0.        +0.j         0.        +0.j         1.        +0.j         0.        +0.j         0.        +0.j         0.        +0.j         0.        +0.j        ]\n",
      " [0.        +0.j         0.        +0.j         0.        +0.j         0.        +0.j         0.        +0.j         0.        +0.j         0.        +0.j         0.        +0.j\n",
      "  0.        +0.j         0.        +0.j         0.        +0.j         0.        +0.j         1.        +0.j         0.        +0.j         0.        +0.j         0.        +0.j        ]\n",
      " [0.        +0.j         0.        +0.j         0.        +0.j         0.        +0.j         0.        +0.j         0.        +0.j         0.        +0.j         0.        +0.j\n",
      "  0.        +0.j         0.        +0.j         0.        +0.j         0.        +0.j         0.        +0.j         1.        +0.j         0.        +0.j         0.        +0.j        ]\n",
      " [0.        +0.j         0.        +0.j         0.        +0.j         0.        +0.j         0.        +0.j         0.        +0.j         0.        +0.j         0.        +0.j\n",
      "  0.        +0.j         0.        +0.j         0.        +0.j         0.        +0.j         0.        +0.j         0.        +0.j         1.        +0.j         0.        +0.j        ]\n",
      " [0.        +0.j         0.        +0.j         0.        +0.j         0.        +0.j         0.        +0.j         0.        +0.j         0.        +0.j         0.        +0.j\n",
      "  0.        +0.j         0.        +0.j         0.        +0.j         0.        +0.j         0.        +0.j         0.        +0.j         0.        +0.j         1.        +0.j        ]]\n"
     ]
    }
   ],
   "source": [
    "from scipy.linalg import expm\n",
    "beta = 1\n",
    "tmp = expm(beta * 1j*(tensor_product(1,2,1,2) + tensor_product(2,1,2,1)))\n",
    "ls.set_print_form(0, 200)\n",
    "print(tmp)"
   ]
  }
 ],
 "metadata": {
  "kernelspec": {
   "display_name": "FLP",
   "language": "python",
   "name": "python3"
  },
  "language_info": {
   "codemirror_mode": {
    "name": "ipython",
    "version": 3
   },
   "file_extension": ".py",
   "mimetype": "text/x-python",
   "name": "python",
   "nbconvert_exporter": "python",
   "pygments_lexer": "ipython3",
   "version": "3.8.19"
  }
 },
 "nbformat": 4,
 "nbformat_minor": 2
}
