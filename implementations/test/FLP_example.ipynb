{
 "cells": [
  {
   "cell_type": "code",
   "execution_count": 1,
   "metadata": {},
   "outputs": [
    {
     "name": "stdout",
     "output_type": "stream",
     "text": [
      "linear_objective_vector:\n",
      " [2, 2, 3, 3, 2, 2]\n",
      "nolinear_objective_matrix:\n",
      " []\n",
      "penalty_lambda:\n",
      " 40\n",
      "constraints_for_cyclic:\n",
      " [array([0., 0., 1., 1., 0., 0., 0., 0., 0., 0., 1.]), array([0., 0., 0., 0., 1., 1., 0., 0., 0., 0., 1.])]\n",
      "constraints_for_others:\n",
      " [array([-1.,  0.,  1.,  0.,  0.,  0.,  1.,  0.,  0.,  0.,  0.]), array([-1.,  0.,  0.,  0.,  1.,  0.,  0.,  0.,  1.,  0.,  0.]), array([ 0., -1.,  0.,  1.,  0.,  0.,  0.,  1.,  0.,  0.,  0.]), array([ 0., -1.,  0.,  0.,  0.,  1.,  0.,  0.,  0.,  1.,  0.])]\n",
      "fsb_state:[1, 1, 1, 0, 1, 0, 0, 1, 0, 1]\n",
      "0: ──H─╭U(M0)──RX(0.00)─╭U(M0)──RX(0.00)─┤ ╭Probs\n",
      "1: ──H─├U(M0)──RX(0.00)─├U(M0)──RX(0.00)─┤ ├Probs\n",
      "2: ──X─├U(M0)─╭U(M1)────├U(M0)─╭U(M1)────┤ ├Probs\n",
      "3: ────├U(M0)─╰U(M1)────├U(M0)─╰U(M1)────┤ ├Probs\n",
      "4: ──X─├U(M0)─╭U(M1)────├U(M0)─╭U(M1)────┤ ├Probs\n",
      "5: ────├U(M0)─╰U(M1)────├U(M0)─╰U(M1)────┤ ├Probs\n",
      "6: ──H─├U(M0)──RX(0.00)─├U(M0)──RX(0.00)─┤ ├Probs\n",
      "7: ──H─├U(M0)──RX(0.00)─├U(M0)──RX(0.00)─┤ ├Probs\n",
      "8: ──H─├U(M0)──RX(0.00)─├U(M0)──RX(0.00)─┤ ├Probs\n",
      "9: ──H─╰U(M0)──RX(0.00)─╰U(M0)──RX(0.00)─┤ ╰Probs\n",
      "M0 = \n",
      "[[1.+0.j 0.+0.j 0.+0.j ... 0.+0.j 0.+0.j 0.+0.j]\n",
      " [0.+0.j 1.+0.j 0.+0.j ... 0.+0.j 0.+0.j 0.+0.j]\n",
      " [0.+0.j 0.+0.j 1.+0.j ... 0.+0.j 0.+0.j 0.+0.j]\n",
      " ...\n",
      " [0.+0.j 0.+0.j 0.+0.j ... 1.+0.j 0.+0.j 0.+0.j]\n",
      " [0.+0.j 0.+0.j 0.+0.j ... 0.+0.j 1.+0.j 0.+0.j]\n",
      " [0.+0.j 0.+0.j 0.+0.j ... 0.+0.j 0.+0.j 1.+0.j]]\n",
      "M1 = \n",
      "[[1.+0.j 0.+0.j 0.+0.j 0.+0.j]\n",
      " [0.+0.j 1.+0.j 0.+0.j 0.+0.j]\n",
      " [0.+0.j 0.+0.j 1.+0.j 0.+0.j]\n",
      " [0.+0.j 0.+0.j 0.+0.j 1.+0.j]]\n",
      "test_max_prob: 5.20%, test_max_prob_state: [1, 1, 1, 0, 1, 0, 0, 1, 0, 1]\n",
      "<QNode: wires=10, device='default.qubit.autograd', interface='auto', diff_method='best'>\n"
     ]
    },
    {
     "name": "stderr",
     "output_type": "stream",
     "text": [
      "  1%|▏         | 2/150 [00:07<09:29,  3.85s/it, cost=211.39185052961727]\n"
     ]
    },
    {
     "ename": "KeyboardInterrupt",
     "evalue": "",
     "output_type": "error",
     "traceback": [
      "\u001b[0;31m---------------------------------------------------------------------------\u001b[0m",
      "\u001b[0;31mKeyboardInterrupt\u001b[0m                         Traceback (most recent call last)",
      "Cell \u001b[0;32mIn[1], line 7\u001b[0m\n\u001b[1;32m      5\u001b[0m flp\u001b[38;5;241m.\u001b[39mset_optimization_direction(\u001b[38;5;124m'\u001b[39m\u001b[38;5;124mmin\u001b[39m\u001b[38;5;124m'\u001b[39m)\n\u001b[1;32m      6\u001b[0m flp\u001b[38;5;241m.\u001b[39mset_optimization_method_type(\u001b[38;5;124m'\u001b[39m\u001b[38;5;124mcyclic\u001b[39m\u001b[38;5;124m'\u001b[39m, \u001b[38;5;241m40\u001b[39m)\n\u001b[0;32m----> 7\u001b[0m \u001b[43mflp\u001b[49m\u001b[38;5;241;43m.\u001b[39;49m\u001b[43moptimize\u001b[49m\u001b[43m(\u001b[49m\u001b[43mmax_iter\u001b[49m\u001b[38;5;241;43m=\u001b[39;49m\u001b[38;5;241;43m150\u001b[39;49m\u001b[43m,\u001b[49m\u001b[43mnum_layers\u001b[49m\u001b[38;5;241;43m=\u001b[39;49m\u001b[38;5;241;43m2\u001b[39;49m\u001b[43m,\u001b[49m\u001b[43m \u001b[49m\u001b[43mneed_draw\u001b[49m\u001b[38;5;241;43m=\u001b[39;49m\u001b[38;5;28;43;01mTrue\u001b[39;49;00m\u001b[43m)\u001b[49m\n\u001b[1;32m      8\u001b[0m \u001b[38;5;28mprint\u001b[39m(flp\u001b[38;5;241m.\u001b[39mfind_state_probability([\u001b[38;5;241m1\u001b[39m, \u001b[38;5;241m0\u001b[39m, \u001b[38;5;241m1\u001b[39m, \u001b[38;5;241m0\u001b[39m, \u001b[38;5;241m1\u001b[39m, \u001b[38;5;241m0\u001b[39m, \u001b[38;5;241m0\u001b[39m, \u001b[38;5;241m0\u001b[39m, \u001b[38;5;241m0\u001b[39m, \u001b[38;5;241m0\u001b[39m]))\n\u001b[1;32m      9\u001b[0m \u001b[38;5;28mprint\u001b[39m(flp\u001b[38;5;241m.\u001b[39mfind_state_probability([\u001b[38;5;241m0\u001b[39m, \u001b[38;5;241m1\u001b[39m, \u001b[38;5;241m0\u001b[39m, \u001b[38;5;241m1\u001b[39m, \u001b[38;5;241m0\u001b[39m, \u001b[38;5;241m1\u001b[39m, \u001b[38;5;241m0\u001b[39m, \u001b[38;5;241m0\u001b[39m, \u001b[38;5;241m0\u001b[39m, \u001b[38;5;241m0\u001b[39m]))\n",
      "File \u001b[0;32m~/Tools/anaconda3/envs/FLP/lib/python3.8/site-packages/quBLP-1.0.0-py3.8.egg/quBLP/models/model.py:261\u001b[0m, in \u001b[0;36mConstrainedBinaryOptimization.optimize\u001b[0;34m(self, max_iter, learning_rate, num_layers, need_draw)\u001b[0m\n\u001b[1;32m    259\u001b[0m \u001b[38;5;28mself\u001b[39m\u001b[38;5;241m.\u001b[39mfeasiable_state \u001b[38;5;241m=\u001b[39m \u001b[38;5;28mself\u001b[39m\u001b[38;5;241m.\u001b[39mget_feasible_solution()\n\u001b[1;32m    260\u001b[0m \u001b[38;5;28mprint\u001b[39m(\u001b[38;5;124mf\u001b[39m\u001b[38;5;124m'\u001b[39m\u001b[38;5;124mfsb_state:\u001b[39m\u001b[38;5;132;01m{\u001b[39;00m\u001b[38;5;28mself\u001b[39m\u001b[38;5;241m.\u001b[39mfeasiable_state\u001b[38;5;132;01m}\u001b[39;00m\u001b[38;5;124m'\u001b[39m) \u001b[38;5;66;03m#-\u001b[39;00m\n\u001b[0;32m--> 261\u001b[0m collapse_state, probs \u001b[38;5;241m=\u001b[39m \u001b[43msolve\u001b[49m\u001b[43m(\u001b[49m\u001b[43mmax_iter\u001b[49m\u001b[43m,\u001b[49m\u001b[43m \u001b[49m\u001b[43mlearning_rate\u001b[49m\u001b[43m,\u001b[49m\u001b[43m \u001b[49m\u001b[38;5;28;43mself\u001b[39;49m\u001b[38;5;241;43m.\u001b[39;49m\u001b[43mvariables\u001b[49m\u001b[43m,\u001b[49m\u001b[43m \u001b[49m\u001b[43mnum_layers\u001b[49m\u001b[43m,\u001b[49m\u001b[43m \u001b[49m\u001b[43mobjective\u001b[49m\u001b[43m,\u001b[49m\u001b[43m \u001b[49m\u001b[38;5;28;43mself\u001b[39;49m\u001b[38;5;241;43m.\u001b[39;49m\u001b[43mfeasiable_state\u001b[49m\u001b[43m,\u001b[49m\u001b[43m \u001b[49m\u001b[43moptimization_method\u001b[49m\u001b[43m,\u001b[49m\u001b[43m \u001b[49m\u001b[38;5;28;43mself\u001b[39;49m\u001b[38;5;241;43m.\u001b[39;49m\u001b[43moptimization_direction\u001b[49m\u001b[43m,\u001b[49m\u001b[43m \u001b[49m\u001b[43mneed_draw\u001b[49m\u001b[43m)\u001b[49m\n\u001b[1;32m    262\u001b[0m \u001b[38;5;66;03m# 输出最大概率解\u001b[39;00m\n\u001b[1;32m    263\u001b[0m maxprobidex \u001b[38;5;241m=\u001b[39m np\u001b[38;5;241m.\u001b[39margmax(probs)\n",
      "File \u001b[0;32m~/Tools/anaconda3/envs/FLP/lib/python3.8/site-packages/quBLP-1.0.0-py3.8.egg/quBLP/solvers/solver.py:25\u001b[0m, in \u001b[0;36msolve\u001b[0;34m(max_iter, learning_rate, variables, num_layers, objective, feasiable_state, optimization_method, optimization_direction, need_draw)\u001b[0m\n\u001b[1;32m     23\u001b[0m \u001b[38;5;66;03m# 进行参数优化\u001b[39;00m\n\u001b[1;32m     24\u001b[0m \u001b[38;5;28mprint\u001b[39m(circuit\u001b[38;5;241m.\u001b[39minference_circuit) \u001b[38;5;66;03m#-\u001b[39;00m\n\u001b[0;32m---> 25\u001b[0m best_params \u001b[38;5;241m=\u001b[39m \u001b[43mtrain_gradient\u001b[49m\u001b[43m(\u001b[49m\u001b[43mnum_params\u001b[49m\u001b[43m,\u001b[49m\u001b[43mcost_func\u001b[49m\u001b[43m,\u001b[49m\u001b[43mmax_iter\u001b[49m\u001b[43m,\u001b[49m\u001b[43mlearning_rate\u001b[49m\u001b[43m)\u001b[49m\n\u001b[1;32m     26\u001b[0m collapse_state, probs \u001b[38;5;241m=\u001b[39m circuit\u001b[38;5;241m.\u001b[39minference(best_params)\n\u001b[1;32m     27\u001b[0m \u001b[38;5;28mprint\u001b[39m(\u001b[38;5;124mf\u001b[39m\u001b[38;5;124m\"\u001b[39m\u001b[38;5;124mbest_params: \u001b[39m\u001b[38;5;132;01m{\u001b[39;00mbest_params\u001b[38;5;132;01m}\u001b[39;00m\u001b[38;5;124m\"\u001b[39m) \u001b[38;5;66;03m#-\u001b[39;00m\n",
      "File \u001b[0;32m~/Tools/anaconda3/envs/FLP/lib/python3.8/site-packages/quBLP-1.0.0-py3.8.egg/quBLP/solvers/optimizer/gradient.py:78\u001b[0m, in \u001b[0;36mtrain_gradient\u001b[0;34m(num_params, cost_function, num_iter, learning_rate)\u001b[0m\n\u001b[1;32m     76\u001b[0m \u001b[38;5;28;01mdef\u001b[39;00m \u001b[38;5;21mtrain_gradient\u001b[39m(num_params, cost_function, num_iter, learning_rate):\n\u001b[1;32m     77\u001b[0m     params \u001b[38;5;241m=\u001b[39m \u001b[38;5;241m2\u001b[39m\u001b[38;5;241m*\u001b[39mnp\u001b[38;5;241m.\u001b[39mpi\u001b[38;5;241m*\u001b[39mnp\u001b[38;5;241m.\u001b[39mrandom\u001b[38;5;241m.\u001b[39muniform(\u001b[38;5;241m0\u001b[39m, \u001b[38;5;241m1\u001b[39m, num_params, requires_grad\u001b[38;5;241m=\u001b[39m\u001b[38;5;28;01mTrue\u001b[39;00m)\n\u001b[0;32m---> 78\u001b[0m     \u001b[38;5;28;01mreturn\u001b[39;00m \u001b[43madam_optimizer\u001b[49m\u001b[43m(\u001b[49m\u001b[43mparams\u001b[49m\u001b[43m,\u001b[49m\u001b[43m \u001b[49m\u001b[43mcost_function\u001b[49m\u001b[43m,\u001b[49m\u001b[43m \u001b[49m\u001b[43mnum_iter\u001b[49m\u001b[43m,\u001b[49m\u001b[43m \u001b[49m\u001b[43mlearning_rate\u001b[49m\u001b[43m)\u001b[49m\n",
      "File \u001b[0;32m~/Tools/anaconda3/envs/FLP/lib/python3.8/site-packages/quBLP-1.0.0-py3.8.egg/quBLP/solvers/optimizer/gradient.py:43\u001b[0m, in \u001b[0;36madam_optimizer\u001b[0;34m(params, cost_function, num_iter, learning_rate, num_consecutive_iter, early_stopping_threshold)\u001b[0m\n\u001b[1;32m     41\u001b[0m \u001b[38;5;28;01mwith\u001b[39;00m tqdm(total\u001b[38;5;241m=\u001b[39mnum_iter) \u001b[38;5;28;01mas\u001b[39;00m pbar:\n\u001b[1;32m     42\u001b[0m     \u001b[38;5;28;01mfor\u001b[39;00m i \u001b[38;5;129;01min\u001b[39;00m \u001b[38;5;28mrange\u001b[39m(num_iter):\n\u001b[0;32m---> 43\u001b[0m         gradients \u001b[38;5;241m=\u001b[39m \u001b[43mgradient_by_param_shift\u001b[49m\u001b[43m(\u001b[49m\u001b[43mparams\u001b[49m\u001b[43m,\u001b[49m\u001b[43m \u001b[49m\u001b[43mcost_function\u001b[49m\u001b[43m)\u001b[49m\n\u001b[1;32m     44\u001b[0m         m \u001b[38;5;241m=\u001b[39m beta1 \u001b[38;5;241m*\u001b[39m m \u001b[38;5;241m+\u001b[39m (\u001b[38;5;241m1\u001b[39m \u001b[38;5;241m-\u001b[39m beta1) \u001b[38;5;241m*\u001b[39m gradients\n\u001b[1;32m     45\u001b[0m         v \u001b[38;5;241m=\u001b[39m beta2 \u001b[38;5;241m*\u001b[39m v \u001b[38;5;241m+\u001b[39m (\u001b[38;5;241m1\u001b[39m \u001b[38;5;241m-\u001b[39m beta2) \u001b[38;5;241m*\u001b[39m gradients \u001b[38;5;241m*\u001b[39m\u001b[38;5;241m*\u001b[39m \u001b[38;5;241m2\u001b[39m\n",
      "File \u001b[0;32m~/Tools/anaconda3/envs/FLP/lib/python3.8/site-packages/quBLP-1.0.0-py3.8.egg/quBLP/solvers/optimizer/gradient.py:24\u001b[0m, in \u001b[0;36mgradient_by_param_shift\u001b[0;34m(params, cost_function)\u001b[0m\n\u001b[1;32m     22\u001b[0m shifted_params \u001b[38;5;241m=\u001b[39m params\u001b[38;5;241m.\u001b[39mcopy()\n\u001b[1;32m     23\u001b[0m shifted_params[i] \u001b[38;5;241m+\u001b[39m\u001b[38;5;241m=\u001b[39m shift\n\u001b[0;32m---> 24\u001b[0m forward \u001b[38;5;241m=\u001b[39m \u001b[43mcost_function\u001b[49m\u001b[43m(\u001b[49m\u001b[43mshifted_params\u001b[49m\u001b[43m)\u001b[49m\n\u001b[1;32m     25\u001b[0m shifted_params[i] \u001b[38;5;241m-\u001b[39m\u001b[38;5;241m=\u001b[39m \u001b[38;5;241m2\u001b[39m \u001b[38;5;241m*\u001b[39m shift\n\u001b[1;32m     26\u001b[0m backward \u001b[38;5;241m=\u001b[39m cost_function(shifted_params)\n",
      "File \u001b[0;32m~/Tools/anaconda3/envs/FLP/lib/python3.8/site-packages/quBLP-1.0.0-py3.8.egg/quBLP/solvers/circuits/build_circuit.py:161\u001b[0m, in \u001b[0;36mPennylaneCircuit.create_circuit.<locals>.costfunc\u001b[0;34m(params)\u001b[0m\n\u001b[1;32m    160\u001b[0m \u001b[38;5;28;01mdef\u001b[39;00m \u001b[38;5;21mcostfunc\u001b[39m(params):\n\u001b[0;32m--> 161\u001b[0m     bitstrs \u001b[38;5;241m=\u001b[39m \u001b[43mcircuit\u001b[49m\u001b[43m(\u001b[49m\u001b[43mparams\u001b[49m\u001b[43m)\u001b[49m\n\u001b[1;32m    162\u001b[0m     bitstrsindex \u001b[38;5;241m=\u001b[39m np\u001b[38;5;241m.\u001b[39mnonzero(bitstrs)[\u001b[38;5;241m0\u001b[39m]\n\u001b[1;32m    163\u001b[0m     probs \u001b[38;5;241m=\u001b[39m bitstrs[bitstrsindex]\n",
      "File \u001b[0;32m~/Tools/anaconda3/envs/FLP/lib/python3.8/site-packages/pennylane/qnode.py:974\u001b[0m, in \u001b[0;36mQNode.__call__\u001b[0;34m(self, *args, **kwargs)\u001b[0m\n\u001b[1;32m    971\u001b[0m         kwargs[\u001b[38;5;124m\"\u001b[39m\u001b[38;5;124mshots\u001b[39m\u001b[38;5;124m\"\u001b[39m] \u001b[38;5;241m=\u001b[39m _get_device_shots(\u001b[38;5;28mself\u001b[39m\u001b[38;5;241m.\u001b[39m_original_device)\n\u001b[1;32m    973\u001b[0m \u001b[38;5;66;03m# construct the tape\u001b[39;00m\n\u001b[0;32m--> 974\u001b[0m \u001b[38;5;28;43mself\u001b[39;49m\u001b[38;5;241;43m.\u001b[39;49m\u001b[43mconstruct\u001b[49m\u001b[43m(\u001b[49m\u001b[43margs\u001b[49m\u001b[43m,\u001b[49m\u001b[43m \u001b[49m\u001b[43mkwargs\u001b[49m\u001b[43m)\u001b[49m\n\u001b[1;32m    976\u001b[0m cache \u001b[38;5;241m=\u001b[39m \u001b[38;5;28mself\u001b[39m\u001b[38;5;241m.\u001b[39mexecute_kwargs\u001b[38;5;241m.\u001b[39mget(\u001b[38;5;124m\"\u001b[39m\u001b[38;5;124mcache\u001b[39m\u001b[38;5;124m\"\u001b[39m, \u001b[38;5;28;01mFalse\u001b[39;00m)\n\u001b[1;32m    977\u001b[0m using_custom_cache \u001b[38;5;241m=\u001b[39m (\n\u001b[1;32m    978\u001b[0m     \u001b[38;5;28mhasattr\u001b[39m(cache, \u001b[38;5;124m\"\u001b[39m\u001b[38;5;124m__getitem__\u001b[39m\u001b[38;5;124m\"\u001b[39m)\n\u001b[1;32m    979\u001b[0m     \u001b[38;5;129;01mand\u001b[39;00m \u001b[38;5;28mhasattr\u001b[39m(cache, \u001b[38;5;124m\"\u001b[39m\u001b[38;5;124m__setitem__\u001b[39m\u001b[38;5;124m\"\u001b[39m)\n\u001b[1;32m    980\u001b[0m     \u001b[38;5;129;01mand\u001b[39;00m \u001b[38;5;28mhasattr\u001b[39m(cache, \u001b[38;5;124m\"\u001b[39m\u001b[38;5;124m__delitem__\u001b[39m\u001b[38;5;124m\"\u001b[39m)\n\u001b[1;32m    981\u001b[0m )\n",
      "File \u001b[0;32m~/Tools/anaconda3/envs/FLP/lib/python3.8/site-packages/pennylane/qnode.py:872\u001b[0m, in \u001b[0;36mQNode.construct\u001b[0;34m(self, args, kwargs)\u001b[0m\n\u001b[1;32m    869\u001b[0m \u001b[38;5;28;01mif\u001b[39;00m old_interface \u001b[38;5;241m==\u001b[39m \u001b[38;5;124m\"\u001b[39m\u001b[38;5;124mauto\u001b[39m\u001b[38;5;124m\"\u001b[39m:\n\u001b[1;32m    870\u001b[0m     \u001b[38;5;28mself\u001b[39m\u001b[38;5;241m.\u001b[39minterface \u001b[38;5;241m=\u001b[39m qml\u001b[38;5;241m.\u001b[39mmath\u001b[38;5;241m.\u001b[39mget_interface(\u001b[38;5;241m*\u001b[39margs, \u001b[38;5;241m*\u001b[39m\u001b[38;5;28mlist\u001b[39m(kwargs\u001b[38;5;241m.\u001b[39mvalues()))\n\u001b[0;32m--> 872\u001b[0m \u001b[38;5;28mself\u001b[39m\u001b[38;5;241m.\u001b[39m_tape \u001b[38;5;241m=\u001b[39m \u001b[43mmake_qscript\u001b[49m\u001b[43m(\u001b[49m\u001b[38;5;28;43mself\u001b[39;49m\u001b[38;5;241;43m.\u001b[39;49m\u001b[43mfunc\u001b[49m\u001b[43m,\u001b[49m\u001b[43m \u001b[49m\u001b[43mshots\u001b[49m\u001b[43m)\u001b[49m\u001b[43m(\u001b[49m\u001b[38;5;241;43m*\u001b[39;49m\u001b[43margs\u001b[49m\u001b[43m,\u001b[49m\u001b[43m \u001b[49m\u001b[38;5;241;43m*\u001b[39;49m\u001b[38;5;241;43m*\u001b[39;49m\u001b[43mkwargs\u001b[49m\u001b[43m)\u001b[49m\n\u001b[1;32m    873\u001b[0m \u001b[38;5;28mself\u001b[39m\u001b[38;5;241m.\u001b[39m_qfunc_output \u001b[38;5;241m=\u001b[39m \u001b[38;5;28mself\u001b[39m\u001b[38;5;241m.\u001b[39mtape\u001b[38;5;241m.\u001b[39m_qfunc_output\n\u001b[1;32m    875\u001b[0m params \u001b[38;5;241m=\u001b[39m \u001b[38;5;28mself\u001b[39m\u001b[38;5;241m.\u001b[39mtape\u001b[38;5;241m.\u001b[39mget_parameters(trainable_only\u001b[38;5;241m=\u001b[39m\u001b[38;5;28;01mFalse\u001b[39;00m)\n",
      "File \u001b[0;32m~/Tools/anaconda3/envs/FLP/lib/python3.8/site-packages/pennylane/tape/qscript.py:1531\u001b[0m, in \u001b[0;36mmake_qscript.<locals>.wrapper\u001b[0;34m(*args, **kwargs)\u001b[0m\n\u001b[1;32m   1529\u001b[0m \u001b[38;5;28;01mdef\u001b[39;00m \u001b[38;5;21mwrapper\u001b[39m(\u001b[38;5;241m*\u001b[39margs, \u001b[38;5;241m*\u001b[39m\u001b[38;5;241m*\u001b[39mkwargs):\n\u001b[1;32m   1530\u001b[0m     \u001b[38;5;28;01mwith\u001b[39;00m AnnotatedQueue() \u001b[38;5;28;01mas\u001b[39;00m q:\n\u001b[0;32m-> 1531\u001b[0m         result \u001b[38;5;241m=\u001b[39m \u001b[43mfn\u001b[49m\u001b[43m(\u001b[49m\u001b[38;5;241;43m*\u001b[39;49m\u001b[43margs\u001b[49m\u001b[43m,\u001b[49m\u001b[43m \u001b[49m\u001b[38;5;241;43m*\u001b[39;49m\u001b[38;5;241;43m*\u001b[39;49m\u001b[43mkwargs\u001b[49m\u001b[43m)\u001b[49m\n\u001b[1;32m   1533\u001b[0m     qscript \u001b[38;5;241m=\u001b[39m QuantumScript\u001b[38;5;241m.\u001b[39mfrom_queue(q, shots)\n\u001b[1;32m   1534\u001b[0m     qscript\u001b[38;5;241m.\u001b[39m_qfunc_output \u001b[38;5;241m=\u001b[39m result\n",
      "File \u001b[0;32m~/Tools/anaconda3/envs/FLP/lib/python3.8/site-packages/quBLP-1.0.0-py3.8.egg/quBLP/solvers/circuits/build_circuit.py:122\u001b[0m, in \u001b[0;36mPennylaneCircuit.create_circuit.<locals>.circuit\u001b[0;34m(params)\u001b[0m\n\u001b[1;32m    120\u001b[0m H_pnt \u001b[38;5;241m=\u001b[39m np\u001b[38;5;241m.\u001b[39mzeros((\u001b[38;5;241m2\u001b[39m\u001b[38;5;241m*\u001b[39m\u001b[38;5;241m*\u001b[39mnum_qubits, \u001b[38;5;241m2\u001b[39m\u001b[38;5;241m*\u001b[39m\u001b[38;5;241m*\u001b[39mnum_qubits))\n\u001b[1;32m    121\u001b[0m \u001b[38;5;28;01mfor\u001b[39;00m index, penalty_vi \u001b[38;5;129;01min\u001b[39;00m \u001b[38;5;28menumerate\u001b[39m(penalty_mi[:\u001b[38;5;241m-\u001b[39m\u001b[38;5;241m1\u001b[39m]):\n\u001b[0;32m--> 122\u001b[0m     H_pnt \u001b[38;5;241m+\u001b[39m\u001b[38;5;241m=\u001b[39m \u001b[43mpenalty_vi\u001b[49m\u001b[43m \u001b[49m\u001b[38;5;241;43m*\u001b[39;49m\u001b[43m \u001b[49m\u001b[43madd_in_target\u001b[49m\u001b[43m(\u001b[49m\u001b[43mnum_qubits\u001b[49m\u001b[43m,\u001b[49m\u001b[43m \u001b[49m\u001b[43mindex\u001b[49m\u001b[43m,\u001b[49m\u001b[43m \u001b[49m\u001b[43m(\u001b[49m\u001b[43mgate_I\u001b[49m\u001b[43m \u001b[49m\u001b[38;5;241;43m-\u001b[39;49m\u001b[43m \u001b[49m\u001b[43mgate_z\u001b[49m\u001b[43m)\u001b[49m\u001b[38;5;241;43m/\u001b[39;49m\u001b[38;5;241;43m2\u001b[39;49m\u001b[43m)\u001b[49m\n\u001b[1;32m    123\u001b[0m H_pnt \u001b[38;5;241m-\u001b[39m\u001b[38;5;241m=\u001b[39m penalty_mi[\u001b[38;5;241m-\u001b[39m\u001b[38;5;241m1\u001b[39m] \u001b[38;5;241m*\u001b[39m np\u001b[38;5;241m.\u001b[39meye(\u001b[38;5;241m2\u001b[39m\u001b[38;5;241m*\u001b[39m\u001b[38;5;241m*\u001b[39mnum_qubits)\n\u001b[1;32m    124\u001b[0m Ho \u001b[38;5;241m+\u001b[39m\u001b[38;5;241m=\u001b[39m pnt_lbd \u001b[38;5;241m*\u001b[39m H_pnt \u001b[38;5;241m@\u001b[39m H_pnt\n",
      "\u001b[0;31mKeyboardInterrupt\u001b[0m: "
     ]
    }
   ],
   "source": [
    "from quBLP.problemtemplate import FacilityLocationProblem as FLP\n",
    "flp = FLP(2,2,[[3,3],[2,2]],[2,2], False)\n",
    "# flp = FLP(2,2,[[3,3],[2,2]],[2,2])\n",
    "# flp = FLP(2,2,[[2,1],[2,1]],[1,2])\n",
    "flp.set_optimization_direction('min')\n",
    "# flp.set_optimization_method_type('cyclic', 40)\n",
    "flp.optimize(max_iter=150,num_layers=2, need_draw=True)\n",
    "print(flp.find_state_probability([1, 0, 1, 0, 1, 0, 0, 0, 0, 0]))\n",
    "print(flp.find_state_probability([0, 1, 0, 1, 0, 1, 0, 0, 0, 0]))"
   ]
  }
 ],
 "metadata": {
  "kernelspec": {
   "display_name": "FLP",
   "language": "python",
   "name": "python3"
  },
  "language_info": {
   "codemirror_mode": {
    "name": "ipython",
    "version": 3
   },
   "file_extension": ".py",
   "mimetype": "text/x-python",
   "name": "python",
   "nbconvert_exporter": "python",
   "pygments_lexer": "ipython3",
   "version": "3.8.19"
  }
 },
 "nbformat": 4,
 "nbformat_minor": 2
}
