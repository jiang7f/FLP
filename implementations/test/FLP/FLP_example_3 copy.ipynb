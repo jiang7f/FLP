{
 "cells": [
  {
   "cell_type": "code",
   "execution_count": 1,
   "metadata": {},
   "outputs": [
    {
     "name": "stdout",
     "output_type": "stream",
     "text": [
      "fsb_state:[1, 0, 1, 0, 1, 0, 0, 0, 0, 0]\n",
      "linear_objective_vector:\n",
      " [ 2  2 10  2  2 10]\n",
      "nonlinear_objective_matrix:\n",
      " []\n",
      "driverstr:\n",
      " [[-1.  1. -1.  1. -1.  1.  0.  0.  0.  0.]\n",
      " [ 0.  0.  1. -1.  0.  0. -1.  1.  0.  0.]\n",
      " [ 1.  0.  0.  0.  0.  0.  1.  0.  1.  0.]\n",
      " [ 0.  1. -1.  1.  0.  0.  1.  0.  0.  1.]]\n",
      "algorithm_optimization_method: commute\n",
      "test_max_prob: 36.16%, test_max_prob_state: [0, 1, 0, 1, 0, 1, 0, 0, 0, 0]\n",
      "<QNode: wires=10, device='default.qubit.autograd', interface='auto', diff_method='best'>\n",
      "Iteration 10, Result: 12.55676259697915\n",
      "Iteration 20, Result: 10.638264441412769\n",
      "Iteration 30, Result: 10.528805649111668\n",
      "best_params: [5.8837295  1.55921452 2.67890279 0.6971679 ]\n",
      "[[0, 1, 0, 1, 0, 1, 0, 0, 0, 0], [1, 0, 1, 0, 1, 0, 0, 0, 0, 0], [1, 1, 0, 1, 0, 1, 1, 0, 1, 0], [1, 1, 0, 1, 1, 0, 1, 0, 0, 1], [1, 1, 1, 0, 0, 1, 0, 1, 1, 0], [1, 1, 1, 0, 1, 0, 0, 1, 0, 1]]\n",
      "max_prob_solution: [1, 1, 0, 1, 1, 0, 1, 0, 0, 1], cost: 8, max_prob: 62.92%\n"
     ]
    }
   ],
   "source": [
    "from quBLP.problemtemplate import FacilityLocationProblem as FLP\n",
    "flp = FLP(2,2,[[10,2], [2,10]],[2,2])\n",
    "flp.set_optimization_direction('min')\n",
    "# flp.optimize(max_iter=150,num_layers=3, need_draw=False)\n",
    "flp.optimize(params_optimization_method='COBYLA', num_layers=2, need_draw=False)"
   ]
  },
  {
   "cell_type": "code",
   "execution_count": 2,
   "metadata": {},
   "outputs": [
    {
     "name": "stdout",
     "output_type": "stream",
     "text": [
      "0.62915177149774\n",
      "0.016363070441699788\n"
     ]
    }
   ],
   "source": [
    "print(flp.find_state_probability([1, 1, 0, 1, 1, 0, 1, 0, 0, 1]))\n",
    "print(flp.find_state_probability([1, 1, 1, 0, 0, 1, 0, 1, 1, 0]))"
   ]
  }
 ],
 "metadata": {
  "kernelspec": {
   "display_name": "FLP",
   "language": "python",
   "name": "python3"
  },
  "language_info": {
   "codemirror_mode": {
    "name": "ipython",
    "version": 3
   },
   "file_extension": ".py",
   "mimetype": "text/x-python",
   "name": "python",
   "nbconvert_exporter": "python",
   "pygments_lexer": "ipython3",
   "version": "3.8.19"
  }
 },
 "nbformat": 4,
 "nbformat_minor": 2
}
