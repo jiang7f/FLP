{
 "cells": [
  {
   "cell_type": "code",
   "execution_count": 5,
   "metadata": {},
   "outputs": [
    {
     "name": "stdout",
     "output_type": "stream",
     "text": [
      "linear_objective_vector:\n",
      " [2, 2, 10, 2, 2, 10]\n",
      "nolinear_objective_matrix:\n",
      " []\n",
      "driverstr:\n",
      " [[-1.  1. -1.  1. -1.  1.  0.  0.  0.  0.]\n",
      " [ 0.  0.  1. -1.  0.  0. -1.  1.  0.  0.]\n",
      " [ 1.  0.  0.  0.  0.  0.  1.  0.  1.  0.]\n",
      " [ 0.  1. -1.  1.  0.  0.  1.  0.  0.  1.]]\n",
      "fsb_state:[1, 0, 1, 0, 1, 0, 0, 0, 0, 0]\n",
      "params_optimization_method: COBYLA\n",
      "test_max_prob: 36.16%, test_max_prob_state: [0, 1, 0, 1, 0, 1, 0, 0, 0, 0]\n",
      "<QNode: wires=10, device='default.qubit.autograd', interface='auto', diff_method='best'>\n",
      "Iteration 10, Result: 13.735998595881489\n",
      "Iteration 20, Result: 11.223717314382167\n",
      "Iteration 30, Result: 10.63737167453049\n",
      "best_params: [4.40175951 3.64965686 6.7500365  5.6429757 ]\n",
      "max_prob_solution: [1, 1, 0, 1, 1, 0, 1, 0, 0, 1], cost: 8, max_prob: 61.34%\n"
     ]
    }
   ],
   "source": [
    "from quBLP.problemtemplate import FacilityLocationProblem as FLP\n",
    "flp = FLP(2,2,[[10,2], [2,10]],[2,2])\n",
    "flp.set_optimization_direction('min')\n",
    "# flp.optimize(max_iter=150,num_layers=3, need_draw=False)\n",
    "flp.optimize(params_optimization_method='COBYLA', num_layers=2, need_draw=False)"
   ]
  },
  {
   "cell_type": "code",
   "execution_count": 6,
   "metadata": {},
   "outputs": [
    {
     "name": "stdout",
     "output_type": "stream",
     "text": [
      "0.6133790061738941\n",
      "0.014642777031949546\n"
     ]
    }
   ],
   "source": [
    "print(flp.find_state_probability([1, 1, 0, 1, 1, 0, 1, 0, 0, 1]))\n",
    "print(flp.find_state_probability([1, 1, 1, 0, 0, 1, 0, 1, 1, 0]))"
   ]
  }
 ],
 "metadata": {
  "kernelspec": {
   "display_name": "FLP",
   "language": "python",
   "name": "python3"
  },
  "language_info": {
   "codemirror_mode": {
    "name": "ipython",
    "version": 3
   },
   "file_extension": ".py",
   "mimetype": "text/x-python",
   "name": "python",
   "nbconvert_exporter": "python",
   "pygments_lexer": "ipython3",
   "version": "3.8.undefined"
  }
 },
 "nbformat": 4,
 "nbformat_minor": 2
}
