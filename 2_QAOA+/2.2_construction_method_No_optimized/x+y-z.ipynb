{
 "cells": [
  {
   "cell_type": "code",
   "execution_count": 1,
   "metadata": {},
   "outputs": [],
   "source": [
    "import networkx as nx\n",
    "import matplotlib.pyplot as plt\n",
    "\n",
    "from qiskit import QuantumCircuit, ClassicalRegister, QuantumRegister\n",
    "from qiskit_aer import Aer\n",
    "from qiskit.circuit import Parameter\n",
    "from qiskit.visualization import plot_histogram\n",
    "from functools import reduce\n",
    "\n",
    "import numpy as np\n",
    "from scipy.optimize import minimize"
   ]
  },
  {
   "cell_type": "code",
   "execution_count": 2,
   "metadata": {},
   "outputs": [],
   "source": [
    "cst = [-100, -1, -20]"
   ]
  },
  {
   "cell_type": "code",
   "execution_count": 3,
   "metadata": {},
   "outputs": [],
   "source": [
    "depth = 5\n",
    "params = np.ones(depth * 2)"
   ]
  },
  {
   "cell_type": "code",
   "execution_count": 4,
   "metadata": {},
   "outputs": [],
   "source": [
    "GateX = np.array([[0, 1],[1, 0]])\n",
    "GateY = np.array([[0, -1j],[1j, 0]])\n",
    "GateZ = np.array([[1, 0],[0, -1]])\n",
    "\n",
    "# 定义σ+和σ-矩阵\n",
    "sigma_plus = np.array([[0, 1], [0, 0]])\n",
    "sigma_minus = np.array([[0, 0], [1, 0]])\n",
    "\n",
    "def add_in_target(num_qubits, target_qubit, gate=np.array([[1, 0],[0, -1]])):\n",
    "    H = np.eye(2 ** (target_qubit))\n",
    "    H = np.kron(H, gate)\n",
    "    H = np.kron(H, np.eye(2 ** (num_qubits - 1 - target_qubit)))\n",
    "    return H\n",
    "\n",
    "def calculate_hamiltonian(v, w):\n",
    "    n = len(v[0])\n",
    "    m = len(v)\n",
    "    hamiltonian = np.zeros((2**n, 2**n))\n",
    "\n",
    "    for i in range(m):\n",
    "        term1 = reduce(np.kron, [np.linalg.matrix_power(sigma_plus, v[i][j]) for j in range(n)])\n",
    "        term2 = reduce(np.kron, [np.linalg.matrix_power(sigma_minus, w[i][j]) for j in range(n)])\n",
    "        term3 = reduce(np.kron, [np.linalg.matrix_power(sigma_plus, w[i][j]) for j in range(n)])\n",
    "        term4 = reduce(np.kron, [np.linalg.matrix_power(sigma_minus, v[i][j]) for j in range(n)])\n",
    "\n",
    "        hamiltonian += term1 @ term2 + term3 @ term4\n",
    "\n",
    "    return hamiltonian\n",
    "\n",
    "def first_nonzero_index(arr, total_bits=3):\n",
    "    for i, num in enumerate(arr):\n",
    "        if num != 0:\n",
    "            binary_repr = format(i, '0' + str(total_bits) + 'b')\n",
    "            return binary_repr\n",
    "        \n",
    "def gnrt_Hd():\n",
    "  Hd = np.zeros((2**3, 2**3)).astype(np.complex128)\n",
    "  Hd += add_in_target(3, 0, GateZ)\n",
    "  Hd += add_in_target(3, 1, GateZ)\n",
    "  Hd += add_in_target(3, 2, GateZ)\n",
    "  return Hd"
   ]
  },
  {
   "cell_type": "code",
   "execution_count": 5,
   "metadata": {},
   "outputs": [],
   "source": [
    "# dtype=np.complex128\n",
    "def add_in_target(num_qubits, target_qubit, gate=np.array([[1, 0],[0, -1]])):\n",
    "    H = np.eye(2 ** (target_qubit))\n",
    "    H = np.kron(H, gate)\n",
    "    H = np.kron(H, np.eye(2 ** (num_qubits - 1 - target_qubit)))\n",
    "    return H\n",
    "\n",
    "\n",
    "def generate_Hp():\n",
    "    Hp = np.zeros((2**3, 2**3))\n",
    "    for i in range(3):\n",
    "        Hp +=  cst[i] * (add_in_target(3, i) - np.eye(2**3)) / 2\n",
    "    return Hp\n",
    "Hp = generate_Hp()"
   ]
  },
  {
   "cell_type": "code",
   "execution_count": 6,
   "metadata": {},
   "outputs": [],
   "source": [
    "def gnrt_Hd():\n",
    "  Hd = np.zeros((2**3, 2**3)).astype(np.complex128)\n",
    "  Hd += (add_in_target(3, 0, GateX) @ add_in_target(3, 1, GateX) + add_in_target(3, 0, GateY) @ add_in_target(3, 1, GateY))\n",
    "  Hd += (add_in_target(3, 1, GateX) @ add_in_target(3, 2, GateX) - add_in_target(3, 1, GateY) @ add_in_target(3, 2, GateY))\n",
    "  Hd += (add_in_target(3, 2, GateX) @ add_in_target(3, 0, GateX) - add_in_target(3, 2, GateY) @ add_in_target(3, 0, GateY))\n",
    "  # Hd += add_in_target(1, 0, GateX)\n",
    "  # Hd += add_in_target(3, 1, GateX)\n",
    "  # Hd += add_in_target(3, 2, GateX)\n",
    "  return Hd"
   ]
  },
  {
   "cell_type": "code",
   "execution_count": 7,
   "metadata": {},
   "outputs": [],
   "source": [
    "v = np.array([[1, 0, 0],\n",
    "              [0, 1, 0],\n",
    "              [0, 0, 1]])\n",
    "w = np.array([[0, 1, 0], \n",
    "              [0, 0, 1],\n",
    "              [1, 0, 0]])\n",
    "# Hd = gnrt_Hd()\n",
    "Hd = calculate_hamiltonian(v, w)"
   ]
  },
  {
   "cell_type": "code",
   "execution_count": 8,
   "metadata": {},
   "outputs": [
    {
     "name": "stdout",
     "output_type": "stream",
     "text": [
      "[-1. -1.  2.  2. -1. -1.  0.  0.]\n",
      "\n",
      "Eigenvalues:\n",
      "-1.0000\n",
      "Eigenvectors:\n",
      "['0.0000', '0.0000', '0.0000', '0.4082', '0.0000', '0.4082', '-0.8165', '0.0000']\n",
      "\n",
      "Eigenvalues:\n",
      "-1.0000\n",
      "Eigenvectors:\n",
      "['0.0000', '0.7705', '-0.3853', '-0.1350', '-0.3853', '-0.1350', '0.2700', '0.0000']\n",
      "\n",
      "Eigenvalues:\n",
      "2.0000\n",
      "Eigenvectors:\n",
      "['0.0000', '0.4121', '0.4121', '-0.4044', '0.4121', '-0.4044', '-0.4044', '0.0000']\n",
      "\n",
      "Eigenvalues:\n",
      "2.0000\n",
      "Eigenvectors:\n",
      "['0.0000', '-0.4212', '-0.4212', '-0.3949', '-0.4212', '-0.3949', '-0.3949', '0.0000']\n",
      "\n",
      "Eigenvalues:\n",
      "-1.0000\n",
      "Eigenvectors:\n",
      "['0.0000', '0.2502', '0.3341', '0.5188', '-0.5842', '-0.4603', '-0.0585', '0.0000']\n",
      "\n",
      "Eigenvalues:\n",
      "-1.0000\n",
      "Eigenvectors:\n",
      "['0.0000', '0.1569', '0.3647', '-0.5593', '-0.5217', '0.5043', '0.0550', '0.0000']\n",
      "\n",
      "Eigenvalues:\n",
      "0.0000\n",
      "Eigenvectors:\n",
      "['1.0000', '0.0000', '0.0000', '0.0000', '0.0000', '0.0000', '0.0000', '0.0000']\n",
      "\n",
      "Eigenvalues:\n",
      "0.0000\n",
      "Eigenvectors:\n",
      "['0.0000', '0.0000', '0.0000', '0.0000', '0.0000', '0.0000', '0.0000', '1.0000']\n"
     ]
    }
   ],
   "source": [
    "# 求解本征值和本征态\n",
    "eigenvalues, eigenvectors = np.linalg.eig(Hd)\n",
    "print(eigenvalues)\n",
    "# 输出结果\n",
    "for i in range(len(eigenvalues)):\n",
    "  print(\"\\nEigenvalues:\")\n",
    "  print(f'{eigenvalues[i].real:.4f}')\n",
    "  print(\"Eigenvectors:\")\n",
    "  print([f'{num:.4f}' for num in eigenvectors[:, i].real])"
   ]
  },
  {
   "cell_type": "code",
   "execution_count": 9,
   "metadata": {},
   "outputs": [],
   "source": [
    "from scipy.linalg import expm\n",
    "def build_circ(params):\n",
    "  qc = QuantumCircuit(3)\n",
    "  beta = params[:depth]\n",
    "  gamma = params[depth:]\n",
    "  qc.initialize(eigenvectors[:, 1].real, range(3))\n",
    "  # qc.x(0)\n",
    "  # qc.x(2)\n",
    "  for dp in range(depth):\n",
    "    qc.unitary(expm(-1j * gamma[dp] * Hp), range(3)) # transpile\n",
    "    qc.unitary(expm(-1j * beta[dp] * Hd), range(3))\n",
    "  qc.measure_all()\n",
    "  return qc"
   ]
  },
  {
   "cell_type": "code",
   "execution_count": 10,
   "metadata": {},
   "outputs": [],
   "source": [
    "# print(build_circ(params))"
   ]
  },
  {
   "cell_type": "code",
   "execution_count": 11,
   "metadata": {},
   "outputs": [],
   "source": [
    "def cost_function(x):\n",
    "  num = [int(char) for char in x]\n",
    "  C = 0\n",
    "  for i in range(3):\n",
    "    C += cst[i] * num[i]\n",
    "  return C\n",
    "\n",
    "def compute_expectation(counts):\n",
    "  EV = 0\n",
    "  total_count = 0\n",
    "  for x, count in counts.items():\n",
    "    C = cost_function(x)\n",
    "    EV += C*count\n",
    "    total_count += count\n",
    "\n",
    "  return EV/total_count\n",
    "\n",
    "\n",
    "def expectation_from_sample(shots = 2000):\n",
    "  backend = Aer.get_backend('qasm_simulator')\n",
    "  backend.shots = shots\n",
    "\n",
    "  def execute_circ(theta):\n",
    "    qc = build_circ(theta)\n",
    "    counts = backend.run(qc, seed_simulator=10, shots=shots).result().get_counts()\n",
    "    return compute_expectation(counts)\n",
    "  \n",
    "  return execute_circ"
   ]
  },
  {
   "cell_type": "code",
   "execution_count": 12,
   "metadata": {},
   "outputs": [],
   "source": [
    "from numpy.lib.utils import source\n",
    "from scipy.optimize import minimize\n",
    "import numpy as np\n",
    "# 初始化迭代计数器\n",
    "iteration_count = 0\n",
    "def test(pen, dep, par):\n",
    "  global penalty, depth, params, iteration_count\n",
    "  iteration_count = 0\n",
    "  penalty = pen\n",
    "  depth = dep\n",
    "  params = par\n",
    "  expectation = expectation_from_sample()\n",
    "  def callback(x):\n",
    "      global iteration_count\n",
    "      iteration_count += 1\n",
    "      if iteration_count % 10 == 0:\n",
    "          print(f\"Iteration {iteration_count}, Result: {expectation(x)}\")\n",
    "  # 设定最大迭代次数\n",
    "  max_iterations = 1000\n",
    "\n",
    "  # 使用 COBYLA 方法进行最小化，并设置 callback 函数\n",
    "  res = minimize(expectation, params, method='COBYLA', options={'maxiter': max_iterations}, callback=callback)\n",
    "  # 输出最终结果\n",
    "  print(\"Final Result:\", res)\n",
    "  backend = Aer.get_backend('aer_simulator')\n",
    "  backend.shots = 100000\n",
    "\n",
    "  shots=100000\n",
    "  qc_res = build_circ(params=res.x)\n",
    "\n",
    "  counts = backend.run(qc_res, seed_simulator=10, shots = shots).result().get_counts()\n",
    "  # plot_histogram(counts)\n",
    "  sorted_counts = sorted(counts, key=counts.get, reverse=True)\n",
    "  print(\"\\n----------------- Full result ---------------------\")\n",
    "  print(\"selection\\t\\tprobability\\tvalue\")\n",
    "  print(\"---------------------------------------------------\")\n",
    "  for x in sorted_counts[:20]:\n",
    "    print(x, \"{:.1f}%\".format(counts[x] / shots * 100), cost_function(x))"
   ]
  },
  {
   "cell_type": "code",
   "execution_count": 13,
   "metadata": {},
   "outputs": [
    {
     "name": "stdout",
     "output_type": "stream",
     "text": [
      "Iteration 10, Result: -49.5635\n",
      "Iteration 20, Result: -37.309\n",
      "Iteration 30, Result: -48.58\n",
      "Iteration 40, Result: -64.9005\n",
      "Iteration 50, Result: -84.1885\n",
      "Iteration 60, Result: -93.5035\n",
      "Iteration 70, Result: -95.67\n",
      "Iteration 80, Result: -97.8245\n",
      "Iteration 90, Result: -98.628\n",
      "Iteration 100, Result: -99.3305\n",
      "Iteration 110, Result: -99.4095\n",
      "Iteration 120, Result: -99.3725\n",
      "Iteration 130, Result: -99.3915\n",
      "Iteration 140, Result: -99.45\n",
      "Final Result:  message: Optimization terminated successfully.\n",
      " success: True\n",
      "  status: 1\n",
      "     fun: -99.45\n",
      "       x: [ 5.393e-01  5.598e-01  7.241e-01  6.259e-01  5.891e-01\n",
      "            1.107e+00  1.634e+00  5.907e-01  5.858e-01  6.055e-01]\n",
      "    nfev: 142\n",
      "   maxcv: 0.0\n",
      "\n",
      "----------------- Full result ---------------------\n",
      "selection\t\tprobability\tvalue\n",
      "---------------------------------------------------\n",
      "100 88.0% -100\n",
      "110 7.7% -101\n",
      "101 2.3% -120\n",
      "001 0.9% -20\n",
      "011 0.9% -21\n",
      "010 0.2% -1\n"
     ]
    }
   ],
   "source": [
    "test(40, 5, np.full(5 * 2, np.pi/5))"
   ]
  },
  {
   "cell_type": "code",
   "execution_count": 14,
   "metadata": {},
   "outputs": [
    {
     "name": "stdout",
     "output_type": "stream",
     "text": [
      "Iteration 10, Result: -24.6685\n",
      "Iteration 20, Result: -49.4175\n",
      "Iteration 30, Result: -84.1065\n",
      "Iteration 40, Result: -85.904\n",
      "Iteration 50, Result: -85.8455\n",
      "Iteration 60, Result: -85.8945\n",
      "Final Result:  message: Optimization terminated successfully.\n",
      " success: True\n",
      "  status: 1\n",
      "     fun: -85.874\n",
      "       x: [ 1.237e+00  2.334e+00  3.392e-01  7.795e-01  6.826e-01\n",
      "            6.152e-01]\n",
      "    nfev: 63\n",
      "   maxcv: 0.0\n",
      "\n",
      "----------------- Full result ---------------------\n",
      "selection\t\tprobability\tvalue\n",
      "---------------------------------------------------\n",
      "100 75.3% -100\n",
      "001 7.2% -20\n",
      "010 6.4% -1\n",
      "110 4.5% -101\n",
      "011 4.2% -21\n",
      "101 2.3% -120\n"
     ]
    }
   ],
   "source": [
    "test(40, 3, np.full(3 * 2, np.pi/3))"
   ]
  },
  {
   "cell_type": "code",
   "execution_count": 15,
   "metadata": {},
   "outputs": [],
   "source": [
    "# for i in range(1, 20):\n",
    "#   print(f'depth == {i}')\n",
    "#   test(20, i, np.ones(2 * i))"
   ]
  }
 ],
 "metadata": {
  "kernelspec": {
   "display_name": "quantum",
   "language": "python",
   "name": "python3"
  },
  "language_info": {
   "codemirror_mode": {
    "name": "ipython",
    "version": 3
   },
   "file_extension": ".py",
   "mimetype": "text/x-python",
   "name": "python",
   "nbconvert_exporter": "python",
   "pygments_lexer": "ipython3",
   "version": "3.8.19"
  }
 },
 "nbformat": 4,
 "nbformat_minor": 2
}
